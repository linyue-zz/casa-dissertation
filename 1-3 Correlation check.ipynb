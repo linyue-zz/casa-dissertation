{
 "cells": [
  {
   "cell_type": "code",
   "execution_count": 1,
   "metadata": {},
   "outputs": [],
   "source": [
    "import pandas as pd\n",
    "import numpy as np"
   ]
  },
  {
   "cell_type": "code",
   "execution_count": 2,
   "metadata": {},
   "outputs": [],
   "source": [
    "import matplotlib\n",
    "import matplotlib.pyplot as plt\n",
    "matplotlib.style.use('ggplot')"
   ]
  },
  {
   "cell_type": "code",
   "execution_count": 3,
   "metadata": {},
   "outputs": [],
   "source": [
    "swandlondon_pca = pd.read_csv('output_new/pcascore_analysis_new.csv')"
   ]
  },
  {
   "cell_type": "code",
   "execution_count": 4,
   "metadata": {},
   "outputs": [
    {
     "name": "stdout",
     "output_type": "stream",
     "text": [
      "<class 'pandas.core.frame.DataFrame'>\n",
      "RangeIndex: 1211 entries, 0 to 1210\n",
      "Data columns (total 24 columns):\n",
      " #   Column                       Non-Null Count  Dtype  \n",
      "---  ------                       --------------  -----  \n",
      " 0   MSOA11CD                     1211 non-null   object \n",
      " 1   ratio_la_median_price_2001   1211 non-null   float64\n",
      " 2   ratio_la_median_price_2011   1211 non-null   float64\n",
      " 3   ratio_la_earnings_2001       1211 non-null   int64  \n",
      " 4   ratio_la_earnings_2011       1211 non-null   float64\n",
      " 5   ratio_la_nssec_2001          1211 non-null   float64\n",
      " 6   ratio_la_nssec_2011          1211 non-null   float64\n",
      " 7   ratio_la_qualification_2001  1211 non-null   float64\n",
      " 8   ratio_la_qualification_2011  1211 non-null   float64\n",
      " 9   Score_2001                   1211 non-null   float64\n",
      " 10  Score_2011                   1211 non-null   float64\n",
      " 11  MSOA11NM                     1211 non-null   object \n",
      " 12  LAD11CD                      1211 non-null   object \n",
      " 13  LAD11NM                      1211 non-null   object \n",
      " 14  RGN11CD                      1211 non-null   object \n",
      " 15  RGN11NM                      1211 non-null   object \n",
      " 16  rank_2001                    1211 non-null   float64\n",
      " 17  rank_2011                    1211 non-null   float64\n",
      " 18  rank_chg                     1211 non-null   float64\n",
      " 19  rank_z_score                 1211 non-null   float64\n",
      " 20  score_chg                    1211 non-null   float64\n",
      " 21  score_z_score                1211 non-null   float64\n",
      " 22  status                       1211 non-null   object \n",
      " 23  status2                      1211 non-null   object \n",
      "dtypes: float64(15), int64(1), object(8)\n",
      "memory usage: 227.2+ KB\n"
     ]
    }
   ],
   "source": [
    "swandlondon_pca.info()"
   ]
  },
  {
   "cell_type": "code",
   "execution_count": 5,
   "metadata": {},
   "outputs": [],
   "source": [
    "cor1=swandlondon_pca.iloc[:,[0,9,10,20,21,16,17,18,19,23]].copy()"
   ]
  },
  {
   "cell_type": "code",
   "execution_count": 6,
   "metadata": {},
   "outputs": [
    {
     "name": "stdout",
     "output_type": "stream",
     "text": [
      "<class 'pandas.core.frame.DataFrame'>\n",
      "RangeIndex: 1211 entries, 0 to 1210\n",
      "Data columns (total 10 columns):\n",
      " #   Column         Non-Null Count  Dtype  \n",
      "---  ------         --------------  -----  \n",
      " 0   MSOA11CD       1211 non-null   object \n",
      " 1   Score_2001     1211 non-null   float64\n",
      " 2   Score_2011     1211 non-null   float64\n",
      " 3   score_chg      1211 non-null   float64\n",
      " 4   score_z_score  1211 non-null   float64\n",
      " 5   rank_2001      1211 non-null   float64\n",
      " 6   rank_2011      1211 non-null   float64\n",
      " 7   rank_chg       1211 non-null   float64\n",
      " 8   rank_z_score   1211 non-null   float64\n",
      " 9   status2        1211 non-null   object \n",
      "dtypes: float64(8), object(2)\n",
      "memory usage: 94.7+ KB\n"
     ]
    }
   ],
   "source": [
    "cor1.info()"
   ]
  },
  {
   "cell_type": "code",
   "execution_count": 7,
   "metadata": {},
   "outputs": [],
   "source": [
    "swandlondon_core = pd.read_csv('output_new/swandlondon_core.csv')"
   ]
  },
  {
   "cell_type": "code",
   "execution_count": 8,
   "metadata": {},
   "outputs": [
    {
     "name": "stdout",
     "output_type": "stream",
     "text": [
      "<class 'pandas.core.frame.DataFrame'>\n",
      "RangeIndex: 1211 entries, 0 to 1210\n",
      "Data columns (total 45 columns):\n",
      " #   Column                               Non-Null Count  Dtype  \n",
      "---  ------                               --------------  -----  \n",
      " 0   MSOA11CD                             1211 non-null   object \n",
      " 1   MSOA11NM                             1211 non-null   object \n",
      " 2   LAD11CD                              1211 non-null   object \n",
      " 3   LAD11NM                              1211 non-null   object \n",
      " 4   RGN11CD                              1211 non-null   object \n",
      " 5   RGN11NM                              1211 non-null   object \n",
      " 6   MSOA01CD                             1211 non-null   object \n",
      " 7   MSOA01NM                             1211 non-null   object \n",
      " 8   CHGIND                               1211 non-null   object \n",
      " 9   ratio_la_median_price_2001           1211 non-null   float64\n",
      " 10  ratio_la_median_price_2011           1211 non-null   float64\n",
      " 11  ratio_r_median_price_2001            1211 non-null   float64\n",
      " 12  ratio_r_median_price_2011            1211 non-null   float64\n",
      " 13  ratio_la_earnings_2001               1211 non-null   int64  \n",
      " 14  ratio_la_earnings_2011               1211 non-null   float64\n",
      " 15  ratio_r_earnings_2001                1211 non-null   float64\n",
      " 16  ratio_r_earnings_2011                1211 non-null   float64\n",
      " 17  ratio_la_nssec_2001                  1211 non-null   float64\n",
      " 18  ratio_la_nssec_2011                  1211 non-null   float64\n",
      " 19  ratio_r_nssec_2001                   1211 non-null   float64\n",
      " 20  ratio_r_nssec_2011                   1211 non-null   float64\n",
      " 21  ratio_la_qualification_2001          1211 non-null   float64\n",
      " 22  ratio_la_qualification_2011          1211 non-null   float64\n",
      " 23  ratio_r_qualification_2001           1211 non-null   float64\n",
      " 24  ratio_r_qualification_2011           1211 non-null   float64\n",
      " 25  ratio_la_space_vacant_2001           1211 non-null   float64\n",
      " 26  ratio_la_space_vacant_2011           1211 non-null   float64\n",
      " 27  ratio_la_no_children_2001            1211 non-null   float64\n",
      " 28  ratio_la_no_children_2011            1211 non-null   float64\n",
      " 29  ratio_la_dependent_children_2001     1211 non-null   float64\n",
      " 30  ratio_la_dependent_children_2011     1211 non-null   float64\n",
      " 31  ratio_la_nondependent_children_2001  1211 non-null   float64\n",
      " 32  ratio_la_nondependent_children_2011  1211 non-null   float64\n",
      " 33  ratio_la_retired_2001                1211 non-null   float64\n",
      " 34  ratio_la_retired_2011                1211 non-null   float64\n",
      " 35  ratio_la_student_2001                1211 non-null   float64\n",
      " 36  ratio_la_student_2011                1211 non-null   float64\n",
      " 37  ratio_la_newlybuilt_sale_2001        1211 non-null   float64\n",
      " 38  ratio_la_newlybuilt_sale_2011        1211 non-null   float64\n",
      " 39  ratio_la_owned_2001                  1211 non-null   float64\n",
      " 40  ratio_la_owned_2011                  1211 non-null   float64\n",
      " 41  ratio_la_rented_2001                 1211 non-null   float64\n",
      " 42  ratio_la_rented_2011                 1211 non-null   float64\n",
      " 43  ratio_la_migrants_2001               1211 non-null   int64  \n",
      " 44  ratio_la_migrants_2011               1211 non-null   float64\n",
      "dtypes: float64(34), int64(2), object(9)\n",
      "memory usage: 425.9+ KB\n"
     ]
    }
   ],
   "source": [
    "swandlondon_core.info()"
   ]
  },
  {
   "cell_type": "code",
   "execution_count": 9,
   "metadata": {},
   "outputs": [],
   "source": [
    "cor2=swandlondon_core.iloc[:,[0,1,2,3,4,5,6,7,25,26]].copy()"
   ]
  },
  {
   "cell_type": "code",
   "execution_count": 10,
   "metadata": {},
   "outputs": [
    {
     "name": "stdout",
     "output_type": "stream",
     "text": [
      "<class 'pandas.core.frame.DataFrame'>\n",
      "RangeIndex: 1211 entries, 0 to 1210\n",
      "Data columns (total 10 columns):\n",
      " #   Column                      Non-Null Count  Dtype  \n",
      "---  ------                      --------------  -----  \n",
      " 0   MSOA11CD                    1211 non-null   object \n",
      " 1   MSOA11NM                    1211 non-null   object \n",
      " 2   LAD11CD                     1211 non-null   object \n",
      " 3   LAD11NM                     1211 non-null   object \n",
      " 4   RGN11CD                     1211 non-null   object \n",
      " 5   RGN11NM                     1211 non-null   object \n",
      " 6   MSOA01CD                    1211 non-null   object \n",
      " 7   MSOA01NM                    1211 non-null   object \n",
      " 8   ratio_la_space_vacant_2001  1211 non-null   float64\n",
      " 9   ratio_la_space_vacant_2011  1211 non-null   float64\n",
      "dtypes: float64(2), object(8)\n",
      "memory usage: 94.7+ KB\n"
     ]
    }
   ],
   "source": [
    "cor2.info()"
   ]
  },
  {
   "cell_type": "code",
   "execution_count": 11,
   "metadata": {},
   "outputs": [],
   "source": [
    "cor = cor1.merge(cor2, on='MSOA11CD', how='left')"
   ]
  },
  {
   "cell_type": "code",
   "execution_count": 12,
   "metadata": {},
   "outputs": [
    {
     "name": "stdout",
     "output_type": "stream",
     "text": [
      "<class 'pandas.core.frame.DataFrame'>\n",
      "Int64Index: 1211 entries, 0 to 1210\n",
      "Data columns (total 19 columns):\n",
      " #   Column                      Non-Null Count  Dtype  \n",
      "---  ------                      --------------  -----  \n",
      " 0   MSOA11CD                    1211 non-null   object \n",
      " 1   Score_2001                  1211 non-null   float64\n",
      " 2   Score_2011                  1211 non-null   float64\n",
      " 3   score_chg                   1211 non-null   float64\n",
      " 4   score_z_score               1211 non-null   float64\n",
      " 5   rank_2001                   1211 non-null   float64\n",
      " 6   rank_2011                   1211 non-null   float64\n",
      " 7   rank_chg                    1211 non-null   float64\n",
      " 8   rank_z_score                1211 non-null   float64\n",
      " 9   status2                     1211 non-null   object \n",
      " 10  MSOA11NM                    1211 non-null   object \n",
      " 11  LAD11CD                     1211 non-null   object \n",
      " 12  LAD11NM                     1211 non-null   object \n",
      " 13  RGN11CD                     1211 non-null   object \n",
      " 14  RGN11NM                     1211 non-null   object \n",
      " 15  MSOA01CD                    1211 non-null   object \n",
      " 16  MSOA01NM                    1211 non-null   object \n",
      " 17  ratio_la_space_vacant_2001  1211 non-null   float64\n",
      " 18  ratio_la_space_vacant_2011  1211 non-null   float64\n",
      "dtypes: float64(10), object(9)\n",
      "memory usage: 189.2+ KB\n"
     ]
    }
   ],
   "source": [
    "cor.info()"
   ]
  },
  {
   "cell_type": "code",
   "execution_count": 13,
   "metadata": {},
   "outputs": [],
   "source": [
    "cor['ratio_space_vacant_chg'] = (cor['ratio_la_space_vacant_2011'] - cor['ratio_la_space_vacant_2001'])"
   ]
  },
  {
   "cell_type": "code",
   "execution_count": 14,
   "metadata": {},
   "outputs": [],
   "source": [
    "asc=cor[cor[\"status2\"] == \"ASC\"].copy()\n",
    "notasc=cor[(cor[\"status2\"] == \"DEC\") | (cor[\"status2\"] ==\"STB\")].copy()"
   ]
  },
  {
   "cell_type": "code",
   "execution_count": 15,
   "metadata": {},
   "outputs": [
    {
     "name": "stdout",
     "output_type": "stream",
     "text": [
      "<class 'pandas.core.frame.DataFrame'>\n",
      "Int64Index: 177 entries, 6 to 1210\n",
      "Data columns (total 20 columns):\n",
      " #   Column                      Non-Null Count  Dtype  \n",
      "---  ------                      --------------  -----  \n",
      " 0   MSOA11CD                    177 non-null    object \n",
      " 1   Score_2001                  177 non-null    float64\n",
      " 2   Score_2011                  177 non-null    float64\n",
      " 3   score_chg                   177 non-null    float64\n",
      " 4   score_z_score               177 non-null    float64\n",
      " 5   rank_2001                   177 non-null    float64\n",
      " 6   rank_2011                   177 non-null    float64\n",
      " 7   rank_chg                    177 non-null    float64\n",
      " 8   rank_z_score                177 non-null    float64\n",
      " 9   status2                     177 non-null    object \n",
      " 10  MSOA11NM                    177 non-null    object \n",
      " 11  LAD11CD                     177 non-null    object \n",
      " 12  LAD11NM                     177 non-null    object \n",
      " 13  RGN11CD                     177 non-null    object \n",
      " 14  RGN11NM                     177 non-null    object \n",
      " 15  MSOA01CD                    177 non-null    object \n",
      " 16  MSOA01NM                    177 non-null    object \n",
      " 17  ratio_la_space_vacant_2001  177 non-null    float64\n",
      " 18  ratio_la_space_vacant_2011  177 non-null    float64\n",
      " 19  ratio_space_vacant_chg      177 non-null    float64\n",
      "dtypes: float64(11), object(9)\n",
      "memory usage: 29.0+ KB\n"
     ]
    }
   ],
   "source": [
    "asc.info()"
   ]
  },
  {
   "cell_type": "code",
   "execution_count": 16,
   "metadata": {},
   "outputs": [
    {
     "data": {
      "image/png": "[encoded data removed]",
      "text/plain": [
       "<Figure size 432x288 with 1 Axes>"
      ]
     },
     "metadata": {},
     "output_type": "display_data"
    }
   ],
   "source": [
    "asc_cor=asc[['ratio_space_vacant_chg', 'score_chg']]\n",
    "asc_cor.plot.scatter(x='ratio_space_vacant_chg',y='score_chg', c='DarkBlue')\n",
    "plt.savefig('plot/p1-cor-asc.png',dpi = 200,bbox_inches = 'tight')"
   ]
  },
  {
   "cell_type": "code",
   "execution_count": 17,
   "metadata": {},
   "outputs": [
    {
     "data": {
      "text/plain": [
       "array([[<AxesSubplot:title={'center':'score_chg'}>]], dtype=object)"
      ]
     },
     "execution_count": 17,
     "metadata": {},
     "output_type": "execute_result"
    },
    {
     "data": {
      "image/png": "[encoded data removed]",
      "text/plain": [
       "<Figure size 432x288 with 1 Axes>"
      ]
     },
     "metadata": {},
     "output_type": "display_data"
    }
   ],
   "source": [
    "asc_cor.hist(column='score_chg')"
   ]
  },
  {
   "cell_type": "code",
   "execution_count": 18,
   "metadata": {},
   "outputs": [
    {
     "data": {
      "image/png": "[encoded data removed]",
      "text/plain": [
       "<Figure size 432x288 with 1 Axes>"
      ]
     },
     "metadata": {},
     "output_type": "display_data"
    }
   ],
   "source": [
    "notasc_cor=notasc[['ratio_space_vacant_chg', 'score_chg']]\n",
    "notasc_cor.plot.scatter(x='ratio_space_vacant_chg',y='score_chg', c='DarkBlue')\n",
    "plt.savefig('plot/p1-cor-nonasc.png',dpi = 200,bbox_inches = 'tight')"
   ]
  },
  {
   "cell_type": "code",
   "execution_count": 19,
   "metadata": {},
   "outputs": [],
   "source": [
    "from scipy import stats"
   ]
  },
  {
   "cell_type": "code",
   "execution_count": 20,
   "metadata": {},
   "outputs": [],
   "source": [
    "#calculate Spearman Rank correlation and corresponding p-value\n",
    "\n",
    "rho, p = stats.spearmanr(asc['score_chg'], asc['ratio_space_vacant_chg'])"
   ]
  },
  {
   "cell_type": "code",
   "execution_count": 21,
   "metadata": {},
   "outputs": [
    {
     "name": "stdout",
     "output_type": "stream",
     "text": [
      "0.022928533093263623\n",
      "0.7619486772509795\n"
     ]
    }
   ],
   "source": [
    "print(rho)\n",
    "print(p)"
   ]
  },
  {
   "cell_type": "code",
   "execution_count": 22,
   "metadata": {},
   "outputs": [],
   "source": [
    "rho2, p2 = stats.spearmanr(notasc['score_chg'], notasc['ratio_space_vacant_chg'])"
   ]
  },
  {
   "cell_type": "code",
   "execution_count": 23,
   "metadata": {},
   "outputs": [
    {
     "name": "stdout",
     "output_type": "stream",
     "text": [
      "0.023960108340226778\n",
      "0.4415154275431481\n"
     ]
    }
   ],
   "source": [
    "print(rho2)\n",
    "print(p2)"
   ]
  },
  {
   "cell_type": "code",
   "execution_count": 24,
   "metadata": {},
   "outputs": [
    {
     "name": "stdout",
     "output_type": "stream",
     "text": [
      "0.022620361277926455\n",
      "0.4315961198045005\n"
     ]
    }
   ],
   "source": [
    "rho2, p2 = stats.spearmanr(cor['score_chg'], cor['ratio_space_vacant_chg'])\n",
    "print(rho2)\n",
    "print(p2)"
   ]
  },
  {
   "cell_type": "code",
   "execution_count": null,
   "metadata": {},
   "outputs": [],
   "source": []
  }
 ],
 "metadata": {
  "kernelspec": {
   "display_name": "Python 3",
   "language": "python",
   "name": "python3"
  },
  "language_info": {
   "codemirror_mode": {
    "name": "ipython",
    "version": 3
   },
   "file_extension": ".py",
   "mimetype": "text/x-python",
   "name": "python",
   "nbconvert_exporter": "python",
   "pygments_lexer": "ipython3",
   "version": "3.7.8"
  }
 },
 "nbformat": 4,
 "nbformat_minor": 4
}
