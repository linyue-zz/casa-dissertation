{
 "cells": [
  {
   "cell_type": "code",
   "execution_count": 1,
   "metadata": {},
   "outputs": [],
   "source": [
    "import pandas as pd\n",
    "import seaborn as sns\n",
    "\n",
    "import matplotlib\n",
    "import matplotlib.pyplot as plt\n",
    "matplotlib.style.use('ggplot')\n",
    "\n",
    "from scipy.stats import boxcox\n",
    "import numpy as np\n",
    "\n",
    "# necessary libraries for PCA\n",
    "from sklearn.preprocessing import RobustScaler\n",
    "from sklearn import decomposition  \n",
    "from sklearn.preprocessing import scale  \n",
    "from sklearn import preprocessing \n",
    "from sklearn import linear_model\n",
    "from sklearn import model_selection\n",
    "\n",
    "from scipy import stats"
   ]
  },
  {
   "cell_type": "markdown",
   "metadata": {},
   "source": [
    "## Calculate composite score for all MSOAs "
   ]
  },
  {
   "cell_type": "markdown",
   "metadata": {},
   "source": [
    "### Proxy Variables for Part One"
   ]
  },
  {
   "cell_type": "code",
   "execution_count": 2,
   "metadata": {},
   "outputs": [],
   "source": [
    "swandlondon_core = pd.read_csv('output/swandlondon_core.csv')"
   ]
  },
  {
   "cell_type": "code",
   "execution_count": 3,
   "metadata": {},
   "outputs": [
    {
     "name": "stdout",
     "output_type": "stream",
     "text": [
      "<class 'pandas.core.frame.DataFrame'>\n",
      "RangeIndex: 1211 entries, 0 to 1210\n",
      "Data columns (total 45 columns):\n",
      " #   Column                               Non-Null Count  Dtype  \n",
      "---  ------                               --------------  -----  \n",
      " 0   MSOA11CD                             1211 non-null   object \n",
      " 1   MSOA11NM                             1211 non-null   object \n",
      " 2   LAD11CD                              1211 non-null   object \n",
      " 3   LAD11NM                              1211 non-null   object \n",
      " 4   RGN11CD                              1211 non-null   object \n",
      " 5   RGN11NM                              1211 non-null   object \n",
      " 6   MSOA01CD                             1211 non-null   object \n",
      " 7   MSOA01NM                             1211 non-null   object \n",
      " 8   CHGIND                               1211 non-null   object \n",
      " 9   ratio_la_median_price_2001           1211 non-null   float64\n",
      " 10  ratio_la_median_price_2011           1211 non-null   float64\n",
      " 11  ratio_r_median_price_2001            1211 non-null   float64\n",
      " 12  ratio_r_median_price_2011            1211 non-null   float64\n",
      " 13  ratio_la_earnings_2001               1211 non-null   float64\n",
      " 14  ratio_la_earnings_2011               1211 non-null   float64\n",
      " 15  ratio_r_earnings_2001                1211 non-null   float64\n",
      " 16  ratio_r_earnings_2011                1211 non-null   float64\n",
      " 17  ratio_la_nssec_2001                  1211 non-null   float64\n",
      " 18  ratio_la_nssec_2011                  1211 non-null   float64\n",
      " 19  ratio_r_nssec_2001                   1211 non-null   float64\n",
      " 20  ratio_r_nssec_2011                   1211 non-null   float64\n",
      " 21  ratio_la_qualification_2001          1211 non-null   float64\n",
      " 22  ratio_la_qualification_2011          1211 non-null   float64\n",
      " 23  ratio_r_qualification_2001           1211 non-null   float64\n",
      " 24  ratio_r_qualification_2011           1211 non-null   float64\n",
      " 25  ratio_la_space_vacant_2001           1211 non-null   float64\n",
      " 26  ratio_la_space_vacant_2011           1211 non-null   float64\n",
      " 27  ratio_la_no_children_2001            1211 non-null   float64\n",
      " 28  ratio_la_no_children_2011            1211 non-null   float64\n",
      " 29  ratio_la_dependent_children_2001     1211 non-null   float64\n",
      " 30  ratio_la_dependent_children_2011     1211 non-null   float64\n",
      " 31  ratio_la_nondependent_children_2001  1211 non-null   float64\n",
      " 32  ratio_la_nondependent_children_2011  1211 non-null   float64\n",
      " 33  ratio_la_retired_2001                1211 non-null   float64\n",
      " 34  ratio_la_retired_2011                1211 non-null   float64\n",
      " 35  ratio_la_student_2001                1211 non-null   float64\n",
      " 36  ratio_la_student_2011                1211 non-null   float64\n",
      " 37  ratio_la_newlybuilt_sale_2001        1211 non-null   float64\n",
      " 38  ratio_la_newlybuilt_sale_2011        1211 non-null   float64\n",
      " 39  ratio_la_owned_2001                  1211 non-null   float64\n",
      " 40  ratio_la_owned_2011                  1211 non-null   float64\n",
      " 41  ratio_la_rented_2001                 1211 non-null   float64\n",
      " 42  ratio_la_rented_2011                 1211 non-null   float64\n",
      " 43  ratio_la_migrants_2001               1211 non-null   float64\n",
      " 44  ratio_la_migrants_2011               1211 non-null   float64\n",
      "dtypes: float64(36), object(9)\n",
      "memory usage: 425.9+ KB\n"
     ]
    }
   ],
   "source": [
    "swandlondon_core.info()"
   ]
  },
  {
   "cell_type": "code",
   "execution_count": 4,
   "metadata": {},
   "outputs": [],
   "source": [
    "extrac1_cols=list(swandlondon_core.iloc[:,[0,9,10,11,12,13,14,15,16,17,18,19,20,21,22,23,24]].columns)\n",
    "swandlondon_extract1=swandlondon_core[extrac1_cols].copy()"
   ]
  },
  {
   "cell_type": "code",
   "execution_count": 5,
   "metadata": {},
   "outputs": [
    {
     "name": "stdout",
     "output_type": "stream",
     "text": [
      "<class 'pandas.core.frame.DataFrame'>\n",
      "RangeIndex: 1211 entries, 0 to 1210\n",
      "Data columns (total 17 columns):\n",
      " #   Column                       Non-Null Count  Dtype  \n",
      "---  ------                       --------------  -----  \n",
      " 0   MSOA11CD                     1211 non-null   object \n",
      " 1   ratio_la_median_price_2001   1211 non-null   float64\n",
      " 2   ratio_la_median_price_2011   1211 non-null   float64\n",
      " 3   ratio_r_median_price_2001    1211 non-null   float64\n",
      " 4   ratio_r_median_price_2011    1211 non-null   float64\n",
      " 5   ratio_la_earnings_2001       1211 non-null   float64\n",
      " 6   ratio_la_earnings_2011       1211 non-null   float64\n",
      " 7   ratio_r_earnings_2001        1211 non-null   float64\n",
      " 8   ratio_r_earnings_2011        1211 non-null   float64\n",
      " 9   ratio_la_nssec_2001          1211 non-null   float64\n",
      " 10  ratio_la_nssec_2011          1211 non-null   float64\n",
      " 11  ratio_r_nssec_2001           1211 non-null   float64\n",
      " 12  ratio_r_nssec_2011           1211 non-null   float64\n",
      " 13  ratio_la_qualification_2001  1211 non-null   float64\n",
      " 14  ratio_la_qualification_2011  1211 non-null   float64\n",
      " 15  ratio_r_qualification_2001   1211 non-null   float64\n",
      " 16  ratio_r_qualification_2011   1211 non-null   float64\n",
      "dtypes: float64(16), object(1)\n",
      "memory usage: 161.0+ KB\n"
     ]
    }
   ],
   "source": [
    "swandlondon_extract1.info()"
   ]
  },
  {
   "cell_type": "code",
   "execution_count": 6,
   "metadata": {},
   "outputs": [
    {
     "data": {
      "text/html": [
       "<div>\n",
       "<style scoped>\n",
       "    .dataframe tbody tr th:only-of-type {\n",
       "        vertical-align: middle;\n",
       "    }\n",
       "\n",
       "    .dataframe tbody tr th {\n",
       "        vertical-align: top;\n",
       "    }\n",
       "\n",
       "    .dataframe thead th {\n",
       "        text-align: right;\n",
       "    }\n",
       "</style>\n",
       "<table border=\"1\" class=\"dataframe\">\n",
       "  <thead>\n",
       "    <tr style=\"text-align: right;\">\n",
       "      <th></th>\n",
       "      <th>MSOA11CD</th>\n",
       "      <th>ratio_la_median_price_2001</th>\n",
       "      <th>ratio_la_median_price_2011</th>\n",
       "      <th>ratio_r_median_price_2001</th>\n",
       "      <th>ratio_r_median_price_2011</th>\n",
       "      <th>ratio_la_earnings_2001</th>\n",
       "      <th>ratio_la_earnings_2011</th>\n",
       "      <th>ratio_r_earnings_2001</th>\n",
       "      <th>ratio_r_earnings_2011</th>\n",
       "      <th>ratio_la_nssec_2001</th>\n",
       "      <th>ratio_la_nssec_2011</th>\n",
       "      <th>ratio_r_nssec_2001</th>\n",
       "      <th>ratio_r_nssec_2011</th>\n",
       "      <th>ratio_la_qualification_2001</th>\n",
       "      <th>ratio_la_qualification_2011</th>\n",
       "      <th>ratio_r_qualification_2001</th>\n",
       "      <th>ratio_r_qualification_2011</th>\n",
       "    </tr>\n",
       "  </thead>\n",
       "  <tbody>\n",
       "    <tr>\n",
       "      <th>0</th>\n",
       "      <td>E02003122</td>\n",
       "      <td>1.944769</td>\n",
       "      <td>1.246479</td>\n",
       "      <td>1.295337</td>\n",
       "      <td>0.956757</td>\n",
       "      <td>1.0</td>\n",
       "      <td>1.177910</td>\n",
       "      <td>0.827268</td>\n",
       "      <td>0.991131</td>\n",
       "      <td>1.302179</td>\n",
       "      <td>1.408462</td>\n",
       "      <td>1.050907</td>\n",
       "      <td>1.107387</td>\n",
       "      <td>1.268738</td>\n",
       "      <td>1.245506</td>\n",
       "      <td>0.908463</td>\n",
       "      <td>0.976193</td>\n",
       "    </tr>\n",
       "    <tr>\n",
       "      <th>1</th>\n",
       "      <td>E02003123</td>\n",
       "      <td>0.824582</td>\n",
       "      <td>1.024613</td>\n",
       "      <td>0.549223</td>\n",
       "      <td>0.786459</td>\n",
       "      <td>1.0</td>\n",
       "      <td>0.941803</td>\n",
       "      <td>0.827268</td>\n",
       "      <td>0.792463</td>\n",
       "      <td>0.712490</td>\n",
       "      <td>0.815258</td>\n",
       "      <td>0.575006</td>\n",
       "      <td>0.640987</td>\n",
       "      <td>0.660445</td>\n",
       "      <td>0.705638</td>\n",
       "      <td>0.472903</td>\n",
       "      <td>0.553059</td>\n",
       "    </tr>\n",
       "    <tr>\n",
       "      <th>2</th>\n",
       "      <td>E02003124</td>\n",
       "      <td>0.855698</td>\n",
       "      <td>0.827465</td>\n",
       "      <td>0.569948</td>\n",
       "      <td>0.635135</td>\n",
       "      <td>1.0</td>\n",
       "      <td>0.899845</td>\n",
       "      <td>0.827268</td>\n",
       "      <td>0.757158</td>\n",
       "      <td>0.845831</td>\n",
       "      <td>0.821287</td>\n",
       "      <td>0.682617</td>\n",
       "      <td>0.645727</td>\n",
       "      <td>0.678934</td>\n",
       "      <td>0.716811</td>\n",
       "      <td>0.486142</td>\n",
       "      <td>0.561816</td>\n",
       "    </tr>\n",
       "    <tr>\n",
       "      <th>3</th>\n",
       "      <td>E02003125</td>\n",
       "      <td>0.762349</td>\n",
       "      <td>0.855634</td>\n",
       "      <td>0.507772</td>\n",
       "      <td>0.656757</td>\n",
       "      <td>1.0</td>\n",
       "      <td>0.929999</td>\n",
       "      <td>0.827268</td>\n",
       "      <td>0.782531</td>\n",
       "      <td>0.726167</td>\n",
       "      <td>0.754775</td>\n",
       "      <td>0.586044</td>\n",
       "      <td>0.593433</td>\n",
       "      <td>0.467399</td>\n",
       "      <td>0.624349</td>\n",
       "      <td>0.334675</td>\n",
       "      <td>0.489347</td>\n",
       "    </tr>\n",
       "    <tr>\n",
       "      <th>4</th>\n",
       "      <td>E02003126</td>\n",
       "      <td>0.855309</td>\n",
       "      <td>0.880282</td>\n",
       "      <td>0.569689</td>\n",
       "      <td>0.675676</td>\n",
       "      <td>1.0</td>\n",
       "      <td>0.952639</td>\n",
       "      <td>0.827268</td>\n",
       "      <td>0.801581</td>\n",
       "      <td>0.869677</td>\n",
       "      <td>0.835468</td>\n",
       "      <td>0.701862</td>\n",
       "      <td>0.656877</td>\n",
       "      <td>0.736672</td>\n",
       "      <td>0.747830</td>\n",
       "      <td>0.527485</td>\n",
       "      <td>0.586129</td>\n",
       "    </tr>\n",
       "  </tbody>\n",
       "</table>\n",
       "</div>"
      ],
      "text/plain": [
       "    MSOA11CD  ratio_la_median_price_2001  ratio_la_median_price_2011  \\\n",
       "0  E02003122                    1.944769                    1.246479   \n",
       "1  E02003123                    0.824582                    1.024613   \n",
       "2  E02003124                    0.855698                    0.827465   \n",
       "3  E02003125                    0.762349                    0.855634   \n",
       "4  E02003126                    0.855309                    0.880282   \n",
       "\n",
       "   ratio_r_median_price_2001  ratio_r_median_price_2011  \\\n",
       "0                   1.295337                   0.956757   \n",
       "1                   0.549223                   0.786459   \n",
       "2                   0.569948                   0.635135   \n",
       "3                   0.507772                   0.656757   \n",
       "4                   0.569689                   0.675676   \n",
       "\n",
       "   ratio_la_earnings_2001  ratio_la_earnings_2011  ratio_r_earnings_2001  \\\n",
       "0                     1.0                1.177910               0.827268   \n",
       "1                     1.0                0.941803               0.827268   \n",
       "2                     1.0                0.899845               0.827268   \n",
       "3                     1.0                0.929999               0.827268   \n",
       "4                     1.0                0.952639               0.827268   \n",
       "\n",
       "   ratio_r_earnings_2011  ratio_la_nssec_2001  ratio_la_nssec_2011  \\\n",
       "0               0.991131             1.302179             1.408462   \n",
       "1               0.792463             0.712490             0.815258   \n",
       "2               0.757158             0.845831             0.821287   \n",
       "3               0.782531             0.726167             0.754775   \n",
       "4               0.801581             0.869677             0.835468   \n",
       "\n",
       "   ratio_r_nssec_2001  ratio_r_nssec_2011  ratio_la_qualification_2001  \\\n",
       "0            1.050907            1.107387                     1.268738   \n",
       "1            0.575006            0.640987                     0.660445   \n",
       "2            0.682617            0.645727                     0.678934   \n",
       "3            0.586044            0.593433                     0.467399   \n",
       "4            0.701862            0.656877                     0.736672   \n",
       "\n",
       "   ratio_la_qualification_2011  ratio_r_qualification_2001  \\\n",
       "0                     1.245506                    0.908463   \n",
       "1                     0.705638                    0.472903   \n",
       "2                     0.716811                    0.486142   \n",
       "3                     0.624349                    0.334675   \n",
       "4                     0.747830                    0.527485   \n",
       "\n",
       "   ratio_r_qualification_2011  \n",
       "0                    0.976193  \n",
       "1                    0.553059  \n",
       "2                    0.561816  \n",
       "3                    0.489347  \n",
       "4                    0.586129  "
      ]
     },
     "execution_count": 6,
     "metadata": {},
     "output_type": "execute_result"
    }
   ],
   "source": [
    "swandlondon_extract1.head()"
   ]
  },
  {
   "cell_type": "code",
   "execution_count": 7,
   "metadata": {},
   "outputs": [],
   "source": [
    "# check the distribution of proxy variables (excluding MSOA code)\n",
    "\n",
    "swandlondon_extract1__distribution_la = swandlondon_extract1.iloc[:,[1,2,5,6,9,10,13,14]]\n",
    "\n",
    "swandlondon_extract1__distribution_r = swandlondon_extract1.iloc[:,[3,4,7,8,11,12,15,16]]"
   ]
  },
  {
   "cell_type": "code",
   "execution_count": 8,
   "metadata": {},
   "outputs": [
    {
     "data": {
      "text/plain": [
       "[Text(0, 0, 'ratio_r_median_price_2001'),\n",
       " Text(1, 0, 'ratio_r_median_price_2011'),\n",
       " Text(2, 0, 'ratio_r_earnings_2001'),\n",
       " Text(3, 0, 'ratio_r_earnings_2011'),\n",
       " Text(4, 0, 'ratio_r_nssec_2001'),\n",
       " Text(5, 0, 'ratio_r_nssec_2011'),\n",
       " Text(6, 0, 'ratio_r_qualification_2001'),\n",
       " Text(7, 0, 'ratio_r_qualification_2011')]"
      ]
     },
     "execution_count": 8,
     "metadata": {},
     "output_type": "execute_result"
    },
    {
     "data": {
      "image/png": "[encoded data removed]",
      "text/plain": [
       "<Figure size 432x288 with 1 Axes>"
      ]
     },
     "metadata": {},
     "output_type": "display_data"
    }
   ],
   "source": [
    "# ratio by region\n",
    "ax = sns.boxplot( data=swandlondon_extract1__distribution_r,fliersize=2)\n",
    "ax.set_xticklabels(ax.get_xticklabels(), rotation=90)\n",
    "\n",
    "#plt.savefig('tplot/p1-region-box.png',dpi = 200,bbox_inches = 'tight')"
   ]
  },
  {
   "cell_type": "code",
   "execution_count": 9,
   "metadata": {},
   "outputs": [
    {
     "data": {
      "text/plain": [
       "[Text(0, 0, 'ratio_la_median_price_2001'),\n",
       " Text(1, 0, 'ratio_la_median_price_2011'),\n",
       " Text(2, 0, 'ratio_la_earnings_2001'),\n",
       " Text(3, 0, 'ratio_la_earnings_2011'),\n",
       " Text(4, 0, 'ratio_la_nssec_2001'),\n",
       " Text(5, 0, 'ratio_la_nssec_2011'),\n",
       " Text(6, 0, 'ratio_la_qualification_2001'),\n",
       " Text(7, 0, 'ratio_la_qualification_2011')]"
      ]
     },
     "execution_count": 9,
     "metadata": {},
     "output_type": "execute_result"
    },
    {
     "data": {
      "image/png": "[encoded data removed]",
      "text/plain": [
       "<Figure size 432x288 with 1 Axes>"
      ]
     },
     "metadata": {},
     "output_type": "display_data"
    }
   ],
   "source": [
    "# ratio by la\n",
    "ax = sns.boxplot( data=swandlondon_extract1__distribution_la,fliersize=2)\n",
    "ax.set_xticklabels(ax.get_xticklabels(), rotation=90)\n",
    "\n",
    "#plt.savefig('tplot/p1-la-box.png',dpi = 200,bbox_inches = 'tight')"
   ]
  },
  {
   "cell_type": "code",
   "execution_count": 10,
   "metadata": {},
   "outputs": [
    {
     "data": {
      "image/png": "[encoded data removed]",
      "text/plain": [
       "<Figure size 1080x1080 with 8 Axes>"
      ]
     },
     "metadata": {},
     "output_type": "display_data"
    }
   ],
   "source": [
    "# creating histogram for each variable (Region scaling)  to explore their underlying distributions\n",
    "\n",
    "fig, axes = plt.subplots(nrows=4, ncols=2, figsize=(15, 15))\n",
    "\n",
    "counter = 0\n",
    "for i in range(4):\n",
    "    for j in range(2):\n",
    "\n",
    "        ax = axes[i][j]\n",
    "\n",
    "        # Plot when we have data\n",
    "        if counter < len(swandlondon_extract1__distribution_r.columns):\n",
    "\n",
    "            ax.hist(swandlondon_extract1__distribution_r[swandlondon_extract1__distribution_r.columns[counter]], label='{}'.format(swandlondon_extract1__distribution_r.columns[counter]))\n",
    "            leg = ax.legend(loc='upper right')\n",
    "            leg.draw_frame(False)\n",
    "\n",
    "        # Remove axis when we no longer have data\n",
    "        else:\n",
    "            ax.set_axis_off()\n",
    "\n",
    "        counter += 1\n",
    "\n",
    "#plt.savefig('tplot/p1-r-his.png',dpi = 200,bbox_inches = 'tight')\n",
    "plt.show()"
   ]
  },
  {
   "cell_type": "code",
   "execution_count": 11,
   "metadata": {},
   "outputs": [
    {
     "data": {
      "image/png": "[encoded data removed]",
      "text/plain": [
       "<Figure size 1080x1080 with 8 Axes>"
      ]
     },
     "metadata": {},
     "output_type": "display_data"
    }
   ],
   "source": [
    "# creating histogram for each variable (LA scaling) to explore their underlying distributions\n",
    "\n",
    "fig, axes = plt.subplots(nrows=4, ncols=2, figsize=(15, 15))\n",
    "\n",
    "counter = 0\n",
    "for i in range(4):\n",
    "    for j in range(2):\n",
    "\n",
    "        ax = axes[i][j]\n",
    "\n",
    "        # Plot when we have data\n",
    "        if counter < len(swandlondon_extract1__distribution_la.columns):\n",
    "\n",
    "            ax.hist(swandlondon_extract1__distribution_la[swandlondon_extract1__distribution_la.columns[counter]], label='{}'.format(swandlondon_extract1__distribution_la.columns[counter]))\n",
    "            leg = ax.legend(loc='upper right')\n",
    "            leg.draw_frame(False)\n",
    "\n",
    "        # Remove axis when we no longer have data\n",
    "        else:\n",
    "            ax.set_axis_off()\n",
    "\n",
    "        counter += 1\n",
    "\n",
    "#plt.savefig('tplot/p1-la-his.png',dpi = 200,bbox_inches = 'tight')\n",
    "plt.show()"
   ]
  },
  {
   "cell_type": "markdown",
   "metadata": {},
   "source": [
    "### Data Transformation, Re-scaling and PCA"
   ]
  },
  {
   "cell_type": "markdown",
   "metadata": {},
   "source": [
    "What did I do in this section:\n",
    "\n",
    "1. Transform highly skewed variable. Consider which transformation approaches to use: untransformed, Box Cox or Log\n",
    "2. Consider whether to scale the proxy varibales before PCA. \n",
    "\n",
    "three approaches * (to scale or not sclae) = 6 scenarios\n",
    "\n",
    "Check the explained variance of the 1st componet for the 6scenarios"
   ]
  },
  {
   "cell_type": "code",
   "execution_count": 12,
   "metadata": {},
   "outputs": [],
   "source": [
    "swandlondon_extract1_la=swandlondon_extract1.iloc[:,[0,1,2,5,6,9,10,13,14]].copy()"
   ]
  },
  {
   "cell_type": "code",
   "execution_count": 13,
   "metadata": {},
   "outputs": [
    {
     "name": "stdout",
     "output_type": "stream",
     "text": [
      "<class 'pandas.core.frame.DataFrame'>\n",
      "RangeIndex: 1211 entries, 0 to 1210\n",
      "Data columns (total 9 columns):\n",
      " #   Column                       Non-Null Count  Dtype  \n",
      "---  ------                       --------------  -----  \n",
      " 0   MSOA11CD                     1211 non-null   object \n",
      " 1   ratio_la_median_price_2001   1211 non-null   float64\n",
      " 2   ratio_la_median_price_2011   1211 non-null   float64\n",
      " 3   ratio_la_earnings_2001       1211 non-null   float64\n",
      " 4   ratio_la_earnings_2011       1211 non-null   float64\n",
      " 5   ratio_la_nssec_2001          1211 non-null   float64\n",
      " 6   ratio_la_nssec_2011          1211 non-null   float64\n",
      " 7   ratio_la_qualification_2001  1211 non-null   float64\n",
      " 8   ratio_la_qualification_2011  1211 non-null   float64\n",
      "dtypes: float64(8), object(1)\n",
      "memory usage: 85.3+ KB\n"
     ]
    }
   ],
   "source": [
    "swandlondon_extract1_la.info()"
   ]
  },
  {
   "cell_type": "code",
   "execution_count": 14,
   "metadata": {},
   "outputs": [],
   "source": [
    "# from the distribution check above, the median housing price is heavily positive skewed.\n",
    "df_transformed = swandlondon_extract1_la [[ 'ratio_la_median_price_2011','ratio_la_median_price_2001']]"
   ]
  },
  {
   "cell_type": "code",
   "execution_count": 15,
   "metadata": {},
   "outputs": [],
   "source": [
    "#Box-Cox Transform\n",
    "price01, lmd01a = boxcox(df_transformed['ratio_la_median_price_2001']) \n",
    "price11 = boxcox(df_transformed['ratio_la_median_price_2011'], lmbda=lmd01a)\n",
    "\n",
    "#Log transform\n",
    "price01l = np.log(df_transformed['ratio_la_median_price_2001']) \n",
    "price11l = np.log(df_transformed['ratio_la_median_price_2011'])"
   ]
  },
  {
   "cell_type": "code",
   "execution_count": 16,
   "metadata": {},
   "outputs": [],
   "source": [
    "#code reference:https://github.com/jreades/urb-studies-predicting-gentrification/blob/master/04-Scoring%20Neighbourhoods.ipynb\n",
    "\n",
    "#choose one\n",
    "to_use = 'Box-Cox' # Choices: ['Untransformed','Box-Cox','Log']\n",
    "\n",
    "if to_use == 'Untransformed':\n",
    "    swandlondon_la_pca=swandlondon_extract1_la.copy()\n",
    "    \n",
    "elif to_use == 'Box-Cox':\n",
    "    swandlondon_la_pca=swandlondon_extract1_la.copy()\n",
    "    swandlondon_la_pca['ratio_la_median_price_2001']=price01\n",
    "    swandlondon_la_pca['ratio_la_median_price_2011']=price11\n",
    "    \n",
    "elif to_use == 'Log':\n",
    "    swandlondon_la_pca=swandlondon_extract1_la.copy()\n",
    "    swandlondon_la_pca['ratio_la_median_price_2001']=price01l\n",
    "    swandlondon_la_pca['ratio_la_median_price_2011']=price11l\n",
    "    "
   ]
  },
  {
   "cell_type": "code",
   "execution_count": 17,
   "metadata": {},
   "outputs": [],
   "source": [
    "df_scaling = swandlondon_la_pca.set_index('MSOA11CD')"
   ]
  },
  {
   "cell_type": "code",
   "execution_count": 18,
   "metadata": {},
   "outputs": [
    {
     "name": "stdout",
     "output_type": "stream",
     "text": [
      "<class 'pandas.core.frame.DataFrame'>\n",
      "Index: 1211 entries, E02003122 to E02006882\n",
      "Data columns (total 8 columns):\n",
      " #   Column                       Non-Null Count  Dtype  \n",
      "---  ------                       --------------  -----  \n",
      " 0   ratio_la_median_price_2001   1211 non-null   float64\n",
      " 1   ratio_la_median_price_2011   1211 non-null   float64\n",
      " 2   ratio_la_earnings_2001       1211 non-null   float64\n",
      " 3   ratio_la_earnings_2011       1211 non-null   float64\n",
      " 4   ratio_la_nssec_2001          1211 non-null   float64\n",
      " 5   ratio_la_nssec_2011          1211 non-null   float64\n",
      " 6   ratio_la_qualification_2001  1211 non-null   float64\n",
      " 7   ratio_la_qualification_2011  1211 non-null   float64\n",
      "dtypes: float64(8)\n",
      "memory usage: 85.1+ KB\n"
     ]
    }
   ],
   "source": [
    "df_scaling.info()"
   ]
  },
  {
   "cell_type": "code",
   "execution_count": 19,
   "metadata": {},
   "outputs": [
    {
     "data": {
      "image/png": "[encoded data removed]",
      "text/plain": [
       "<Figure size 1080x1080 with 8 Axes>"
      ]
     },
     "metadata": {},
     "output_type": "display_data"
    }
   ],
   "source": [
    "# creating histogram for each variable to explore their underlying distributions\n",
    "\n",
    "fig, axes = plt.subplots(nrows=4, ncols=2, figsize=(15, 15))\n",
    "\n",
    "counter = 0\n",
    "for i in range(4):\n",
    "    for j in range(2):\n",
    "\n",
    "        ax = axes[i][j]\n",
    "\n",
    "        # Plot when we have data\n",
    "        if counter < len(df_scaling.columns):\n",
    "\n",
    "            ax.hist(df_scaling[df_scaling.columns[counter]], label='{}'.format(df_scaling.columns[counter]))\n",
    "            leg = ax.legend(loc='upper right')\n",
    "            leg.draw_frame(False)\n",
    "\n",
    "        # Remove axis when we no longer have data\n",
    "        else:\n",
    "            ax.set_axis_off()\n",
    "\n",
    "        counter += 1\n",
    "\n",
    "#plt.savefig('tplot/p1-la-boxcox-his.png',dpi = 200,bbox_inches = 'tight')\n",
    "plt.show()"
   ]
  },
  {
   "cell_type": "code",
   "execution_count": 20,
   "metadata": {},
   "outputs": [],
   "source": [
    "#pca part code reference:https://github.com/jytg17/Unpacking-the-Nuances-of-Londons-Neighbourhood-Change-Gentrification-Trajectories-codes/blob/master/2%20Scoring%20Analysis.ipynb"
   ]
  },
  {
   "cell_type": "code",
   "execution_count": 21,
   "metadata": {},
   "outputs": [],
   "source": [
    "# split 2001 data from 2011 data\n",
    "df_scaling_2001 = df_scaling.iloc[:,[0,2,4,6]].copy()\n",
    "df_scaling_2011 = df_scaling.iloc[:,[1,3,5,7]].copy()\n",
    "\n",
    "# stacking the 2001 data vertically with 2011 data\n",
    "values_2001 = df_scaling_2001.values\n",
    "values_2011 = df_scaling_2011.values\n",
    "stacked_df = np.concatenate((values_2001, values_2011), axis=0)\n"
   ]
  },
  {
   "cell_type": "code",
   "execution_count": 22,
   "metadata": {},
   "outputs": [
    {
     "data": {
      "text/html": [
       "<div>\n",
       "<style scoped>\n",
       "    .dataframe tbody tr th:only-of-type {\n",
       "        vertical-align: middle;\n",
       "    }\n",
       "\n",
       "    .dataframe tbody tr th {\n",
       "        vertical-align: top;\n",
       "    }\n",
       "\n",
       "    .dataframe thead th {\n",
       "        text-align: right;\n",
       "    }\n",
       "</style>\n",
       "<table border=\"1\" class=\"dataframe\">\n",
       "  <thead>\n",
       "    <tr style=\"text-align: right;\">\n",
       "      <th></th>\n",
       "      <th>ratio_la_median_price_2001</th>\n",
       "      <th>ratio_la_earnings_2001</th>\n",
       "      <th>ratio_la_nssec_2001</th>\n",
       "      <th>ratio_la_qualification_2001</th>\n",
       "    </tr>\n",
       "    <tr>\n",
       "      <th>MSOA11CD</th>\n",
       "      <th></th>\n",
       "      <th></th>\n",
       "      <th></th>\n",
       "      <th></th>\n",
       "    </tr>\n",
       "  </thead>\n",
       "  <tbody>\n",
       "    <tr>\n",
       "      <th>E02003122</th>\n",
       "      <td>0.559537</td>\n",
       "      <td>1.0</td>\n",
       "      <td>1.302179</td>\n",
       "      <td>1.268738</td>\n",
       "    </tr>\n",
       "    <tr>\n",
       "      <th>E02003123</th>\n",
       "      <td>-0.203197</td>\n",
       "      <td>1.0</td>\n",
       "      <td>0.712490</td>\n",
       "      <td>0.660445</td>\n",
       "    </tr>\n",
       "    <tr>\n",
       "      <th>E02003124</th>\n",
       "      <td>-0.162528</td>\n",
       "      <td>1.0</td>\n",
       "      <td>0.845831</td>\n",
       "      <td>0.678934</td>\n",
       "    </tr>\n",
       "    <tr>\n",
       "      <th>E02003125</th>\n",
       "      <td>-0.292066</td>\n",
       "      <td>1.0</td>\n",
       "      <td>0.726167</td>\n",
       "      <td>0.467399</td>\n",
       "    </tr>\n",
       "    <tr>\n",
       "      <th>E02003126</th>\n",
       "      <td>-0.163022</td>\n",
       "      <td>1.0</td>\n",
       "      <td>0.869677</td>\n",
       "      <td>0.736672</td>\n",
       "    </tr>\n",
       "  </tbody>\n",
       "</table>\n",
       "</div>"
      ],
      "text/plain": [
       "           ratio_la_median_price_2001  ratio_la_earnings_2001  \\\n",
       "MSOA11CD                                                        \n",
       "E02003122                    0.559537                     1.0   \n",
       "E02003123                   -0.203197                     1.0   \n",
       "E02003124                   -0.162528                     1.0   \n",
       "E02003125                   -0.292066                     1.0   \n",
       "E02003126                   -0.163022                     1.0   \n",
       "\n",
       "           ratio_la_nssec_2001  ratio_la_qualification_2001  \n",
       "MSOA11CD                                                     \n",
       "E02003122             1.302179                     1.268738  \n",
       "E02003123             0.712490                     0.660445  \n",
       "E02003124             0.845831                     0.678934  \n",
       "E02003125             0.726167                     0.467399  \n",
       "E02003126             0.869677                     0.736672  "
      ]
     },
     "execution_count": 22,
     "metadata": {},
     "output_type": "execute_result"
    }
   ],
   "source": [
    "df_scaling_2001.head()"
   ]
  },
  {
   "cell_type": "code",
   "execution_count": 23,
   "metadata": {},
   "outputs": [
    {
     "data": {
      "text/plain": [
       "array([[ 0.55953693,  1.        ,  1.30217932,  1.26873841],\n",
       "       [-0.20319689,  1.        ,  0.71248995,  0.66044495],\n",
       "       [-0.16252801,  1.        ,  0.84583093,  0.67893429],\n",
       "       ...,\n",
       "       [ 0.26815363,  1.        ,  1.00829955,  1.00396023],\n",
       "       [ 0.01973753,  1.        ,  1.03248424,  1.11060484],\n",
       "       [ 0.09109363,  1.        ,  0.87213857,  0.85637993]])"
      ]
     },
     "execution_count": 23,
     "metadata": {},
     "output_type": "execute_result"
    }
   ],
   "source": [
    "values_2001\n"
   ]
  },
  {
   "cell_type": "code",
   "execution_count": 24,
   "metadata": {},
   "outputs": [
    {
     "data": {
      "text/plain": [
       "0"
      ]
     },
     "execution_count": 24,
     "metadata": {},
     "output_type": "execute_result"
    }
   ],
   "source": [
    "# checking for NaN values before scaling and transforming\n",
    "np.isnan(stacked_df).sum()"
   ]
  },
  {
   "cell_type": "code",
   "execution_count": 25,
   "metadata": {},
   "outputs": [],
   "source": [
    "# scaling the stacked data using RobustScaler\n",
    "Robust_transformer = RobustScaler().fit(stacked_df)\n",
    "Robust_transformer_df = Robust_transformer.transform(stacked_df)"
   ]
  },
  {
   "cell_type": "code",
   "execution_count": 26,
   "metadata": {},
   "outputs": [
    {
     "name": "stdout",
     "output_type": "stream",
     "text": [
      "Explained variance of the SES score is: 0.72242\n"
     ]
    }
   ],
   "source": [
    "# carry out PCA to derive only the 1st principal component---scaled data\n",
    "\n",
    "pca = decomposition.PCA(n_components=1)             \n",
    "pca.fit(Robust_transformer_df)                      \n",
    "PCA_scores = pd.DataFrame(pca.transform(Robust_transformer_df))  \n",
    "\n",
    "print(\"Explained variance of the SES score is: {0:6.5f}\".format(pca.explained_variance_ratio_[0]))"
   ]
  },
  {
   "cell_type": "code",
   "execution_count": 27,
   "metadata": {},
   "outputs": [
    {
     "name": "stdout",
     "output_type": "stream",
     "text": [
      "[0.72242367 0.20127339 0.06256128 0.01374165]\n"
     ]
    }
   ],
   "source": [
    "# what if one wanted to find all principal components?---scaled data\n",
    "\n",
    "pca_all = decomposition.PCA()             \n",
    "pca_all.fit(Robust_transformer_df)                      \n",
    "print(pca_all.explained_variance_ratio_)"
   ]
  },
  {
   "cell_type": "code",
   "execution_count": 28,
   "metadata": {},
   "outputs": [
    {
     "name": "stdout",
     "output_type": "stream",
     "text": [
      "Explained variance of the SES score is: 0.77839\n"
     ]
    }
   ],
   "source": [
    "# carry out PCA to derive only the 1st principal component----not scaled data\n",
    "\n",
    "pca = decomposition.PCA(n_components=1)             \n",
    "pca.fit(stacked_df)                      \n",
    "PCA_scores = pd.DataFrame(pca.transform(stacked_df))  \n",
    "\n",
    "print(\"Explained variance of the SES score is: {0:6.5f}\".format(pca.explained_variance_ratio_[0]))"
   ]
  },
  {
   "cell_type": "code",
   "execution_count": 29,
   "metadata": {},
   "outputs": [
    {
     "name": "stdout",
     "output_type": "stream",
     "text": [
      "[0.77838525 0.11860959 0.07537652 0.02762864]\n"
     ]
    }
   ],
   "source": [
    "# what if one wanted to find all principal components?----not scaled data\n",
    "\n",
    "pca_all = decomposition.PCA()             \n",
    "pca_all.fit(stacked_df)                      \n",
    "print(pca_all.explained_variance_ratio_)"
   ]
  },
  {
   "cell_type": "markdown",
   "metadata": {},
   "source": [
    "### The results of this part are as follow:\n",
    "\n",
    "Explained variances for each scenarios:\n",
    "\n",
    "1. Untransformed, Scaled:0.69188\n",
    "2. Untransformed, Not Scaled:0.75166\n",
    "3. Box-Cox Transformed, Scaled:0.72242\n",
    "4. Box-Cox Transformed, Not Scaled:0.77839 (Best Performance)\n",
    "5. Log Transformed, Scaled:0.71807\n",
    "6. Log Transformed, Not Scaled:0.77542\n"
   ]
  },
  {
   "cell_type": "code",
   "execution_count": 30,
   "metadata": {},
   "outputs": [
    {
     "data": {
      "image/png": "[encoded data removed]",
      "text/plain": [
       "<Figure size 288x288 with 2 Axes>"
      ]
     },
     "metadata": {},
     "output_type": "display_data"
    }
   ],
   "source": [
    "# visualise the constituents of each PC using heatmap\n",
    "\n",
    "features = [\"Median House Price\", \"Average Income\", \"Qualification\", \"NS-SEC\"]\n",
    "\n",
    "plt.matshow(pca_all.components_,cmap='viridis')\n",
    "plt.yticks([0,1,2,3],['PC 1','PC 2','PC 3', 'PC 4'],fontsize=12)\n",
    "plt.colorbar()\n",
    "plt.xticks(range(len(features)),features,rotation=65,ha='left',fontsize=12)\n",
    "plt.grid(b=None, which = \"major\")\n",
    "\n",
    "#plt.savefig('tplot/p1-pca-heat.png',dpi = 200,bbox_inches = 'tight')\n",
    "plt.show()\n",
    "\n",
    "\n"
   ]
  },
  {
   "cell_type": "markdown",
   "metadata": {},
   "source": [
    "### Composite score"
   ]
  },
  {
   "cell_type": "code",
   "execution_count": 31,
   "metadata": {},
   "outputs": [],
   "source": [
    "# extracting scores for the respective years\n",
    "PCA_2001 = pd.DataFrame(PCA_scores.iloc[0:len(df_scaling_2001),])\n",
    "PCA_2011 = pd.DataFrame(PCA_scores.iloc[len(df_scaling_2001):,])"
   ]
  },
  {
   "cell_type": "code",
   "execution_count": 32,
   "metadata": {},
   "outputs": [
    {
     "name": "stdout",
     "output_type": "stream",
     "text": [
      "<class 'pandas.core.frame.DataFrame'>\n",
      "RangeIndex: 1211 entries, 0 to 1210\n",
      "Data columns (total 1 columns):\n",
      " #   Column  Non-Null Count  Dtype  \n",
      "---  ------  --------------  -----  \n",
      " 0   0       1211 non-null   float64\n",
      "dtypes: float64(1)\n",
      "memory usage: 9.6 KB\n"
     ]
    }
   ],
   "source": [
    "PCA_2001.info()"
   ]
  },
  {
   "cell_type": "code",
   "execution_count": 33,
   "metadata": {},
   "outputs": [
    {
     "name": "stdout",
     "output_type": "stream",
     "text": [
      "<class 'pandas.core.frame.DataFrame'>\n",
      "RangeIndex: 1211 entries, 1211 to 2421\n",
      "Data columns (total 1 columns):\n",
      " #   Column  Non-Null Count  Dtype  \n",
      "---  ------  --------------  -----  \n",
      " 0   0       1211 non-null   float64\n",
      "dtypes: float64(1)\n",
      "memory usage: 9.6 KB\n"
     ]
    }
   ],
   "source": [
    "PCA_2011.info()"
   ]
  },
  {
   "cell_type": "code",
   "execution_count": 34,
   "metadata": {},
   "outputs": [],
   "source": [
    "# renaming their column titles\n",
    "PCA_2001 = PCA_2001.rename(columns={0: \"Score_2001\"})\n",
    "PCA_2011 = PCA_2011.rename(columns={0: \"Score_2011\"})"
   ]
  },
  {
   "cell_type": "code",
   "execution_count": 35,
   "metadata": {},
   "outputs": [],
   "source": [
    "# attaching the 2001 and 2011 scores to their respective MSOAs in the main dataframe (df_score)\n",
    "df_score = df_scaling.reset_index()\n",
    "\n",
    "df_score[\"Score_2001\"] = PCA_2001[:]\n",
    "\n",
    "\n",
    "PCA_2011 = PCA_2011.reset_index(drop=True)\n",
    "df_score[\"Score_2011\"] = PCA_2011"
   ]
  },
  {
   "cell_type": "code",
   "execution_count": 36,
   "metadata": {},
   "outputs": [
    {
     "data": {
      "text/html": [
       "<div>\n",
       "<style scoped>\n",
       "    .dataframe tbody tr th:only-of-type {\n",
       "        vertical-align: middle;\n",
       "    }\n",
       "\n",
       "    .dataframe tbody tr th {\n",
       "        vertical-align: top;\n",
       "    }\n",
       "\n",
       "    .dataframe thead th {\n",
       "        text-align: right;\n",
       "    }\n",
       "</style>\n",
       "<table border=\"1\" class=\"dataframe\">\n",
       "  <thead>\n",
       "    <tr style=\"text-align: right;\">\n",
       "      <th></th>\n",
       "      <th>MSOA11CD</th>\n",
       "      <th>ratio_la_median_price_2001</th>\n",
       "      <th>ratio_la_median_price_2011</th>\n",
       "      <th>ratio_la_earnings_2001</th>\n",
       "      <th>ratio_la_earnings_2011</th>\n",
       "      <th>ratio_la_nssec_2001</th>\n",
       "      <th>ratio_la_nssec_2011</th>\n",
       "      <th>ratio_la_qualification_2001</th>\n",
       "      <th>ratio_la_qualification_2011</th>\n",
       "      <th>Score_2001</th>\n",
       "      <th>Score_2011</th>\n",
       "    </tr>\n",
       "  </thead>\n",
       "  <tbody>\n",
       "    <tr>\n",
       "      <th>0</th>\n",
       "      <td>E02003122</td>\n",
       "      <td>0.559537</td>\n",
       "      <td>0.207816</td>\n",
       "      <td>1.0</td>\n",
       "      <td>1.177910</td>\n",
       "      <td>1.302179</td>\n",
       "      <td>1.408462</td>\n",
       "      <td>1.268738</td>\n",
       "      <td>1.245506</td>\n",
       "      <td>0.639471</td>\n",
       "      <td>0.550915</td>\n",
       "    </tr>\n",
       "    <tr>\n",
       "      <th>1</th>\n",
       "      <td>E02003123</td>\n",
       "      <td>-0.203197</td>\n",
       "      <td>0.024157</td>\n",
       "      <td>1.0</td>\n",
       "      <td>0.941803</td>\n",
       "      <td>0.712490</td>\n",
       "      <td>0.815258</td>\n",
       "      <td>0.660445</td>\n",
       "      <td>0.705638</td>\n",
       "      <td>-0.451096</td>\n",
       "      <td>-0.264139</td>\n",
       "    </tr>\n",
       "    <tr>\n",
       "      <th>2</th>\n",
       "      <td>E02003124</td>\n",
       "      <td>-0.162528</td>\n",
       "      <td>-0.199330</td>\n",
       "      <td>1.0</td>\n",
       "      <td>0.899845</td>\n",
       "      <td>0.845831</td>\n",
       "      <td>0.821287</td>\n",
       "      <td>0.678934</td>\n",
       "      <td>0.716811</td>\n",
       "      <td>-0.342667</td>\n",
       "      <td>-0.373374</td>\n",
       "    </tr>\n",
       "    <tr>\n",
       "      <th>3</th>\n",
       "      <td>E02003125</td>\n",
       "      <td>-0.292066</td>\n",
       "      <td>-0.162610</td>\n",
       "      <td>1.0</td>\n",
       "      <td>0.929999</td>\n",
       "      <td>0.726167</td>\n",
       "      <td>0.754775</td>\n",
       "      <td>0.467399</td>\n",
       "      <td>0.624349</td>\n",
       "      <td>-0.605492</td>\n",
       "      <td>-0.443801</td>\n",
       "    </tr>\n",
       "    <tr>\n",
       "      <th>4</th>\n",
       "      <td>E02003126</td>\n",
       "      <td>-0.163022</td>\n",
       "      <td>-0.131970</td>\n",
       "      <td>1.0</td>\n",
       "      <td>0.952639</td>\n",
       "      <td>0.869677</td>\n",
       "      <td>0.835468</td>\n",
       "      <td>0.736672</td>\n",
       "      <td>0.747830</td>\n",
       "      <td>-0.293751</td>\n",
       "      <td>-0.301495</td>\n",
       "    </tr>\n",
       "    <tr>\n",
       "      <th>...</th>\n",
       "      <td>...</td>\n",
       "      <td>...</td>\n",
       "      <td>...</td>\n",
       "      <td>...</td>\n",
       "      <td>...</td>\n",
       "      <td>...</td>\n",
       "      <td>...</td>\n",
       "      <td>...</td>\n",
       "      <td>...</td>\n",
       "      <td>...</td>\n",
       "      <td>...</td>\n",
       "    </tr>\n",
       "    <tr>\n",
       "      <th>1206</th>\n",
       "      <td>E02006840</td>\n",
       "      <td>0.023800</td>\n",
       "      <td>0.114144</td>\n",
       "      <td>1.0</td>\n",
       "      <td>0.968616</td>\n",
       "      <td>1.126047</td>\n",
       "      <td>1.181341</td>\n",
       "      <td>1.120533</td>\n",
       "      <td>1.208793</td>\n",
       "      <td>0.181964</td>\n",
       "      <td>0.305920</td>\n",
       "    </tr>\n",
       "    <tr>\n",
       "      <th>1207</th>\n",
       "      <td>E02006924</td>\n",
       "      <td>0.167115</td>\n",
       "      <td>0.244759</td>\n",
       "      <td>1.0</td>\n",
       "      <td>0.847176</td>\n",
       "      <td>1.044566</td>\n",
       "      <td>0.955430</td>\n",
       "      <td>1.250526</td>\n",
       "      <td>1.097544</td>\n",
       "      <td>0.285492</td>\n",
       "      <td>0.145770</td>\n",
       "    </tr>\n",
       "    <tr>\n",
       "      <th>1208</th>\n",
       "      <td>E02006925</td>\n",
       "      <td>0.268154</td>\n",
       "      <td>0.249418</td>\n",
       "      <td>1.0</td>\n",
       "      <td>0.942860</td>\n",
       "      <td>1.008300</td>\n",
       "      <td>1.030513</td>\n",
       "      <td>1.003960</td>\n",
       "      <td>1.003886</td>\n",
       "      <td>0.163383</td>\n",
       "      <td>0.154599</td>\n",
       "    </tr>\n",
       "    <tr>\n",
       "      <th>1209</th>\n",
       "      <td>E02006927</td>\n",
       "      <td>0.019738</td>\n",
       "      <td>0.109976</td>\n",
       "      <td>1.0</td>\n",
       "      <td>1.009995</td>\n",
       "      <td>1.032484</td>\n",
       "      <td>1.197407</td>\n",
       "      <td>1.110605</td>\n",
       "      <td>1.117053</td>\n",
       "      <td>0.119853</td>\n",
       "      <td>0.265801</td>\n",
       "    </tr>\n",
       "    <tr>\n",
       "      <th>1210</th>\n",
       "      <td>E02006882</td>\n",
       "      <td>0.091094</td>\n",
       "      <td>0.066095</td>\n",
       "      <td>1.0</td>\n",
       "      <td>0.714083</td>\n",
       "      <td>0.872139</td>\n",
       "      <td>0.852945</td>\n",
       "      <td>0.856380</td>\n",
       "      <td>0.908796</td>\n",
       "      <td>-0.093265</td>\n",
       "      <td>-0.146107</td>\n",
       "    </tr>\n",
       "  </tbody>\n",
       "</table>\n",
       "<p>1211 rows × 11 columns</p>\n",
       "</div>"
      ],
      "text/plain": [
       "       MSOA11CD  ratio_la_median_price_2001  ratio_la_median_price_2011  \\\n",
       "0     E02003122                    0.559537                    0.207816   \n",
       "1     E02003123                   -0.203197                    0.024157   \n",
       "2     E02003124                   -0.162528                   -0.199330   \n",
       "3     E02003125                   -0.292066                   -0.162610   \n",
       "4     E02003126                   -0.163022                   -0.131970   \n",
       "...         ...                         ...                         ...   \n",
       "1206  E02006840                    0.023800                    0.114144   \n",
       "1207  E02006924                    0.167115                    0.244759   \n",
       "1208  E02006925                    0.268154                    0.249418   \n",
       "1209  E02006927                    0.019738                    0.109976   \n",
       "1210  E02006882                    0.091094                    0.066095   \n",
       "\n",
       "      ratio_la_earnings_2001  ratio_la_earnings_2011  ratio_la_nssec_2001  \\\n",
       "0                        1.0                1.177910             1.302179   \n",
       "1                        1.0                0.941803             0.712490   \n",
       "2                        1.0                0.899845             0.845831   \n",
       "3                        1.0                0.929999             0.726167   \n",
       "4                        1.0                0.952639             0.869677   \n",
       "...                      ...                     ...                  ...   \n",
       "1206                     1.0                0.968616             1.126047   \n",
       "1207                     1.0                0.847176             1.044566   \n",
       "1208                     1.0                0.942860             1.008300   \n",
       "1209                     1.0                1.009995             1.032484   \n",
       "1210                     1.0                0.714083             0.872139   \n",
       "\n",
       "      ratio_la_nssec_2011  ratio_la_qualification_2001  \\\n",
       "0                1.408462                     1.268738   \n",
       "1                0.815258                     0.660445   \n",
       "2                0.821287                     0.678934   \n",
       "3                0.754775                     0.467399   \n",
       "4                0.835468                     0.736672   \n",
       "...                   ...                          ...   \n",
       "1206             1.181341                     1.120533   \n",
       "1207             0.955430                     1.250526   \n",
       "1208             1.030513                     1.003960   \n",
       "1209             1.197407                     1.110605   \n",
       "1210             0.852945                     0.856380   \n",
       "\n",
       "      ratio_la_qualification_2011  Score_2001  Score_2011  \n",
       "0                        1.245506    0.639471    0.550915  \n",
       "1                        0.705638   -0.451096   -0.264139  \n",
       "2                        0.716811   -0.342667   -0.373374  \n",
       "3                        0.624349   -0.605492   -0.443801  \n",
       "4                        0.747830   -0.293751   -0.301495  \n",
       "...                           ...         ...         ...  \n",
       "1206                     1.208793    0.181964    0.305920  \n",
       "1207                     1.097544    0.285492    0.145770  \n",
       "1208                     1.003886    0.163383    0.154599  \n",
       "1209                     1.117053    0.119853    0.265801  \n",
       "1210                     0.908796   -0.093265   -0.146107  \n",
       "\n",
       "[1211 rows x 11 columns]"
      ]
     },
     "execution_count": 36,
     "metadata": {},
     "output_type": "execute_result"
    }
   ],
   "source": [
    "# main dataframe\n",
    "df_score"
   ]
  },
  {
   "cell_type": "code",
   "execution_count": 37,
   "metadata": {},
   "outputs": [],
   "source": [
    "df_score.to_csv('output/df_score.csv',index=False)"
   ]
  },
  {
   "cell_type": "markdown",
   "metadata": {},
   "source": [
    "---"
   ]
  },
  {
   "cell_type": "markdown",
   "metadata": {},
   "source": [
    "## Differentiate broad neighbourhood change states of MSOAs"
   ]
  },
  {
   "cell_type": "code",
   "execution_count": 38,
   "metadata": {},
   "outputs": [],
   "source": [
    "df_score = pd.read_csv('output/df_score.csv')"
   ]
  },
  {
   "cell_type": "code",
   "execution_count": 39,
   "metadata": {},
   "outputs": [],
   "source": [
    "#add the name of the MSOA and corresponding LA and Region to the dataset \n",
    "mosa11_to_la=pd.read_csv('data00/msoa11_to_la.csv')\n",
    "\n",
    "df_score = df_score.merge(mosa11_to_la, on='MSOA11CD', how='left')"
   ]
  },
  {
   "cell_type": "code",
   "execution_count": 40,
   "metadata": {},
   "outputs": [
    {
     "name": "stdout",
     "output_type": "stream",
     "text": [
      "<class 'pandas.core.frame.DataFrame'>\n",
      "Int64Index: 1211 entries, 0 to 1210\n",
      "Data columns (total 16 columns):\n",
      " #   Column                       Non-Null Count  Dtype  \n",
      "---  ------                       --------------  -----  \n",
      " 0   MSOA11CD                     1211 non-null   object \n",
      " 1   ratio_la_median_price_2001   1211 non-null   float64\n",
      " 2   ratio_la_median_price_2011   1211 non-null   float64\n",
      " 3   ratio_la_earnings_2001       1211 non-null   float64\n",
      " 4   ratio_la_earnings_2011       1211 non-null   float64\n",
      " 5   ratio_la_nssec_2001          1211 non-null   float64\n",
      " 6   ratio_la_nssec_2011          1211 non-null   float64\n",
      " 7   ratio_la_qualification_2001  1211 non-null   float64\n",
      " 8   ratio_la_qualification_2011  1211 non-null   float64\n",
      " 9   Score_2001                   1211 non-null   float64\n",
      " 10  Score_2011                   1211 non-null   float64\n",
      " 11  MSOA11NM                     1211 non-null   object \n",
      " 12  LAD11CD                      1211 non-null   object \n",
      " 13  LAD11NM                      1211 non-null   object \n",
      " 14  RGN11CD                      1211 non-null   object \n",
      " 15  RGN11NM                      1211 non-null   object \n",
      "dtypes: float64(10), object(6)\n",
      "memory usage: 160.8+ KB\n"
     ]
    }
   ],
   "source": [
    "df_score.info()"
   ]
  },
  {
   "cell_type": "code",
   "execution_count": 41,
   "metadata": {},
   "outputs": [],
   "source": [
    "# assigning ranks to MSOA based on their 2001 & 2011 scores\n",
    "df_score[\"rank_2001\"] = df_score[\"Score_2001\"].rank(ascending=False)\n",
    "df_score[\"rank_2011\"] = df_score[\"Score_2011\"].rank(ascending=False)\n",
    "\n",
    "# quantifying the change in MSOA's ranks between the 2 years\n",
    "df_score[\"rank_chg\"] = df_score[\"rank_2001\"] - df_score[\"rank_2011\"]"
   ]
  },
  {
   "cell_type": "code",
   "execution_count": 42,
   "metadata": {},
   "outputs": [
    {
     "data": {
      "text/plain": [
       "count    1211.000000\n",
       "mean        0.000000\n",
       "std       100.418439\n",
       "min      -529.000000\n",
       "25%       -53.000000\n",
       "50%        -2.000000\n",
       "75%        54.000000\n",
       "max       853.000000\n",
       "Name: rank_chg, dtype: float64"
      ]
     },
     "execution_count": 42,
     "metadata": {},
     "output_type": "execute_result"
    }
   ],
   "source": [
    "# descriptive stats of rank changes\n",
    "df_score[\"rank_chg\"].describe()"
   ]
  },
  {
   "cell_type": "code",
   "execution_count": 43,
   "metadata": {},
   "outputs": [
    {
     "data": {
      "text/plain": [
       "array([[<AxesSubplot:title={'center':'rank_chg'}>]], dtype=object)"
      ]
     },
     "execution_count": 43,
     "metadata": {},
     "output_type": "execute_result"
    },
    {
     "data": {
      "image/png": "[encoded data removed]",
      "text/plain": [
       "<Figure size 432x288 with 1 Axes>"
      ]
     },
     "metadata": {},
     "output_type": "display_data"
    }
   ],
   "source": [
    "df_score.hist(column='rank_chg')"
   ]
  },
  {
   "cell_type": "code",
   "execution_count": 44,
   "metadata": {},
   "outputs": [],
   "source": [
    "# compute z-scores of rank changes\n",
    "\n",
    "from scipy.stats import zscore\n",
    "df_score[\"rank_z_score\"] = df_score[[\"rank_chg\"]].apply(zscore)"
   ]
  },
  {
   "cell_type": "code",
   "execution_count": 45,
   "metadata": {},
   "outputs": [],
   "source": [
    "#  changes in MSOAs' scores\n",
    "df_score[\"score_chg\"]= df_score[\"Score_2011\"] - df_score[\"Score_2001\"]"
   ]
  },
  {
   "cell_type": "code",
   "execution_count": 46,
   "metadata": {},
   "outputs": [
    {
     "data": {
      "text/plain": [
       "count    1211.000000\n",
       "mean       -0.024279\n",
       "std         0.123900\n",
       "min        -0.538718\n",
       "25%        -0.106270\n",
       "50%        -0.026086\n",
       "75%         0.052432\n",
       "max         0.869579\n",
       "Name: score_chg, dtype: float64"
      ]
     },
     "execution_count": 46,
     "metadata": {},
     "output_type": "execute_result"
    }
   ],
   "source": [
    "# descriptive stats of score changes\n",
    "df_score[\"score_chg\"].describe()"
   ]
  },
  {
   "cell_type": "code",
   "execution_count": 47,
   "metadata": {},
   "outputs": [
    {
     "data": {
      "text/plain": [
       "array([[<AxesSubplot:title={'center':'score_chg'}>]], dtype=object)"
      ]
     },
     "execution_count": 47,
     "metadata": {},
     "output_type": "execute_result"
    },
    {
     "data": {
      "image/png": "[encoded data removed]",
      "text/plain": [
       "<Figure size 432x288 with 1 Axes>"
      ]
     },
     "metadata": {},
     "output_type": "display_data"
    }
   ],
   "source": [
    "matplotlib.style.use('ggplot')\n",
    "df_score.hist(column='score_chg')\n",
    "#plt.savefig('tplot/p1-scorechage-his.png',dpi = 200,bbox_inches = 'tight')"
   ]
  },
  {
   "cell_type": "code",
   "execution_count": 48,
   "metadata": {},
   "outputs": [],
   "source": [
    "# compute z-scores of score changes\n",
    "df_score[\"score_z_score\"] = df_score[[\"score_chg\"]].apply(zscore)"
   ]
  },
  {
   "cell_type": "code",
   "execution_count": 49,
   "metadata": {},
   "outputs": [
    {
     "name": "stderr",
     "output_type": "stream",
     "text": [
      "/opt/conda/envs/sds2020/lib/python3.7/site-packages/ipykernel_launcher.py:11: SettingWithCopyWarning: \n",
      "A value is trying to be set on a copy of a slice from a DataFrame\n",
      "\n",
      "See the caveats in the documentation: https://pandas.pydata.org/pandas-docs/stable/user_guide/indexing.html#returning-a-view-versus-a-copy\n",
      "  # This is added back by InteractiveShellApp.init_path()\n",
      "/opt/conda/envs/sds2020/lib/python3.7/site-packages/ipykernel_launcher.py:13: SettingWithCopyWarning: \n",
      "A value is trying to be set on a copy of a slice from a DataFrame\n",
      "\n",
      "See the caveats in the documentation: https://pandas.pydata.org/pandas-docs/stable/user_guide/indexing.html#returning-a-view-versus-a-copy\n",
      "  del sys.path[0]\n"
     ]
    }
   ],
   "source": [
    "##Yee and Dennett (2020)'s strategy\n",
    "\n",
    "# assign MSOA status based on: \n",
    "# (1) z-scores of rank changes (z<-1 signify that n'hood is in decline (DEC), -1<z<1 signifies that n'hood is stable (STB), z>1 signifies that n'hood is in ascension (ASC))\n",
    "# (2) changes in MSOAs' scores are within the top or bottom 5th percentile (top 5th percentile: 'ASC' and bottom 5th percentile: 'DEC')\n",
    "\n",
    "df_score[\"status\"] = \"STB\"\n",
    "\n",
    "for i in range(len(df_score)):\n",
    "    if df_score[\"rank_z_score\"][i] > 1 or df_score[\"score_chg\"][i] > df_score[\"score_chg\"].quantile(0.95):\n",
    "        df_score[\"status\"][i] = \"ASC\"\n",
    "    elif df_score[\"rank_z_score\"][i] < -1 or df_score[\"score_chg\"][i] < df_score[\"score_chg\"].quantile(0.05):\n",
    "        df_score[\"status\"][i] = \"DEC\""
   ]
  },
  {
   "cell_type": "code",
   "execution_count": 50,
   "metadata": {},
   "outputs": [
    {
     "name": "stderr",
     "output_type": "stream",
     "text": [
      "/opt/conda/envs/sds2020/lib/python3.7/site-packages/ipykernel_launcher.py:7: SettingWithCopyWarning: \n",
      "A value is trying to be set on a copy of a slice from a DataFrame\n",
      "\n",
      "See the caveats in the documentation: https://pandas.pydata.org/pandas-docs/stable/user_guide/indexing.html#returning-a-view-versus-a-copy\n",
      "  import sys\n",
      "/opt/conda/envs/sds2020/lib/python3.7/site-packages/ipykernel_launcher.py:9: SettingWithCopyWarning: \n",
      "A value is trying to be set on a copy of a slice from a DataFrame\n",
      "\n",
      "See the caveats in the documentation: https://pandas.pydata.org/pandas-docs/stable/user_guide/indexing.html#returning-a-view-versus-a-copy\n",
      "  if __name__ == '__main__':\n"
     ]
    }
   ],
   "source": [
    "#My strategy\n",
    "\n",
    "df_score[\"status2\"] = \"STB\"\n",
    "\n",
    "for i in range(len(df_score)):\n",
    "    if df_score[\"score_z_score\"][i]> 1:\n",
    "        df_score[\"status2\"][i] = \"ASC\"\n",
    "    elif df_score[\"score_z_score\"][i]< -1:\n",
    "        df_score[\"status2\"][i] = \"DEC\""
   ]
  },
  {
   "cell_type": "code",
   "execution_count": 51,
   "metadata": {},
   "outputs": [
    {
     "data": {
      "text/html": [
       "<div>\n",
       "<style scoped>\n",
       "    .dataframe tbody tr th:only-of-type {\n",
       "        vertical-align: middle;\n",
       "    }\n",
       "\n",
       "    .dataframe tbody tr th {\n",
       "        vertical-align: top;\n",
       "    }\n",
       "\n",
       "    .dataframe thead th {\n",
       "        text-align: right;\n",
       "    }\n",
       "</style>\n",
       "<table border=\"1\" class=\"dataframe\">\n",
       "  <thead>\n",
       "    <tr style=\"text-align: right;\">\n",
       "      <th></th>\n",
       "      <th>MSOA11CD</th>\n",
       "      <th>ratio_la_median_price_2001</th>\n",
       "      <th>ratio_la_median_price_2011</th>\n",
       "      <th>ratio_la_earnings_2001</th>\n",
       "      <th>ratio_la_earnings_2011</th>\n",
       "      <th>ratio_la_nssec_2001</th>\n",
       "      <th>ratio_la_nssec_2011</th>\n",
       "      <th>ratio_la_qualification_2001</th>\n",
       "      <th>ratio_la_qualification_2011</th>\n",
       "      <th>Score_2001</th>\n",
       "      <th>Score_2011</th>\n",
       "      <th>MSOA11NM</th>\n",
       "      <th>LAD11CD</th>\n",
       "      <th>LAD11NM</th>\n",
       "      <th>RGN11CD</th>\n",
       "      <th>RGN11NM</th>\n",
       "      <th>rank_2001</th>\n",
       "      <th>rank_2011</th>\n",
       "      <th>rank_chg</th>\n",
       "      <th>rank_z_score</th>\n",
       "      <th>score_chg</th>\n",
       "      <th>score_z_score</th>\n",
       "      <th>status</th>\n",
       "      <th>status2</th>\n",
       "    </tr>\n",
       "  </thead>\n",
       "  <tbody>\n",
       "    <tr>\n",
       "      <th>0</th>\n",
       "      <td>E02003122</td>\n",
       "      <td>0.559537</td>\n",
       "      <td>0.207816</td>\n",
       "      <td>1.0</td>\n",
       "      <td>1.177910</td>\n",
       "      <td>1.302179</td>\n",
       "      <td>1.408462</td>\n",
       "      <td>1.268738</td>\n",
       "      <td>1.245506</td>\n",
       "      <td>0.639471</td>\n",
       "      <td>0.550915</td>\n",
       "      <td>Plymouth 001</td>\n",
       "      <td>E06000026</td>\n",
       "      <td>Plymouth</td>\n",
       "      <td>E12000009</td>\n",
       "      <td>South West</td>\n",
       "      <td>87.0</td>\n",
       "      <td>125.0</td>\n",
       "      <td>-38.0</td>\n",
       "      <td>-0.378573</td>\n",
       "      <td>-0.088555</td>\n",
       "      <td>-0.518994</td>\n",
       "      <td>STB</td>\n",
       "      <td>STB</td>\n",
       "    </tr>\n",
       "    <tr>\n",
       "      <th>1</th>\n",
       "      <td>E02003123</td>\n",
       "      <td>-0.203197</td>\n",
       "      <td>0.024157</td>\n",
       "      <td>1.0</td>\n",
       "      <td>0.941803</td>\n",
       "      <td>0.712490</td>\n",
       "      <td>0.815258</td>\n",
       "      <td>0.660445</td>\n",
       "      <td>0.705638</td>\n",
       "      <td>-0.451096</td>\n",
       "      <td>-0.264139</td>\n",
       "      <td>Plymouth 002</td>\n",
       "      <td>E06000026</td>\n",
       "      <td>Plymouth</td>\n",
       "      <td>E12000009</td>\n",
       "      <td>South West</td>\n",
       "      <td>1058.0</td>\n",
       "      <td>861.0</td>\n",
       "      <td>197.0</td>\n",
       "      <td>1.962602</td>\n",
       "      <td>0.186957</td>\n",
       "      <td>1.705592</td>\n",
       "      <td>ASC</td>\n",
       "      <td>ASC</td>\n",
       "    </tr>\n",
       "    <tr>\n",
       "      <th>2</th>\n",
       "      <td>E02003124</td>\n",
       "      <td>-0.162528</td>\n",
       "      <td>-0.199330</td>\n",
       "      <td>1.0</td>\n",
       "      <td>0.899845</td>\n",
       "      <td>0.845831</td>\n",
       "      <td>0.821287</td>\n",
       "      <td>0.678934</td>\n",
       "      <td>0.716811</td>\n",
       "      <td>-0.342667</td>\n",
       "      <td>-0.373374</td>\n",
       "      <td>Plymouth 003</td>\n",
       "      <td>E06000026</td>\n",
       "      <td>Plymouth</td>\n",
       "      <td>E12000009</td>\n",
       "      <td>South West</td>\n",
       "      <td>973.0</td>\n",
       "      <td>942.0</td>\n",
       "      <td>31.0</td>\n",
       "      <td>0.308836</td>\n",
       "      <td>-0.030707</td>\n",
       "      <td>-0.051903</td>\n",
       "      <td>STB</td>\n",
       "      <td>STB</td>\n",
       "    </tr>\n",
       "    <tr>\n",
       "      <th>3</th>\n",
       "      <td>E02003125</td>\n",
       "      <td>-0.292066</td>\n",
       "      <td>-0.162610</td>\n",
       "      <td>1.0</td>\n",
       "      <td>0.929999</td>\n",
       "      <td>0.726167</td>\n",
       "      <td>0.754775</td>\n",
       "      <td>0.467399</td>\n",
       "      <td>0.624349</td>\n",
       "      <td>-0.605492</td>\n",
       "      <td>-0.443801</td>\n",
       "      <td>Plymouth 004</td>\n",
       "      <td>E06000026</td>\n",
       "      <td>Plymouth</td>\n",
       "      <td>E12000009</td>\n",
       "      <td>South West</td>\n",
       "      <td>1142.0</td>\n",
       "      <td>1003.0</td>\n",
       "      <td>139.0</td>\n",
       "      <td>1.384780</td>\n",
       "      <td>0.161691</td>\n",
       "      <td>1.501588</td>\n",
       "      <td>ASC</td>\n",
       "      <td>ASC</td>\n",
       "    </tr>\n",
       "    <tr>\n",
       "      <th>4</th>\n",
       "      <td>E02003126</td>\n",
       "      <td>-0.163022</td>\n",
       "      <td>-0.131970</td>\n",
       "      <td>1.0</td>\n",
       "      <td>0.952639</td>\n",
       "      <td>0.869677</td>\n",
       "      <td>0.835468</td>\n",
       "      <td>0.736672</td>\n",
       "      <td>0.747830</td>\n",
       "      <td>-0.293751</td>\n",
       "      <td>-0.301495</td>\n",
       "      <td>Plymouth 005</td>\n",
       "      <td>E06000026</td>\n",
       "      <td>Plymouth</td>\n",
       "      <td>E12000009</td>\n",
       "      <td>South West</td>\n",
       "      <td>929.0</td>\n",
       "      <td>891.0</td>\n",
       "      <td>38.0</td>\n",
       "      <td>0.378573</td>\n",
       "      <td>-0.007744</td>\n",
       "      <td>0.133511</td>\n",
       "      <td>STB</td>\n",
       "      <td>STB</td>\n",
       "    </tr>\n",
       "    <tr>\n",
       "      <th>5</th>\n",
       "      <td>E02003127</td>\n",
       "      <td>-0.219061</td>\n",
       "      <td>-0.243007</td>\n",
       "      <td>1.0</td>\n",
       "      <td>0.844138</td>\n",
       "      <td>0.670769</td>\n",
       "      <td>0.696324</td>\n",
       "      <td>0.500054</td>\n",
       "      <td>0.539160</td>\n",
       "      <td>-0.581349</td>\n",
       "      <td>-0.588008</td>\n",
       "      <td>Plymouth 006</td>\n",
       "      <td>E06000026</td>\n",
       "      <td>Plymouth</td>\n",
       "      <td>E12000009</td>\n",
       "      <td>South West</td>\n",
       "      <td>1131.0</td>\n",
       "      <td>1100.0</td>\n",
       "      <td>31.0</td>\n",
       "      <td>0.308836</td>\n",
       "      <td>-0.006659</td>\n",
       "      <td>0.142270</td>\n",
       "      <td>STB</td>\n",
       "      <td>STB</td>\n",
       "    </tr>\n",
       "    <tr>\n",
       "      <th>6</th>\n",
       "      <td>E02003128</td>\n",
       "      <td>0.148110</td>\n",
       "      <td>-0.149314</td>\n",
       "      <td>1.0</td>\n",
       "      <td>0.914192</td>\n",
       "      <td>0.690620</td>\n",
       "      <td>0.814331</td>\n",
       "      <td>0.518831</td>\n",
       "      <td>0.692137</td>\n",
       "      <td>-0.376778</td>\n",
       "      <td>-0.364690</td>\n",
       "      <td>Plymouth 007</td>\n",
       "      <td>E06000026</td>\n",
       "      <td>Plymouth</td>\n",
       "      <td>E12000009</td>\n",
       "      <td>South West</td>\n",
       "      <td>1007.0</td>\n",
       "      <td>935.0</td>\n",
       "      <td>72.0</td>\n",
       "      <td>0.717296</td>\n",
       "      <td>0.012088</td>\n",
       "      <td>0.293636</td>\n",
       "      <td>STB</td>\n",
       "      <td>STB</td>\n",
       "    </tr>\n",
       "    <tr>\n",
       "      <th>7</th>\n",
       "      <td>E02003129</td>\n",
       "      <td>0.259056</td>\n",
       "      <td>0.207816</td>\n",
       "      <td>1.0</td>\n",
       "      <td>1.101732</td>\n",
       "      <td>1.336337</td>\n",
       "      <td>1.328560</td>\n",
       "      <td>1.108824</td>\n",
       "      <td>1.096815</td>\n",
       "      <td>0.412547</td>\n",
       "      <td>0.397245</td>\n",
       "      <td>Plymouth 008</td>\n",
       "      <td>E06000026</td>\n",
       "      <td>Plymouth</td>\n",
       "      <td>E12000009</td>\n",
       "      <td>South West</td>\n",
       "      <td>188.0</td>\n",
       "      <td>196.0</td>\n",
       "      <td>-8.0</td>\n",
       "      <td>-0.079700</td>\n",
       "      <td>-0.015302</td>\n",
       "      <td>0.072481</td>\n",
       "      <td>STB</td>\n",
       "      <td>STB</td>\n",
       "    </tr>\n",
       "    <tr>\n",
       "      <th>8</th>\n",
       "      <td>E02003130</td>\n",
       "      <td>-0.303960</td>\n",
       "      <td>-0.136266</td>\n",
       "      <td>1.0</td>\n",
       "      <td>0.900486</td>\n",
       "      <td>0.690717</td>\n",
       "      <td>0.722734</td>\n",
       "      <td>0.513707</td>\n",
       "      <td>0.602866</td>\n",
       "      <td>-0.603454</td>\n",
       "      <td>-0.468790</td>\n",
       "      <td>Plymouth 009</td>\n",
       "      <td>E06000026</td>\n",
       "      <td>Plymouth</td>\n",
       "      <td>E12000009</td>\n",
       "      <td>South West</td>\n",
       "      <td>1140.0</td>\n",
       "      <td>1027.0</td>\n",
       "      <td>113.0</td>\n",
       "      <td>1.125756</td>\n",
       "      <td>0.134664</td>\n",
       "      <td>1.283361</td>\n",
       "      <td>ASC</td>\n",
       "      <td>ASC</td>\n",
       "    </tr>\n",
       "    <tr>\n",
       "      <th>9</th>\n",
       "      <td>E02003131</td>\n",
       "      <td>-0.182573</td>\n",
       "      <td>-0.149314</td>\n",
       "      <td>1.0</td>\n",
       "      <td>0.924723</td>\n",
       "      <td>0.779485</td>\n",
       "      <td>0.845181</td>\n",
       "      <td>0.570643</td>\n",
       "      <td>0.626732</td>\n",
       "      <td>-0.457267</td>\n",
       "      <td>-0.384707</td>\n",
       "      <td>Plymouth 010</td>\n",
       "      <td>E06000026</td>\n",
       "      <td>Plymouth</td>\n",
       "      <td>E12000009</td>\n",
       "      <td>South West</td>\n",
       "      <td>1062.0</td>\n",
       "      <td>955.0</td>\n",
       "      <td>107.0</td>\n",
       "      <td>1.065982</td>\n",
       "      <td>0.072560</td>\n",
       "      <td>0.781914</td>\n",
       "      <td>ASC</td>\n",
       "      <td>STB</td>\n",
       "    </tr>\n",
       "  </tbody>\n",
       "</table>\n",
       "</div>"
      ],
      "text/plain": [
       "    MSOA11CD  ratio_la_median_price_2001  ratio_la_median_price_2011  \\\n",
       "0  E02003122                    0.559537                    0.207816   \n",
       "1  E02003123                   -0.203197                    0.024157   \n",
       "2  E02003124                   -0.162528                   -0.199330   \n",
       "3  E02003125                   -0.292066                   -0.162610   \n",
       "4  E02003126                   -0.163022                   -0.131970   \n",
       "5  E02003127                   -0.219061                   -0.243007   \n",
       "6  E02003128                    0.148110                   -0.149314   \n",
       "7  E02003129                    0.259056                    0.207816   \n",
       "8  E02003130                   -0.303960                   -0.136266   \n",
       "9  E02003131                   -0.182573                   -0.149314   \n",
       "\n",
       "   ratio_la_earnings_2001  ratio_la_earnings_2011  ratio_la_nssec_2001  \\\n",
       "0                     1.0                1.177910             1.302179   \n",
       "1                     1.0                0.941803             0.712490   \n",
       "2                     1.0                0.899845             0.845831   \n",
       "3                     1.0                0.929999             0.726167   \n",
       "4                     1.0                0.952639             0.869677   \n",
       "5                     1.0                0.844138             0.670769   \n",
       "6                     1.0                0.914192             0.690620   \n",
       "7                     1.0                1.101732             1.336337   \n",
       "8                     1.0                0.900486             0.690717   \n",
       "9                     1.0                0.924723             0.779485   \n",
       "\n",
       "   ratio_la_nssec_2011  ratio_la_qualification_2001  \\\n",
       "0             1.408462                     1.268738   \n",
       "1             0.815258                     0.660445   \n",
       "2             0.821287                     0.678934   \n",
       "3             0.754775                     0.467399   \n",
       "4             0.835468                     0.736672   \n",
       "5             0.696324                     0.500054   \n",
       "6             0.814331                     0.518831   \n",
       "7             1.328560                     1.108824   \n",
       "8             0.722734                     0.513707   \n",
       "9             0.845181                     0.570643   \n",
       "\n",
       "   ratio_la_qualification_2011  Score_2001  Score_2011      MSOA11NM  \\\n",
       "0                     1.245506    0.639471    0.550915  Plymouth 001   \n",
       "1                     0.705638   -0.451096   -0.264139  Plymouth 002   \n",
       "2                     0.716811   -0.342667   -0.373374  Plymouth 003   \n",
       "3                     0.624349   -0.605492   -0.443801  Plymouth 004   \n",
       "4                     0.747830   -0.293751   -0.301495  Plymouth 005   \n",
       "5                     0.539160   -0.581349   -0.588008  Plymouth 006   \n",
       "6                     0.692137   -0.376778   -0.364690  Plymouth 007   \n",
       "7                     1.096815    0.412547    0.397245  Plymouth 008   \n",
       "8                     0.602866   -0.603454   -0.468790  Plymouth 009   \n",
       "9                     0.626732   -0.457267   -0.384707  Plymouth 010   \n",
       "\n",
       "     LAD11CD   LAD11NM    RGN11CD     RGN11NM  rank_2001  rank_2011  rank_chg  \\\n",
       "0  E06000026  Plymouth  E12000009  South West       87.0      125.0     -38.0   \n",
       "1  E06000026  Plymouth  E12000009  South West     1058.0      861.0     197.0   \n",
       "2  E06000026  Plymouth  E12000009  South West      973.0      942.0      31.0   \n",
       "3  E06000026  Plymouth  E12000009  South West     1142.0     1003.0     139.0   \n",
       "4  E06000026  Plymouth  E12000009  South West      929.0      891.0      38.0   \n",
       "5  E06000026  Plymouth  E12000009  South West     1131.0     1100.0      31.0   \n",
       "6  E06000026  Plymouth  E12000009  South West     1007.0      935.0      72.0   \n",
       "7  E06000026  Plymouth  E12000009  South West      188.0      196.0      -8.0   \n",
       "8  E06000026  Plymouth  E12000009  South West     1140.0     1027.0     113.0   \n",
       "9  E06000026  Plymouth  E12000009  South West     1062.0      955.0     107.0   \n",
       "\n",
       "   rank_z_score  score_chg  score_z_score status status2  \n",
       "0     -0.378573  -0.088555      -0.518994    STB     STB  \n",
       "1      1.962602   0.186957       1.705592    ASC     ASC  \n",
       "2      0.308836  -0.030707      -0.051903    STB     STB  \n",
       "3      1.384780   0.161691       1.501588    ASC     ASC  \n",
       "4      0.378573  -0.007744       0.133511    STB     STB  \n",
       "5      0.308836  -0.006659       0.142270    STB     STB  \n",
       "6      0.717296   0.012088       0.293636    STB     STB  \n",
       "7     -0.079700  -0.015302       0.072481    STB     STB  \n",
       "8      1.125756   0.134664       1.283361    ASC     ASC  \n",
       "9      1.065982   0.072560       0.781914    ASC     STB  "
      ]
     },
     "execution_count": 51,
     "metadata": {},
     "output_type": "execute_result"
    }
   ],
   "source": [
    "# check dataframe\n",
    "# settings to display all columns\n",
    "pd.set_option(\"display.max_columns\", None)\n",
    "df_score.head(10)"
   ]
  },
  {
   "cell_type": "code",
   "execution_count": 52,
   "metadata": {},
   "outputs": [
    {
     "data": {
      "text/plain": [
       "status\n",
       "ASC    172\n",
       "DEC    167\n",
       "STB    872\n",
       "dtype: int64"
      ]
     },
     "execution_count": 52,
     "metadata": {},
     "output_type": "execute_result"
    }
   ],
   "source": [
    "# size of different MSOA status groups--Yee and Dennett (2020)'s strategy\n",
    "df_score.groupby(df_score[\"status\"]).size()"
   ]
  },
  {
   "cell_type": "code",
   "execution_count": 53,
   "metadata": {},
   "outputs": [
    {
     "data": {
      "text/plain": [
       "status2\n",
       "ASC    177\n",
       "DEC    169\n",
       "STB    865\n",
       "dtype: int64"
      ]
     },
     "execution_count": 53,
     "metadata": {},
     "output_type": "execute_result"
    }
   ],
   "source": [
    "# size of different MSOA status groups--my strategy\n",
    "df_score.groupby(df_score[\"status2\"]).size()"
   ]
  },
  {
   "cell_type": "code",
   "execution_count": 54,
   "metadata": {},
   "outputs": [],
   "source": [
    "# output to file\n",
    "df_score.to_csv('output/pca_score_analysis.csv',index=False)"
   ]
  },
  {
   "cell_type": "markdown",
   "metadata": {},
   "source": [
    "---"
   ]
  },
  {
   "cell_type": "markdown",
   "metadata": {},
   "source": [
    "## Check the correlation between SHO level and different neighbourhood change status"
   ]
  },
  {
   "cell_type": "code",
   "execution_count": 55,
   "metadata": {},
   "outputs": [],
   "source": [
    "swandlondon_pca = pd.read_csv('output/pca_score_analysis.csv')"
   ]
  },
  {
   "cell_type": "code",
   "execution_count": 56,
   "metadata": {},
   "outputs": [
    {
     "name": "stdout",
     "output_type": "stream",
     "text": [
      "<class 'pandas.core.frame.DataFrame'>\n",
      "RangeIndex: 1211 entries, 0 to 1210\n",
      "Data columns (total 24 columns):\n",
      " #   Column                       Non-Null Count  Dtype  \n",
      "---  ------                       --------------  -----  \n",
      " 0   MSOA11CD                     1211 non-null   object \n",
      " 1   ratio_la_median_price_2001   1211 non-null   float64\n",
      " 2   ratio_la_median_price_2011   1211 non-null   float64\n",
      " 3   ratio_la_earnings_2001       1211 non-null   float64\n",
      " 4   ratio_la_earnings_2011       1211 non-null   float64\n",
      " 5   ratio_la_nssec_2001          1211 non-null   float64\n",
      " 6   ratio_la_nssec_2011          1211 non-null   float64\n",
      " 7   ratio_la_qualification_2001  1211 non-null   float64\n",
      " 8   ratio_la_qualification_2011  1211 non-null   float64\n",
      " 9   Score_2001                   1211 non-null   float64\n",
      " 10  Score_2011                   1211 non-null   float64\n",
      " 11  MSOA11NM                     1211 non-null   object \n",
      " 12  LAD11CD                      1211 non-null   object \n",
      " 13  LAD11NM                      1211 non-null   object \n",
      " 14  RGN11CD                      1211 non-null   object \n",
      " 15  RGN11NM                      1211 non-null   object \n",
      " 16  rank_2001                    1211 non-null   float64\n",
      " 17  rank_2011                    1211 non-null   float64\n",
      " 18  rank_chg                     1211 non-null   float64\n",
      " 19  rank_z_score                 1211 non-null   float64\n",
      " 20  score_chg                    1211 non-null   float64\n",
      " 21  score_z_score                1211 non-null   float64\n",
      " 22  status                       1211 non-null   object \n",
      " 23  status2                      1211 non-null   object \n",
      "dtypes: float64(16), object(8)\n",
      "memory usage: 227.2+ KB\n"
     ]
    }
   ],
   "source": [
    "swandlondon_pca.info()"
   ]
  },
  {
   "cell_type": "code",
   "execution_count": 57,
   "metadata": {},
   "outputs": [],
   "source": [
    "cor1=swandlondon_pca.iloc[:,[0,9,10,20,21,16,17,18,19,23]].copy()"
   ]
  },
  {
   "cell_type": "code",
   "execution_count": 58,
   "metadata": {},
   "outputs": [
    {
     "name": "stdout",
     "output_type": "stream",
     "text": [
      "<class 'pandas.core.frame.DataFrame'>\n",
      "RangeIndex: 1211 entries, 0 to 1210\n",
      "Data columns (total 10 columns):\n",
      " #   Column         Non-Null Count  Dtype  \n",
      "---  ------         --------------  -----  \n",
      " 0   MSOA11CD       1211 non-null   object \n",
      " 1   Score_2001     1211 non-null   float64\n",
      " 2   Score_2011     1211 non-null   float64\n",
      " 3   score_chg      1211 non-null   float64\n",
      " 4   score_z_score  1211 non-null   float64\n",
      " 5   rank_2001      1211 non-null   float64\n",
      " 6   rank_2011      1211 non-null   float64\n",
      " 7   rank_chg       1211 non-null   float64\n",
      " 8   rank_z_score   1211 non-null   float64\n",
      " 9   status2        1211 non-null   object \n",
      "dtypes: float64(8), object(2)\n",
      "memory usage: 94.7+ KB\n"
     ]
    }
   ],
   "source": [
    "cor1.info()"
   ]
  },
  {
   "cell_type": "code",
   "execution_count": 59,
   "metadata": {},
   "outputs": [],
   "source": [
    "swandlondon_core = pd.read_csv('output/swandlondon_core.csv')"
   ]
  },
  {
   "cell_type": "code",
   "execution_count": 60,
   "metadata": {},
   "outputs": [
    {
     "name": "stdout",
     "output_type": "stream",
     "text": [
      "<class 'pandas.core.frame.DataFrame'>\n",
      "RangeIndex: 1211 entries, 0 to 1210\n",
      "Data columns (total 45 columns):\n",
      " #   Column                               Non-Null Count  Dtype  \n",
      "---  ------                               --------------  -----  \n",
      " 0   MSOA11CD                             1211 non-null   object \n",
      " 1   MSOA11NM                             1211 non-null   object \n",
      " 2   LAD11CD                              1211 non-null   object \n",
      " 3   LAD11NM                              1211 non-null   object \n",
      " 4   RGN11CD                              1211 non-null   object \n",
      " 5   RGN11NM                              1211 non-null   object \n",
      " 6   MSOA01CD                             1211 non-null   object \n",
      " 7   MSOA01NM                             1211 non-null   object \n",
      " 8   CHGIND                               1211 non-null   object \n",
      " 9   ratio_la_median_price_2001           1211 non-null   float64\n",
      " 10  ratio_la_median_price_2011           1211 non-null   float64\n",
      " 11  ratio_r_median_price_2001            1211 non-null   float64\n",
      " 12  ratio_r_median_price_2011            1211 non-null   float64\n",
      " 13  ratio_la_earnings_2001               1211 non-null   float64\n",
      " 14  ratio_la_earnings_2011               1211 non-null   float64\n",
      " 15  ratio_r_earnings_2001                1211 non-null   float64\n",
      " 16  ratio_r_earnings_2011                1211 non-null   float64\n",
      " 17  ratio_la_nssec_2001                  1211 non-null   float64\n",
      " 18  ratio_la_nssec_2011                  1211 non-null   float64\n",
      " 19  ratio_r_nssec_2001                   1211 non-null   float64\n",
      " 20  ratio_r_nssec_2011                   1211 non-null   float64\n",
      " 21  ratio_la_qualification_2001          1211 non-null   float64\n",
      " 22  ratio_la_qualification_2011          1211 non-null   float64\n",
      " 23  ratio_r_qualification_2001           1211 non-null   float64\n",
      " 24  ratio_r_qualification_2011           1211 non-null   float64\n",
      " 25  ratio_la_space_vacant_2001           1211 non-null   float64\n",
      " 26  ratio_la_space_vacant_2011           1211 non-null   float64\n",
      " 27  ratio_la_no_children_2001            1211 non-null   float64\n",
      " 28  ratio_la_no_children_2011            1211 non-null   float64\n",
      " 29  ratio_la_dependent_children_2001     1211 non-null   float64\n",
      " 30  ratio_la_dependent_children_2011     1211 non-null   float64\n",
      " 31  ratio_la_nondependent_children_2001  1211 non-null   float64\n",
      " 32  ratio_la_nondependent_children_2011  1211 non-null   float64\n",
      " 33  ratio_la_retired_2001                1211 non-null   float64\n",
      " 34  ratio_la_retired_2011                1211 non-null   float64\n",
      " 35  ratio_la_student_2001                1211 non-null   float64\n",
      " 36  ratio_la_student_2011                1211 non-null   float64\n",
      " 37  ratio_la_newlybuilt_sale_2001        1211 non-null   float64\n",
      " 38  ratio_la_newlybuilt_sale_2011        1211 non-null   float64\n",
      " 39  ratio_la_owned_2001                  1211 non-null   float64\n",
      " 40  ratio_la_owned_2011                  1211 non-null   float64\n",
      " 41  ratio_la_rented_2001                 1211 non-null   float64\n",
      " 42  ratio_la_rented_2011                 1211 non-null   float64\n",
      " 43  ratio_la_migrants_2001               1211 non-null   float64\n",
      " 44  ratio_la_migrants_2011               1211 non-null   float64\n",
      "dtypes: float64(36), object(9)\n",
      "memory usage: 425.9+ KB\n"
     ]
    }
   ],
   "source": [
    "swandlondon_core.info()"
   ]
  },
  {
   "cell_type": "code",
   "execution_count": 61,
   "metadata": {},
   "outputs": [],
   "source": [
    "cor2=swandlondon_core.iloc[:,[0,1,2,3,4,5,6,7,25,26]].copy()"
   ]
  },
  {
   "cell_type": "code",
   "execution_count": 62,
   "metadata": {},
   "outputs": [
    {
     "name": "stdout",
     "output_type": "stream",
     "text": [
      "<class 'pandas.core.frame.DataFrame'>\n",
      "RangeIndex: 1211 entries, 0 to 1210\n",
      "Data columns (total 10 columns):\n",
      " #   Column                      Non-Null Count  Dtype  \n",
      "---  ------                      --------------  -----  \n",
      " 0   MSOA11CD                    1211 non-null   object \n",
      " 1   MSOA11NM                    1211 non-null   object \n",
      " 2   LAD11CD                     1211 non-null   object \n",
      " 3   LAD11NM                     1211 non-null   object \n",
      " 4   RGN11CD                     1211 non-null   object \n",
      " 5   RGN11NM                     1211 non-null   object \n",
      " 6   MSOA01CD                    1211 non-null   object \n",
      " 7   MSOA01NM                    1211 non-null   object \n",
      " 8   ratio_la_space_vacant_2001  1211 non-null   float64\n",
      " 9   ratio_la_space_vacant_2011  1211 non-null   float64\n",
      "dtypes: float64(2), object(8)\n",
      "memory usage: 94.7+ KB\n"
     ]
    }
   ],
   "source": [
    "cor2.info()"
   ]
  },
  {
   "cell_type": "code",
   "execution_count": 63,
   "metadata": {},
   "outputs": [],
   "source": [
    "cor = cor1.merge(cor2, on='MSOA11CD', how='left')"
   ]
  },
  {
   "cell_type": "code",
   "execution_count": 64,
   "metadata": {},
   "outputs": [
    {
     "name": "stdout",
     "output_type": "stream",
     "text": [
      "<class 'pandas.core.frame.DataFrame'>\n",
      "Int64Index: 1211 entries, 0 to 1210\n",
      "Data columns (total 19 columns):\n",
      " #   Column                      Non-Null Count  Dtype  \n",
      "---  ------                      --------------  -----  \n",
      " 0   MSOA11CD                    1211 non-null   object \n",
      " 1   Score_2001                  1211 non-null   float64\n",
      " 2   Score_2011                  1211 non-null   float64\n",
      " 3   score_chg                   1211 non-null   float64\n",
      " 4   score_z_score               1211 non-null   float64\n",
      " 5   rank_2001                   1211 non-null   float64\n",
      " 6   rank_2011                   1211 non-null   float64\n",
      " 7   rank_chg                    1211 non-null   float64\n",
      " 8   rank_z_score                1211 non-null   float64\n",
      " 9   status2                     1211 non-null   object \n",
      " 10  MSOA11NM                    1211 non-null   object \n",
      " 11  LAD11CD                     1211 non-null   object \n",
      " 12  LAD11NM                     1211 non-null   object \n",
      " 13  RGN11CD                     1211 non-null   object \n",
      " 14  RGN11NM                     1211 non-null   object \n",
      " 15  MSOA01CD                    1211 non-null   object \n",
      " 16  MSOA01NM                    1211 non-null   object \n",
      " 17  ratio_la_space_vacant_2001  1211 non-null   float64\n",
      " 18  ratio_la_space_vacant_2011  1211 non-null   float64\n",
      "dtypes: float64(10), object(9)\n",
      "memory usage: 189.2+ KB\n"
     ]
    }
   ],
   "source": [
    "cor.info()"
   ]
  },
  {
   "cell_type": "code",
   "execution_count": 65,
   "metadata": {},
   "outputs": [],
   "source": [
    "cor['ratio_space_vacant_chg'] = (cor['ratio_la_space_vacant_2011'] - cor['ratio_la_space_vacant_2001'])"
   ]
  },
  {
   "cell_type": "code",
   "execution_count": 66,
   "metadata": {},
   "outputs": [],
   "source": [
    "asc=cor[cor[\"status2\"] == \"ASC\"].copy()\n",
    "notasc=cor[(cor[\"status2\"] == \"DEC\") | (cor[\"status2\"] ==\"STB\")].copy()"
   ]
  },
  {
   "cell_type": "code",
   "execution_count": 67,
   "metadata": {},
   "outputs": [
    {
     "data": {
      "text/plain": [
       "<AxesSubplot:xlabel='ratio_space_vacant_chg', ylabel='score_chg'>"
      ]
     },
     "execution_count": 67,
     "metadata": {},
     "output_type": "execute_result"
    },
    {
     "data": {
      "image/png": "[encoded data removed]",
      "text/plain": [
       "<Figure size 432x288 with 1 Axes>"
      ]
     },
     "metadata": {},
     "output_type": "display_data"
    }
   ],
   "source": [
    "asc_cor=asc[['ratio_space_vacant_chg', 'score_chg']]\n",
    "asc_cor.plot.scatter(x='ratio_space_vacant_chg',y='score_chg', c='DarkBlue')\n",
    "#plt.savefig('tplot/p1-cor-asc.png',dpi = 200,bbox_inches = 'tight')"
   ]
  },
  {
   "cell_type": "code",
   "execution_count": 68,
   "metadata": {},
   "outputs": [
    {
     "data": {
      "text/plain": [
       "<AxesSubplot:xlabel='ratio_space_vacant_chg', ylabel='score_chg'>"
      ]
     },
     "execution_count": 68,
     "metadata": {},
     "output_type": "execute_result"
    },
    {
     "data": {
      "image/png": "[encoded data removed]",
      "text/plain": [
       "<Figure size 432x288 with 1 Axes>"
      ]
     },
     "metadata": {},
     "output_type": "display_data"
    }
   ],
   "source": [
    "notasc_cor=notasc[['ratio_space_vacant_chg', 'score_chg']]\n",
    "notasc_cor.plot.scatter(x='ratio_space_vacant_chg',y='score_chg', c='DarkBlue')\n",
    "#plt.savefig('tplot/p1-cor-nonasc.png',dpi = 200,bbox_inches = 'tight')"
   ]
  },
  {
   "cell_type": "code",
   "execution_count": 69,
   "metadata": {},
   "outputs": [],
   "source": [
    "#for ascending MSOAs\n",
    "#calculate Spearman's Rank correlation and corresponding p-value \n",
    "\n",
    "rho, p = stats.spearmanr(asc['score_chg'], asc['ratio_space_vacant_chg'])"
   ]
  },
  {
   "cell_type": "code",
   "execution_count": 70,
   "metadata": {},
   "outputs": [
    {
     "name": "stdout",
     "output_type": "stream",
     "text": [
      "0.023190387978047473\n",
      "0.7593128418151442\n"
     ]
    }
   ],
   "source": [
    "print(rho)\n",
    "print(p)"
   ]
  },
  {
   "cell_type": "code",
   "execution_count": 71,
   "metadata": {},
   "outputs": [],
   "source": [
    "#for non-ascending MSOAs\n",
    "#calculate Spearman's Rank correlation and corresponding p-value \n",
    "rho2, p2 = stats.spearmanr(notasc['score_chg'], notasc['ratio_space_vacant_chg'])"
   ]
  },
  {
   "cell_type": "code",
   "execution_count": 72,
   "metadata": {},
   "outputs": [
    {
     "name": "stdout",
     "output_type": "stream",
     "text": [
      "0.024015880072756162\n",
      "0.4404528723051673\n"
     ]
    }
   ],
   "source": [
    "print(rho2)\n",
    "print(p2)"
   ]
  },
  {
   "cell_type": "code",
   "execution_count": null,
   "metadata": {},
   "outputs": [],
   "source": []
  }
 ],
 "metadata": {
  "kernelspec": {
   "display_name": "Python 3",
   "language": "python",
   "name": "python3"
  },
  "language_info": {
   "codemirror_mode": {
    "name": "ipython",
    "version": 3
   },
   "file_extension": ".py",
   "mimetype": "text/x-python",
   "name": "python",
   "nbconvert_exporter": "python",
   "pygments_lexer": "ipython3",
   "version": "3.7.8"
  }
 },
 "nbformat": 4,
 "nbformat_minor": 4
}
