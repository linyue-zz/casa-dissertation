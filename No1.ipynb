{
 "cells": [
  {
   "cell_type": "markdown",
   "metadata": {},
   "source": [
    "## Part 1: Data Prep"
   ]
  },
  {
   "cell_type": "code",
   "execution_count": 1,
   "metadata": {},
   "outputs": [],
   "source": [
    "import pandas as pd"
   ]
  },
  {
   "cell_type": "code",
   "execution_count": 2,
   "metadata": {},
   "outputs": [],
   "source": [
    "msoa_sw_2011 = pd.read_csv('msoa_sw_2011.csv')\n",
    "msoa_london_2011 = pd.read_csv('msoa_london_2011.csv')"
   ]
  },
  {
   "cell_type": "code",
   "execution_count": 3,
   "metadata": {},
   "outputs": [
    {
     "name": "stdout",
     "output_type": "stream",
     "text": [
      "<class 'pandas.core.frame.DataFrame'>\n",
      "RangeIndex: 983 entries, 0 to 982\n",
      "Data columns (total 6 columns):\n",
      " #   Column    Non-Null Count  Dtype \n",
      "---  ------    --------------  ----- \n",
      " 0   MSOA11CD  983 non-null    object\n",
      " 1   MSOA11NM  983 non-null    object\n",
      " 2   LAD11CD   983 non-null    object\n",
      " 3   LAD11NM   983 non-null    object\n",
      " 4   RGN11CD   983 non-null    object\n",
      " 5   RGN11NM   983 non-null    object\n",
      "dtypes: object(6)\n",
      "memory usage: 46.2+ KB\n"
     ]
    }
   ],
   "source": [
    "msoa_london_2011.info()"
   ]
  },
  {
   "cell_type": "code",
   "execution_count": 4,
   "metadata": {},
   "outputs": [],
   "source": [
    "#read in lookup sheet for mosa 2011 and mosa 2001\n",
    "mosa_01to11=pd.read_csv('MSOA_2001_to_2011.csv')"
   ]
  },
  {
   "cell_type": "code",
   "execution_count": 5,
   "metadata": {},
   "outputs": [],
   "source": [
    "sw0 = msoa_sw_2011.merge(mosa_01to11, on='MSOA11CD', how='left')\n",
    "london0 = msoa_london_2011.merge(mosa_01to11, on='MSOA11CD', how='left')"
   ]
  },
  {
   "cell_type": "code",
   "execution_count": 6,
   "metadata": {},
   "outputs": [
    {
     "name": "stdout",
     "output_type": "stream",
     "text": [
      "<class 'pandas.core.frame.DataFrame'>\n",
      "Int64Index: 987 entries, 0 to 986\n",
      "Data columns (total 10 columns):\n",
      " #   Column      Non-Null Count  Dtype \n",
      "---  ------      --------------  ----- \n",
      " 0   MSOA11CD    987 non-null    object\n",
      " 1   MSOA11NM_x  987 non-null    object\n",
      " 2   LAD11CD     987 non-null    object\n",
      " 3   LAD11NM     987 non-null    object\n",
      " 4   RGN11CD     987 non-null    object\n",
      " 5   RGN11NM     987 non-null    object\n",
      " 6   MSOA01CD    986 non-null    object\n",
      " 7   MSOA01NM    986 non-null    object\n",
      " 8   MSOA11NM_y  986 non-null    object\n",
      " 9   CHGIND      986 non-null    object\n",
      "dtypes: object(10)\n",
      "memory usage: 84.8+ KB\n"
     ]
    }
   ],
   "source": [
    "london0.info()"
   ]
  },
  {
   "cell_type": "code",
   "execution_count": null,
   "metadata": {},
   "outputs": [],
   "source": [
    "london0.to_csv('london.csv',index=False)"
   ]
  },
  {
   "cell_type": "code",
   "execution_count": 7,
   "metadata": {},
   "outputs": [],
   "source": [
    "#read in median house price of 2001 and 2011 for all MSOAs\n",
    "medianprice_2011 = pd.read_csv('median_price_2011.csv')\n",
    "medianprice_2001 = pd.read_csv('median_price_2001.csv')"
   ]
  },
  {
   "cell_type": "code",
   "execution_count": 8,
   "metadata": {},
   "outputs": [],
   "source": [
    "#read in median house price of 2001 and 2011 for all local authorities \n",
    "medianprice_la = pd.read_csv('medianprice_la.csv')\n",
    "#read in median house price of 2001 and 2011 for all regions \n",
    "medianprice_r = pd.read_csv('medianprice_reigion.csv')"
   ]
  },
  {
   "cell_type": "code",
   "execution_count": 9,
   "metadata": {},
   "outputs": [],
   "source": [
    "#read in median income of 2001 and 2011 for all local authorities\n",
    "medianincome_la = pd.read_csv('residence_based_earnings.csv')"
   ]
  },
  {
   "cell_type": "code",
   "execution_count": 10,
   "metadata": {},
   "outputs": [],
   "source": [
    "#read in median income of 2001 and 2011 for all regions\n",
    "medianincome_r = pd.read_csv('medianearning_region.csv')"
   ]
  },
  {
   "cell_type": "code",
   "execution_count": 11,
   "metadata": {},
   "outputs": [],
   "source": [
    "#read in NS-SeC data of 2001 and 2011 for all MSOAs\n",
    "nssec_2011 = pd.read_csv('NS-SeC_2011.csv')\n",
    "nssec_2001 = pd.read_csv('NS-SeC_2001.csv')"
   ]
  },
  {
   "cell_type": "code",
   "execution_count": 12,
   "metadata": {},
   "outputs": [],
   "source": [
    "#read in NS-SeC data of 2001 and 2011 for all local authorities \n",
    "nssec_2011_la = pd.read_csv('data01/NS-SeC_2011_la.csv')\n",
    "nssec_2001_la = pd.read_csv('data01/NS-SeC_2001_la.csv')\n",
    "#read in NS-SeC data of 2001 and 2011 for all regions \n",
    "nssec_2011_r = pd.read_csv('data01/NS-SeC_2011_region.csv')\n",
    "nssec_2001_r = pd.read_csv('data01/NS-SeC_2001_region.csv')"
   ]
  },
  {
   "cell_type": "code",
   "execution_count": 13,
   "metadata": {},
   "outputs": [],
   "source": [
    "#read in qualification data of 2001 and 2011 for all MSOAs\n",
    "qualification_2011 = pd.read_csv('qualification_2011.csv')\n",
    "qualification_2001 = pd.read_csv('qualification_2001.csv')"
   ]
  },
  {
   "cell_type": "code",
   "execution_count": 14,
   "metadata": {},
   "outputs": [],
   "source": [
    "#read in qualification data of 2001 and 2011 for all local authorities \n",
    "qualification_2011_la = pd.read_csv('data01/Qualifications_2011_la.csv')\n",
    "qualification_2001_la = pd.read_csv('data01/Qualifications_2001_la.csv')\n",
    "#read in qualification data of 2001 and 2011 for all regions \n",
    "qualification_2011_r = pd.read_csv('data01/Qualifications_2011_region.csv')\n",
    "qualification_2001_r = pd.read_csv('data01/Qualifications_2001_region.csv')"
   ]
  },
  {
   "cell_type": "code",
   "execution_count": 15,
   "metadata": {},
   "outputs": [],
   "source": [
    "sw0 = sw0.merge(medianprice_2011, on='MSOA11CD', how='left')\n",
    "sw0 = sw0.drop(columns=['MSOA11NM_y'])\n",
    "sw0 = sw0.merge(medianprice_2001, on='MSOA11CD', how='left')\n",
    "sw0 = sw0.merge(medianprice_la, on='LAD11CD', how='left')\n",
    "sw0 = sw0.drop(columns=['LAD11NM_y'])\n",
    "sw0 = sw0.merge(medianprice_r, on='RGN11CD', how='left')\n",
    "sw0 = sw0.drop(columns=['RGN11NM_y'])\n",
    "sw0 = sw0.rename (columns={\"RGN11NM_x\": \"RGN11NM\", \"LAD11NM_x\": \"LAD11NM\", \"MSOA11NM_x\":\"MSOA11NM\"})\n",
    "sw0 = sw0.merge(medianincome_la, on='LAD11CD', how='left')\n",
    "sw0 = sw0.drop(columns=['LAD11NM_y'])\n",
    "sw0 = sw0.rename (columns={ \"LAD11NM_x\": \"LAD11NM\"})\n",
    "sw0 = sw0.merge(medianincome_r, on='RGN11NM', how='left')\n",
    "sw0 = sw0.merge(nssec_2011, on='MSOA11CD', how='left')\n",
    "sw0 = sw0.merge(nssec_2001, on='MSOA01CD', how='left')\n",
    "sw0 = sw0.merge(nssec_2011_la, on='LAD11NM', how='left')\n",
    "sw0 = sw0.merge(nssec_2001_la, on='LAD11NM', how='left')\n",
    "sw0 = sw0.merge(nssec_2011_r, on='RGN11NM', how='left')\n",
    "sw0 = sw0.merge(nssec_2001_r, on='RGN11NM', how='left')\n",
    "sw0 = sw0.merge(qualification_2011, on='MSOA11CD', how='left')\n",
    "sw0 = sw0.merge(qualification_2001, on='MSOA01CD', how='left')\n",
    "sw0 = sw0.merge(qualification_2011_la, on='LAD11NM', how='left')\n",
    "sw0 = sw0.merge(qualification_2001_la, on='LAD11NM', how='left')\n",
    "sw0 = sw0.merge(qualification_2011_r, on='RGN11NM', how='left')\n",
    "sw0 = sw0.merge(qualification_2001_r, on='RGN11NM', how='left')"
   ]
  },
  {
   "cell_type": "code",
   "execution_count": 17,
   "metadata": {},
   "outputs": [
    {
     "name": "stdout",
     "output_type": "stream",
     "text": [
      "<class 'pandas.core.frame.DataFrame'>\n",
      "Int64Index: 246 entries, 0 to 245\n",
      "Data columns (total 43 columns):\n",
      " #   Column                         Non-Null Count  Dtype  \n",
      "---  ------                         --------------  -----  \n",
      " 0   MSOA11CD                       246 non-null    object \n",
      " 1   MSOA11NM                       246 non-null    object \n",
      " 2   LAD11CD                        246 non-null    object \n",
      " 3   LAD11NM                        246 non-null    object \n",
      " 4   RGN11CD                        246 non-null    object \n",
      " 5   RGN11NM                        246 non-null    object \n",
      " 6   MSOA01CD                       246 non-null    object \n",
      " 7   MSOA01NM                       246 non-null    object \n",
      " 8   CHGIND                         246 non-null    object \n",
      " 9   median_price_2011              246 non-null    object \n",
      " 10  median_price_2001              246 non-null    float64\n",
      " 11  median_price_2001_la           246 non-null    int64  \n",
      " 12  median_price_2011_la           246 non-null    int64  \n",
      " 13  median_price_2001_region       246 non-null    int64  \n",
      " 14  median_price_2011_region       246 non-null    int64  \n",
      " 15  earnings_2003                  246 non-null    float64\n",
      " 16  earnings_2011                  246 non-null    object \n",
      " 17  earnings_2002_region           246 non-null    int64  \n",
      " 18  earnings_2011_region           246 non-null    int64  \n",
      " 19  NS-SeC_all_2011                246 non-null    object \n",
      " 20  NS-SeC_higher_2011             246 non-null    float64\n",
      " 21  NS-SeC_all_2001                246 non-null    int64  \n",
      " 22  NS-SeC_higher_2001             246 non-null    int64  \n",
      " 23  NS-SeC_all_2011_la             246 non-null    int64  \n",
      " 24  NS-SeC_higher_2011_la          246 non-null    int64  \n",
      " 25  NS-SeC_all_2001_la             246 non-null    int64  \n",
      " 26  NS-SeC_higher_2001_la          246 non-null    int64  \n",
      " 27  NS-SeC_all_2011_region         246 non-null    int64  \n",
      " 28  NS-SeC_higher_2011_region      246 non-null    int64  \n",
      " 29  NS-SeC_all_2001_region         246 non-null    int64  \n",
      " 30  NS-SeC_higher_2001_region      246 non-null    int64  \n",
      " 31  qualification_all_2011         246 non-null    object \n",
      " 32  qualification_2011             246 non-null    float64\n",
      " 33  qualification_all_2001         246 non-null    object \n",
      " 34  qualification_2001             246 non-null    float64\n",
      " 35  qualification_all_2011_la      246 non-null    int64  \n",
      " 36  qualification_2011_la          246 non-null    int64  \n",
      " 37  qualification_all_2001_la      246 non-null    int64  \n",
      " 38  qualification_2001_la          246 non-null    int64  \n",
      " 39  qualification_all_2011_region  246 non-null    int64  \n",
      " 40  qualification_2011_region      246 non-null    int64  \n",
      " 41  qualification_all_2001_region  246 non-null    int64  \n",
      " 42  qualification_2001_region      246 non-null    int64  \n",
      "dtypes: float64(5), int64(24), object(14)\n",
      "memory usage: 84.6+ KB\n"
     ]
    }
   ],
   "source": [
    "sw0.info()"
   ]
  },
  {
   "cell_type": "code",
   "execution_count": null,
   "metadata": {},
   "outputs": [],
   "source": [
    "#do all the same thing for the London MSOAs"
   ]
  },
  {
   "cell_type": "code",
   "execution_count": 18,
   "metadata": {},
   "outputs": [
    {
     "name": "stdout",
     "output_type": "stream",
     "text": [
      "<class 'pandas.core.frame.DataFrame'>\n",
      "Int64Index: 987 entries, 0 to 986\n",
      "Data columns (total 11 columns):\n",
      " #   Column             Non-Null Count  Dtype \n",
      "---  ------             --------------  ----- \n",
      " 0   MSOA11CD           987 non-null    object\n",
      " 1   MSOA11NM_x         987 non-null    object\n",
      " 2   LAD11CD            987 non-null    object\n",
      " 3   LAD11NM            987 non-null    object\n",
      " 4   RGN11CD            987 non-null    object\n",
      " 5   RGN11NM            987 non-null    object\n",
      " 6   MSOA01CD           986 non-null    object\n",
      " 7   MSOA01NM           986 non-null    object\n",
      " 8   MSOA11NM_y         986 non-null    object\n",
      " 9   CHGIND             986 non-null    object\n",
      " 10  median_price_2011  987 non-null    object\n",
      "dtypes: object(11)\n",
      "memory usage: 92.5+ KB\n"
     ]
    }
   ],
   "source": [
    "london0 = london0.merge(medianprice_2011, on='MSOA11CD', how='left')\n",
    "london0.info()"
   ]
  },
  {
   "cell_type": "code",
   "execution_count": 19,
   "metadata": {},
   "outputs": [],
   "source": [
    "london0 = london0.drop(columns=['MSOA11NM_y'])\n",
    "london0 = london0.merge(medianprice_2001, on='MSOA11CD', how='left')\n",
    "london0 = london0.merge(medianprice_la, on='LAD11CD', how='left')\n",
    "london0 = london0.drop(columns=['LAD11NM_y'])\n",
    "london0 = london0.merge(medianprice_r, on='RGN11CD', how='left')\n",
    "london0 = london0.drop(columns=['RGN11NM_y'])\n",
    "london0 = london0.rename (columns={\"RGN11NM_x\": \"RGN11NM\", \"LAD11NM_x\": \"LAD11NM\", \"MSOA11NM_x\":\"MSOA11NM\"})\n",
    "london0 = london0.merge(medianincome_la, on='LAD11CD', how='left')\n",
    "london0 = london0.drop(columns=['LAD11NM_y'])\n",
    "london0 = london0.rename (columns={ \"LAD11NM_x\": \"LAD11NM\"})\n",
    "london0 = london0.merge(medianincome_r, on='RGN11NM', how='left')\n",
    "london0 = london0.merge(nssec_2011, on='MSOA11CD', how='left')\n",
    "london0 = london0.merge(nssec_2001, on='MSOA01CD', how='left')\n",
    "london0 = london0.merge(nssec_2011_la, on='LAD11NM', how='left')\n",
    "london0 = london0.merge(nssec_2001_la, on='LAD11NM', how='left')\n",
    "london0 = london0.merge(nssec_2011_r, on='RGN11NM', how='left')\n",
    "london0 = london0.merge(nssec_2001_r, on='RGN11NM', how='left')\n",
    "london0 = london0.merge(qualification_2011, on='MSOA11CD', how='left')\n",
    "london0 = london0.merge(qualification_2001, on='MSOA01CD', how='left')\n",
    "london0 = london0.merge(qualification_2011_la, on='LAD11NM', how='left')\n",
    "london0 = london0.merge(qualification_2001_la, on='LAD11NM', how='left')\n",
    "london0 = london0.merge(qualification_2011_r, on='RGN11NM', how='left')\n",
    "london0 = london0.merge(qualification_2001_r, on='RGN11NM', how='left')"
   ]
  },
  {
   "cell_type": "code",
   "execution_count": null,
   "metadata": {},
   "outputs": [],
   "source": [
    "london0.info()"
   ]
  },
  {
   "cell_type": "code",
   "execution_count": null,
   "metadata": {},
   "outputs": [],
   "source": [
    "#london0.to_csv('london_merge.csv',index=False)"
   ]
  },
  {
   "cell_type": "code",
   "execution_count": null,
   "metadata": {},
   "outputs": [],
   "source": [
    "#sw0.to_csv('sw.csv',index=False)"
   ]
  },
  {
   "cell_type": "code",
   "execution_count": null,
   "metadata": {},
   "outputs": [],
   "source": [
    "#deal with some issues when engaging with data from the 2001 and 2011 censuses in other places\n",
    "#read ih the processed datasets "
   ]
  },
  {
   "cell_type": "code",
   "execution_count": 20,
   "metadata": {},
   "outputs": [],
   "source": [
    "london=pd.read_csv('london_merge_after_input.csv')\n",
    "sw = pd.read_csv('sw_merge_after_inout.csv')"
   ]
  },
  {
   "cell_type": "code",
   "execution_count": 21,
   "metadata": {},
   "outputs": [
    {
     "name": "stdout",
     "output_type": "stream",
     "text": [
      "<class 'pandas.core.frame.DataFrame'>\n",
      "RangeIndex: 245 entries, 0 to 244\n",
      "Data columns (total 43 columns):\n",
      " #   Column                         Non-Null Count  Dtype  \n",
      "---  ------                         --------------  -----  \n",
      " 0   MSOA11CD                       245 non-null    object \n",
      " 1   MSOA11NM                       245 non-null    object \n",
      " 2   LAD11CD                        245 non-null    object \n",
      " 3   LAD11NM                        245 non-null    object \n",
      " 4   RGN11CD                        245 non-null    object \n",
      " 5   RGN11NM                        245 non-null    object \n",
      " 6   MSOA01CD                       245 non-null    object \n",
      " 7   MSOA01NM                       245 non-null    object \n",
      " 8   CHGIND                         245 non-null    object \n",
      " 9   median_price_2011              245 non-null    float64\n",
      " 10  median_price_2001              245 non-null    float64\n",
      " 11  median_price_2001_la           245 non-null    int64  \n",
      " 12  median_price_2011_la           245 non-null    int64  \n",
      " 13  median_price_2001_region       245 non-null    int64  \n",
      " 14  median_price_2011_region       245 non-null    int64  \n",
      " 15  earnings_2003                  245 non-null    int64  \n",
      " 16  earnings_2011                  245 non-null    int64  \n",
      " 17  earnings_2002_region           245 non-null    int64  \n",
      " 18  earnings_2011_region           245 non-null    int64  \n",
      " 19  NS-SeC_all_2011                245 non-null    int64  \n",
      " 20  NS-SeC_higher_2011             245 non-null    int64  \n",
      " 21  NS-SeC_all_2001                245 non-null    int64  \n",
      " 22  NS-SeC_higher_2001             245 non-null    int64  \n",
      " 23  NS-SeC_all_2011_la             245 non-null    int64  \n",
      " 24  NS-SeC_higher_2011_la          245 non-null    int64  \n",
      " 25  NS-SeC_all_2001_la             245 non-null    int64  \n",
      " 26  NS-SeC_higher_2001_la          245 non-null    int64  \n",
      " 27  NS-SeC_all_2011_region         245 non-null    int64  \n",
      " 28  NS-SeC_higher_2011_region      245 non-null    int64  \n",
      " 29  NS-SeC_all_2001_region         245 non-null    int64  \n",
      " 30  NS-SeC_higher_2001_region      245 non-null    int64  \n",
      " 31  qualification_all_2011         245 non-null    int64  \n",
      " 32  qualification_2011             245 non-null    int64  \n",
      " 33  qualification_all_2001         245 non-null    int64  \n",
      " 34  qualification_2001             245 non-null    int64  \n",
      " 35  qualification_all_2011_la      245 non-null    int64  \n",
      " 36  qualification_2011_la          245 non-null    int64  \n",
      " 37  qualification_all_2001_la      245 non-null    int64  \n",
      " 38  qualification_2001_la          245 non-null    int64  \n",
      " 39  qualification_all_2011_region  245 non-null    int64  \n",
      " 40  qualification_2011_region      245 non-null    int64  \n",
      " 41  qualification_all_2001_region  245 non-null    int64  \n",
      " 42  qualification_2001_region      245 non-null    int64  \n",
      "dtypes: float64(2), int64(32), object(9)\n",
      "memory usage: 82.4+ KB\n"
     ]
    }
   ],
   "source": [
    "sw.info()"
   ]
  },
  {
   "cell_type": "code",
   "execution_count": 22,
   "metadata": {},
   "outputs": [
    {
     "name": "stdout",
     "output_type": "stream",
     "text": [
      "<class 'pandas.core.frame.DataFrame'>\n",
      "RangeIndex: 982 entries, 0 to 981\n",
      "Data columns (total 43 columns):\n",
      " #   Column                         Non-Null Count  Dtype  \n",
      "---  ------                         --------------  -----  \n",
      " 0   MSOA11CD                       982 non-null    object \n",
      " 1   MSOA11NM                       982 non-null    object \n",
      " 2   LAD11CD                        982 non-null    object \n",
      " 3   LAD11NM                        982 non-null    object \n",
      " 4   RGN11CD                        982 non-null    object \n",
      " 5   RGN11NM                        982 non-null    object \n",
      " 6   MSOA01CD                       982 non-null    object \n",
      " 7   MSOA01NM                       982 non-null    object \n",
      " 8   CHGIND                         982 non-null    object \n",
      " 9   median_price_2011              982 non-null    float64\n",
      " 10  median_price_2001              982 non-null    float64\n",
      " 11  median_price_2001_la           982 non-null    int64  \n",
      " 12  median_price_2011_la           982 non-null    int64  \n",
      " 13  median_price_2001_region       982 non-null    int64  \n",
      " 14  median_price_2011_region       982 non-null    int64  \n",
      " 15  earnings_2003                  982 non-null    int64  \n",
      " 16  earnings_2011                  982 non-null    int64  \n",
      " 17  earnings_2002_region           982 non-null    int64  \n",
      " 18  earnings_2011_region           982 non-null    int64  \n",
      " 19  NS-SeC_all_2011                982 non-null    int64  \n",
      " 20  NS-SeC_higher_2011             982 non-null    int64  \n",
      " 21  NS-SeC_all_2001                982 non-null    int64  \n",
      " 22  NS-SeC_higher_2001             982 non-null    int64  \n",
      " 23  NS-SeC_all_2011_la             982 non-null    int64  \n",
      " 24  NS-SeC_higher_2011_la          982 non-null    int64  \n",
      " 25  NS-SeC_all_2001_la             982 non-null    int64  \n",
      " 26  NS-SeC_higher_2001_la          982 non-null    int64  \n",
      " 27  NS-SeC_all_2011_region         982 non-null    int64  \n",
      " 28  NS-SeC_higher_2011_region      982 non-null    int64  \n",
      " 29  NS-SeC_all_2001_region         982 non-null    int64  \n",
      " 30  NS-SeC_higher_2001_region      982 non-null    int64  \n",
      " 31  qualification_all_2011         982 non-null    int64  \n",
      " 32  qualification_2011             982 non-null    int64  \n",
      " 33  qualification_all_2001         982 non-null    int64  \n",
      " 34  qualification_2001             982 non-null    int64  \n",
      " 35  qualification_all_2011_la      982 non-null    int64  \n",
      " 36  qualification_2011_la          982 non-null    int64  \n",
      " 37  qualification_all_2001_la      982 non-null    int64  \n",
      " 38  qualification_2001_la          982 non-null    int64  \n",
      " 39  qualification_all_2011_region  982 non-null    int64  \n",
      " 40  qualification_2011_region      982 non-null    int64  \n",
      " 41  qualification_all_2001_region  982 non-null    int64  \n",
      " 42  qualification_2001_region      982 non-null    int64  \n",
      "dtypes: float64(2), int64(32), object(9)\n",
      "memory usage: 330.0+ KB\n"
     ]
    }
   ],
   "source": [
    "london.info()"
   ]
  },
  {
   "cell_type": "code",
   "execution_count": 23,
   "metadata": {},
   "outputs": [],
   "source": [
    "# converting float64 columns which contain integers to int64 for consistency\n",
    "\n",
    "sw['median_price_2011'] = sw['median_price_2011'].astype('int64')\n",
    "sw['median_price_2001'] = sw['median_price_2001'].astype('int64')\n"
   ]
  },
  {
   "cell_type": "code",
   "execution_count": 24,
   "metadata": {},
   "outputs": [
    {
     "name": "stdout",
     "output_type": "stream",
     "text": [
      "<class 'pandas.core.frame.DataFrame'>\n",
      "RangeIndex: 245 entries, 0 to 244\n",
      "Data columns (total 43 columns):\n",
      " #   Column                         Non-Null Count  Dtype \n",
      "---  ------                         --------------  ----- \n",
      " 0   MSOA11CD                       245 non-null    object\n",
      " 1   MSOA11NM                       245 non-null    object\n",
      " 2   LAD11CD                        245 non-null    object\n",
      " 3   LAD11NM                        245 non-null    object\n",
      " 4   RGN11CD                        245 non-null    object\n",
      " 5   RGN11NM                        245 non-null    object\n",
      " 6   MSOA01CD                       245 non-null    object\n",
      " 7   MSOA01NM                       245 non-null    object\n",
      " 8   CHGIND                         245 non-null    object\n",
      " 9   median_price_2011              245 non-null    int64 \n",
      " 10  median_price_2001              245 non-null    int64 \n",
      " 11  median_price_2001_la           245 non-null    int64 \n",
      " 12  median_price_2011_la           245 non-null    int64 \n",
      " 13  median_price_2001_region       245 non-null    int64 \n",
      " 14  median_price_2011_region       245 non-null    int64 \n",
      " 15  earnings_2003                  245 non-null    int64 \n",
      " 16  earnings_2011                  245 non-null    int64 \n",
      " 17  earnings_2002_region           245 non-null    int64 \n",
      " 18  earnings_2011_region           245 non-null    int64 \n",
      " 19  NS-SeC_all_2011                245 non-null    int64 \n",
      " 20  NS-SeC_higher_2011             245 non-null    int64 \n",
      " 21  NS-SeC_all_2001                245 non-null    int64 \n",
      " 22  NS-SeC_higher_2001             245 non-null    int64 \n",
      " 23  NS-SeC_all_2011_la             245 non-null    int64 \n",
      " 24  NS-SeC_higher_2011_la          245 non-null    int64 \n",
      " 25  NS-SeC_all_2001_la             245 non-null    int64 \n",
      " 26  NS-SeC_higher_2001_la          245 non-null    int64 \n",
      " 27  NS-SeC_all_2011_region         245 non-null    int64 \n",
      " 28  NS-SeC_higher_2011_region      245 non-null    int64 \n",
      " 29  NS-SeC_all_2001_region         245 non-null    int64 \n",
      " 30  NS-SeC_higher_2001_region      245 non-null    int64 \n",
      " 31  qualification_all_2011         245 non-null    int64 \n",
      " 32  qualification_2011             245 non-null    int64 \n",
      " 33  qualification_all_2001         245 non-null    int64 \n",
      " 34  qualification_2001             245 non-null    int64 \n",
      " 35  qualification_all_2011_la      245 non-null    int64 \n",
      " 36  qualification_2011_la          245 non-null    int64 \n",
      " 37  qualification_all_2001_la      245 non-null    int64 \n",
      " 38  qualification_2001_la          245 non-null    int64 \n",
      " 39  qualification_all_2011_region  245 non-null    int64 \n",
      " 40  qualification_2011_region      245 non-null    int64 \n",
      " 41  qualification_all_2001_region  245 non-null    int64 \n",
      " 42  qualification_2001_region      245 non-null    int64 \n",
      "dtypes: int64(34), object(9)\n",
      "memory usage: 82.4+ KB\n"
     ]
    }
   ],
   "source": [
    "sw.info()"
   ]
  },
  {
   "cell_type": "code",
   "execution_count": 25,
   "metadata": {},
   "outputs": [],
   "source": [
    "# standardise qualifications and NS-sec values into percentage rates / proportions\n",
    "\n",
    "sw['qualification_2011_pct'] = (sw['qualification_2011'] / sw['qualification_all_2011'])\n",
    "sw['qualification_2001_pct'] = (sw['qualification_2001'] / sw['qualification_all_2001']) \n",
    "\n",
    "sw['qualification_2011_la_pct'] = (sw['qualification_2011_la'] / sw['qualification_all_2011_la'])\n",
    "sw['qualification_2001_la_pct'] = (sw['qualification_2001_la'] / sw['qualification_all_2001_la']) \n",
    "\n",
    "sw['qualification_2011_region_pct'] = (sw['qualification_2011_region'] / sw['qualification_all_2011_region'])\n",
    "sw['qualification_2001_region_pct'] = (sw['qualification_2001_region'] / sw['qualification_all_2001_region']) \n",
    "\n",
    "sw['NS-SeC_higher_2011_pct'] = (sw['NS-SeC_higher_2011'] / sw['NS-SeC_all_2011']) \n",
    "sw['NS-SeC_higher_2001_pct'] = (sw['NS-SeC_higher_2001'] / sw['NS-SeC_all_2001']) \n",
    "\n",
    "sw['NS-SeC_higher_2011_la_pct'] = (sw['NS-SeC_higher_2011_la'] / sw['NS-SeC_all_2011_la']) \n",
    "sw['NS-SeC_higher_2001_la_pct'] = (sw['NS-SeC_higher_2001_la'] / sw['NS-SeC_all_2001_la']) \n",
    "\n",
    "sw['NS-SeC_higher_2011_region_pct'] = (sw['NS-SeC_higher_2011_region'] / sw['NS-SeC_all_2011_region']) \n",
    "sw['NS-SeC_higher_2001_region_pct'] = (sw['NS-SeC_higher_2001_region'] / sw['NS-SeC_all_2001_region']) "
   ]
  },
  {
   "cell_type": "code",
   "execution_count": 30,
   "metadata": {},
   "outputs": [
    {
     "name": "stdout",
     "output_type": "stream",
     "text": [
      "<class 'pandas.core.frame.DataFrame'>\n",
      "RangeIndex: 245 entries, 0 to 244\n",
      "Data columns (total 55 columns):\n",
      " #   Column                         Non-Null Count  Dtype  \n",
      "---  ------                         --------------  -----  \n",
      " 0   MSOA11CD                       245 non-null    object \n",
      " 1   MSOA11NM                       245 non-null    object \n",
      " 2   LAD11CD                        245 non-null    object \n",
      " 3   LAD11NM                        245 non-null    object \n",
      " 4   RGN11CD                        245 non-null    object \n",
      " 5   RGN11NM                        245 non-null    object \n",
      " 6   MSOA01CD                       245 non-null    object \n",
      " 7   MSOA01NM                       245 non-null    object \n",
      " 8   CHGIND                         245 non-null    object \n",
      " 9   median_price_2011              245 non-null    int64  \n",
      " 10  median_price_2001              245 non-null    int64  \n",
      " 11  median_price_2001_la           245 non-null    int64  \n",
      " 12  median_price_2011_la           245 non-null    int64  \n",
      " 13  median_price_2001_region       245 non-null    int64  \n",
      " 14  median_price_2011_region       245 non-null    int64  \n",
      " 15  earnings_2003                  245 non-null    int64  \n",
      " 16  earnings_2011                  245 non-null    int64  \n",
      " 17  earnings_2002_region           245 non-null    int64  \n",
      " 18  earnings_2011_region           245 non-null    int64  \n",
      " 19  NS-SeC_all_2011                245 non-null    int64  \n",
      " 20  NS-SeC_higher_2011             245 non-null    int64  \n",
      " 21  NS-SeC_all_2001                245 non-null    int64  \n",
      " 22  NS-SeC_higher_2001             245 non-null    int64  \n",
      " 23  NS-SeC_all_2011_la             245 non-null    int64  \n",
      " 24  NS-SeC_higher_2011_la          245 non-null    int64  \n",
      " 25  NS-SeC_all_2001_la             245 non-null    int64  \n",
      " 26  NS-SeC_higher_2001_la          245 non-null    int64  \n",
      " 27  NS-SeC_all_2011_region         245 non-null    int64  \n",
      " 28  NS-SeC_higher_2011_region      245 non-null    int64  \n",
      " 29  NS-SeC_all_2001_region         245 non-null    int64  \n",
      " 30  NS-SeC_higher_2001_region      245 non-null    int64  \n",
      " 31  qualification_all_2011         245 non-null    int64  \n",
      " 32  qualification_2011             245 non-null    int64  \n",
      " 33  qualification_all_2001         245 non-null    int64  \n",
      " 34  qualification_2001             245 non-null    int64  \n",
      " 35  qualification_all_2011_la      245 non-null    int64  \n",
      " 36  qualification_2011_la          245 non-null    int64  \n",
      " 37  qualification_all_2001_la      245 non-null    int64  \n",
      " 38  qualification_2001_la          245 non-null    int64  \n",
      " 39  qualification_all_2011_region  245 non-null    int64  \n",
      " 40  qualification_2011_region      245 non-null    int64  \n",
      " 41  qualification_all_2001_region  245 non-null    int64  \n",
      " 42  qualification_2001_region      245 non-null    int64  \n",
      " 43  qualification_2011_pct         245 non-null    float64\n",
      " 44  qualification_2001_pct         245 non-null    float64\n",
      " 45  qualification_2011_la_pct      245 non-null    float64\n",
      " 46  qualification_2001_la_pct      245 non-null    float64\n",
      " 47  qualification_2011_region_pct  245 non-null    float64\n",
      " 48  qualification_2001_region_pct  245 non-null    float64\n",
      " 49  NS-SeC_higher_2011_pct         245 non-null    float64\n",
      " 50  NS-SeC_higher_2001_pct         245 non-null    float64\n",
      " 51  NS-SeC_higher_2011_la_pct      245 non-null    float64\n",
      " 52  NS-SeC_higher_2001_la_pct      245 non-null    float64\n",
      " 53  NS-SeC_higher_2011_region_pct  245 non-null    float64\n",
      " 54  NS-SeC_higher_2001_region_pct  245 non-null    float64\n",
      "dtypes: float64(12), int64(34), object(9)\n",
      "memory usage: 105.4+ KB\n"
     ]
    }
   ],
   "source": [
    "sw.info()"
   ]
  },
  {
   "cell_type": "code",
   "execution_count": null,
   "metadata": {},
   "outputs": [],
   "source": [
    "#do the same for London"
   ]
  },
  {
   "cell_type": "code",
   "execution_count": 26,
   "metadata": {},
   "outputs": [],
   "source": [
    "# converting float64 columns which contain integers to int64 for consistency\n",
    "\n",
    "london['median_price_2011'] = london['median_price_2011'].astype('int64')\n",
    "london['median_price_2001'] = london['median_price_2001'].astype('int64')\n"
   ]
  },
  {
   "cell_type": "code",
   "execution_count": 27,
   "metadata": {},
   "outputs": [
    {
     "name": "stdout",
     "output_type": "stream",
     "text": [
      "<class 'pandas.core.frame.DataFrame'>\n",
      "RangeIndex: 982 entries, 0 to 981\n",
      "Data columns (total 43 columns):\n",
      " #   Column                         Non-Null Count  Dtype \n",
      "---  ------                         --------------  ----- \n",
      " 0   MSOA11CD                       982 non-null    object\n",
      " 1   MSOA11NM                       982 non-null    object\n",
      " 2   LAD11CD                        982 non-null    object\n",
      " 3   LAD11NM                        982 non-null    object\n",
      " 4   RGN11CD                        982 non-null    object\n",
      " 5   RGN11NM                        982 non-null    object\n",
      " 6   MSOA01CD                       982 non-null    object\n",
      " 7   MSOA01NM                       982 non-null    object\n",
      " 8   CHGIND                         982 non-null    object\n",
      " 9   median_price_2011              982 non-null    int64 \n",
      " 10  median_price_2001              982 non-null    int64 \n",
      " 11  median_price_2001_la           982 non-null    int64 \n",
      " 12  median_price_2011_la           982 non-null    int64 \n",
      " 13  median_price_2001_region       982 non-null    int64 \n",
      " 14  median_price_2011_region       982 non-null    int64 \n",
      " 15  earnings_2003                  982 non-null    int64 \n",
      " 16  earnings_2011                  982 non-null    int64 \n",
      " 17  earnings_2002_region           982 non-null    int64 \n",
      " 18  earnings_2011_region           982 non-null    int64 \n",
      " 19  NS-SeC_all_2011                982 non-null    int64 \n",
      " 20  NS-SeC_higher_2011             982 non-null    int64 \n",
      " 21  NS-SeC_all_2001                982 non-null    int64 \n",
      " 22  NS-SeC_higher_2001             982 non-null    int64 \n",
      " 23  NS-SeC_all_2011_la             982 non-null    int64 \n",
      " 24  NS-SeC_higher_2011_la          982 non-null    int64 \n",
      " 25  NS-SeC_all_2001_la             982 non-null    int64 \n",
      " 26  NS-SeC_higher_2001_la          982 non-null    int64 \n",
      " 27  NS-SeC_all_2011_region         982 non-null    int64 \n",
      " 28  NS-SeC_higher_2011_region      982 non-null    int64 \n",
      " 29  NS-SeC_all_2001_region         982 non-null    int64 \n",
      " 30  NS-SeC_higher_2001_region      982 non-null    int64 \n",
      " 31  qualification_all_2011         982 non-null    int64 \n",
      " 32  qualification_2011             982 non-null    int64 \n",
      " 33  qualification_all_2001         982 non-null    int64 \n",
      " 34  qualification_2001             982 non-null    int64 \n",
      " 35  qualification_all_2011_la      982 non-null    int64 \n",
      " 36  qualification_2011_la          982 non-null    int64 \n",
      " 37  qualification_all_2001_la      982 non-null    int64 \n",
      " 38  qualification_2001_la          982 non-null    int64 \n",
      " 39  qualification_all_2011_region  982 non-null    int64 \n",
      " 40  qualification_2011_region      982 non-null    int64 \n",
      " 41  qualification_all_2001_region  982 non-null    int64 \n",
      " 42  qualification_2001_region      982 non-null    int64 \n",
      "dtypes: int64(34), object(9)\n",
      "memory usage: 330.0+ KB\n"
     ]
    }
   ],
   "source": [
    "london.info()"
   ]
  },
  {
   "cell_type": "code",
   "execution_count": 28,
   "metadata": {},
   "outputs": [],
   "source": [
    "# standardise qualifications and NS-sec values into percentage rates / proportions\n",
    "\n",
    "london['qualification_2011_pct'] = (london['qualification_2011'] / london['qualification_all_2011']) \n",
    "london['qualification_2001_pct'] = (london['qualification_2001'] / london['qualification_all_2001']) \n",
    "\n",
    "london['qualification_2011_la_pct'] = (london['qualification_2011_la'] / london['qualification_all_2011_la'])\n",
    "london['qualification_2001_la_pct'] = (london['qualification_2001_la'] / london['qualification_all_2001_la']) \n",
    "\n",
    "london['qualification_2011_region_pct'] = (london['qualification_2011_region'] / london['qualification_all_2011_region'])\n",
    "london['qualification_2001_region_pct'] = (london['qualification_2001_region'] / london['qualification_all_2001_region']) \n",
    "\n",
    "london['NS-SeC_higher_2011_pct'] = (london['NS-SeC_higher_2011'] / london['NS-SeC_all_2011']) \n",
    "london['NS-SeC_higher_2001_pct'] = (london['NS-SeC_higher_2001'] / london['NS-SeC_all_2001']) \n",
    "\n",
    "london['NS-SeC_higher_2011_la_pct'] = (london['NS-SeC_higher_2011_la'] / london['NS-SeC_all_2011_la']) \n",
    "london['NS-SeC_higher_2001_la_pct'] = (london['NS-SeC_higher_2001_la'] / london['NS-SeC_all_2001_la']) \n",
    "\n",
    "london['NS-SeC_higher_2011_region_pct'] = (london['NS-SeC_higher_2011_region'] / london['NS-SeC_all_2011_region']) \n",
    "london['NS-SeC_higher_2001_region_pct'] = (london['NS-SeC_higher_2001_region'] / london['NS-SeC_all_2001_region']) \n"
   ]
  },
  {
   "cell_type": "code",
   "execution_count": 29,
   "metadata": {},
   "outputs": [
    {
     "name": "stdout",
     "output_type": "stream",
     "text": [
      "<class 'pandas.core.frame.DataFrame'>\n",
      "RangeIndex: 982 entries, 0 to 981\n",
      "Data columns (total 55 columns):\n",
      " #   Column                         Non-Null Count  Dtype  \n",
      "---  ------                         --------------  -----  \n",
      " 0   MSOA11CD                       982 non-null    object \n",
      " 1   MSOA11NM                       982 non-null    object \n",
      " 2   LAD11CD                        982 non-null    object \n",
      " 3   LAD11NM                        982 non-null    object \n",
      " 4   RGN11CD                        982 non-null    object \n",
      " 5   RGN11NM                        982 non-null    object \n",
      " 6   MSOA01CD                       982 non-null    object \n",
      " 7   MSOA01NM                       982 non-null    object \n",
      " 8   CHGIND                         982 non-null    object \n",
      " 9   median_price_2011              982 non-null    int64  \n",
      " 10  median_price_2001              982 non-null    int64  \n",
      " 11  median_price_2001_la           982 non-null    int64  \n",
      " 12  median_price_2011_la           982 non-null    int64  \n",
      " 13  median_price_2001_region       982 non-null    int64  \n",
      " 14  median_price_2011_region       982 non-null    int64  \n",
      " 15  earnings_2003                  982 non-null    int64  \n",
      " 16  earnings_2011                  982 non-null    int64  \n",
      " 17  earnings_2002_region           982 non-null    int64  \n",
      " 18  earnings_2011_region           982 non-null    int64  \n",
      " 19  NS-SeC_all_2011                982 non-null    int64  \n",
      " 20  NS-SeC_higher_2011             982 non-null    int64  \n",
      " 21  NS-SeC_all_2001                982 non-null    int64  \n",
      " 22  NS-SeC_higher_2001             982 non-null    int64  \n",
      " 23  NS-SeC_all_2011_la             982 non-null    int64  \n",
      " 24  NS-SeC_higher_2011_la          982 non-null    int64  \n",
      " 25  NS-SeC_all_2001_la             982 non-null    int64  \n",
      " 26  NS-SeC_higher_2001_la          982 non-null    int64  \n",
      " 27  NS-SeC_all_2011_region         982 non-null    int64  \n",
      " 28  NS-SeC_higher_2011_region      982 non-null    int64  \n",
      " 29  NS-SeC_all_2001_region         982 non-null    int64  \n",
      " 30  NS-SeC_higher_2001_region      982 non-null    int64  \n",
      " 31  qualification_all_2011         982 non-null    int64  \n",
      " 32  qualification_2011             982 non-null    int64  \n",
      " 33  qualification_all_2001         982 non-null    int64  \n",
      " 34  qualification_2001             982 non-null    int64  \n",
      " 35  qualification_all_2011_la      982 non-null    int64  \n",
      " 36  qualification_2011_la          982 non-null    int64  \n",
      " 37  qualification_all_2001_la      982 non-null    int64  \n",
      " 38  qualification_2001_la          982 non-null    int64  \n",
      " 39  qualification_all_2011_region  982 non-null    int64  \n",
      " 40  qualification_2011_region      982 non-null    int64  \n",
      " 41  qualification_all_2001_region  982 non-null    int64  \n",
      " 42  qualification_2001_region      982 non-null    int64  \n",
      " 43  qualification_2011_pct         982 non-null    float64\n",
      " 44  qualification_2001_pct         982 non-null    float64\n",
      " 45  qualification_2011_la_pct      982 non-null    float64\n",
      " 46  qualification_2001_la_pct      982 non-null    float64\n",
      " 47  qualification_2011_region_pct  982 non-null    float64\n",
      " 48  qualification_2001_region_pct  982 non-null    float64\n",
      " 49  NS-SeC_higher_2011_pct         982 non-null    float64\n",
      " 50  NS-SeC_higher_2001_pct         982 non-null    float64\n",
      " 51  NS-SeC_higher_2011_la_pct      982 non-null    float64\n",
      " 52  NS-SeC_higher_2001_la_pct      982 non-null    float64\n",
      " 53  NS-SeC_higher_2011_region_pct  982 non-null    float64\n",
      " 54  NS-SeC_higher_2001_region_pct  982 non-null    float64\n",
      "dtypes: float64(12), int64(34), object(9)\n",
      "memory usage: 422.1+ KB\n"
     ]
    }
   ],
   "source": [
    "london.info()"
   ]
  },
  {
   "cell_type": "code",
   "execution_count": null,
   "metadata": {},
   "outputs": [],
   "source": [
    "london.to_csv('london_pct.csv',index=False)"
   ]
  },
  {
   "cell_type": "markdown",
   "metadata": {},
   "source": [
    "## Part 2: further processing-for every varibale of the MSOA, calculate the its relative value to the corresponding Local Authorities and the Region "
   ]
  },
  {
   "cell_type": "code",
   "execution_count": 31,
   "metadata": {},
   "outputs": [],
   "source": [
    "# extracting relevant features for further processing \n",
    "\n",
    "\n",
    "sw_extract1 = sw[['MSOA11CD',\n",
    " 'median_price_2011',\n",
    " 'median_price_2001',\n",
    " 'median_price_2001_la',\n",
    " 'median_price_2011_la',\n",
    " 'median_price_2001_region',\n",
    " 'median_price_2011_region', \n",
    " 'earnings_2003','earnings_2011',\n",
    " 'earnings_2002_region',\n",
    " 'earnings_2011_region',\n",
    " 'qualification_2011_pct',\n",
    " 'qualification_2001_pct',\n",
    " 'qualification_2011_la_pct',\n",
    " 'qualification_2001_la_pct',\n",
    " 'qualification_2011_region_pct',\n",
    " 'qualification_2001_region_pct',\n",
    " 'NS-SeC_higher_2011_pct',\n",
    " 'NS-SeC_higher_2001_pct',\n",
    " 'NS-SeC_higher_2011_la_pct',\n",
    " 'NS-SeC_higher_2001_la_pct',\n",
    " 'NS-SeC_higher_2011_region_pct',\n",
    " 'NS-SeC_higher_2001_region_pct']]"
   ]
  },
  {
   "cell_type": "code",
   "execution_count": 32,
   "metadata": {},
   "outputs": [
    {
     "name": "stderr",
     "output_type": "stream",
     "text": [
      "/opt/conda/envs/sds2020/lib/python3.7/site-packages/ipykernel_launcher.py:1: SettingWithCopyWarning: \n",
      "A value is trying to be set on a copy of a slice from a DataFrame.\n",
      "Try using .loc[row_indexer,col_indexer] = value instead\n",
      "\n",
      "See the caveats in the documentation: https://pandas.pydata.org/pandas-docs/stable/user_guide/indexing.html#returning-a-view-versus-a-copy\n",
      "  \"\"\"Entry point for launching an IPython kernel.\n",
      "/opt/conda/envs/sds2020/lib/python3.7/site-packages/ipykernel_launcher.py:2: SettingWithCopyWarning: \n",
      "A value is trying to be set on a copy of a slice from a DataFrame.\n",
      "Try using .loc[row_indexer,col_indexer] = value instead\n",
      "\n",
      "See the caveats in the documentation: https://pandas.pydata.org/pandas-docs/stable/user_guide/indexing.html#returning-a-view-versus-a-copy\n",
      "  \n",
      "/opt/conda/envs/sds2020/lib/python3.7/site-packages/ipykernel_launcher.py:3: SettingWithCopyWarning: \n",
      "A value is trying to be set on a copy of a slice from a DataFrame.\n",
      "Try using .loc[row_indexer,col_indexer] = value instead\n",
      "\n",
      "See the caveats in the documentation: https://pandas.pydata.org/pandas-docs/stable/user_guide/indexing.html#returning-a-view-versus-a-copy\n",
      "  This is separate from the ipykernel package so we can avoid doing imports until\n",
      "/opt/conda/envs/sds2020/lib/python3.7/site-packages/ipykernel_launcher.py:4: SettingWithCopyWarning: \n",
      "A value is trying to be set on a copy of a slice from a DataFrame.\n",
      "Try using .loc[row_indexer,col_indexer] = value instead\n",
      "\n",
      "See the caveats in the documentation: https://pandas.pydata.org/pandas-docs/stable/user_guide/indexing.html#returning-a-view-versus-a-copy\n",
      "  after removing the cwd from sys.path.\n",
      "/opt/conda/envs/sds2020/lib/python3.7/site-packages/ipykernel_launcher.py:5: SettingWithCopyWarning: \n",
      "A value is trying to be set on a copy of a slice from a DataFrame.\n",
      "Try using .loc[row_indexer,col_indexer] = value instead\n",
      "\n",
      "See the caveats in the documentation: https://pandas.pydata.org/pandas-docs/stable/user_guide/indexing.html#returning-a-view-versus-a-copy\n",
      "  \"\"\"\n",
      "/opt/conda/envs/sds2020/lib/python3.7/site-packages/ipykernel_launcher.py:6: SettingWithCopyWarning: \n",
      "A value is trying to be set on a copy of a slice from a DataFrame.\n",
      "Try using .loc[row_indexer,col_indexer] = value instead\n",
      "\n",
      "See the caveats in the documentation: https://pandas.pydata.org/pandas-docs/stable/user_guide/indexing.html#returning-a-view-versus-a-copy\n",
      "  \n",
      "/opt/conda/envs/sds2020/lib/python3.7/site-packages/ipykernel_launcher.py:7: SettingWithCopyWarning: \n",
      "A value is trying to be set on a copy of a slice from a DataFrame.\n",
      "Try using .loc[row_indexer,col_indexer] = value instead\n",
      "\n",
      "See the caveats in the documentation: https://pandas.pydata.org/pandas-docs/stable/user_guide/indexing.html#returning-a-view-versus-a-copy\n",
      "  import sys\n",
      "/opt/conda/envs/sds2020/lib/python3.7/site-packages/ipykernel_launcher.py:8: SettingWithCopyWarning: \n",
      "A value is trying to be set on a copy of a slice from a DataFrame.\n",
      "Try using .loc[row_indexer,col_indexer] = value instead\n",
      "\n",
      "See the caveats in the documentation: https://pandas.pydata.org/pandas-docs/stable/user_guide/indexing.html#returning-a-view-versus-a-copy\n",
      "  \n",
      "/opt/conda/envs/sds2020/lib/python3.7/site-packages/ipykernel_launcher.py:9: SettingWithCopyWarning: \n",
      "A value is trying to be set on a copy of a slice from a DataFrame.\n",
      "Try using .loc[row_indexer,col_indexer] = value instead\n",
      "\n",
      "See the caveats in the documentation: https://pandas.pydata.org/pandas-docs/stable/user_guide/indexing.html#returning-a-view-versus-a-copy\n",
      "  if __name__ == '__main__':\n",
      "/opt/conda/envs/sds2020/lib/python3.7/site-packages/ipykernel_launcher.py:10: SettingWithCopyWarning: \n",
      "A value is trying to be set on a copy of a slice from a DataFrame.\n",
      "Try using .loc[row_indexer,col_indexer] = value instead\n",
      "\n",
      "See the caveats in the documentation: https://pandas.pydata.org/pandas-docs/stable/user_guide/indexing.html#returning-a-view-versus-a-copy\n",
      "  # Remove the CWD from sys.path while we load stuff.\n",
      "/opt/conda/envs/sds2020/lib/python3.7/site-packages/ipykernel_launcher.py:11: SettingWithCopyWarning: \n",
      "A value is trying to be set on a copy of a slice from a DataFrame.\n",
      "Try using .loc[row_indexer,col_indexer] = value instead\n",
      "\n",
      "See the caveats in the documentation: https://pandas.pydata.org/pandas-docs/stable/user_guide/indexing.html#returning-a-view-versus-a-copy\n",
      "  # This is added back by InteractiveShellApp.init_path()\n",
      "/opt/conda/envs/sds2020/lib/python3.7/site-packages/ipykernel_launcher.py:12: SettingWithCopyWarning: \n",
      "A value is trying to be set on a copy of a slice from a DataFrame.\n",
      "Try using .loc[row_indexer,col_indexer] = value instead\n",
      "\n",
      "See the caveats in the documentation: https://pandas.pydata.org/pandas-docs/stable/user_guide/indexing.html#returning-a-view-versus-a-copy\n",
      "  if sys.path[0] == '':\n"
     ]
    }
   ],
   "source": [
    "sw_extract1['ratio_la_median_price_2011']=(sw_extract1['median_price_2011']/sw_extract1['median_price_2011_la'])\n",
    "sw_extract1['ratio_la_median_price_2001']=(sw_extract1['median_price_2001']/sw_extract1['median_price_2001_la'])\n",
    "sw_extract1['ratio_r_median_price_2011']=(sw_extract1['median_price_2011']/sw_extract1['median_price_2011_region'])\n",
    "sw_extract1['ratio_r_median_price_2001']=(sw_extract1['median_price_2001']/sw_extract1['median_price_2001_region'])\n",
    "sw_extract1['ratio_la_qualification_2011']=(sw_extract1['qualification_2011_pct']/sw_extract1['qualification_2011_la_pct'])\n",
    "sw_extract1['ratio_la_qualification_2001']=(sw_extract1['qualification_2001_pct']/sw_extract1['qualification_2001_la_pct'])\n",
    "sw_extract1['ratio_r_qualification_2011']=(sw_extract1['qualification_2011_pct']/sw_extract1['qualification_2011_region_pct'])\n",
    "sw_extract1['ratio_r_qualification_2001']=(sw_extract1['qualification_2001_pct']/sw_extract1['qualification_2001_region_pct'])\n",
    "sw_extract1['ratio_la_NSSEC_2011']=(sw_extract1['NS-SeC_higher_2011_pct']/sw_extract1['NS-SeC_higher_2011_la_pct'])\n",
    "sw_extract1['ratio_la_NSSEC_2001']=(sw_extract1['NS-SeC_higher_2001_pct']/sw_extract1['NS-SeC_higher_2001_la_pct'])\n",
    "sw_extract1['ratio_r_NSSEC_2011']=(sw_extract1['NS-SeC_higher_2011_pct']/sw_extract1['NS-SeC_higher_2011_region_pct'])\n",
    "sw_extract1['ratio_r_NSSEC_2001']=(sw_extract1['NS-SeC_higher_2001_pct']/sw_extract1['NS-SeC_higher_2001_region_pct'])\n"
   ]
  },
  {
   "cell_type": "code",
   "execution_count": 33,
   "metadata": {},
   "outputs": [
    {
     "name": "stderr",
     "output_type": "stream",
     "text": [
      "/opt/conda/envs/sds2020/lib/python3.7/site-packages/ipykernel_launcher.py:1: SettingWithCopyWarning: \n",
      "A value is trying to be set on a copy of a slice from a DataFrame.\n",
      "Try using .loc[row_indexer,col_indexer] = value instead\n",
      "\n",
      "See the caveats in the documentation: https://pandas.pydata.org/pandas-docs/stable/user_guide/indexing.html#returning-a-view-versus-a-copy\n",
      "  \"\"\"Entry point for launching an IPython kernel.\n",
      "/opt/conda/envs/sds2020/lib/python3.7/site-packages/ipykernel_launcher.py:2: SettingWithCopyWarning: \n",
      "A value is trying to be set on a copy of a slice from a DataFrame.\n",
      "Try using .loc[row_indexer,col_indexer] = value instead\n",
      "\n",
      "See the caveats in the documentation: https://pandas.pydata.org/pandas-docs/stable/user_guide/indexing.html#returning-a-view-versus-a-copy\n",
      "  \n",
      "/opt/conda/envs/sds2020/lib/python3.7/site-packages/ipykernel_launcher.py:3: SettingWithCopyWarning: \n",
      "A value is trying to be set on a copy of a slice from a DataFrame.\n",
      "Try using .loc[row_indexer,col_indexer] = value instead\n",
      "\n",
      "See the caveats in the documentation: https://pandas.pydata.org/pandas-docs/stable/user_guide/indexing.html#returning-a-view-versus-a-copy\n",
      "  This is separate from the ipykernel package so we can avoid doing imports until\n",
      "/opt/conda/envs/sds2020/lib/python3.7/site-packages/ipykernel_launcher.py:4: SettingWithCopyWarning: \n",
      "A value is trying to be set on a copy of a slice from a DataFrame.\n",
      "Try using .loc[row_indexer,col_indexer] = value instead\n",
      "\n",
      "See the caveats in the documentation: https://pandas.pydata.org/pandas-docs/stable/user_guide/indexing.html#returning-a-view-versus-a-copy\n",
      "  after removing the cwd from sys.path.\n"
     ]
    }
   ],
   "source": [
    "sw_extract1['ratio_la_earning_2011']=(sw_extract1['earnings_2011']/sw_extract1['earnings_2011'])\n",
    "sw_extract1['ratio_la_earning_2001']=(sw_extract1['earnings_2003']/sw_extract1['earnings_2003'])\n",
    "sw_extract1['ratio_r_earning_2011']=(sw_extract1['earnings_2011']/sw_extract1['earnings_2011_region'])\n",
    "sw_extract1['ratio_r_earning_2001']=(sw_extract1['earnings_2003']/sw_extract1['earnings_2002_region'])"
   ]
  },
  {
   "cell_type": "code",
   "execution_count": 34,
   "metadata": {},
   "outputs": [
    {
     "name": "stdout",
     "output_type": "stream",
     "text": [
      "<class 'pandas.core.frame.DataFrame'>\n",
      "RangeIndex: 245 entries, 0 to 244\n",
      "Data columns (total 39 columns):\n",
      " #   Column                         Non-Null Count  Dtype  \n",
      "---  ------                         --------------  -----  \n",
      " 0   MSOA11CD                       245 non-null    object \n",
      " 1   median_price_2011              245 non-null    int64  \n",
      " 2   median_price_2001              245 non-null    int64  \n",
      " 3   median_price_2001_la           245 non-null    int64  \n",
      " 4   median_price_2011_la           245 non-null    int64  \n",
      " 5   median_price_2001_region       245 non-null    int64  \n",
      " 6   median_price_2011_region       245 non-null    int64  \n",
      " 7   earnings_2003                  245 non-null    int64  \n",
      " 8   earnings_2011                  245 non-null    int64  \n",
      " 9   earnings_2002_region           245 non-null    int64  \n",
      " 10  earnings_2011_region           245 non-null    int64  \n",
      " 11  qualification_2011_pct         245 non-null    float64\n",
      " 12  qualification_2001_pct         245 non-null    float64\n",
      " 13  qualification_2011_la_pct      245 non-null    float64\n",
      " 14  qualification_2001_la_pct      245 non-null    float64\n",
      " 15  qualification_2011_region_pct  245 non-null    float64\n",
      " 16  qualification_2001_region_pct  245 non-null    float64\n",
      " 17  NS-SeC_higher_2011_pct         245 non-null    float64\n",
      " 18  NS-SeC_higher_2001_pct         245 non-null    float64\n",
      " 19  NS-SeC_higher_2011_la_pct      245 non-null    float64\n",
      " 20  NS-SeC_higher_2001_la_pct      245 non-null    float64\n",
      " 21  NS-SeC_higher_2011_region_pct  245 non-null    float64\n",
      " 22  NS-SeC_higher_2001_region_pct  245 non-null    float64\n",
      " 23  ratio_la_median_price_2011     245 non-null    float64\n",
      " 24  ratio_la_median_price_2001     245 non-null    float64\n",
      " 25  ratio_r_median_price_2011      245 non-null    float64\n",
      " 26  ratio_r_median_price_2001      245 non-null    float64\n",
      " 27  ratio_la_qualification_2011    245 non-null    float64\n",
      " 28  ratio_la_qualification_2001    245 non-null    float64\n",
      " 29  ratio_r_qualification_2011     245 non-null    float64\n",
      " 30  ratio_r_qualification_2001     245 non-null    float64\n",
      " 31  ratio_la_NSSEC_2011            245 non-null    float64\n",
      " 32  ratio_la_NSSEC_2001            245 non-null    float64\n",
      " 33  ratio_r_NSSEC_2011             245 non-null    float64\n",
      " 34  ratio_r_NSSEC_2001             245 non-null    float64\n",
      " 35  ratio_la_earning_2011          245 non-null    float64\n",
      " 36  ratio_la_earning_2001          245 non-null    float64\n",
      " 37  ratio_r_earning_2011           245 non-null    float64\n",
      " 38  ratio_r_earning_2001           245 non-null    float64\n",
      "dtypes: float64(28), int64(10), object(1)\n",
      "memory usage: 74.8+ KB\n"
     ]
    }
   ],
   "source": [
    "sw_extract1.info()"
   ]
  },
  {
   "cell_type": "code",
   "execution_count": 35,
   "metadata": {},
   "outputs": [],
   "source": [
    "sw_extract_la =sw_extract1[['MSOA11CD','ratio_la_median_price_2011','ratio_la_median_price_2001', 'ratio_la_qualification_2011',\n",
    "                           'ratio_la_qualification_2001','ratio_la_NSSEC_2011','ratio_la_NSSEC_2001',\n",
    "                           'ratio_la_earning_2011','ratio_la_earning_2001']]\n",
    "sw_extract_r =sw_extract1[['MSOA11CD','ratio_r_median_price_2011','ratio_r_median_price_2001', 'ratio_r_qualification_2011',\n",
    "                           'ratio_r_qualification_2001','ratio_r_NSSEC_2011','ratio_r_NSSEC_2001',\n",
    "                           'ratio_r_earning_2011','ratio_r_earning_2001']]"
   ]
  },
  {
   "cell_type": "code",
   "execution_count": 36,
   "metadata": {},
   "outputs": [],
   "source": [
    "london_extract1 = london[['MSOA11CD',\n",
    " 'median_price_2011',\n",
    " 'median_price_2001',\n",
    " 'median_price_2001_la',\n",
    " 'median_price_2011_la',\n",
    " 'median_price_2001_region',\n",
    " 'median_price_2011_region', \n",
    " 'earnings_2003','earnings_2011',\n",
    " 'earnings_2002_region',\n",
    " 'earnings_2011_region',\n",
    " 'qualification_2011_pct',\n",
    " 'qualification_2001_pct',\n",
    " 'qualification_2011_la_pct',\n",
    " 'qualification_2001_la_pct',\n",
    " 'qualification_2011_region_pct',\n",
    " 'qualification_2001_region_pct',\n",
    " 'NS-SeC_higher_2011_pct',\n",
    " 'NS-SeC_higher_2001_pct',\n",
    " 'NS-SeC_higher_2011_la_pct',\n",
    " 'NS-SeC_higher_2001_la_pct',\n",
    " 'NS-SeC_higher_2011_region_pct',\n",
    " 'NS-SeC_higher_2001_region_pct']]"
   ]
  },
  {
   "cell_type": "code",
   "execution_count": 37,
   "metadata": {},
   "outputs": [
    {
     "name": "stderr",
     "output_type": "stream",
     "text": [
      "/opt/conda/envs/sds2020/lib/python3.7/site-packages/ipykernel_launcher.py:1: SettingWithCopyWarning: \n",
      "A value is trying to be set on a copy of a slice from a DataFrame.\n",
      "Try using .loc[row_indexer,col_indexer] = value instead\n",
      "\n",
      "See the caveats in the documentation: https://pandas.pydata.org/pandas-docs/stable/user_guide/indexing.html#returning-a-view-versus-a-copy\n",
      "  \"\"\"Entry point for launching an IPython kernel.\n",
      "/opt/conda/envs/sds2020/lib/python3.7/site-packages/ipykernel_launcher.py:2: SettingWithCopyWarning: \n",
      "A value is trying to be set on a copy of a slice from a DataFrame.\n",
      "Try using .loc[row_indexer,col_indexer] = value instead\n",
      "\n",
      "See the caveats in the documentation: https://pandas.pydata.org/pandas-docs/stable/user_guide/indexing.html#returning-a-view-versus-a-copy\n",
      "  \n",
      "/opt/conda/envs/sds2020/lib/python3.7/site-packages/ipykernel_launcher.py:3: SettingWithCopyWarning: \n",
      "A value is trying to be set on a copy of a slice from a DataFrame.\n",
      "Try using .loc[row_indexer,col_indexer] = value instead\n",
      "\n",
      "See the caveats in the documentation: https://pandas.pydata.org/pandas-docs/stable/user_guide/indexing.html#returning-a-view-versus-a-copy\n",
      "  This is separate from the ipykernel package so we can avoid doing imports until\n",
      "/opt/conda/envs/sds2020/lib/python3.7/site-packages/ipykernel_launcher.py:4: SettingWithCopyWarning: \n",
      "A value is trying to be set on a copy of a slice from a DataFrame.\n",
      "Try using .loc[row_indexer,col_indexer] = value instead\n",
      "\n",
      "See the caveats in the documentation: https://pandas.pydata.org/pandas-docs/stable/user_guide/indexing.html#returning-a-view-versus-a-copy\n",
      "  after removing the cwd from sys.path.\n",
      "/opt/conda/envs/sds2020/lib/python3.7/site-packages/ipykernel_launcher.py:5: SettingWithCopyWarning: \n",
      "A value is trying to be set on a copy of a slice from a DataFrame.\n",
      "Try using .loc[row_indexer,col_indexer] = value instead\n",
      "\n",
      "See the caveats in the documentation: https://pandas.pydata.org/pandas-docs/stable/user_guide/indexing.html#returning-a-view-versus-a-copy\n",
      "  \"\"\"\n",
      "/opt/conda/envs/sds2020/lib/python3.7/site-packages/ipykernel_launcher.py:6: SettingWithCopyWarning: \n",
      "A value is trying to be set on a copy of a slice from a DataFrame.\n",
      "Try using .loc[row_indexer,col_indexer] = value instead\n",
      "\n",
      "See the caveats in the documentation: https://pandas.pydata.org/pandas-docs/stable/user_guide/indexing.html#returning-a-view-versus-a-copy\n",
      "  \n",
      "/opt/conda/envs/sds2020/lib/python3.7/site-packages/ipykernel_launcher.py:7: SettingWithCopyWarning: \n",
      "A value is trying to be set on a copy of a slice from a DataFrame.\n",
      "Try using .loc[row_indexer,col_indexer] = value instead\n",
      "\n",
      "See the caveats in the documentation: https://pandas.pydata.org/pandas-docs/stable/user_guide/indexing.html#returning-a-view-versus-a-copy\n",
      "  import sys\n",
      "/opt/conda/envs/sds2020/lib/python3.7/site-packages/ipykernel_launcher.py:8: SettingWithCopyWarning: \n",
      "A value is trying to be set on a copy of a slice from a DataFrame.\n",
      "Try using .loc[row_indexer,col_indexer] = value instead\n",
      "\n",
      "See the caveats in the documentation: https://pandas.pydata.org/pandas-docs/stable/user_guide/indexing.html#returning-a-view-versus-a-copy\n",
      "  \n",
      "/opt/conda/envs/sds2020/lib/python3.7/site-packages/ipykernel_launcher.py:9: SettingWithCopyWarning: \n",
      "A value is trying to be set on a copy of a slice from a DataFrame.\n",
      "Try using .loc[row_indexer,col_indexer] = value instead\n",
      "\n",
      "See the caveats in the documentation: https://pandas.pydata.org/pandas-docs/stable/user_guide/indexing.html#returning-a-view-versus-a-copy\n",
      "  if __name__ == '__main__':\n",
      "/opt/conda/envs/sds2020/lib/python3.7/site-packages/ipykernel_launcher.py:10: SettingWithCopyWarning: \n",
      "A value is trying to be set on a copy of a slice from a DataFrame.\n",
      "Try using .loc[row_indexer,col_indexer] = value instead\n",
      "\n",
      "See the caveats in the documentation: https://pandas.pydata.org/pandas-docs/stable/user_guide/indexing.html#returning-a-view-versus-a-copy\n",
      "  # Remove the CWD from sys.path while we load stuff.\n",
      "/opt/conda/envs/sds2020/lib/python3.7/site-packages/ipykernel_launcher.py:11: SettingWithCopyWarning: \n",
      "A value is trying to be set on a copy of a slice from a DataFrame.\n",
      "Try using .loc[row_indexer,col_indexer] = value instead\n",
      "\n",
      "See the caveats in the documentation: https://pandas.pydata.org/pandas-docs/stable/user_guide/indexing.html#returning-a-view-versus-a-copy\n",
      "  # This is added back by InteractiveShellApp.init_path()\n",
      "/opt/conda/envs/sds2020/lib/python3.7/site-packages/ipykernel_launcher.py:12: SettingWithCopyWarning: \n",
      "A value is trying to be set on a copy of a slice from a DataFrame.\n",
      "Try using .loc[row_indexer,col_indexer] = value instead\n",
      "\n",
      "See the caveats in the documentation: https://pandas.pydata.org/pandas-docs/stable/user_guide/indexing.html#returning-a-view-versus-a-copy\n",
      "  if sys.path[0] == '':\n",
      "/opt/conda/envs/sds2020/lib/python3.7/site-packages/ipykernel_launcher.py:13: SettingWithCopyWarning: \n",
      "A value is trying to be set on a copy of a slice from a DataFrame.\n",
      "Try using .loc[row_indexer,col_indexer] = value instead\n",
      "\n",
      "See the caveats in the documentation: https://pandas.pydata.org/pandas-docs/stable/user_guide/indexing.html#returning-a-view-versus-a-copy\n",
      "  del sys.path[0]\n",
      "/opt/conda/envs/sds2020/lib/python3.7/site-packages/ipykernel_launcher.py:14: SettingWithCopyWarning: \n",
      "A value is trying to be set on a copy of a slice from a DataFrame.\n",
      "Try using .loc[row_indexer,col_indexer] = value instead\n",
      "\n",
      "See the caveats in the documentation: https://pandas.pydata.org/pandas-docs/stable/user_guide/indexing.html#returning-a-view-versus-a-copy\n",
      "  \n",
      "/opt/conda/envs/sds2020/lib/python3.7/site-packages/ipykernel_launcher.py:15: SettingWithCopyWarning: \n",
      "A value is trying to be set on a copy of a slice from a DataFrame.\n",
      "Try using .loc[row_indexer,col_indexer] = value instead\n",
      "\n",
      "See the caveats in the documentation: https://pandas.pydata.org/pandas-docs/stable/user_guide/indexing.html#returning-a-view-versus-a-copy\n",
      "  from ipykernel import kernelapp as app\n",
      "/opt/conda/envs/sds2020/lib/python3.7/site-packages/ipykernel_launcher.py:16: SettingWithCopyWarning: \n",
      "A value is trying to be set on a copy of a slice from a DataFrame.\n",
      "Try using .loc[row_indexer,col_indexer] = value instead\n",
      "\n",
      "See the caveats in the documentation: https://pandas.pydata.org/pandas-docs/stable/user_guide/indexing.html#returning-a-view-versus-a-copy\n",
      "  app.launch_new_instance()\n"
     ]
    }
   ],
   "source": [
    "london_extract1['ratio_la_median_price_2011']=(london_extract1['median_price_2011']/london_extract1['median_price_2011_la'])\n",
    "london_extract1['ratio_la_median_price_2001']=(london_extract1['median_price_2001']/london_extract1['median_price_2001_la'])\n",
    "london_extract1['ratio_r_median_price_2011']=(london_extract1['median_price_2011']/london_extract1['median_price_2011_region'])\n",
    "london_extract1['ratio_r_median_price_2001']=(london_extract1['median_price_2001']/london_extract1['median_price_2001_region'])\n",
    "london_extract1['ratio_la_qualification_2011']=(london_extract1['qualification_2011_pct']/london_extract1['qualification_2011_la_pct'])\n",
    "london_extract1['ratio_la_qualification_2001']=(london_extract1['qualification_2001_pct']/london_extract1['qualification_2001_la_pct'])\n",
    "london_extract1['ratio_r_qualification_2011']=(london_extract1['qualification_2011_pct']/london_extract1['qualification_2011_region_pct'])\n",
    "london_extract1['ratio_r_qualification_2001']=(london_extract1['qualification_2001_pct']/london_extract1['qualification_2001_region_pct'])\n",
    "london_extract1['ratio_la_NSSEC_2011']=(london_extract1['NS-SeC_higher_2011_pct']/london_extract1['NS-SeC_higher_2011_la_pct'])\n",
    "london_extract1['ratio_la_NSSEC_2001']=(london_extract1['NS-SeC_higher_2001_pct']/london_extract1['NS-SeC_higher_2001_la_pct'])\n",
    "london_extract1['ratio_r_NSSEC_2011']=(london_extract1['NS-SeC_higher_2011_pct']/london_extract1['NS-SeC_higher_2011_region_pct'])\n",
    "london_extract1['ratio_r_NSSEC_2001']=(london_extract1['NS-SeC_higher_2001_pct']/london_extract1['NS-SeC_higher_2001_region_pct'])\n",
    "london_extract1['ratio_la_earning_2011']=(london_extract1['earnings_2011']/london_extract1['earnings_2011'])\n",
    "london_extract1['ratio_la_earning_2001']=(london_extract1['earnings_2003']/london_extract1['earnings_2003'])\n",
    "london_extract1['ratio_r_earning_2011']=(london_extract1['earnings_2011']/london_extract1['earnings_2011_region'])\n",
    "london_extract1['ratio_r_earning_2001']=(london_extract1['earnings_2003']/london_extract1['earnings_2002_region'])"
   ]
  },
  {
   "cell_type": "code",
   "execution_count": 38,
   "metadata": {},
   "outputs": [],
   "source": [
    "london_extract_la =london_extract1[['MSOA11CD','ratio_la_median_price_2011','ratio_la_median_price_2001', 'ratio_la_qualification_2011',\n",
    "                           'ratio_la_qualification_2001','ratio_la_NSSEC_2011','ratio_la_NSSEC_2001',\n",
    "                           'ratio_la_earning_2011','ratio_la_earning_2001']]\n",
    "london_extract_r =london_extract1[['MSOA11CD','ratio_r_median_price_2011','ratio_r_median_price_2001', 'ratio_r_qualification_2011',\n",
    "                           'ratio_r_qualification_2001','ratio_r_NSSEC_2011','ratio_r_NSSEC_2001',\n",
    "                           'ratio_r_earning_2011','ratio_r_earning_2001']]"
   ]
  },
  {
   "cell_type": "code",
   "execution_count": 39,
   "metadata": {},
   "outputs": [
    {
     "name": "stdout",
     "output_type": "stream",
     "text": [
      "<class 'pandas.core.frame.DataFrame'>\n",
      "RangeIndex: 982 entries, 0 to 981\n",
      "Data columns (total 9 columns):\n",
      " #   Column                       Non-Null Count  Dtype  \n",
      "---  ------                       --------------  -----  \n",
      " 0   MSOA11CD                     982 non-null    object \n",
      " 1   ratio_la_median_price_2011   982 non-null    float64\n",
      " 2   ratio_la_median_price_2001   982 non-null    float64\n",
      " 3   ratio_la_qualification_2011  982 non-null    float64\n",
      " 4   ratio_la_qualification_2001  982 non-null    float64\n",
      " 5   ratio_la_NSSEC_2011          982 non-null    float64\n",
      " 6   ratio_la_NSSEC_2001          982 non-null    float64\n",
      " 7   ratio_la_earning_2011        982 non-null    float64\n",
      " 8   ratio_la_earning_2001        982 non-null    float64\n",
      "dtypes: float64(8), object(1)\n",
      "memory usage: 69.2+ KB\n"
     ]
    }
   ],
   "source": [
    "london_extract_la.info()"
   ]
  },
  {
   "cell_type": "markdown",
   "metadata": {},
   "source": [
    "## Part 3: Checking the distribution of the variables; decide which relative scale to use, LA or Region\n",
    "\n",
    "In the next cell, I create the two complete datasets for the following analysis. Both of them covering all the SW and London MSOAs. In frames_r, every variable's value is the ratio of the MSOA level to the region level. In frmes_la, every variable's value is the ratio of the MSOA level to the LA level.\n"
   ]
  },
  {
   "cell_type": "code",
   "execution_count": 40,
   "metadata": {},
   "outputs": [],
   "source": [
    "frames_r = [sw_extract_r, london_extract_r]\n",
    "swandlondon_r = pd.concat(frames_r)\n",
    "\n",
    "frames_la = [sw_extract_la, london_extract_la]\n",
    "swandlondon_la = pd.concat(frames_la)\n"
   ]
  },
  {
   "cell_type": "code",
   "execution_count": 41,
   "metadata": {},
   "outputs": [
    {
     "name": "stdout",
     "output_type": "stream",
     "text": [
      "<class 'pandas.core.frame.DataFrame'>\n",
      "Int64Index: 1227 entries, 0 to 981\n",
      "Data columns (total 9 columns):\n",
      " #   Column                       Non-Null Count  Dtype  \n",
      "---  ------                       --------------  -----  \n",
      " 0   MSOA11CD                     1227 non-null   object \n",
      " 1   ratio_la_median_price_2011   1227 non-null   float64\n",
      " 2   ratio_la_median_price_2001   1227 non-null   float64\n",
      " 3   ratio_la_qualification_2011  1227 non-null   float64\n",
      " 4   ratio_la_qualification_2001  1227 non-null   float64\n",
      " 5   ratio_la_NSSEC_2011          1227 non-null   float64\n",
      " 6   ratio_la_NSSEC_2001          1227 non-null   float64\n",
      " 7   ratio_la_earning_2011        1227 non-null   float64\n",
      " 8   ratio_la_earning_2001        1227 non-null   float64\n",
      "dtypes: float64(8), object(1)\n",
      "memory usage: 95.9+ KB\n"
     ]
    }
   ],
   "source": [
    "swandlondon_la.info()"
   ]
  },
  {
   "cell_type": "code",
   "execution_count": 42,
   "metadata": {},
   "outputs": [],
   "source": [
    "# check the distribution of feature columns (excluding MSOA code)\n",
    "\n",
    "import matplotlib\n",
    "import matplotlib.pyplot as plt\n",
    "matplotlib.style.use('ggplot')\n",
    "\n",
    "swandlondon_extract__distribution_r = swandlondon_r[[ 'ratio_r_median_price_2011',\n",
    " 'ratio_r_median_price_2001',\n",
    " 'ratio_r_qualification_2011',\n",
    " 'ratio_r_qualification_2001',\n",
    " 'ratio_r_NSSEC_2011',\n",
    " 'ratio_r_NSSEC_2001',\n",
    " 'ratio_r_earning_2011',\n",
    " 'ratio_r_earning_2001']]\n",
    "\n",
    "swandlondon_extract__distribution_la = swandlondon_la[[ 'ratio_la_median_price_2011',\n",
    " 'ratio_la_median_price_2001',\n",
    " 'ratio_la_qualification_2011',\n",
    " 'ratio_la_qualification_2001',\n",
    " 'ratio_la_NSSEC_2011',\n",
    " 'ratio_la_NSSEC_2001',\n",
    " 'ratio_la_earning_2011',\n",
    " 'ratio_la_earning_2001']]\n"
   ]
  },
  {
   "cell_type": "code",
   "execution_count": 43,
   "metadata": {},
   "outputs": [
    {
     "data": {
      "text/plain": [
       "[Text(0, 0, 'ratio_r_median_price_2011'),\n",
       " Text(1, 0, 'ratio_r_median_price_2001'),\n",
       " Text(2, 0, 'ratio_r_qualification_2011'),\n",
       " Text(3, 0, 'ratio_r_qualification_2001'),\n",
       " Text(4, 0, 'ratio_r_NSSEC_2011'),\n",
       " Text(5, 0, 'ratio_r_NSSEC_2001'),\n",
       " Text(6, 0, 'ratio_r_earning_2011'),\n",
       " Text(7, 0, 'ratio_r_earning_2001')]"
      ]
     },
     "execution_count": 43,
     "metadata": {},
     "output_type": "execute_result"
    },
    {
     "data": {
      "image/png": "[encoded data removed]",
      "text/plain": [
       "<Figure size 432x288 with 1 Axes>"
      ]
     },
     "metadata": {},
     "output_type": "display_data"
    }
   ],
   "source": [
    "import seaborn as sns\n",
    "ax = sns.boxplot( data=swandlondon_extract__distribution_r)\n",
    "ax.set_xticklabels(ax.get_xticklabels(), rotation=90)"
   ]
  },
  {
   "cell_type": "code",
   "execution_count": 44,
   "metadata": {},
   "outputs": [
    {
     "data": {
      "text/plain": [
       "[Text(0, 0, 'ratio_la_median_price_2011'),\n",
       " Text(1, 0, 'ratio_la_median_price_2001'),\n",
       " Text(2, 0, 'ratio_la_qualification_2011'),\n",
       " Text(3, 0, 'ratio_la_qualification_2001'),\n",
       " Text(4, 0, 'ratio_la_NSSEC_2011'),\n",
       " Text(5, 0, 'ratio_la_NSSEC_2001'),\n",
       " Text(6, 0, 'ratio_la_earning_2011'),\n",
       " Text(7, 0, 'ratio_la_earning_2001')]"
      ]
     },
     "execution_count": 44,
     "metadata": {},
     "output_type": "execute_result"
    },
    {
     "data": {
      "image/png": "[encoded data removed]",
      "text/plain": [
       "<Figure size 432x288 with 1 Axes>"
      ]
     },
     "metadata": {},
     "output_type": "display_data"
    }
   ],
   "source": [
    "ax = sns.boxplot( data=swandlondon_extract__distribution_la)\n",
    "ax.set_xticklabels(ax.get_xticklabels(), rotation=90)"
   ]
  },
  {
   "cell_type": "code",
   "execution_count": 45,
   "metadata": {},
   "outputs": [
    {
     "data": {
      "text/plain": [
       "<AxesSubplot:>"
      ]
     },
     "execution_count": 45,
     "metadata": {},
     "output_type": "execute_result"
    },
    {
     "data": {
      "image/png": "[encoded data removed]",
      "text/plain": [
       "<Figure size 432x288 with 1 Axes>"
      ]
     },
     "metadata": {},
     "output_type": "display_data"
    }
   ],
   "source": [
    "sw_extract_r[['ratio_r_median_price_2011',\n",
    " 'ratio_r_median_price_2001']].boxplot()"
   ]
  },
  {
   "cell_type": "code",
   "execution_count": 46,
   "metadata": {},
   "outputs": [
    {
     "data": {
      "text/plain": [
       "<AxesSubplot:>"
      ]
     },
     "execution_count": 46,
     "metadata": {},
     "output_type": "execute_result"
    },
    {
     "data": {
      "image/png": "[encoded data removed]",
      "text/plain": [
       "<Figure size 432x288 with 1 Axes>"
      ]
     },
     "metadata": {},
     "output_type": "display_data"
    }
   ],
   "source": [
    "london_extract_r[['ratio_r_median_price_2011',\n",
    " 'ratio_r_median_price_2001']].boxplot()"
   ]
  },
  {
   "cell_type": "code",
   "execution_count": 47,
   "metadata": {},
   "outputs": [
    {
     "data": {
      "text/plain": [
       "<AxesSubplot:>"
      ]
     },
     "execution_count": 47,
     "metadata": {},
     "output_type": "execute_result"
    },
    {
     "data": {
      "image/png": "[encoded data removed]",
      "text/plain": [
       "<Figure size 432x288 with 1 Axes>"
      ]
     },
     "metadata": {},
     "output_type": "display_data"
    }
   ],
   "source": [
    "sw_extract_la[['ratio_la_median_price_2011',\n",
    " 'ratio_la_median_price_2001']].boxplot()"
   ]
  },
  {
   "cell_type": "code",
   "execution_count": 48,
   "metadata": {},
   "outputs": [
    {
     "data": {
      "text/plain": [
       "<AxesSubplot:>"
      ]
     },
     "execution_count": 48,
     "metadata": {},
     "output_type": "execute_result"
    },
    {
     "data": {
      "image/png": "[encoded data removed]",
      "text/plain": [
       "<Figure size 432x288 with 1 Axes>"
      ]
     },
     "metadata": {},
     "output_type": "display_data"
    }
   ],
   "source": [
    "london_extract_la[['ratio_la_median_price_2011',\n",
    " 'ratio_la_median_price_2001']].boxplot()"
   ]
  },
  {
   "cell_type": "markdown",
   "metadata": {},
   "source": [
    "### Based on the boxplots above, it seems that using LA as the scale to compare SW and London would better even the regional difference especilly regading to the housing price"
   ]
  },
  {
   "cell_type": "code",
   "execution_count": 49,
   "metadata": {},
   "outputs": [
    {
     "data": {
      "image/png": "[encoded data removed]",
      "text/plain": [
       "<Figure size 1080x1080 with 8 Axes>"
      ]
     },
     "metadata": {},
     "output_type": "display_data"
    }
   ],
   "source": [
    "# creating histogram for each variable to explore their underlying distributions\n",
    "\n",
    "fig, axes = plt.subplots(nrows=4, ncols=2, figsize=(15, 15))\n",
    "\n",
    "counter = 0\n",
    "for i in range(4):\n",
    "    for j in range(2):\n",
    "\n",
    "        ax = axes[i][j]\n",
    "\n",
    "        # Plot when we have data\n",
    "        if counter < len(swandlondon_extract__distribution_la.columns):\n",
    "\n",
    "            ax.hist(swandlondon_extract__distribution_la[swandlondon_extract__distribution_la.columns[counter]], label='{}'.format(swandlondon_extract__distribution_la.columns[counter]))\n",
    "            leg = ax.legend(loc='upper right')\n",
    "            leg.draw_frame(False)\n",
    "\n",
    "        # Remove axis when we no longer have data\n",
    "        else:\n",
    "            ax.set_axis_off()\n",
    "\n",
    "        counter += 1\n",
    "\n",
    "#plt.savefig('histogram_all_scoring_var.png', dpi = 200)\n",
    "plt.show()"
   ]
  },
  {
   "cell_type": "code",
   "execution_count": 51,
   "metadata": {},
   "outputs": [
    {
     "data": {
      "image/png": "[encoded data removed]",
      "text/plain": [
       "<Figure size 1080x1080 with 8 Axes>"
      ]
     },
     "metadata": {},
     "output_type": "display_data"
    }
   ],
   "source": [
    "# creating histogram for each variable to explore their underlying distributions\n",
    "\n",
    "fig, axes = plt.subplots(nrows=4, ncols=2, figsize=(15, 15))\n",
    "\n",
    "counter = 0\n",
    "for i in range(4):\n",
    "    for j in range(2):\n",
    "\n",
    "        ax = axes[i][j]\n",
    "\n",
    "        # Plot when we have data\n",
    "        if counter < len(swandlondon_extract__distribution_r.columns):\n",
    "\n",
    "            ax.hist(swandlondon_extract__distribution_r[swandlondon_extract__distribution_r.columns[counter]], label='{}'.format(swandlondon_extract__distribution_r.columns[counter]))\n",
    "            leg = ax.legend(loc='upper right')\n",
    "            leg.draw_frame(False)\n",
    "\n",
    "        # Remove axis when we no longer have data\n",
    "        else:\n",
    "            ax.set_axis_off()\n",
    "\n",
    "        counter += 1\n",
    "\n",
    "#plt.savefig('histogram_all_scoring_var.png', dpi = 200)\n",
    "plt.show()"
   ]
  },
  {
   "cell_type": "markdown",
   "metadata": {},
   "source": [
    "### based on the analysis above, I decided to use 'the MSOA to Local Authotity ratio of every variable' as the predictors. "
   ]
  },
  {
   "cell_type": "markdown",
   "metadata": {},
   "source": [
    "## Part4: Data Transformation, scaling and PCA\n"
   ]
  },
  {
   "cell_type": "markdown",
   "metadata": {},
   "source": [
    "What did I do in this part:\n",
    "\n",
    "1. Transform highly skewed variable. Consider which transformation approaches to use: untransformed, Box Cox or Log\n",
    "2. Consider whether to scale the input varibales before PCA. \n",
    "\n",
    "three approaches * (to scale or not sclae) = 6 scenarios\n",
    "\n",
    "Check the explained variance of the 1st componet for the 6scenarios\n",
    "\n"
   ]
  },
  {
   "cell_type": "code",
   "execution_count": 52,
   "metadata": {},
   "outputs": [],
   "source": [
    "# from the distribution check above, the median housing price\n",
    "df_transformed = swandlondon_extract__distribution_la [[ 'ratio_la_median_price_2011',\n",
    " 'ratio_la_median_price_2001']]"
   ]
  },
  {
   "cell_type": "code",
   "execution_count": 53,
   "metadata": {},
   "outputs": [],
   "source": [
    "from scipy.stats import boxcox\n",
    "import numpy as np"
   ]
  },
  {
   "cell_type": "code",
   "execution_count": 54,
   "metadata": {},
   "outputs": [],
   "source": [
    "#Box-Cox Transform\n",
    "price01, lmd01a = boxcox(df_transformed['ratio_la_median_price_2001']) \n",
    "price11 = boxcox(df_transformed['ratio_la_median_price_2011'], lmbda=lmd01a)"
   ]
  },
  {
   "cell_type": "code",
   "execution_count": 55,
   "metadata": {},
   "outputs": [],
   "source": [
    "#Log transform\n",
    "price01l = np.log(df_transformed['ratio_la_median_price_2001']) \n",
    "price11l = np.log(df_transformed['ratio_la_median_price_2011'])\n"
   ]
  },
  {
   "cell_type": "code",
   "execution_count": 56,
   "metadata": {},
   "outputs": [],
   "source": [
    "#choose one\n",
    "to_use = 'Box-Cox' # Choices: ['Untransformed','Box-Cox','Log']"
   ]
  },
  {
   "cell_type": "code",
   "execution_count": 57,
   "metadata": {},
   "outputs": [],
   "source": [
    "if to_use == 'Untransformed':\n",
    "    swandlondon_la_pca=swandlondon_la\n",
    "elif to_use == 'Box-Cox':\n",
    "    swandlondon_la_pca=swandlondon_la\n",
    "    swandlondon_la_pca['ratio_la_median_price_2011']=price11\n",
    "    swandlondon_la_pca['ratio_la_median_price_2001']=price01\n",
    "elif to_use == 'Log':\n",
    "    swandlondon_la_pca=swandlondon_la\n",
    "    swandlondon_la_pca['ratio_la_median_price_2011']=price11l\n",
    "    swandlondon_la_pca['ratio_la_median_price_2001']=price01l "
   ]
  },
  {
   "cell_type": "code",
   "execution_count": 58,
   "metadata": {},
   "outputs": [],
   "source": [
    "# import necessary libraries for PCA\n",
    "\n",
    "from sklearn.preprocessing import RobustScaler\n",
    "from sklearn import decomposition  \n",
    "from sklearn.preprocessing import scale  \n",
    "from sklearn import preprocessing \n",
    "from sklearn import linear_model\n",
    "from sklearn import model_selection\n",
    "\n",
    "\n",
    "df_scaling = swandlondon_la_pca.set_index('MSOA11CD')"
   ]
  },
  {
   "cell_type": "code",
   "execution_count": 59,
   "metadata": {},
   "outputs": [
    {
     "name": "stdout",
     "output_type": "stream",
     "text": [
      "<class 'pandas.core.frame.DataFrame'>\n",
      "Index: 1227 entries, E02003134 to E02006791\n",
      "Data columns (total 8 columns):\n",
      " #   Column                       Non-Null Count  Dtype  \n",
      "---  ------                       --------------  -----  \n",
      " 0   ratio_la_median_price_2011   1227 non-null   float64\n",
      " 1   ratio_la_median_price_2001   1227 non-null   float64\n",
      " 2   ratio_la_qualification_2011  1227 non-null   float64\n",
      " 3   ratio_la_qualification_2001  1227 non-null   float64\n",
      " 4   ratio_la_NSSEC_2011          1227 non-null   float64\n",
      " 5   ratio_la_NSSEC_2001          1227 non-null   float64\n",
      " 6   ratio_la_earning_2011        1227 non-null   float64\n",
      " 7   ratio_la_earning_2001        1227 non-null   float64\n",
      "dtypes: float64(8)\n",
      "memory usage: 86.3+ KB\n"
     ]
    }
   ],
   "source": [
    "# check that index has been changed to MSOA code\n",
    "\n",
    "df_scaling.info()"
   ]
  },
  {
   "cell_type": "code",
   "execution_count": 60,
   "metadata": {},
   "outputs": [],
   "source": [
    "# split 2001 data from 2011 data\n",
    "\n",
    "df_scaling_2001 = df_scaling[[\"ratio_la_median_price_2001\", \"ratio_la_qualification_2001\", \"ratio_la_NSSEC_2001\",\"ratio_la_earning_2001\"]]\n",
    "df_scaling_2011 = df_scaling[[\"ratio_la_median_price_2011\", \"ratio_la_qualification_2011\", \"ratio_la_NSSEC_2011\",\"ratio_la_earning_2011\"]]"
   ]
  },
  {
   "cell_type": "code",
   "execution_count": 61,
   "metadata": {},
   "outputs": [],
   "source": [
    "# stacking the 2001 data vertically with 2011 data\n",
    "\n",
    "values_2001 = df_scaling_2001.values\n",
    "values_2011 = df_scaling_2011.values\n",
    "stacked_df = np.concatenate((values_2001, values_2011), axis=0)"
   ]
  },
  {
   "cell_type": "code",
   "execution_count": 62,
   "metadata": {},
   "outputs": [
    {
     "name": "stdout",
     "output_type": "stream",
     "text": [
      "<class 'pandas.core.frame.DataFrame'>\n",
      "Index: 1227 entries, E02003134 to E02006791\n",
      "Data columns (total 4 columns):\n",
      " #   Column                       Non-Null Count  Dtype  \n",
      "---  ------                       --------------  -----  \n",
      " 0   ratio_la_median_price_2001   1227 non-null   float64\n",
      " 1   ratio_la_qualification_2001  1227 non-null   float64\n",
      " 2   ratio_la_NSSEC_2001          1227 non-null   float64\n",
      " 3   ratio_la_earning_2001        1227 non-null   float64\n",
      "dtypes: float64(4)\n",
      "memory usage: 47.9+ KB\n"
     ]
    }
   ],
   "source": [
    "df_scaling_2001.info()"
   ]
  },
  {
   "cell_type": "code",
   "execution_count": 63,
   "metadata": {},
   "outputs": [
    {
     "data": {
      "text/plain": [
       "0"
      ]
     },
     "execution_count": 63,
     "metadata": {},
     "output_type": "execute_result"
    }
   ],
   "source": [
    "# checking for NaN values before scaling and transforming\n",
    "\n",
    "np.isnan(stacked_df).sum()"
   ]
  },
  {
   "cell_type": "code",
   "execution_count": 64,
   "metadata": {},
   "outputs": [
    {
     "data": {
      "text/plain": [
       "array([[-0.79525522, -1.38512143, -1.19758761,  0.        ],\n",
       "       [-1.10189401, -0.99173503,  0.00431122,  0.        ],\n",
       "       [ 1.01572608,  0.15533586,  0.45766028,  0.        ],\n",
       "       ...,\n",
       "       [-0.25770493, -0.52482431, -0.57091786,  0.        ],\n",
       "       [ 0.50687362, -0.54943387, -0.247191  ,  0.        ],\n",
       "       [ 1.31908053,  1.38371648,  1.92202951,  0.        ]])"
      ]
     },
     "execution_count": 64,
     "metadata": {},
     "output_type": "execute_result"
    }
   ],
   "source": [
    "# scaling and transforming the stacked data using RobustScaler\n",
    "\n",
    "Robust_transformer = RobustScaler().fit(stacked_df)\n",
    "Robust_transformer_df = Robust_transformer.transform(stacked_df)\n",
    "Robust_transformer_df"
   ]
  },
  {
   "cell_type": "code",
   "execution_count": 65,
   "metadata": {},
   "outputs": [
    {
     "data": {
      "text/html": [
       "<div>\n",
       "<style scoped>\n",
       "    .dataframe tbody tr th:only-of-type {\n",
       "        vertical-align: middle;\n",
       "    }\n",
       "\n",
       "    .dataframe tbody tr th {\n",
       "        vertical-align: top;\n",
       "    }\n",
       "\n",
       "    .dataframe thead th {\n",
       "        text-align: right;\n",
       "    }\n",
       "</style>\n",
       "<table border=\"1\" class=\"dataframe\">\n",
       "  <thead>\n",
       "    <tr style=\"text-align: right;\">\n",
       "      <th></th>\n",
       "      <th>ratio_la_median_price_2001</th>\n",
       "      <th>ratio_la_qualification_2001</th>\n",
       "      <th>ratio_la_NSSEC_2001</th>\n",
       "      <th>ratio_la_earning_2001</th>\n",
       "    </tr>\n",
       "    <tr>\n",
       "      <th>MSOA11CD</th>\n",
       "      <th></th>\n",
       "      <th></th>\n",
       "      <th></th>\n",
       "      <th></th>\n",
       "    </tr>\n",
       "  </thead>\n",
       "  <tbody>\n",
       "    <tr>\n",
       "      <th>E02003134</th>\n",
       "      <td>-0.795255</td>\n",
       "      <td>-1.385121</td>\n",
       "      <td>-1.197588</td>\n",
       "      <td>0.0</td>\n",
       "    </tr>\n",
       "    <tr>\n",
       "      <th>E02003135</th>\n",
       "      <td>-1.101894</td>\n",
       "      <td>-0.991735</td>\n",
       "      <td>0.004311</td>\n",
       "      <td>0.0</td>\n",
       "    </tr>\n",
       "    <tr>\n",
       "      <th>E02003136</th>\n",
       "      <td>1.015726</td>\n",
       "      <td>0.155336</td>\n",
       "      <td>0.457660</td>\n",
       "      <td>0.0</td>\n",
       "    </tr>\n",
       "    <tr>\n",
       "      <th>E02003137</th>\n",
       "      <td>1.209701</td>\n",
       "      <td>3.121535</td>\n",
       "      <td>2.009396</td>\n",
       "      <td>0.0</td>\n",
       "    </tr>\n",
       "    <tr>\n",
       "      <th>E02003138</th>\n",
       "      <td>0.732926</td>\n",
       "      <td>2.733818</td>\n",
       "      <td>1.798440</td>\n",
       "      <td>0.0</td>\n",
       "    </tr>\n",
       "    <tr>\n",
       "      <th>...</th>\n",
       "      <td>...</td>\n",
       "      <td>...</td>\n",
       "      <td>...</td>\n",
       "      <td>...</td>\n",
       "    </tr>\n",
       "    <tr>\n",
       "      <th>E02006786</th>\n",
       "      <td>-0.625399</td>\n",
       "      <td>-1.046126</td>\n",
       "      <td>-0.551177</td>\n",
       "      <td>0.0</td>\n",
       "    </tr>\n",
       "    <tr>\n",
       "      <th>E02006787</th>\n",
       "      <td>0.272899</td>\n",
       "      <td>0.066038</td>\n",
       "      <td>0.204620</td>\n",
       "      <td>0.0</td>\n",
       "    </tr>\n",
       "    <tr>\n",
       "      <th>E02006788</th>\n",
       "      <td>-0.000526</td>\n",
       "      <td>-0.606965</td>\n",
       "      <td>-0.406371</td>\n",
       "      <td>0.0</td>\n",
       "    </tr>\n",
       "    <tr>\n",
       "      <th>E02006789</th>\n",
       "      <td>0.616866</td>\n",
       "      <td>-0.634728</td>\n",
       "      <td>-0.171212</td>\n",
       "      <td>0.0</td>\n",
       "    </tr>\n",
       "    <tr>\n",
       "      <th>E02006791</th>\n",
       "      <td>1.147193</td>\n",
       "      <td>1.322746</td>\n",
       "      <td>1.580925</td>\n",
       "      <td>0.0</td>\n",
       "    </tr>\n",
       "  </tbody>\n",
       "</table>\n",
       "<p>1227 rows × 4 columns</p>\n",
       "</div>"
      ],
      "text/plain": [
       "           ratio_la_median_price_2001  ratio_la_qualification_2001  \\\n",
       "MSOA11CD                                                             \n",
       "E02003134                   -0.795255                    -1.385121   \n",
       "E02003135                   -1.101894                    -0.991735   \n",
       "E02003136                    1.015726                     0.155336   \n",
       "E02003137                    1.209701                     3.121535   \n",
       "E02003138                    0.732926                     2.733818   \n",
       "...                               ...                          ...   \n",
       "E02006786                   -0.625399                    -1.046126   \n",
       "E02006787                    0.272899                     0.066038   \n",
       "E02006788                   -0.000526                    -0.606965   \n",
       "E02006789                    0.616866                    -0.634728   \n",
       "E02006791                    1.147193                     1.322746   \n",
       "\n",
       "           ratio_la_NSSEC_2001  ratio_la_earning_2001  \n",
       "MSOA11CD                                               \n",
       "E02003134            -1.197588                    0.0  \n",
       "E02003135             0.004311                    0.0  \n",
       "E02003136             0.457660                    0.0  \n",
       "E02003137             2.009396                    0.0  \n",
       "E02003138             1.798440                    0.0  \n",
       "...                        ...                    ...  \n",
       "E02006786            -0.551177                    0.0  \n",
       "E02006787             0.204620                    0.0  \n",
       "E02006788            -0.406371                    0.0  \n",
       "E02006789            -0.171212                    0.0  \n",
       "E02006791             1.580925                    0.0  \n",
       "\n",
       "[1227 rows x 4 columns]"
      ]
     },
     "execution_count": 65,
     "metadata": {},
     "output_type": "execute_result"
    }
   ],
   "source": [
    "# extracting scaled data for 2001\n",
    "\n",
    "scaled_df_2001 = pd.DataFrame(Robust_transformer_df[0:len(df_scaling_2001),], index=df_scaling_2001.index, columns=list(df_scaling_2001.columns))\n",
    "scaled_df_2001"
   ]
  },
  {
   "cell_type": "code",
   "execution_count": 66,
   "metadata": {},
   "outputs": [
    {
     "data": {
      "text/html": [
       "<div>\n",
       "<style scoped>\n",
       "    .dataframe tbody tr th:only-of-type {\n",
       "        vertical-align: middle;\n",
       "    }\n",
       "\n",
       "    .dataframe tbody tr th {\n",
       "        vertical-align: top;\n",
       "    }\n",
       "\n",
       "    .dataframe thead th {\n",
       "        text-align: right;\n",
       "    }\n",
       "</style>\n",
       "<table border=\"1\" class=\"dataframe\">\n",
       "  <thead>\n",
       "    <tr style=\"text-align: right;\">\n",
       "      <th></th>\n",
       "      <th>ratio_la_median_price_2001</th>\n",
       "      <th>ratio_la_qualification_2001</th>\n",
       "      <th>ratio_la_NSSEC_2001</th>\n",
       "      <th>ratio_la_earning_2001</th>\n",
       "    </tr>\n",
       "    <tr>\n",
       "      <th>MSOA11CD</th>\n",
       "      <th></th>\n",
       "      <th></th>\n",
       "      <th></th>\n",
       "      <th></th>\n",
       "    </tr>\n",
       "  </thead>\n",
       "  <tbody>\n",
       "    <tr>\n",
       "      <th>E02003134</th>\n",
       "      <td>-0.795255</td>\n",
       "      <td>-1.385121</td>\n",
       "      <td>-1.197588</td>\n",
       "      <td>0.0</td>\n",
       "    </tr>\n",
       "    <tr>\n",
       "      <th>E02003135</th>\n",
       "      <td>-1.101894</td>\n",
       "      <td>-0.991735</td>\n",
       "      <td>0.004311</td>\n",
       "      <td>0.0</td>\n",
       "    </tr>\n",
       "    <tr>\n",
       "      <th>E02003136</th>\n",
       "      <td>1.015726</td>\n",
       "      <td>0.155336</td>\n",
       "      <td>0.457660</td>\n",
       "      <td>0.0</td>\n",
       "    </tr>\n",
       "    <tr>\n",
       "      <th>E02003137</th>\n",
       "      <td>1.209701</td>\n",
       "      <td>3.121535</td>\n",
       "      <td>2.009396</td>\n",
       "      <td>0.0</td>\n",
       "    </tr>\n",
       "    <tr>\n",
       "      <th>E02003138</th>\n",
       "      <td>0.732926</td>\n",
       "      <td>2.733818</td>\n",
       "      <td>1.798440</td>\n",
       "      <td>0.0</td>\n",
       "    </tr>\n",
       "    <tr>\n",
       "      <th>...</th>\n",
       "      <td>...</td>\n",
       "      <td>...</td>\n",
       "      <td>...</td>\n",
       "      <td>...</td>\n",
       "    </tr>\n",
       "    <tr>\n",
       "      <th>E02006786</th>\n",
       "      <td>-0.625399</td>\n",
       "      <td>-1.046126</td>\n",
       "      <td>-0.551177</td>\n",
       "      <td>0.0</td>\n",
       "    </tr>\n",
       "    <tr>\n",
       "      <th>E02006787</th>\n",
       "      <td>0.272899</td>\n",
       "      <td>0.066038</td>\n",
       "      <td>0.204620</td>\n",
       "      <td>0.0</td>\n",
       "    </tr>\n",
       "    <tr>\n",
       "      <th>E02006788</th>\n",
       "      <td>-0.000526</td>\n",
       "      <td>-0.606965</td>\n",
       "      <td>-0.406371</td>\n",
       "      <td>0.0</td>\n",
       "    </tr>\n",
       "    <tr>\n",
       "      <th>E02006789</th>\n",
       "      <td>0.616866</td>\n",
       "      <td>-0.634728</td>\n",
       "      <td>-0.171212</td>\n",
       "      <td>0.0</td>\n",
       "    </tr>\n",
       "    <tr>\n",
       "      <th>E02006791</th>\n",
       "      <td>1.147193</td>\n",
       "      <td>1.322746</td>\n",
       "      <td>1.580925</td>\n",
       "      <td>0.0</td>\n",
       "    </tr>\n",
       "  </tbody>\n",
       "</table>\n",
       "<p>1227 rows × 4 columns</p>\n",
       "</div>"
      ],
      "text/plain": [
       "           ratio_la_median_price_2001  ratio_la_qualification_2001  \\\n",
       "MSOA11CD                                                             \n",
       "E02003134                   -0.795255                    -1.385121   \n",
       "E02003135                   -1.101894                    -0.991735   \n",
       "E02003136                    1.015726                     0.155336   \n",
       "E02003137                    1.209701                     3.121535   \n",
       "E02003138                    0.732926                     2.733818   \n",
       "...                               ...                          ...   \n",
       "E02006786                   -0.625399                    -1.046126   \n",
       "E02006787                    0.272899                     0.066038   \n",
       "E02006788                   -0.000526                    -0.606965   \n",
       "E02006789                    0.616866                    -0.634728   \n",
       "E02006791                    1.147193                     1.322746   \n",
       "\n",
       "           ratio_la_NSSEC_2001  ratio_la_earning_2001  \n",
       "MSOA11CD                                               \n",
       "E02003134            -1.197588                    0.0  \n",
       "E02003135             0.004311                    0.0  \n",
       "E02003136             0.457660                    0.0  \n",
       "E02003137             2.009396                    0.0  \n",
       "E02003138             1.798440                    0.0  \n",
       "...                        ...                    ...  \n",
       "E02006786            -0.551177                    0.0  \n",
       "E02006787             0.204620                    0.0  \n",
       "E02006788            -0.406371                    0.0  \n",
       "E02006789            -0.171212                    0.0  \n",
       "E02006791             1.580925                    0.0  \n",
       "\n",
       "[1227 rows x 4 columns]"
      ]
     },
     "execution_count": 66,
     "metadata": {},
     "output_type": "execute_result"
    }
   ],
   "source": [
    "scaled_df_2001 = pd.DataFrame(Robust_transformer_df[0:len(df_scaling_2001),], index=df_scaling_2001.index, columns=list(df_scaling_2001.columns))\n",
    "scaled_df_2001"
   ]
  },
  {
   "cell_type": "code",
   "execution_count": 67,
   "metadata": {},
   "outputs": [
    {
     "data": {
      "text/plain": [
       "<AxesSubplot:>"
      ]
     },
     "execution_count": 67,
     "metadata": {},
     "output_type": "execute_result"
    },
    {
     "data": {
      "image/png": "[encoded data removed]",
      "text/plain": [
       "<Figure size 432x288 with 1 Axes>"
      ]
     },
     "metadata": {},
     "output_type": "display_data"
    }
   ],
   "source": [
    "# visualising scaled data using boxplot (2001)\n",
    "\n",
    "scaled_df_2001.boxplot()\n",
    "\n",
    "# to output high-resolution image - uncomment the next line\n",
    "# plt.savefig('scaled_df_2001.png', dpi = 100)"
   ]
  },
  {
   "cell_type": "code",
   "execution_count": 68,
   "metadata": {},
   "outputs": [
    {
     "data": {
      "text/plain": [
       "<AxesSubplot:>"
      ]
     },
     "execution_count": 68,
     "metadata": {},
     "output_type": "execute_result"
    },
    {
     "data": {
      "image/png": "[encoded data removed]",
      "text/plain": [
       "<Figure size 432x288 with 1 Axes>"
      ]
     },
     "metadata": {},
     "output_type": "display_data"
    }
   ],
   "source": [
    "# extracting scaled data for 2011\n",
    "\n",
    "scaled_df_2011 = pd.DataFrame(Robust_transformer_df[len(df_scaling_2011):,], index=df_scaling_2011.index, columns=list(df_scaling_2011.columns))\n",
    "scaled_df_2011\n",
    "# visualising scaled data using boxplot (2011)\n",
    "\n",
    "\n",
    "scaled_df_2011.boxplot()\n",
    "\n",
    "# to output high-resolution image - uncomment the next line\n",
    "# plt.savefig('scaled_df_2011.png', dpi = 100)"
   ]
  },
  {
   "cell_type": "code",
   "execution_count": 69,
   "metadata": {},
   "outputs": [
    {
     "name": "stdout",
     "output_type": "stream",
     "text": [
      "Explained variance of the SES score is: 0.82400\n"
     ]
    }
   ],
   "source": [
    "# carry out PCA to derive only the 1st principal component---scaled data\n",
    "\n",
    "pca = decomposition.PCA(n_components=1)             \n",
    "pca.fit(Robust_transformer_df)                      \n",
    "PCA_scores = pd.DataFrame(pca.transform(Robust_transformer_df))  \n",
    "\n",
    "print(\"Explained variance of the SES score is: {0:6.5f}\".format(pca.explained_variance_ratio_[0]))"
   ]
  },
  {
   "cell_type": "code",
   "execution_count": 70,
   "metadata": {},
   "outputs": [
    {
     "name": "stdout",
     "output_type": "stream",
     "text": [
      "[0.82400457 0.14168576 0.03430967 0.        ]\n"
     ]
    }
   ],
   "source": [
    "# what if one wanted to find all principal components?\n",
    "\n",
    "pca_all = decomposition.PCA()             \n",
    "pca_all.fit(Robust_transformer_df)                      \n",
    "print(pca_all.explained_variance_ratio_)"
   ]
  },
  {
   "cell_type": "code",
   "execution_count": 71,
   "metadata": {},
   "outputs": [
    {
     "name": "stdout",
     "output_type": "stream",
     "text": [
      "Explained variance of the SES score is: 0.83157\n"
     ]
    }
   ],
   "source": [
    "# carry out PCA to derive only the 1st principal component----not scaled data\n",
    "\n",
    "pca = decomposition.PCA(n_components=1)             \n",
    "pca.fit(stacked_df)                      \n",
    "PCA_scores = pd.DataFrame(pca.transform(stacked_df))  \n",
    "\n",
    "print(\"Explained variance of the SES score is: {0:6.5f}\".format(pca.explained_variance_ratio_[0]))"
   ]
  },
  {
   "cell_type": "code",
   "execution_count": 72,
   "metadata": {},
   "outputs": [
    {
     "name": "stdout",
     "output_type": "stream",
     "text": [
      "[0.83156641 0.13225879 0.0361748  0.        ]\n"
     ]
    }
   ],
   "source": [
    "# what if one wanted to find all principal components?\n",
    "\n",
    "pca_all = decomposition.PCA()             \n",
    "pca_all.fit(stacked_df)                      \n",
    "print(pca_all.explained_variance_ratio_)"
   ]
  },
  {
   "cell_type": "markdown",
   "metadata": {},
   "source": [
    "### The results of this part are as follow:\n",
    "\n",
    "Explained variances for each scenarios:\n",
    "\n",
    "1. Untransformed, Scaled:0.79012\n",
    "2. Untransformed, Not Scaled:0.79363\n",
    "3. Box-Cox Transformed, Scaled:0.82071\n",
    "4. Box-Cox Transformed, Not Scaled:0.82869 (Best Performance)\n",
    "5. Log Transformed, Scaled:0.81630\n",
    "6. Log Transformed, Not Scaled:0.82457\n",
    "\n",
    "### Therefore, I decided to use the results of the Box-Cox Transformed and Not Scaled data."
   ]
  },
  {
   "cell_type": "markdown",
   "metadata": {},
   "source": [
    "## Part 5: PCA Score"
   ]
  },
  {
   "cell_type": "code",
   "execution_count": 73,
   "metadata": {},
   "outputs": [],
   "source": [
    "# extracting scores for the respective years\n",
    "\n",
    "PCA_2001 = pd.DataFrame(PCA_scores.iloc[0:len(df_scaling_2001),])\n",
    "PCA_2011 = pd.DataFrame(PCA_scores.iloc[len(df_scaling_2011):,])"
   ]
  },
  {
   "cell_type": "code",
   "execution_count": 74,
   "metadata": {},
   "outputs": [],
   "source": [
    "# renaming their column titles\n",
    "\n",
    "PCA_2001 = PCA_2001.rename(columns={0: \"Score_2001\"})\n",
    "PCA_2011 = PCA_2011.rename(columns={0: \"Score_2011\"})"
   ]
  },
  {
   "cell_type": "code",
   "execution_count": 75,
   "metadata": {},
   "outputs": [],
   "source": [
    "# attaching the 2001 scores to their respective MSOAs in the main dataframe (df_score)\n",
    "\n",
    "df_score = df_scaling.reset_index()\n",
    "df_score[\"Score_2001\"] = PCA_2001[:]"
   ]
  },
  {
   "cell_type": "code",
   "execution_count": 76,
   "metadata": {},
   "outputs": [],
   "source": [
    "# PCA_2011 requires further resetting of the index propr to attaching them to the main dataframe\n",
    "\n",
    "PCA_2011 = PCA_2011.reset_index()\n",
    "PCA_2011 = PCA_2011.drop(columns=\"index\")\n",
    "df_score[\"Score_2011\"] = PCA_2011"
   ]
  },
  {
   "cell_type": "code",
   "execution_count": 77,
   "metadata": {},
   "outputs": [
    {
     "data": {
      "text/html": [
       "<div>\n",
       "<style scoped>\n",
       "    .dataframe tbody tr th:only-of-type {\n",
       "        vertical-align: middle;\n",
       "    }\n",
       "\n",
       "    .dataframe tbody tr th {\n",
       "        vertical-align: top;\n",
       "    }\n",
       "\n",
       "    .dataframe thead th {\n",
       "        text-align: right;\n",
       "    }\n",
       "</style>\n",
       "<table border=\"1\" class=\"dataframe\">\n",
       "  <thead>\n",
       "    <tr style=\"text-align: right;\">\n",
       "      <th></th>\n",
       "      <th>MSOA11CD</th>\n",
       "      <th>ratio_la_median_price_2011</th>\n",
       "      <th>ratio_la_median_price_2001</th>\n",
       "      <th>ratio_la_qualification_2011</th>\n",
       "      <th>ratio_la_qualification_2001</th>\n",
       "      <th>ratio_la_NSSEC_2011</th>\n",
       "      <th>ratio_la_NSSEC_2001</th>\n",
       "      <th>ratio_la_earning_2011</th>\n",
       "      <th>ratio_la_earning_2001</th>\n",
       "      <th>Score_2001</th>\n",
       "      <th>Score_2011</th>\n",
       "    </tr>\n",
       "  </thead>\n",
       "  <tbody>\n",
       "    <tr>\n",
       "      <th>0</th>\n",
       "      <td>E02003134</td>\n",
       "      <td>-0.305638</td>\n",
       "      <td>-0.268875</td>\n",
       "      <td>0.523025</td>\n",
       "      <td>0.461860</td>\n",
       "      <td>0.655101</td>\n",
       "      <td>0.579209</td>\n",
       "      <td>1.0</td>\n",
       "      <td>1.0</td>\n",
       "      <td>-0.709548</td>\n",
       "      <td>-0.645002</td>\n",
       "    </tr>\n",
       "    <tr>\n",
       "      <th>1</th>\n",
       "      <td>E02003135</td>\n",
       "      <td>-0.327716</td>\n",
       "      <td>-0.366467</td>\n",
       "      <td>0.623575</td>\n",
       "      <td>0.607239</td>\n",
       "      <td>0.781860</td>\n",
       "      <td>0.991289</td>\n",
       "      <td>1.0</td>\n",
       "      <td>1.0</td>\n",
       "      <td>-0.425175</td>\n",
       "      <td>-0.518281</td>\n",
       "    </tr>\n",
       "    <tr>\n",
       "      <th>2</th>\n",
       "      <td>E02003136</td>\n",
       "      <td>0.166182</td>\n",
       "      <td>0.307495</td>\n",
       "      <td>1.068613</td>\n",
       "      <td>1.031148</td>\n",
       "      <td>1.275087</td>\n",
       "      <td>1.146724</td>\n",
       "      <td>1.0</td>\n",
       "      <td>1.0</td>\n",
       "      <td>0.275116</td>\n",
       "      <td>0.302558</td>\n",
       "    </tr>\n",
       "    <tr>\n",
       "      <th>3</th>\n",
       "      <td>E02003137</td>\n",
       "      <td>0.399040</td>\n",
       "      <td>0.369231</td>\n",
       "      <td>1.746879</td>\n",
       "      <td>2.127330</td>\n",
       "      <td>1.743479</td>\n",
       "      <td>1.678748</td>\n",
       "      <td>1.0</td>\n",
       "      <td>1.0</td>\n",
       "      <td>1.310521</td>\n",
       "      <td>1.123651</td>\n",
       "    </tr>\n",
       "    <tr>\n",
       "      <th>4</th>\n",
       "      <td>E02003138</td>\n",
       "      <td>0.200208</td>\n",
       "      <td>0.217490</td>\n",
       "      <td>1.756318</td>\n",
       "      <td>1.984046</td>\n",
       "      <td>1.615324</td>\n",
       "      <td>1.606420</td>\n",
       "      <td>1.0</td>\n",
       "      <td>1.0</td>\n",
       "      <td>1.100737</td>\n",
       "      <td>0.953547</td>\n",
       "    </tr>\n",
       "    <tr>\n",
       "      <th>...</th>\n",
       "      <td>...</td>\n",
       "      <td>...</td>\n",
       "      <td>...</td>\n",
       "      <td>...</td>\n",
       "      <td>...</td>\n",
       "      <td>...</td>\n",
       "      <td>...</td>\n",
       "      <td>...</td>\n",
       "      <td>...</td>\n",
       "      <td>...</td>\n",
       "      <td>...</td>\n",
       "    </tr>\n",
       "    <tr>\n",
       "      <th>1222</th>\n",
       "      <td>E02006786</td>\n",
       "      <td>-0.396573</td>\n",
       "      <td>-0.214816</td>\n",
       "      <td>0.734698</td>\n",
       "      <td>0.587138</td>\n",
       "      <td>0.739559</td>\n",
       "      <td>0.800836</td>\n",
       "      <td>1.0</td>\n",
       "      <td>1.0</td>\n",
       "      <td>-0.472904</td>\n",
       "      <td>-0.507927</td>\n",
       "    </tr>\n",
       "    <tr>\n",
       "      <th>1223</th>\n",
       "      <td>E02006787</td>\n",
       "      <td>0.130967</td>\n",
       "      <td>0.071080</td>\n",
       "      <td>1.077752</td>\n",
       "      <td>0.998147</td>\n",
       "      <td>1.099335</td>\n",
       "      <td>1.059967</td>\n",
       "      <td>1.0</td>\n",
       "      <td>1.0</td>\n",
       "      <td>0.083517</td>\n",
       "      <td>0.187215</td>\n",
       "    </tr>\n",
       "    <tr>\n",
       "      <th>1224</th>\n",
       "      <td>E02006788</td>\n",
       "      <td>-0.097792</td>\n",
       "      <td>-0.015941</td>\n",
       "      <td>0.779789</td>\n",
       "      <td>0.749433</td>\n",
       "      <td>0.794068</td>\n",
       "      <td>0.850484</td>\n",
       "      <td>1.0</td>\n",
       "      <td>1.0</td>\n",
       "      <td>-0.240566</td>\n",
       "      <td>-0.296042</td>\n",
       "    </tr>\n",
       "    <tr>\n",
       "      <th>1225</th>\n",
       "      <td>E02006789</td>\n",
       "      <td>0.145546</td>\n",
       "      <td>0.180553</td>\n",
       "      <td>0.770695</td>\n",
       "      <td>0.739173</td>\n",
       "      <td>0.905060</td>\n",
       "      <td>0.931110</td>\n",
       "      <td>1.0</td>\n",
       "      <td>1.0</td>\n",
       "      <td>-0.100090</td>\n",
       "      <td>-0.113251</td>\n",
       "    </tr>\n",
       "    <tr>\n",
       "      <th>1226</th>\n",
       "      <td>E02006791</td>\n",
       "      <td>0.404042</td>\n",
       "      <td>0.349337</td>\n",
       "      <td>1.485106</td>\n",
       "      <td>1.462573</td>\n",
       "      <td>1.648794</td>\n",
       "      <td>1.531844</td>\n",
       "      <td>1.0</td>\n",
       "      <td>1.0</td>\n",
       "      <td>0.794763</td>\n",
       "      <td>0.905414</td>\n",
       "    </tr>\n",
       "  </tbody>\n",
       "</table>\n",
       "<p>1227 rows × 11 columns</p>\n",
       "</div>"
      ],
      "text/plain": [
       "       MSOA11CD  ratio_la_median_price_2011  ratio_la_median_price_2001  \\\n",
       "0     E02003134                   -0.305638                   -0.268875   \n",
       "1     E02003135                   -0.327716                   -0.366467   \n",
       "2     E02003136                    0.166182                    0.307495   \n",
       "3     E02003137                    0.399040                    0.369231   \n",
       "4     E02003138                    0.200208                    0.217490   \n",
       "...         ...                         ...                         ...   \n",
       "1222  E02006786                   -0.396573                   -0.214816   \n",
       "1223  E02006787                    0.130967                    0.071080   \n",
       "1224  E02006788                   -0.097792                   -0.015941   \n",
       "1225  E02006789                    0.145546                    0.180553   \n",
       "1226  E02006791                    0.404042                    0.349337   \n",
       "\n",
       "      ratio_la_qualification_2011  ratio_la_qualification_2001  \\\n",
       "0                        0.523025                     0.461860   \n",
       "1                        0.623575                     0.607239   \n",
       "2                        1.068613                     1.031148   \n",
       "3                        1.746879                     2.127330   \n",
       "4                        1.756318                     1.984046   \n",
       "...                           ...                          ...   \n",
       "1222                     0.734698                     0.587138   \n",
       "1223                     1.077752                     0.998147   \n",
       "1224                     0.779789                     0.749433   \n",
       "1225                     0.770695                     0.739173   \n",
       "1226                     1.485106                     1.462573   \n",
       "\n",
       "      ratio_la_NSSEC_2011  ratio_la_NSSEC_2001  ratio_la_earning_2011  \\\n",
       "0                0.655101             0.579209                    1.0   \n",
       "1                0.781860             0.991289                    1.0   \n",
       "2                1.275087             1.146724                    1.0   \n",
       "3                1.743479             1.678748                    1.0   \n",
       "4                1.615324             1.606420                    1.0   \n",
       "...                   ...                  ...                    ...   \n",
       "1222             0.739559             0.800836                    1.0   \n",
       "1223             1.099335             1.059967                    1.0   \n",
       "1224             0.794068             0.850484                    1.0   \n",
       "1225             0.905060             0.931110                    1.0   \n",
       "1226             1.648794             1.531844                    1.0   \n",
       "\n",
       "      ratio_la_earning_2001  Score_2001  Score_2011  \n",
       "0                       1.0   -0.709548   -0.645002  \n",
       "1                       1.0   -0.425175   -0.518281  \n",
       "2                       1.0    0.275116    0.302558  \n",
       "3                       1.0    1.310521    1.123651  \n",
       "4                       1.0    1.100737    0.953547  \n",
       "...                     ...         ...         ...  \n",
       "1222                    1.0   -0.472904   -0.507927  \n",
       "1223                    1.0    0.083517    0.187215  \n",
       "1224                    1.0   -0.240566   -0.296042  \n",
       "1225                    1.0   -0.100090   -0.113251  \n",
       "1226                    1.0    0.794763    0.905414  \n",
       "\n",
       "[1227 rows x 11 columns]"
      ]
     },
     "execution_count": 77,
     "metadata": {},
     "output_type": "execute_result"
    }
   ],
   "source": [
    "# view main dataframe\n",
    "\n",
    "df_score"
   ]
  },
  {
   "cell_type": "code",
   "execution_count": 78,
   "metadata": {},
   "outputs": [],
   "source": [
    "df_score.to_csv('df_score.csv',index=False)"
   ]
  },
  {
   "cell_type": "markdown",
   "metadata": {},
   "source": [
    "## Part 6: Determine Neighbourhood States by Analysing their Composite Index scores / ranks----same as Yee's approach"
   ]
  },
  {
   "cell_type": "code",
   "execution_count": 79,
   "metadata": {},
   "outputs": [],
   "source": [
    "# assigning ranks to LSOA based on their 2001 & 2011 scores\n",
    "\n",
    "df_score[\"Rank_2001\"] = df_score[\"Score_2001\"].rank(ascending=False)\n",
    "df_score[\"Rank_2011\"] = df_score[\"Score_2011\"].rank(ascending=False)"
   ]
  },
  {
   "cell_type": "code",
   "execution_count": 80,
   "metadata": {},
   "outputs": [
    {
     "data": {
      "text/html": [
       "<div>\n",
       "<style scoped>\n",
       "    .dataframe tbody tr th:only-of-type {\n",
       "        vertical-align: middle;\n",
       "    }\n",
       "\n",
       "    .dataframe tbody tr th {\n",
       "        vertical-align: top;\n",
       "    }\n",
       "\n",
       "    .dataframe thead th {\n",
       "        text-align: right;\n",
       "    }\n",
       "</style>\n",
       "<table border=\"1\" class=\"dataframe\">\n",
       "  <thead>\n",
       "    <tr style=\"text-align: right;\">\n",
       "      <th></th>\n",
       "      <th>MSOA11CD</th>\n",
       "      <th>ratio_la_median_price_2011</th>\n",
       "      <th>ratio_la_median_price_2001</th>\n",
       "      <th>ratio_la_qualification_2011</th>\n",
       "      <th>ratio_la_qualification_2001</th>\n",
       "      <th>ratio_la_NSSEC_2011</th>\n",
       "      <th>ratio_la_NSSEC_2001</th>\n",
       "      <th>ratio_la_earning_2011</th>\n",
       "      <th>ratio_la_earning_2001</th>\n",
       "      <th>Score_2001</th>\n",
       "      <th>Score_2011</th>\n",
       "      <th>Rank_2001</th>\n",
       "      <th>Rank_2011</th>\n",
       "    </tr>\n",
       "  </thead>\n",
       "  <tbody>\n",
       "    <tr>\n",
       "      <th>0</th>\n",
       "      <td>E02003134</td>\n",
       "      <td>-0.305638</td>\n",
       "      <td>-0.268875</td>\n",
       "      <td>0.523025</td>\n",
       "      <td>0.461860</td>\n",
       "      <td>0.655101</td>\n",
       "      <td>0.579209</td>\n",
       "      <td>1.0</td>\n",
       "      <td>1.0</td>\n",
       "      <td>-0.709548</td>\n",
       "      <td>-0.645002</td>\n",
       "      <td>1187.0</td>\n",
       "      <td>1167.0</td>\n",
       "    </tr>\n",
       "    <tr>\n",
       "      <th>1</th>\n",
       "      <td>E02003135</td>\n",
       "      <td>-0.327716</td>\n",
       "      <td>-0.366467</td>\n",
       "      <td>0.623575</td>\n",
       "      <td>0.607239</td>\n",
       "      <td>0.781860</td>\n",
       "      <td>0.991289</td>\n",
       "      <td>1.0</td>\n",
       "      <td>1.0</td>\n",
       "      <td>-0.425175</td>\n",
       "      <td>-0.518281</td>\n",
       "      <td>1047.0</td>\n",
       "      <td>1101.0</td>\n",
       "    </tr>\n",
       "    <tr>\n",
       "      <th>2</th>\n",
       "      <td>E02003136</td>\n",
       "      <td>0.166182</td>\n",
       "      <td>0.307495</td>\n",
       "      <td>1.068613</td>\n",
       "      <td>1.031148</td>\n",
       "      <td>1.275087</td>\n",
       "      <td>1.146724</td>\n",
       "      <td>1.0</td>\n",
       "      <td>1.0</td>\n",
       "      <td>0.275116</td>\n",
       "      <td>0.302558</td>\n",
       "      <td>297.0</td>\n",
       "      <td>256.0</td>\n",
       "    </tr>\n",
       "    <tr>\n",
       "      <th>3</th>\n",
       "      <td>E02003137</td>\n",
       "      <td>0.399040</td>\n",
       "      <td>0.369231</td>\n",
       "      <td>1.746879</td>\n",
       "      <td>2.127330</td>\n",
       "      <td>1.743479</td>\n",
       "      <td>1.678748</td>\n",
       "      <td>1.0</td>\n",
       "      <td>1.0</td>\n",
       "      <td>1.310521</td>\n",
       "      <td>1.123651</td>\n",
       "      <td>3.0</td>\n",
       "      <td>6.0</td>\n",
       "    </tr>\n",
       "    <tr>\n",
       "      <th>4</th>\n",
       "      <td>E02003138</td>\n",
       "      <td>0.200208</td>\n",
       "      <td>0.217490</td>\n",
       "      <td>1.756318</td>\n",
       "      <td>1.984046</td>\n",
       "      <td>1.615324</td>\n",
       "      <td>1.606420</td>\n",
       "      <td>1.0</td>\n",
       "      <td>1.0</td>\n",
       "      <td>1.100737</td>\n",
       "      <td>0.953547</td>\n",
       "      <td>8.0</td>\n",
       "      <td>22.0</td>\n",
       "    </tr>\n",
       "  </tbody>\n",
       "</table>\n",
       "</div>"
      ],
      "text/plain": [
       "    MSOA11CD  ratio_la_median_price_2011  ratio_la_median_price_2001  \\\n",
       "0  E02003134                   -0.305638                   -0.268875   \n",
       "1  E02003135                   -0.327716                   -0.366467   \n",
       "2  E02003136                    0.166182                    0.307495   \n",
       "3  E02003137                    0.399040                    0.369231   \n",
       "4  E02003138                    0.200208                    0.217490   \n",
       "\n",
       "   ratio_la_qualification_2011  ratio_la_qualification_2001  \\\n",
       "0                     0.523025                     0.461860   \n",
       "1                     0.623575                     0.607239   \n",
       "2                     1.068613                     1.031148   \n",
       "3                     1.746879                     2.127330   \n",
       "4                     1.756318                     1.984046   \n",
       "\n",
       "   ratio_la_NSSEC_2011  ratio_la_NSSEC_2001  ratio_la_earning_2011  \\\n",
       "0             0.655101             0.579209                    1.0   \n",
       "1             0.781860             0.991289                    1.0   \n",
       "2             1.275087             1.146724                    1.0   \n",
       "3             1.743479             1.678748                    1.0   \n",
       "4             1.615324             1.606420                    1.0   \n",
       "\n",
       "   ratio_la_earning_2001  Score_2001  Score_2011  Rank_2001  Rank_2011  \n",
       "0                    1.0   -0.709548   -0.645002     1187.0     1167.0  \n",
       "1                    1.0   -0.425175   -0.518281     1047.0     1101.0  \n",
       "2                    1.0    0.275116    0.302558      297.0      256.0  \n",
       "3                    1.0    1.310521    1.123651        3.0        6.0  \n",
       "4                    1.0    1.100737    0.953547        8.0       22.0  "
      ]
     },
     "execution_count": 80,
     "metadata": {},
     "output_type": "execute_result"
    }
   ],
   "source": [
    "df_score.head()"
   ]
  },
  {
   "cell_type": "code",
   "execution_count": 81,
   "metadata": {},
   "outputs": [],
   "source": [
    "# quantifying the change in LSOA's ranks between the 2 years\n",
    "\n",
    "df_score[\"Rank_chg\"] = df_score[\"Rank_2001\"] - df_score[\"Rank_2011\"]"
   ]
  },
  {
   "cell_type": "code",
   "execution_count": 82,
   "metadata": {},
   "outputs": [
    {
     "data": {
      "text/plain": [
       "count    1227.000000\n",
       "mean        0.000000\n",
       "std       100.481337\n",
       "min      -540.000000\n",
       "25%       -52.500000\n",
       "50%         0.000000\n",
       "75%        53.000000\n",
       "max       870.000000\n",
       "Name: Rank_chg, dtype: float64"
      ]
     },
     "execution_count": 82,
     "metadata": {},
     "output_type": "execute_result"
    }
   ],
   "source": [
    "# descriptive stats of rank changes\n",
    "\n",
    "df_score[\"Rank_chg\"].describe()"
   ]
  },
  {
   "cell_type": "code",
   "execution_count": 83,
   "metadata": {},
   "outputs": [
    {
     "data": {
      "text/plain": [
       "<AxesSubplot:>"
      ]
     },
     "execution_count": 83,
     "metadata": {},
     "output_type": "execute_result"
    },
    {
     "data": {
      "image/png": "[encoded data removed]",
      "text/plain": [
       "<Figure size 432x288 with 1 Axes>"
      ]
     },
     "metadata": {},
     "output_type": "display_data"
    }
   ],
   "source": [
    "df_score[[\"Rank_chg\"]].boxplot()"
   ]
  },
  {
   "cell_type": "code",
   "execution_count": 84,
   "metadata": {},
   "outputs": [],
   "source": [
    "# compute z-scores of rank changes\n",
    "\n",
    "from scipy.stats import zscore\n",
    "\n",
    "df_score[\"Z_score\"] = df_score[[\"Rank_chg\"]].apply(zscore)"
   ]
  },
  {
   "cell_type": "code",
   "execution_count": 85,
   "metadata": {},
   "outputs": [],
   "source": [
    "# as a supplementart approach - changes in LSOAs' scores are computed\n",
    "\n",
    "df_score[\"score_chg\"]= df_score[\"Score_2011\"] - df_score[\"Score_2001\"]"
   ]
  },
  {
   "cell_type": "code",
   "execution_count": 86,
   "metadata": {},
   "outputs": [
    {
     "data": {
      "text/plain": [
       "count    1227.000000\n",
       "mean       -0.003012\n",
       "std         0.115567\n",
       "min        -0.545504\n",
       "25%        -0.070782\n",
       "50%        -0.001025\n",
       "75%         0.069135\n",
       "max         0.868136\n",
       "Name: score_chg, dtype: float64"
      ]
     },
     "execution_count": 86,
     "metadata": {},
     "output_type": "execute_result"
    }
   ],
   "source": [
    "# descriptive stats of rank changes\n",
    "\n",
    "df_score[\"score_chg\"].describe()"
   ]
  },
  {
   "cell_type": "code",
   "execution_count": 87,
   "metadata": {},
   "outputs": [
    {
     "data": {
      "text/plain": [
       "<AxesSubplot:>"
      ]
     },
     "execution_count": 87,
     "metadata": {},
     "output_type": "execute_result"
    },
    {
     "data": {
      "image/png": "[encoded data removed]",
      "text/plain": [
       "<Figure size 432x288 with 1 Axes>"
      ]
     },
     "metadata": {},
     "output_type": "display_data"
    }
   ],
   "source": [
    "df_score[[\"Rank_chg\"]].boxplot()"
   ]
  },
  {
   "cell_type": "code",
   "execution_count": 88,
   "metadata": {},
   "outputs": [
    {
     "name": "stdout",
     "output_type": "stream",
     "text": [
      "0.17378530239925907\n",
      "-0.10823143467191611\n"
     ]
    }
   ],
   "source": [
    "# checking the top and bottom 5th percentile benchmarks for score changes\n",
    "\n",
    "print(df_score[\"score_chg\"].quantile(0.95))\n",
    "print(df_score[\"score_chg\"].quantile(0.15))"
   ]
  },
  {
   "cell_type": "code",
   "execution_count": 89,
   "metadata": {},
   "outputs": [
    {
     "name": "stderr",
     "output_type": "stream",
     "text": [
      "/opt/conda/envs/sds2020/lib/python3.7/site-packages/ipykernel_launcher.py:11: SettingWithCopyWarning: \n",
      "A value is trying to be set on a copy of a slice from a DataFrame\n",
      "\n",
      "See the caveats in the documentation: https://pandas.pydata.org/pandas-docs/stable/user_guide/indexing.html#returning-a-view-versus-a-copy\n",
      "  # This is added back by InteractiveShellApp.init_path()\n",
      "/opt/conda/envs/sds2020/lib/python3.7/site-packages/ipykernel_launcher.py:9: SettingWithCopyWarning: \n",
      "A value is trying to be set on a copy of a slice from a DataFrame\n",
      "\n",
      "See the caveats in the documentation: https://pandas.pydata.org/pandas-docs/stable/user_guide/indexing.html#returning-a-view-versus-a-copy\n",
      "  if __name__ == '__main__':\n"
     ]
    }
   ],
   "source": [
    "# assign LSOA status based on: \n",
    "# (1) z-scores of rank changes (z<-1 signify that n'hood is in decline (DEC), -1<z<1 signifies that n'hood is stable (STB), z>1 signifies that n'hood is in ascension (ASC))\n",
    "# (2) changes in LSOAs' scores are within the top or bottom 5th percentile (top 5th percentile: 'ASC' and bottom 5th percentile: 'DEC')\n",
    "\n",
    "df_score[\"status\"] = \"STB\"\n",
    "\n",
    "for i in range(len(df_score)):\n",
    "    if df_score[\"Z_score\"][i] > 1 or df_score[\"score_chg\"][i] > df_score[\"score_chg\"].quantile(0.95):\n",
    "        df_score[\"status\"][i] = \"ASC\"\n",
    "    elif df_score[\"Z_score\"][i] < -1 or df_score[\"score_chg\"][i] < df_score[\"score_chg\"].quantile(0.05):\n",
    "        df_score[\"status\"][i] = \"DEC\""
   ]
  },
  {
   "cell_type": "code",
   "execution_count": 90,
   "metadata": {},
   "outputs": [
    {
     "data": {
      "text/html": [
       "<div>\n",
       "<style scoped>\n",
       "    .dataframe tbody tr th:only-of-type {\n",
       "        vertical-align: middle;\n",
       "    }\n",
       "\n",
       "    .dataframe tbody tr th {\n",
       "        vertical-align: top;\n",
       "    }\n",
       "\n",
       "    .dataframe thead th {\n",
       "        text-align: right;\n",
       "    }\n",
       "</style>\n",
       "<table border=\"1\" class=\"dataframe\">\n",
       "  <thead>\n",
       "    <tr style=\"text-align: right;\">\n",
       "      <th></th>\n",
       "      <th>MSOA11CD</th>\n",
       "      <th>ratio_la_median_price_2011</th>\n",
       "      <th>ratio_la_median_price_2001</th>\n",
       "      <th>ratio_la_qualification_2011</th>\n",
       "      <th>ratio_la_qualification_2001</th>\n",
       "      <th>ratio_la_NSSEC_2011</th>\n",
       "      <th>ratio_la_NSSEC_2001</th>\n",
       "      <th>ratio_la_earning_2011</th>\n",
       "      <th>ratio_la_earning_2001</th>\n",
       "      <th>Score_2001</th>\n",
       "      <th>Score_2011</th>\n",
       "      <th>Rank_2001</th>\n",
       "      <th>Rank_2011</th>\n",
       "      <th>Rank_chg</th>\n",
       "      <th>Z_score</th>\n",
       "      <th>score_chg</th>\n",
       "      <th>status</th>\n",
       "    </tr>\n",
       "  </thead>\n",
       "  <tbody>\n",
       "    <tr>\n",
       "      <th>0</th>\n",
       "      <td>E02003134</td>\n",
       "      <td>-0.305638</td>\n",
       "      <td>-0.268875</td>\n",
       "      <td>0.523025</td>\n",
       "      <td>0.461860</td>\n",
       "      <td>0.655101</td>\n",
       "      <td>0.579209</td>\n",
       "      <td>1.0</td>\n",
       "      <td>1.0</td>\n",
       "      <td>-0.709548</td>\n",
       "      <td>-0.645002</td>\n",
       "      <td>1187.0</td>\n",
       "      <td>1167.0</td>\n",
       "      <td>20.0</td>\n",
       "      <td>0.199123</td>\n",
       "      <td>0.064546</td>\n",
       "      <td>STB</td>\n",
       "    </tr>\n",
       "    <tr>\n",
       "      <th>1</th>\n",
       "      <td>E02003135</td>\n",
       "      <td>-0.327716</td>\n",
       "      <td>-0.366467</td>\n",
       "      <td>0.623575</td>\n",
       "      <td>0.607239</td>\n",
       "      <td>0.781860</td>\n",
       "      <td>0.991289</td>\n",
       "      <td>1.0</td>\n",
       "      <td>1.0</td>\n",
       "      <td>-0.425175</td>\n",
       "      <td>-0.518281</td>\n",
       "      <td>1047.0</td>\n",
       "      <td>1101.0</td>\n",
       "      <td>-54.0</td>\n",
       "      <td>-0.537632</td>\n",
       "      <td>-0.093107</td>\n",
       "      <td>STB</td>\n",
       "    </tr>\n",
       "    <tr>\n",
       "      <th>2</th>\n",
       "      <td>E02003136</td>\n",
       "      <td>0.166182</td>\n",
       "      <td>0.307495</td>\n",
       "      <td>1.068613</td>\n",
       "      <td>1.031148</td>\n",
       "      <td>1.275087</td>\n",
       "      <td>1.146724</td>\n",
       "      <td>1.0</td>\n",
       "      <td>1.0</td>\n",
       "      <td>0.275116</td>\n",
       "      <td>0.302558</td>\n",
       "      <td>297.0</td>\n",
       "      <td>256.0</td>\n",
       "      <td>41.0</td>\n",
       "      <td>0.408202</td>\n",
       "      <td>0.027442</td>\n",
       "      <td>STB</td>\n",
       "    </tr>\n",
       "    <tr>\n",
       "      <th>3</th>\n",
       "      <td>E02003137</td>\n",
       "      <td>0.399040</td>\n",
       "      <td>0.369231</td>\n",
       "      <td>1.746879</td>\n",
       "      <td>2.127330</td>\n",
       "      <td>1.743479</td>\n",
       "      <td>1.678748</td>\n",
       "      <td>1.0</td>\n",
       "      <td>1.0</td>\n",
       "      <td>1.310521</td>\n",
       "      <td>1.123651</td>\n",
       "      <td>3.0</td>\n",
       "      <td>6.0</td>\n",
       "      <td>-3.0</td>\n",
       "      <td>-0.029868</td>\n",
       "      <td>-0.186870</td>\n",
       "      <td>DEC</td>\n",
       "    </tr>\n",
       "    <tr>\n",
       "      <th>4</th>\n",
       "      <td>E02003138</td>\n",
       "      <td>0.200208</td>\n",
       "      <td>0.217490</td>\n",
       "      <td>1.756318</td>\n",
       "      <td>1.984046</td>\n",
       "      <td>1.615324</td>\n",
       "      <td>1.606420</td>\n",
       "      <td>1.0</td>\n",
       "      <td>1.0</td>\n",
       "      <td>1.100737</td>\n",
       "      <td>0.953547</td>\n",
       "      <td>8.0</td>\n",
       "      <td>22.0</td>\n",
       "      <td>-14.0</td>\n",
       "      <td>-0.139386</td>\n",
       "      <td>-0.147190</td>\n",
       "      <td>STB</td>\n",
       "    </tr>\n",
       "    <tr>\n",
       "      <th>...</th>\n",
       "      <td>...</td>\n",
       "      <td>...</td>\n",
       "      <td>...</td>\n",
       "      <td>...</td>\n",
       "      <td>...</td>\n",
       "      <td>...</td>\n",
       "      <td>...</td>\n",
       "      <td>...</td>\n",
       "      <td>...</td>\n",
       "      <td>...</td>\n",
       "      <td>...</td>\n",
       "      <td>...</td>\n",
       "      <td>...</td>\n",
       "      <td>...</td>\n",
       "      <td>...</td>\n",
       "      <td>...</td>\n",
       "      <td>...</td>\n",
       "    </tr>\n",
       "    <tr>\n",
       "      <th>1222</th>\n",
       "      <td>E02006786</td>\n",
       "      <td>-0.396573</td>\n",
       "      <td>-0.214816</td>\n",
       "      <td>0.734698</td>\n",
       "      <td>0.587138</td>\n",
       "      <td>0.739559</td>\n",
       "      <td>0.800836</td>\n",
       "      <td>1.0</td>\n",
       "      <td>1.0</td>\n",
       "      <td>-0.472904</td>\n",
       "      <td>-0.507927</td>\n",
       "      <td>1074.0</td>\n",
       "      <td>1097.0</td>\n",
       "      <td>-23.0</td>\n",
       "      <td>-0.228992</td>\n",
       "      <td>-0.035023</td>\n",
       "      <td>STB</td>\n",
       "    </tr>\n",
       "    <tr>\n",
       "      <th>1223</th>\n",
       "      <td>E02006787</td>\n",
       "      <td>0.130967</td>\n",
       "      <td>0.071080</td>\n",
       "      <td>1.077752</td>\n",
       "      <td>0.998147</td>\n",
       "      <td>1.099335</td>\n",
       "      <td>1.059967</td>\n",
       "      <td>1.0</td>\n",
       "      <td>1.0</td>\n",
       "      <td>0.083517</td>\n",
       "      <td>0.187215</td>\n",
       "      <td>507.0</td>\n",
       "      <td>395.0</td>\n",
       "      <td>112.0</td>\n",
       "      <td>1.115089</td>\n",
       "      <td>0.103698</td>\n",
       "      <td>ASC</td>\n",
       "    </tr>\n",
       "    <tr>\n",
       "      <th>1224</th>\n",
       "      <td>E02006788</td>\n",
       "      <td>-0.097792</td>\n",
       "      <td>-0.015941</td>\n",
       "      <td>0.779789</td>\n",
       "      <td>0.749433</td>\n",
       "      <td>0.794068</td>\n",
       "      <td>0.850484</td>\n",
       "      <td>1.0</td>\n",
       "      <td>1.0</td>\n",
       "      <td>-0.240566</td>\n",
       "      <td>-0.296042</td>\n",
       "      <td>869.0</td>\n",
       "      <td>912.0</td>\n",
       "      <td>-43.0</td>\n",
       "      <td>-0.428115</td>\n",
       "      <td>-0.055476</td>\n",
       "      <td>STB</td>\n",
       "    </tr>\n",
       "    <tr>\n",
       "      <th>1225</th>\n",
       "      <td>E02006789</td>\n",
       "      <td>0.145546</td>\n",
       "      <td>0.180553</td>\n",
       "      <td>0.770695</td>\n",
       "      <td>0.739173</td>\n",
       "      <td>0.905060</td>\n",
       "      <td>0.931110</td>\n",
       "      <td>1.0</td>\n",
       "      <td>1.0</td>\n",
       "      <td>-0.100090</td>\n",
       "      <td>-0.113251</td>\n",
       "      <td>714.0</td>\n",
       "      <td>727.0</td>\n",
       "      <td>-13.0</td>\n",
       "      <td>-0.129430</td>\n",
       "      <td>-0.013161</td>\n",
       "      <td>STB</td>\n",
       "    </tr>\n",
       "    <tr>\n",
       "      <th>1226</th>\n",
       "      <td>E02006791</td>\n",
       "      <td>0.404042</td>\n",
       "      <td>0.349337</td>\n",
       "      <td>1.485106</td>\n",
       "      <td>1.462573</td>\n",
       "      <td>1.648794</td>\n",
       "      <td>1.531844</td>\n",
       "      <td>1.0</td>\n",
       "      <td>1.0</td>\n",
       "      <td>0.794763</td>\n",
       "      <td>0.905414</td>\n",
       "      <td>45.0</td>\n",
       "      <td>28.0</td>\n",
       "      <td>17.0</td>\n",
       "      <td>0.169255</td>\n",
       "      <td>0.110651</td>\n",
       "      <td>STB</td>\n",
       "    </tr>\n",
       "  </tbody>\n",
       "</table>\n",
       "<p>1227 rows × 17 columns</p>\n",
       "</div>"
      ],
      "text/plain": [
       "       MSOA11CD  ratio_la_median_price_2011  ratio_la_median_price_2001  \\\n",
       "0     E02003134                   -0.305638                   -0.268875   \n",
       "1     E02003135                   -0.327716                   -0.366467   \n",
       "2     E02003136                    0.166182                    0.307495   \n",
       "3     E02003137                    0.399040                    0.369231   \n",
       "4     E02003138                    0.200208                    0.217490   \n",
       "...         ...                         ...                         ...   \n",
       "1222  E02006786                   -0.396573                   -0.214816   \n",
       "1223  E02006787                    0.130967                    0.071080   \n",
       "1224  E02006788                   -0.097792                   -0.015941   \n",
       "1225  E02006789                    0.145546                    0.180553   \n",
       "1226  E02006791                    0.404042                    0.349337   \n",
       "\n",
       "      ratio_la_qualification_2011  ratio_la_qualification_2001  \\\n",
       "0                        0.523025                     0.461860   \n",
       "1                        0.623575                     0.607239   \n",
       "2                        1.068613                     1.031148   \n",
       "3                        1.746879                     2.127330   \n",
       "4                        1.756318                     1.984046   \n",
       "...                           ...                          ...   \n",
       "1222                     0.734698                     0.587138   \n",
       "1223                     1.077752                     0.998147   \n",
       "1224                     0.779789                     0.749433   \n",
       "1225                     0.770695                     0.739173   \n",
       "1226                     1.485106                     1.462573   \n",
       "\n",
       "      ratio_la_NSSEC_2011  ratio_la_NSSEC_2001  ratio_la_earning_2011  \\\n",
       "0                0.655101             0.579209                    1.0   \n",
       "1                0.781860             0.991289                    1.0   \n",
       "2                1.275087             1.146724                    1.0   \n",
       "3                1.743479             1.678748                    1.0   \n",
       "4                1.615324             1.606420                    1.0   \n",
       "...                   ...                  ...                    ...   \n",
       "1222             0.739559             0.800836                    1.0   \n",
       "1223             1.099335             1.059967                    1.0   \n",
       "1224             0.794068             0.850484                    1.0   \n",
       "1225             0.905060             0.931110                    1.0   \n",
       "1226             1.648794             1.531844                    1.0   \n",
       "\n",
       "      ratio_la_earning_2001  Score_2001  Score_2011  Rank_2001  Rank_2011  \\\n",
       "0                       1.0   -0.709548   -0.645002     1187.0     1167.0   \n",
       "1                       1.0   -0.425175   -0.518281     1047.0     1101.0   \n",
       "2                       1.0    0.275116    0.302558      297.0      256.0   \n",
       "3                       1.0    1.310521    1.123651        3.0        6.0   \n",
       "4                       1.0    1.100737    0.953547        8.0       22.0   \n",
       "...                     ...         ...         ...        ...        ...   \n",
       "1222                    1.0   -0.472904   -0.507927     1074.0     1097.0   \n",
       "1223                    1.0    0.083517    0.187215      507.0      395.0   \n",
       "1224                    1.0   -0.240566   -0.296042      869.0      912.0   \n",
       "1225                    1.0   -0.100090   -0.113251      714.0      727.0   \n",
       "1226                    1.0    0.794763    0.905414       45.0       28.0   \n",
       "\n",
       "      Rank_chg   Z_score  score_chg status  \n",
       "0         20.0  0.199123   0.064546    STB  \n",
       "1        -54.0 -0.537632  -0.093107    STB  \n",
       "2         41.0  0.408202   0.027442    STB  \n",
       "3         -3.0 -0.029868  -0.186870    DEC  \n",
       "4        -14.0 -0.139386  -0.147190    STB  \n",
       "...        ...       ...        ...    ...  \n",
       "1222     -23.0 -0.228992  -0.035023    STB  \n",
       "1223     112.0  1.115089   0.103698    ASC  \n",
       "1224     -43.0 -0.428115  -0.055476    STB  \n",
       "1225     -13.0 -0.129430  -0.013161    STB  \n",
       "1226      17.0  0.169255   0.110651    STB  \n",
       "\n",
       "[1227 rows x 17 columns]"
      ]
     },
     "execution_count": 90,
     "metadata": {},
     "output_type": "execute_result"
    }
   ],
   "source": [
    "# check dataframe\n",
    "\n",
    "df_score"
   ]
  },
  {
   "cell_type": "code",
   "execution_count": 91,
   "metadata": {},
   "outputs": [
    {
     "data": {
      "text/plain": [
       "status\n",
       "ASC    149\n",
       "DEC    159\n",
       "STB    919\n",
       "dtype: int64"
      ]
     },
     "execution_count": 91,
     "metadata": {},
     "output_type": "execute_result"
    }
   ],
   "source": [
    "# size of different LSOA status groups\n",
    "\n",
    "df_score.groupby(df_score[\"status\"]).size()"
   ]
  },
  {
   "cell_type": "code",
   "execution_count": 92,
   "metadata": {},
   "outputs": [],
   "source": [
    "# output to file\n",
    "df_score.to_csv('score_analysis_new.csv')"
   ]
  },
  {
   "cell_type": "code",
   "execution_count": null,
   "metadata": {},
   "outputs": [],
   "source": [
    "#mapping"
   ]
  },
  {
   "cell_type": "markdown",
   "metadata": {},
   "source": [
    "![alt text](LONDON-RESULTS.png \"Title\")"
   ]
  },
  {
   "cell_type": "markdown",
   "metadata": {},
   "source": [
    "![alt text](SW-RESULTS.png \"Title\")"
   ]
  },
  {
   "cell_type": "code",
   "execution_count": null,
   "metadata": {},
   "outputs": [],
   "source": []
  }
 ],
 "metadata": {
  "kernelspec": {
   "display_name": "Python 3",
   "language": "python",
   "name": "python3"
  },
  "language_info": {
   "codemirror_mode": {
    "name": "ipython",
    "version": 3
   },
   "file_extension": ".py",
   "mimetype": "text/x-python",
   "name": "python",
   "nbconvert_exporter": "python",
   "pygments_lexer": "ipython3",
   "version": "3.7.8"
  }
 },
 "nbformat": 4,
 "nbformat_minor": 4
}
