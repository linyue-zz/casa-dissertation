{
 "cells": [
  {
   "cell_type": "code",
   "execution_count": 1,
   "metadata": {},
   "outputs": [],
   "source": [
    "## Data Prep"
   ]
  },
  {
   "cell_type": "code",
   "execution_count": null,
   "metadata": {},
   "outputs": [],
   "source": [
    "import pandas as pd"
   ]
  },
  {
   "cell_type": "code",
   "execution_count": 2,
   "metadata": {},
   "outputs": [],
   "source": [
    "msoa_sw_2011 = pd.read_csv('msoa_sw_2011.csv')\n",
    "msoa_london_2011 = pd.read_csv('msoa_london_2011.csv')"
   ]
  },
  {
   "cell_type": "code",
   "execution_count": 3,
   "metadata": {},
   "outputs": [],
   "source": [
    "#read in lookup sheet for mosa 2011 and mosa 2001\n",
    "mosa_01to11=pd.read_csv('MSOA_2001_to_2011.csv')"
   ]
  },
  {
   "cell_type": "code",
   "execution_count": 4,
   "metadata": {},
   "outputs": [],
   "source": [
    "sw = msoa_sw_2011.merge(mosa_01to11, on='MSOA11CD', how='left')\n",
    "london = msoa_london_2011.merge(mosa_01to11, on='MSOA11CD', how='left')"
   ]
  },
  {
   "cell_type": "code",
   "execution_count": 5,
   "metadata": {},
   "outputs": [],
   "source": [
    "#read in median house price of 2001 and 2011 for all MSOAs\n",
    "medianprice_2011 = pd.read_csv('median_price_2011.csv')\n",
    "medianprice_2001 = pd.read_csv('median_price_2001.csv')"
   ]
  },
  {
   "cell_type": "code",
   "execution_count": 6,
   "metadata": {},
   "outputs": [],
   "source": [
    "#read in median house price of 2001 and 2011 for all local authorities \n",
    "medianprice_la = pd.read_csv('medianprice_la.csv')\n",
    "#read in median house price of 2001 and 2011 for all regions \n",
    "medianprice_r = pd.read_csv('medianprice_reigion.csv')"
   ]
  },
  {
   "cell_type": "code",
   "execution_count": 7,
   "metadata": {},
   "outputs": [],
   "source": [
    "#read in median income of 2001 and 2011 for all local authorities\n",
    "medianincome_la = pd.read_csv('residence_based_earnings.csv')"
   ]
  },
  {
   "cell_type": "code",
   "execution_count": 8,
   "metadata": {},
   "outputs": [],
   "source": [
    "#read in median income of 2001 and 2011 for all regions\n",
    "medianincome_r = pd.read_csv('medianearning_region.csv')"
   ]
  },
  {
   "cell_type": "code",
   "execution_count": 9,
   "metadata": {},
   "outputs": [],
   "source": [
    "#read in NS-SeC data of 2001 and 2011 for all MSOAs\n",
    "nssec_2011 = pd.read_csv('NS-SeC_2011.csv')\n",
    "nssec_2001 = pd.read_csv('NS-SeC_2001.csv')"
   ]
  },
  {
   "cell_type": "code",
   "execution_count": 10,
   "metadata": {},
   "outputs": [],
   "source": [
    "#read in NS-SeC data of 2001 and 2011 for all local authorities \n",
    "nssec_2011_la = pd.read_csv('data01/NS-SeC_2011_la.csv')\n",
    "nssec_2001_la = pd.read_csv('data01/NS-SeC_2001_la.csv')\n",
    "#read in NS-SeC data of 2001 and 2011 for all regions \n",
    "nssec_2011_r = pd.read_csv('data01/NS-SeC_2011_region.csv')\n",
    "nssec_2001_r = pd.read_csv('data01/NS-SeC_2001_region.csv')"
   ]
  },
  {
   "cell_type": "code",
   "execution_count": 11,
   "metadata": {},
   "outputs": [],
   "source": [
    "#read in qualification data of 2001 and 2011 for all MSOAs\n",
    "qualification_2011 = pd.read_csv('qualification_2011.csv')\n",
    "qualification_2001 = pd.read_csv('qualification_2001.csv')"
   ]
  },
  {
   "cell_type": "code",
   "execution_count": 12,
   "metadata": {},
   "outputs": [],
   "source": [
    "#read in qualification data of 2001 and 2011 for all local authorities \n",
    "qualification_2011_la = pd.read_csv('data01/Qualifications_2011_la.csv')\n",
    "qualification_2001_la = pd.read_csv('data01/Qualifications_2001_la.csv')\n",
    "#read in qualification data of 2001 and 2011 for all regions \n",
    "qualification_2011_r = pd.read_csv('data01/Qualifications_2011_region.csv')\n",
    "qualification_2001_r = pd.read_csv('data01/Qualifications_2001_region.csv')"
   ]
  },
  {
   "cell_type": "code",
   "execution_count": 13,
   "metadata": {},
   "outputs": [],
   "source": [
    "sw = sw.merge(medianprice_2011, on='MSOA11CD', how='left')\n",
    "sw=sw.drop(columns=['MSOA11NM_y','CHGIND'])\n",
    "sw = sw.merge(medianprice_2001, on='MSOA11CD', how='left')\n",
    "sw =sw.merge(medianprice_la, on='LAD11CD', how='left')\n",
    "sw=sw.drop(columns=['LAD11NM_y'])\n",
    "sw =sw.merge(medianprice_r, on='RGN11CD', how='left')\n",
    "sw=sw.drop(columns=['RGN11NM_y'])\n",
    "sw = sw.rename (columns={\"RGN11NM_x\": \"RGN11NM\", \"LAD11NM_x\": \"LAD11NM\", \"MSOA11NM_x\":\"MSOA11NM\"})\n",
    "sw = sw.merge(medianincome_la, on='LAD11CD', how='left')\n",
    "sw=sw.drop(columns=['LAD11NM_y'])\n",
    "sw = sw.rename (columns={ \"LAD11NM_x\": \"LAD11NM\"})\n",
    "sw =sw.merge(medianincome_r, on='RGN11NM', how='left')\n",
    "sw = sw.merge(nssec_2011, on='MSOA11CD', how='left')\n",
    "sw = sw.merge(nssec_2001, on='MSOA01CD', how='left')\n",
    "sw = sw.merge(nssec_2011_la, on='LAD11NM', how='left')\n",
    "sw = sw.merge(nssec_2001_la, on='LAD11NM', how='left')\n",
    "sw = sw.merge(nssec_2011_r, on='RGN11NM', how='left')\n",
    "sw = sw.merge(nssec_2001_r, on='RGN11NM', how='left')\n",
    "sw = sw.merge(qualification_2011, on='MSOA11CD', how='left')\n",
    "sw = sw.merge(qualification_2001, on='MSOA01CD', how='left')\n",
    "sw = sw.merge(qualification_2011_la, on='LAD11NM', how='left')\n",
    "sw = sw.merge(qualification_2001_la, on='LAD11NM', how='left')\n",
    "sw = sw.merge(qualification_2011_r, on='RGN11NM', how='left')\n",
    "sw = sw.merge(qualification_2001_r, on='RGN11NM', how='left')"
   ]
  },
  {
   "cell_type": "code",
   "execution_count": 14,
   "metadata": {},
   "outputs": [
    {
     "name": "stdout",
     "output_type": "stream",
     "text": [
      "<class 'pandas.core.frame.DataFrame'>\n",
      "Int64Index: 246 entries, 0 to 245\n",
      "Data columns (total 42 columns):\n",
      " #   Column                         Non-Null Count  Dtype  \n",
      "---  ------                         --------------  -----  \n",
      " 0   MSOA11CD                       246 non-null    object \n",
      " 1   MSOA11NM                       246 non-null    object \n",
      " 2   LAD11CD                        246 non-null    object \n",
      " 3   LAD11NM                        246 non-null    object \n",
      " 4   RGN11CD                        246 non-null    object \n",
      " 5   RGN11NM                        246 non-null    object \n",
      " 6   MSOA01CD                       246 non-null    object \n",
      " 7   MSOA01NM                       246 non-null    object \n",
      " 8   median_price_2011              246 non-null    object \n",
      " 9   median_price_2001              246 non-null    float64\n",
      " 10  median_price_2001_la           246 non-null    int64  \n",
      " 11  median_price_2011_la           246 non-null    int64  \n",
      " 12  median_price_2001_region       246 non-null    int64  \n",
      " 13  median_price_2011_region       246 non-null    int64  \n",
      " 14  earnings_2003                  246 non-null    float64\n",
      " 15  earnings_2011                  246 non-null    object \n",
      " 16  earnings_2002_region           246 non-null    int64  \n",
      " 17  earnings_2011_region           246 non-null    int64  \n",
      " 18  NS-SeC_all_2011                246 non-null    object \n",
      " 19  NS-SeC_higher_2011             246 non-null    float64\n",
      " 20  NS-SeC_all_2001                246 non-null    int64  \n",
      " 21  NS-SeC_higher_2001             246 non-null    int64  \n",
      " 22  NS-SeC_all_2011_la             246 non-null    int64  \n",
      " 23  NS-SeC_higher_2011_la          246 non-null    int64  \n",
      " 24  NS-SeC_all_2001_la             246 non-null    int64  \n",
      " 25  NS-SeC_higher_2001_la          246 non-null    int64  \n",
      " 26  NS-SeC_all_2011_region         246 non-null    int64  \n",
      " 27  NS-SeC_higher_2011_region      246 non-null    int64  \n",
      " 28  NS-SeC_all_2001_region         246 non-null    int64  \n",
      " 29  NS-SeC_higher_2001_region      246 non-null    int64  \n",
      " 30  qualification_all_2011         246 non-null    object \n",
      " 31  qualification_2011             246 non-null    float64\n",
      " 32  qualification_all_2001         246 non-null    object \n",
      " 33  qualification_2001             246 non-null    float64\n",
      " 34  qualification_all_2011_la      246 non-null    int64  \n",
      " 35  qualification_2011_la          246 non-null    int64  \n",
      " 36  qualification_all_2001_la      246 non-null    int64  \n",
      " 37  qualification_2001_la          246 non-null    int64  \n",
      " 38  qualification_all_2011_region  246 non-null    int64  \n",
      " 39  qualification_2011_region      246 non-null    int64  \n",
      " 40  qualification_all_2001_region  246 non-null    int64  \n",
      " 41  qualification_2001_region      246 non-null    int64  \n",
      "dtypes: float64(5), int64(24), object(13)\n",
      "memory usage: 82.6+ KB\n"
     ]
    }
   ],
   "source": [
    "sw.info()"
   ]
  },
  {
   "cell_type": "code",
   "execution_count": 15,
   "metadata": {},
   "outputs": [],
   "source": [
    "#do all the same thing for the London MSOAs"
   ]
  },
  {
   "cell_type": "code",
   "execution_count": 16,
   "metadata": {},
   "outputs": [
    {
     "name": "stdout",
     "output_type": "stream",
     "text": [
      "<class 'pandas.core.frame.DataFrame'>\n",
      "Int64Index: 951 entries, 0 to 950\n",
      "Data columns (total 11 columns):\n",
      " #   Column             Non-Null Count  Dtype \n",
      "---  ------             --------------  ----- \n",
      " 0   MSOA11CD           951 non-null    object\n",
      " 1   MSOA11NM_x         951 non-null    object\n",
      " 2   LAD11CD            951 non-null    object\n",
      " 3   LAD11NM            951 non-null    object\n",
      " 4   RGN11CD            951 non-null    object\n",
      " 5   RGN11NM            951 non-null    object\n",
      " 6   MSOA01CD           951 non-null    object\n",
      " 7   MSOA01NM           951 non-null    object\n",
      " 8   MSOA11NM_y         951 non-null    object\n",
      " 9   CHGIND             951 non-null    object\n",
      " 10  median_price_2011  951 non-null    object\n",
      "dtypes: object(11)\n",
      "memory usage: 89.2+ KB\n"
     ]
    }
   ],
   "source": [
    "london = london.merge(medianprice_2011, on='MSOA11CD', how='left')\n",
    "london.info()"
   ]
  },
  {
   "cell_type": "code",
   "execution_count": 17,
   "metadata": {},
   "outputs": [],
   "source": [
    "london = london.drop(columns=['MSOA11NM_y','CHGIND'])\n",
    "london = london.merge(medianprice_2001, on='MSOA11CD', how='left')\n",
    "london = london.merge(medianprice_la, on='LAD11CD', how='left')\n",
    "london = london.drop(columns=['LAD11NM_y'])\n",
    "london = london.merge(medianprice_r, on='RGN11CD', how='left')\n",
    "london = london.drop(columns=['RGN11NM_y'])\n",
    "london = london.rename (columns={\"RGN11NM_x\": \"RGN11NM\", \"LAD11NM_x\": \"LAD11NM\", \"MSOA11NM_x\":\"MSOA11NM\"})\n",
    "london = london.merge(medianincome_la, on='LAD11CD', how='left')\n",
    "london = london.drop(columns=['LAD11NM_y'])\n",
    "london = london.rename (columns={ \"LAD11NM_x\": \"LAD11NM\"})\n",
    "london = london.merge(medianincome_r, on='RGN11NM', how='left')\n",
    "london = london.merge(nssec_2011, on='MSOA11CD', how='left')\n",
    "london = london.merge(nssec_2001, on='MSOA01CD', how='left')\n",
    "london = london.merge(nssec_2011_la, on='LAD11NM', how='left')\n",
    "london = london.merge(nssec_2001_la, on='LAD11NM', how='left')\n",
    "london = london.merge(nssec_2011_r, on='RGN11NM', how='left')\n",
    "london = london.merge(nssec_2001_r, on='RGN11NM', how='left')\n",
    "london = london.merge(qualification_2011, on='MSOA11CD', how='left')\n",
    "london = london.merge(qualification_2001, on='MSOA01CD', how='left')\n",
    "london = london.merge(qualification_2011_la, on='LAD11NM', how='left')\n",
    "london = london.merge(qualification_2001_la, on='LAD11NM', how='left')\n",
    "london = london.merge(qualification_2011_r, on='RGN11NM', how='left')\n",
    "london = london.merge(qualification_2001_r, on='RGN11NM', how='left')"
   ]
  },
  {
   "cell_type": "code",
   "execution_count": 18,
   "metadata": {},
   "outputs": [
    {
     "name": "stdout",
     "output_type": "stream",
     "text": [
      "<class 'pandas.core.frame.DataFrame'>\n",
      "Int64Index: 951 entries, 0 to 950\n",
      "Data columns (total 42 columns):\n",
      " #   Column                         Non-Null Count  Dtype  \n",
      "---  ------                         --------------  -----  \n",
      " 0   MSOA11CD                       951 non-null    object \n",
      " 1   MSOA11NM                       951 non-null    object \n",
      " 2   LAD11CD                        951 non-null    object \n",
      " 3   LAD11NM                        951 non-null    object \n",
      " 4   RGN11CD                        951 non-null    object \n",
      " 5   RGN11NM                        951 non-null    object \n",
      " 6   MSOA01CD                       951 non-null    object \n",
      " 7   MSOA01NM                       951 non-null    object \n",
      " 8   median_price_2011              951 non-null    object \n",
      " 9   median_price_2001              951 non-null    float64\n",
      " 10  median_price_2001_la           951 non-null    int64  \n",
      " 11  median_price_2011_la           951 non-null    int64  \n",
      " 12  median_price_2001_region       951 non-null    int64  \n",
      " 13  median_price_2011_region       951 non-null    int64  \n",
      " 14  earnings_2003                  951 non-null    float64\n",
      " 15  earnings_2011                  951 non-null    object \n",
      " 16  earnings_2002_region           951 non-null    int64  \n",
      " 17  earnings_2011_region           951 non-null    int64  \n",
      " 18  NS-SeC_all_2011                951 non-null    object \n",
      " 19  NS-SeC_higher_2011             951 non-null    float64\n",
      " 20  NS-SeC_all_2001                951 non-null    int64  \n",
      " 21  NS-SeC_higher_2001             951 non-null    int64  \n",
      " 22  NS-SeC_all_2011_la             951 non-null    int64  \n",
      " 23  NS-SeC_higher_2011_la          951 non-null    int64  \n",
      " 24  NS-SeC_all_2001_la             951 non-null    int64  \n",
      " 25  NS-SeC_higher_2001_la          951 non-null    int64  \n",
      " 26  NS-SeC_all_2011_region         951 non-null    int64  \n",
      " 27  NS-SeC_higher_2011_region      951 non-null    int64  \n",
      " 28  NS-SeC_all_2001_region         951 non-null    int64  \n",
      " 29  NS-SeC_higher_2001_region      951 non-null    int64  \n",
      " 30  qualification_all_2011         951 non-null    object \n",
      " 31  qualification_2011             951 non-null    float64\n",
      " 32  qualification_all_2001         951 non-null    object \n",
      " 33  qualification_2001             951 non-null    float64\n",
      " 34  qualification_all_2011_la      951 non-null    int64  \n",
      " 35  qualification_2011_la          951 non-null    int64  \n",
      " 36  qualification_all_2001_la      951 non-null    int64  \n",
      " 37  qualification_2001_la          951 non-null    int64  \n",
      " 38  qualification_all_2011_region  951 non-null    int64  \n",
      " 39  qualification_2011_region      951 non-null    int64  \n",
      " 40  qualification_all_2001_region  951 non-null    int64  \n",
      " 41  qualification_2001_region      951 non-null    int64  \n",
      "dtypes: float64(5), int64(24), object(13)\n",
      "memory usage: 319.5+ KB\n"
     ]
    }
   ],
   "source": [
    "london.info()"
   ]
  },
  {
   "cell_type": "code",
   "execution_count": null,
   "metadata": {},
   "outputs": [],
   "source": [
    "#sh2011.rename (columns={\"msoacd\": \"MSOA11CD\"})"
   ]
  },
  {
   "cell_type": "code",
   "execution_count": 17,
   "metadata": {},
   "outputs": [],
   "source": [
    "sw.to_csv('sw.csv',index=False)"
   ]
  },
  {
   "cell_type": "code",
   "execution_count": null,
   "metadata": {},
   "outputs": [],
   "source": [
    "sw.info()"
   ]
  },
  {
   "cell_type": "code",
   "execution_count": 19,
   "metadata": {},
   "outputs": [],
   "source": [
    "# converting float64 columns which contain integers to int64 for consistency\n",
    "\n",
    "sw['median_price_2011'] = sw['median_price_2011'].astype('float64')\n",
    "sw['median_price_2011'] = sw['median_price_2011'].astype('int64')\n",
    "sw['median_price_2001'] = sw['median_price_2001'].astype('int64')\n",
    "\n",
    "\n",
    "sw['NS-SeC_all_2011'] = sw['NS-SeC_all_2011'].astype('float64')\n",
    "sw['NS-SeC_all_2011'] = sw['NS-SeC_all_2011'].astype('int64')\n",
    "sw['NS-SeC_higher_2011'] = sw['NS-SeC_higher_2011'].astype('int64')\n",
    "sw['NS-SeC_all_2001'] = sw['NS-SeC_all_2001'].astype('float64')\n",
    "sw['NS-SeC_all_2001'] = sw['NS-SeC_all_2001'].astype('int64')\n",
    "sw['NS-SeC_higher_2001'] = sw['NS-SeC_higher_2001'].astype('int64')\n",
    "sw['qualification_all_2011'] = sw['qualification_all_2011'].astype('float64')\n",
    "sw['qualification_all_2011'] = sw['qualification_all_2011'].astype('int64')\n",
    "sw['qualification_2011'] = sw['qualification_2011'].astype('int64')\n",
    "sw['qualification_all_2001'] = sw['qualification_all_2001'].astype('float64')\n",
    "sw['qualification_all_2001'] = sw['qualification_all_2001'].astype('int64')\n",
    "sw['qualification_2001'] = sw['qualification_2001'].astype('int64')\n",
    "\n",
    "\n",
    "sw['earnings_2011'] = sw['earnings_2011'].astype('float64')\n",
    "sw['earnings_2011'] = sw['earnings_2011'].astype('int64')\n",
    "sw['earnings_2003'] = sw['earnings_2003'].astype('int64')"
   ]
  },
  {
   "cell_type": "code",
   "execution_count": 20,
   "metadata": {},
   "outputs": [
    {
     "name": "stdout",
     "output_type": "stream",
     "text": [
      "<class 'pandas.core.frame.DataFrame'>\n",
      "Int64Index: 246 entries, 0 to 245\n",
      "Data columns (total 42 columns):\n",
      " #   Column                         Non-Null Count  Dtype \n",
      "---  ------                         --------------  ----- \n",
      " 0   MSOA11CD                       246 non-null    object\n",
      " 1   MSOA11NM                       246 non-null    object\n",
      " 2   LAD11CD                        246 non-null    object\n",
      " 3   LAD11NM                        246 non-null    object\n",
      " 4   RGN11CD                        246 non-null    object\n",
      " 5   RGN11NM                        246 non-null    object\n",
      " 6   MSOA01CD                       246 non-null    object\n",
      " 7   MSOA01NM                       246 non-null    object\n",
      " 8   median_price_2011              246 non-null    int64 \n",
      " 9   median_price_2001              246 non-null    int64 \n",
      " 10  median_price_2001_la           246 non-null    int64 \n",
      " 11  median_price_2011_la           246 non-null    int64 \n",
      " 12  median_price_2001_region       246 non-null    int64 \n",
      " 13  median_price_2011_region       246 non-null    int64 \n",
      " 14  earnings_2003                  246 non-null    int64 \n",
      " 15  earnings_2011                  246 non-null    int64 \n",
      " 16  earnings_2002_region           246 non-null    int64 \n",
      " 17  earnings_2011_region           246 non-null    int64 \n",
      " 18  NS-SeC_all_2011                246 non-null    int64 \n",
      " 19  NS-SeC_higher_2011             246 non-null    int64 \n",
      " 20  NS-SeC_all_2001                246 non-null    int64 \n",
      " 21  NS-SeC_higher_2001             246 non-null    int64 \n",
      " 22  NS-SeC_all_2011_la             246 non-null    int64 \n",
      " 23  NS-SeC_higher_2011_la          246 non-null    int64 \n",
      " 24  NS-SeC_all_2001_la             246 non-null    int64 \n",
      " 25  NS-SeC_higher_2001_la          246 non-null    int64 \n",
      " 26  NS-SeC_all_2011_region         246 non-null    int64 \n",
      " 27  NS-SeC_higher_2011_region      246 non-null    int64 \n",
      " 28  NS-SeC_all_2001_region         246 non-null    int64 \n",
      " 29  NS-SeC_higher_2001_region      246 non-null    int64 \n",
      " 30  qualification_all_2011         246 non-null    int64 \n",
      " 31  qualification_2011             246 non-null    int64 \n",
      " 32  qualification_all_2001         246 non-null    int64 \n",
      " 33  qualification_2001             246 non-null    int64 \n",
      " 34  qualification_all_2011_la      246 non-null    int64 \n",
      " 35  qualification_2011_la          246 non-null    int64 \n",
      " 36  qualification_all_2001_la      246 non-null    int64 \n",
      " 37  qualification_2001_la          246 non-null    int64 \n",
      " 38  qualification_all_2011_region  246 non-null    int64 \n",
      " 39  qualification_2011_region      246 non-null    int64 \n",
      " 40  qualification_all_2001_region  246 non-null    int64 \n",
      " 41  qualification_2001_region      246 non-null    int64 \n",
      "dtypes: int64(34), object(8)\n",
      "memory usage: 82.6+ KB\n"
     ]
    }
   ],
   "source": [
    "sw.info()"
   ]
  },
  {
   "cell_type": "code",
   "execution_count": 21,
   "metadata": {},
   "outputs": [],
   "source": [
    "# standardise qualifications and NS-sec values into percentage rates / proportions\n",
    "\n",
    "sw['qualification_2011_pct'] = (sw['qualification_2011'] / sw['qualification_all_2011'])\n",
    "sw['qualification_2001_pct'] = (sw['qualification_2001'] / sw['qualification_all_2001']) \n",
    "\n",
    "sw['qualification_2011_la_pct'] = (sw['qualification_2011_la'] / sw['qualification_all_2011_la'])\n",
    "sw['qualification_2001_la_pct'] = (sw['qualification_2001_la'] / sw['qualification_all_2001_la']) \n",
    "\n",
    "sw['qualification_2011_region_pct'] = (sw['qualification_2011_region'] / sw['qualification_all_2011_region'])\n",
    "sw['qualification_2001_region_pct'] = (sw['qualification_2001_region'] / sw['qualification_all_2001_region']) \n",
    "\n",
    "sw['NS-SeC_higher_2011_pct'] = (sw['NS-SeC_higher_2011'] / sw['NS-SeC_all_2011']) \n",
    "sw['NS-SeC_higher_2001_pct'] = (sw['NS-SeC_higher_2001'] / sw['NS-SeC_all_2001']) \n",
    "\n",
    "sw['NS-SeC_higher_2011_la_pct'] = (sw['NS-SeC_higher_2011_la'] / sw['NS-SeC_all_2011_la']) \n",
    "sw['NS-SeC_higher_2001_la_pct'] = (sw['NS-SeC_higher_2001_la'] / sw['NS-SeC_all_2001_la']) \n",
    "\n",
    "sw['NS-SeC_higher_2011_region_pct'] = (sw['NS-SeC_higher_2011_region'] / sw['NS-SeC_all_2011_region']) \n",
    "sw['NS-SeC_higher_2001_region_pct'] = (sw['NS-SeC_higher_2001_region'] / sw['NS-SeC_all_2001_region']) "
   ]
  },
  {
   "cell_type": "code",
   "execution_count": 22,
   "metadata": {},
   "outputs": [
    {
     "data": {
      "text/html": [
       "<div>\n",
       "<style scoped>\n",
       "    .dataframe tbody tr th:only-of-type {\n",
       "        vertical-align: middle;\n",
       "    }\n",
       "\n",
       "    .dataframe tbody tr th {\n",
       "        vertical-align: top;\n",
       "    }\n",
       "\n",
       "    .dataframe thead th {\n",
       "        text-align: right;\n",
       "    }\n",
       "</style>\n",
       "<table border=\"1\" class=\"dataframe\">\n",
       "  <thead>\n",
       "    <tr style=\"text-align: right;\">\n",
       "      <th></th>\n",
       "      <th>MSOA11CD</th>\n",
       "      <th>MSOA11NM</th>\n",
       "      <th>LAD11CD</th>\n",
       "      <th>LAD11NM</th>\n",
       "      <th>RGN11CD</th>\n",
       "      <th>RGN11NM</th>\n",
       "      <th>MSOA01CD</th>\n",
       "      <th>MSOA01NM</th>\n",
       "      <th>median_price_2011</th>\n",
       "      <th>median_price_2001</th>\n",
       "      <th>...</th>\n",
       "      <th>qualification_2011_la_pct</th>\n",
       "      <th>qualification_2001_la_pct</th>\n",
       "      <th>qualification_2011_region_pct</th>\n",
       "      <th>qualification_2001_region_pct</th>\n",
       "      <th>NS-SeC_higher_2011_pct</th>\n",
       "      <th>NS-SeC_higher_2001_pct</th>\n",
       "      <th>NS-SeC_higher_2011_la_pct</th>\n",
       "      <th>NS-SeC_higher_2001_la_pct</th>\n",
       "      <th>NS-SeC_higher_2011_region_pct</th>\n",
       "      <th>NS-SeC_higher_2001_region_pct</th>\n",
       "    </tr>\n",
       "  </thead>\n",
       "  <tbody>\n",
       "    <tr>\n",
       "      <th>0</th>\n",
       "      <td>E02003134</td>\n",
       "      <td>Plymouth 013</td>\n",
       "      <td>E06000026</td>\n",
       "      <td>Plymouth</td>\n",
       "      <td>E12000009</td>\n",
       "      <td>South West</td>\n",
       "      <td>E02003134</td>\n",
       "      <td>Plymouth 013</td>\n",
       "      <td>107000</td>\n",
       "      <td>50000</td>\n",
       "      <td>...</td>\n",
       "      <td>0.214556</td>\n",
       "      <td>0.134897</td>\n",
       "      <td>0.273748</td>\n",
       "      <td>0.188394</td>\n",
       "      <td>0.164142</td>\n",
       "      <td>0.123138</td>\n",
       "      <td>0.250561</td>\n",
       "      <td>0.212597</td>\n",
       "      <td>0.318683</td>\n",
       "      <td>0.263429</td>\n",
       "    </tr>\n",
       "    <tr>\n",
       "      <th>1</th>\n",
       "      <td>E02003135</td>\n",
       "      <td>Plymouth 014</td>\n",
       "      <td>E06000026</td>\n",
       "      <td>Plymouth</td>\n",
       "      <td>E12000009</td>\n",
       "      <td>South West</td>\n",
       "      <td>E02003135</td>\n",
       "      <td>Plymouth 014</td>\n",
       "      <td>105000</td>\n",
       "      <td>46000</td>\n",
       "      <td>...</td>\n",
       "      <td>0.214556</td>\n",
       "      <td>0.134897</td>\n",
       "      <td>0.273748</td>\n",
       "      <td>0.188394</td>\n",
       "      <td>0.195903</td>\n",
       "      <td>0.210745</td>\n",
       "      <td>0.250561</td>\n",
       "      <td>0.212597</td>\n",
       "      <td>0.318683</td>\n",
       "      <td>0.263429</td>\n",
       "    </tr>\n",
       "    <tr>\n",
       "      <th>2</th>\n",
       "      <td>E02003136</td>\n",
       "      <td>Plymouth 015</td>\n",
       "      <td>E06000026</td>\n",
       "      <td>Plymouth</td>\n",
       "      <td>E12000009</td>\n",
       "      <td>South West</td>\n",
       "      <td>E02003136</td>\n",
       "      <td>Plymouth 015</td>\n",
       "      <td>169000</td>\n",
       "      <td>89950</td>\n",
       "      <td>...</td>\n",
       "      <td>0.214556</td>\n",
       "      <td>0.134897</td>\n",
       "      <td>0.273748</td>\n",
       "      <td>0.188394</td>\n",
       "      <td>0.319487</td>\n",
       "      <td>0.243790</td>\n",
       "      <td>0.250561</td>\n",
       "      <td>0.212597</td>\n",
       "      <td>0.318683</td>\n",
       "      <td>0.263429</td>\n",
       "    </tr>\n",
       "    <tr>\n",
       "      <th>3</th>\n",
       "      <td>E02003137</td>\n",
       "      <td>Plymouth 016</td>\n",
       "      <td>E06000026</td>\n",
       "      <td>Plymouth</td>\n",
       "      <td>E12000009</td>\n",
       "      <td>South West</td>\n",
       "      <td>E02003137</td>\n",
       "      <td>Plymouth 016</td>\n",
       "      <td>222500</td>\n",
       "      <td>97000</td>\n",
       "      <td>...</td>\n",
       "      <td>0.214556</td>\n",
       "      <td>0.134897</td>\n",
       "      <td>0.273748</td>\n",
       "      <td>0.188394</td>\n",
       "      <td>0.436847</td>\n",
       "      <td>0.356897</td>\n",
       "      <td>0.250561</td>\n",
       "      <td>0.212597</td>\n",
       "      <td>0.318683</td>\n",
       "      <td>0.263429</td>\n",
       "    </tr>\n",
       "    <tr>\n",
       "      <th>4</th>\n",
       "      <td>E02003138</td>\n",
       "      <td>Plymouth 017</td>\n",
       "      <td>E06000026</td>\n",
       "      <td>Plymouth</td>\n",
       "      <td>E12000009</td>\n",
       "      <td>South West</td>\n",
       "      <td>E02003138</td>\n",
       "      <td>Plymouth 017</td>\n",
       "      <td>175500</td>\n",
       "      <td>81000</td>\n",
       "      <td>...</td>\n",
       "      <td>0.214556</td>\n",
       "      <td>0.134897</td>\n",
       "      <td>0.273748</td>\n",
       "      <td>0.188394</td>\n",
       "      <td>0.404736</td>\n",
       "      <td>0.341520</td>\n",
       "      <td>0.250561</td>\n",
       "      <td>0.212597</td>\n",
       "      <td>0.318683</td>\n",
       "      <td>0.263429</td>\n",
       "    </tr>\n",
       "  </tbody>\n",
       "</table>\n",
       "<p>5 rows × 54 columns</p>\n",
       "</div>"
      ],
      "text/plain": [
       "    MSOA11CD      MSOA11NM    LAD11CD   LAD11NM    RGN11CD     RGN11NM  \\\n",
       "0  E02003134  Plymouth 013  E06000026  Plymouth  E12000009  South West   \n",
       "1  E02003135  Plymouth 014  E06000026  Plymouth  E12000009  South West   \n",
       "2  E02003136  Plymouth 015  E06000026  Plymouth  E12000009  South West   \n",
       "3  E02003137  Plymouth 016  E06000026  Plymouth  E12000009  South West   \n",
       "4  E02003138  Plymouth 017  E06000026  Plymouth  E12000009  South West   \n",
       "\n",
       "    MSOA01CD      MSOA01NM  median_price_2011  median_price_2001  ...  \\\n",
       "0  E02003134  Plymouth 013             107000              50000  ...   \n",
       "1  E02003135  Plymouth 014             105000              46000  ...   \n",
       "2  E02003136  Plymouth 015             169000              89950  ...   \n",
       "3  E02003137  Plymouth 016             222500              97000  ...   \n",
       "4  E02003138  Plymouth 017             175500              81000  ...   \n",
       "\n",
       "   qualification_2011_la_pct  qualification_2001_la_pct  \\\n",
       "0                   0.214556                   0.134897   \n",
       "1                   0.214556                   0.134897   \n",
       "2                   0.214556                   0.134897   \n",
       "3                   0.214556                   0.134897   \n",
       "4                   0.214556                   0.134897   \n",
       "\n",
       "   qualification_2011_region_pct  qualification_2001_region_pct  \\\n",
       "0                       0.273748                       0.188394   \n",
       "1                       0.273748                       0.188394   \n",
       "2                       0.273748                       0.188394   \n",
       "3                       0.273748                       0.188394   \n",
       "4                       0.273748                       0.188394   \n",
       "\n",
       "   NS-SeC_higher_2011_pct  NS-SeC_higher_2001_pct  NS-SeC_higher_2011_la_pct  \\\n",
       "0                0.164142                0.123138                   0.250561   \n",
       "1                0.195903                0.210745                   0.250561   \n",
       "2                0.319487                0.243790                   0.250561   \n",
       "3                0.436847                0.356897                   0.250561   \n",
       "4                0.404736                0.341520                   0.250561   \n",
       "\n",
       "   NS-SeC_higher_2001_la_pct  NS-SeC_higher_2011_region_pct  \\\n",
       "0                   0.212597                       0.318683   \n",
       "1                   0.212597                       0.318683   \n",
       "2                   0.212597                       0.318683   \n",
       "3                   0.212597                       0.318683   \n",
       "4                   0.212597                       0.318683   \n",
       "\n",
       "   NS-SeC_higher_2001_region_pct  \n",
       "0                       0.263429  \n",
       "1                       0.263429  \n",
       "2                       0.263429  \n",
       "3                       0.263429  \n",
       "4                       0.263429  \n",
       "\n",
       "[5 rows x 54 columns]"
      ]
     },
     "execution_count": 22,
     "metadata": {},
     "output_type": "execute_result"
    }
   ],
   "source": [
    "sw.head()"
   ]
  },
  {
   "cell_type": "code",
   "execution_count": null,
   "metadata": {},
   "outputs": [],
   "source": [
    "#do the same for London"
   ]
  },
  {
   "cell_type": "code",
   "execution_count": 23,
   "metadata": {},
   "outputs": [
    {
     "name": "stdout",
     "output_type": "stream",
     "text": [
      "<class 'pandas.core.frame.DataFrame'>\n",
      "Int64Index: 951 entries, 0 to 950\n",
      "Data columns (total 42 columns):\n",
      " #   Column                         Non-Null Count  Dtype  \n",
      "---  ------                         --------------  -----  \n",
      " 0   MSOA11CD                       951 non-null    object \n",
      " 1   MSOA11NM                       951 non-null    object \n",
      " 2   LAD11CD                        951 non-null    object \n",
      " 3   LAD11NM                        951 non-null    object \n",
      " 4   RGN11CD                        951 non-null    object \n",
      " 5   RGN11NM                        951 non-null    object \n",
      " 6   MSOA01CD                       951 non-null    object \n",
      " 7   MSOA01NM                       951 non-null    object \n",
      " 8   median_price_2011              951 non-null    object \n",
      " 9   median_price_2001              951 non-null    float64\n",
      " 10  median_price_2001_la           951 non-null    int64  \n",
      " 11  median_price_2011_la           951 non-null    int64  \n",
      " 12  median_price_2001_region       951 non-null    int64  \n",
      " 13  median_price_2011_region       951 non-null    int64  \n",
      " 14  earnings_2003                  951 non-null    float64\n",
      " 15  earnings_2011                  951 non-null    object \n",
      " 16  earnings_2002_region           951 non-null    int64  \n",
      " 17  earnings_2011_region           951 non-null    int64  \n",
      " 18  NS-SeC_all_2011                951 non-null    object \n",
      " 19  NS-SeC_higher_2011             951 non-null    float64\n",
      " 20  NS-SeC_all_2001                951 non-null    int64  \n",
      " 21  NS-SeC_higher_2001             951 non-null    int64  \n",
      " 22  NS-SeC_all_2011_la             951 non-null    int64  \n",
      " 23  NS-SeC_higher_2011_la          951 non-null    int64  \n",
      " 24  NS-SeC_all_2001_la             951 non-null    int64  \n",
      " 25  NS-SeC_higher_2001_la          951 non-null    int64  \n",
      " 26  NS-SeC_all_2011_region         951 non-null    int64  \n",
      " 27  NS-SeC_higher_2011_region      951 non-null    int64  \n",
      " 28  NS-SeC_all_2001_region         951 non-null    int64  \n",
      " 29  NS-SeC_higher_2001_region      951 non-null    int64  \n",
      " 30  qualification_all_2011         951 non-null    object \n",
      " 31  qualification_2011             951 non-null    float64\n",
      " 32  qualification_all_2001         951 non-null    object \n",
      " 33  qualification_2001             951 non-null    float64\n",
      " 34  qualification_all_2011_la      951 non-null    int64  \n",
      " 35  qualification_2011_la          951 non-null    int64  \n",
      " 36  qualification_all_2001_la      951 non-null    int64  \n",
      " 37  qualification_2001_la          951 non-null    int64  \n",
      " 38  qualification_all_2011_region  951 non-null    int64  \n",
      " 39  qualification_2011_region      951 non-null    int64  \n",
      " 40  qualification_all_2001_region  951 non-null    int64  \n",
      " 41  qualification_2001_region      951 non-null    int64  \n",
      "dtypes: float64(5), int64(24), object(13)\n",
      "memory usage: 319.5+ KB\n"
     ]
    }
   ],
   "source": [
    "london.info()"
   ]
  },
  {
   "cell_type": "code",
   "execution_count": 24,
   "metadata": {},
   "outputs": [],
   "source": [
    "# converting float64 columns which contain integers to int64 for consistency\n",
    "\n",
    "london['median_price_2011'] = london['median_price_2011'].astype('float64')\n",
    "london['median_price_2011'] = london['median_price_2011'].astype('int64')\n",
    "london['median_price_2001'] = london['median_price_2001'].astype('int64')\n",
    "london['NS-SeC_all_2011'] = london['NS-SeC_all_2011'].astype('float64')\n",
    "london['NS-SeC_all_2011'] = london['NS-SeC_all_2011'].astype('int64')\n",
    "london['NS-SeC_higher_2011'] = london['NS-SeC_higher_2011'].astype('int64')\n",
    "london['NS-SeC_all_2001'] = london['NS-SeC_all_2001'].astype('float64')\n",
    "london['NS-SeC_all_2001'] = london['NS-SeC_all_2001'].astype('int64')\n",
    "london['NS-SeC_higher_2001'] = london['NS-SeC_higher_2001'].astype('int64')\n",
    "london['qualification_all_2011'] = london['qualification_all_2011'].astype('float64')\n",
    "london['qualification_all_2011'] = london['qualification_all_2011'].astype('int64')\n",
    "london['qualification_2011'] = london['qualification_2011'].astype('int64')\n",
    "london['qualification_all_2001'] = london['qualification_all_2001'].astype('float64')\n",
    "london['qualification_all_2001'] = london['qualification_all_2001'].astype('int64')\n",
    "london['qualification_2001'] = london['qualification_2001'].astype('int64')\n",
    "\n",
    "\n",
    "london['earnings_2011'] = london['earnings_2011'].astype('float64')\n",
    "london['earnings_2011'] = london['earnings_2011'].astype('int64')\n",
    "london['earnings_2003'] = london['earnings_2003'].astype('int64')"
   ]
  },
  {
   "cell_type": "code",
   "execution_count": 25,
   "metadata": {},
   "outputs": [],
   "source": [
    "# standardise qualifications and NS-sec values into percentage rates / proportions\n",
    "\n",
    "london['qualification_2011_pct'] = (london['qualification_2011'] / london['qualification_all_2011']) \n",
    "london['qualification_2001_pct'] = (london['qualification_2001'] / london['qualification_all_2001']) \n",
    "\n",
    "london['qualification_2011_la_pct'] = (london['qualification_2011_la'] / london['qualification_all_2011_la'])\n",
    "london['qualification_2001_la_pct'] = (london['qualification_2001_la'] / london['qualification_all_2001_la']) \n",
    "\n",
    "london['qualification_2011_region_pct'] = (london['qualification_2011_region'] / london['qualification_all_2011_region'])\n",
    "london['qualification_2001_region_pct'] = (london['qualification_2001_region'] / london['qualification_all_2001_region']) \n",
    "\n",
    "london['NS-SeC_higher_2011_pct'] = (london['NS-SeC_higher_2011'] / london['NS-SeC_all_2011']) \n",
    "london['NS-SeC_higher_2001_pct'] = (london['NS-SeC_higher_2001'] / london['NS-SeC_all_2001']) \n",
    "\n",
    "london['NS-SeC_higher_2011_la_pct'] = (london['NS-SeC_higher_2011_la'] / london['NS-SeC_all_2011_la']) \n",
    "london['NS-SeC_higher_2001_la_pct'] = (london['NS-SeC_higher_2001_la'] / london['NS-SeC_all_2001_la']) \n",
    "\n",
    "london['NS-SeC_higher_2011_region_pct'] = (london['NS-SeC_higher_2011_region'] / london['NS-SeC_all_2011_region']) \n",
    "london['NS-SeC_higher_2001_region_pct'] = (london['NS-SeC_higher_2001_region'] / london['NS-SeC_all_2001_region']) \n",
    "\n",
    "# calcualte affordability index\n",
    "#london['affordability_2011'] = (london['median_price_2011'] / london['earnings_2011']) \n",
    "#london['affordability_2001'] = (london['median_price_2001'] / london['earnings_2002']) "
   ]
  },
  {
   "cell_type": "code",
   "execution_count": 26,
   "metadata": {},
   "outputs": [
    {
     "name": "stdout",
     "output_type": "stream",
     "text": [
      "<class 'pandas.core.frame.DataFrame'>\n",
      "Int64Index: 246 entries, 0 to 245\n",
      "Data columns (total 54 columns):\n",
      " #   Column                         Non-Null Count  Dtype  \n",
      "---  ------                         --------------  -----  \n",
      " 0   MSOA11CD                       246 non-null    object \n",
      " 1   MSOA11NM                       246 non-null    object \n",
      " 2   LAD11CD                        246 non-null    object \n",
      " 3   LAD11NM                        246 non-null    object \n",
      " 4   RGN11CD                        246 non-null    object \n",
      " 5   RGN11NM                        246 non-null    object \n",
      " 6   MSOA01CD                       246 non-null    object \n",
      " 7   MSOA01NM                       246 non-null    object \n",
      " 8   median_price_2011              246 non-null    int64  \n",
      " 9   median_price_2001              246 non-null    int64  \n",
      " 10  median_price_2001_la           246 non-null    int64  \n",
      " 11  median_price_2011_la           246 non-null    int64  \n",
      " 12  median_price_2001_region       246 non-null    int64  \n",
      " 13  median_price_2011_region       246 non-null    int64  \n",
      " 14  earnings_2003                  246 non-null    int64  \n",
      " 15  earnings_2011                  246 non-null    int64  \n",
      " 16  earnings_2002_region           246 non-null    int64  \n",
      " 17  earnings_2011_region           246 non-null    int64  \n",
      " 18  NS-SeC_all_2011                246 non-null    int64  \n",
      " 19  NS-SeC_higher_2011             246 non-null    int64  \n",
      " 20  NS-SeC_all_2001                246 non-null    int64  \n",
      " 21  NS-SeC_higher_2001             246 non-null    int64  \n",
      " 22  NS-SeC_all_2011_la             246 non-null    int64  \n",
      " 23  NS-SeC_higher_2011_la          246 non-null    int64  \n",
      " 24  NS-SeC_all_2001_la             246 non-null    int64  \n",
      " 25  NS-SeC_higher_2001_la          246 non-null    int64  \n",
      " 26  NS-SeC_all_2011_region         246 non-null    int64  \n",
      " 27  NS-SeC_higher_2011_region      246 non-null    int64  \n",
      " 28  NS-SeC_all_2001_region         246 non-null    int64  \n",
      " 29  NS-SeC_higher_2001_region      246 non-null    int64  \n",
      " 30  qualification_all_2011         246 non-null    int64  \n",
      " 31  qualification_2011             246 non-null    int64  \n",
      " 32  qualification_all_2001         246 non-null    int64  \n",
      " 33  qualification_2001             246 non-null    int64  \n",
      " 34  qualification_all_2011_la      246 non-null    int64  \n",
      " 35  qualification_2011_la          246 non-null    int64  \n",
      " 36  qualification_all_2001_la      246 non-null    int64  \n",
      " 37  qualification_2001_la          246 non-null    int64  \n",
      " 38  qualification_all_2011_region  246 non-null    int64  \n",
      " 39  qualification_2011_region      246 non-null    int64  \n",
      " 40  qualification_all_2001_region  246 non-null    int64  \n",
      " 41  qualification_2001_region      246 non-null    int64  \n",
      " 42  qualification_2011_pct         246 non-null    float64\n",
      " 43  qualification_2001_pct         246 non-null    float64\n",
      " 44  qualification_2011_la_pct      246 non-null    float64\n",
      " 45  qualification_2001_la_pct      246 non-null    float64\n",
      " 46  qualification_2011_region_pct  246 non-null    float64\n",
      " 47  qualification_2001_region_pct  246 non-null    float64\n",
      " 48  NS-SeC_higher_2011_pct         246 non-null    float64\n",
      " 49  NS-SeC_higher_2001_pct         246 non-null    float64\n",
      " 50  NS-SeC_higher_2011_la_pct      246 non-null    float64\n",
      " 51  NS-SeC_higher_2001_la_pct      246 non-null    float64\n",
      " 52  NS-SeC_higher_2011_region_pct  246 non-null    float64\n",
      " 53  NS-SeC_higher_2001_region_pct  246 non-null    float64\n",
      "dtypes: float64(12), int64(34), object(8)\n",
      "memory usage: 105.7+ KB\n"
     ]
    }
   ],
   "source": [
    "sw.info()"
   ]
  },
  {
   "cell_type": "markdown",
   "metadata": {},
   "source": [
    "## Part 2: further processing-for every varibale of the MSOA, calculate the its relative value to the corresponding Local Authorities and the Region "
   ]
  },
  {
   "cell_type": "code",
   "execution_count": 27,
   "metadata": {},
   "outputs": [],
   "source": [
    "# extracting relevant features for further processing \n",
    "# extracted features saved as extract_df\n",
    "\n",
    "sw_extract1 = sw[['MSOA11CD',\n",
    " 'median_price_2011',\n",
    " 'median_price_2001',\n",
    " 'median_price_2001_la',\n",
    " 'median_price_2011_la',\n",
    " 'median_price_2001_region',\n",
    " 'median_price_2011_region', \n",
    " 'earnings_2003','earnings_2011',\n",
    " 'earnings_2002_region',\n",
    " 'earnings_2011_region',\n",
    " 'qualification_2011_pct',\n",
    " 'qualification_2001_pct',\n",
    " 'qualification_2011_la_pct',\n",
    " 'qualification_2001_la_pct',\n",
    " 'qualification_2011_region_pct',\n",
    " 'qualification_2001_region_pct',\n",
    " 'NS-SeC_higher_2011_pct',\n",
    " 'NS-SeC_higher_2001_pct',\n",
    " 'NS-SeC_higher_2011_la_pct',\n",
    " 'NS-SeC_higher_2001_la_pct',\n",
    " 'NS-SeC_higher_2011_region_pct',\n",
    " 'NS-SeC_higher_2001_region_pct']]"
   ]
  },
  {
   "cell_type": "code",
   "execution_count": 28,
   "metadata": {},
   "outputs": [
    {
     "name": "stderr",
     "output_type": "stream",
     "text": [
      "/opt/conda/envs/sds2020/lib/python3.7/site-packages/ipykernel_launcher.py:1: SettingWithCopyWarning: \n",
      "A value is trying to be set on a copy of a slice from a DataFrame.\n",
      "Try using .loc[row_indexer,col_indexer] = value instead\n",
      "\n",
      "See the caveats in the documentation: https://pandas.pydata.org/pandas-docs/stable/user_guide/indexing.html#returning-a-view-versus-a-copy\n",
      "  \"\"\"Entry point for launching an IPython kernel.\n",
      "/opt/conda/envs/sds2020/lib/python3.7/site-packages/ipykernel_launcher.py:2: SettingWithCopyWarning: \n",
      "A value is trying to be set on a copy of a slice from a DataFrame.\n",
      "Try using .loc[row_indexer,col_indexer] = value instead\n",
      "\n",
      "See the caveats in the documentation: https://pandas.pydata.org/pandas-docs/stable/user_guide/indexing.html#returning-a-view-versus-a-copy\n",
      "  \n",
      "/opt/conda/envs/sds2020/lib/python3.7/site-packages/ipykernel_launcher.py:3: SettingWithCopyWarning: \n",
      "A value is trying to be set on a copy of a slice from a DataFrame.\n",
      "Try using .loc[row_indexer,col_indexer] = value instead\n",
      "\n",
      "See the caveats in the documentation: https://pandas.pydata.org/pandas-docs/stable/user_guide/indexing.html#returning-a-view-versus-a-copy\n",
      "  This is separate from the ipykernel package so we can avoid doing imports until\n",
      "/opt/conda/envs/sds2020/lib/python3.7/site-packages/ipykernel_launcher.py:4: SettingWithCopyWarning: \n",
      "A value is trying to be set on a copy of a slice from a DataFrame.\n",
      "Try using .loc[row_indexer,col_indexer] = value instead\n",
      "\n",
      "See the caveats in the documentation: https://pandas.pydata.org/pandas-docs/stable/user_guide/indexing.html#returning-a-view-versus-a-copy\n",
      "  after removing the cwd from sys.path.\n",
      "/opt/conda/envs/sds2020/lib/python3.7/site-packages/ipykernel_launcher.py:5: SettingWithCopyWarning: \n",
      "A value is trying to be set on a copy of a slice from a DataFrame.\n",
      "Try using .loc[row_indexer,col_indexer] = value instead\n",
      "\n",
      "See the caveats in the documentation: https://pandas.pydata.org/pandas-docs/stable/user_guide/indexing.html#returning-a-view-versus-a-copy\n",
      "  \"\"\"\n",
      "/opt/conda/envs/sds2020/lib/python3.7/site-packages/ipykernel_launcher.py:6: SettingWithCopyWarning: \n",
      "A value is trying to be set on a copy of a slice from a DataFrame.\n",
      "Try using .loc[row_indexer,col_indexer] = value instead\n",
      "\n",
      "See the caveats in the documentation: https://pandas.pydata.org/pandas-docs/stable/user_guide/indexing.html#returning-a-view-versus-a-copy\n",
      "  \n",
      "/opt/conda/envs/sds2020/lib/python3.7/site-packages/ipykernel_launcher.py:7: SettingWithCopyWarning: \n",
      "A value is trying to be set on a copy of a slice from a DataFrame.\n",
      "Try using .loc[row_indexer,col_indexer] = value instead\n",
      "\n",
      "See the caveats in the documentation: https://pandas.pydata.org/pandas-docs/stable/user_guide/indexing.html#returning-a-view-versus-a-copy\n",
      "  import sys\n",
      "/opt/conda/envs/sds2020/lib/python3.7/site-packages/ipykernel_launcher.py:8: SettingWithCopyWarning: \n",
      "A value is trying to be set on a copy of a slice from a DataFrame.\n",
      "Try using .loc[row_indexer,col_indexer] = value instead\n",
      "\n",
      "See the caveats in the documentation: https://pandas.pydata.org/pandas-docs/stable/user_guide/indexing.html#returning-a-view-versus-a-copy\n",
      "  \n",
      "/opt/conda/envs/sds2020/lib/python3.7/site-packages/ipykernel_launcher.py:9: SettingWithCopyWarning: \n",
      "A value is trying to be set on a copy of a slice from a DataFrame.\n",
      "Try using .loc[row_indexer,col_indexer] = value instead\n",
      "\n",
      "See the caveats in the documentation: https://pandas.pydata.org/pandas-docs/stable/user_guide/indexing.html#returning-a-view-versus-a-copy\n",
      "  if __name__ == '__main__':\n",
      "/opt/conda/envs/sds2020/lib/python3.7/site-packages/ipykernel_launcher.py:10: SettingWithCopyWarning: \n",
      "A value is trying to be set on a copy of a slice from a DataFrame.\n",
      "Try using .loc[row_indexer,col_indexer] = value instead\n",
      "\n",
      "See the caveats in the documentation: https://pandas.pydata.org/pandas-docs/stable/user_guide/indexing.html#returning-a-view-versus-a-copy\n",
      "  # Remove the CWD from sys.path while we load stuff.\n",
      "/opt/conda/envs/sds2020/lib/python3.7/site-packages/ipykernel_launcher.py:11: SettingWithCopyWarning: \n",
      "A value is trying to be set on a copy of a slice from a DataFrame.\n",
      "Try using .loc[row_indexer,col_indexer] = value instead\n",
      "\n",
      "See the caveats in the documentation: https://pandas.pydata.org/pandas-docs/stable/user_guide/indexing.html#returning-a-view-versus-a-copy\n",
      "  # This is added back by InteractiveShellApp.init_path()\n",
      "/opt/conda/envs/sds2020/lib/python3.7/site-packages/ipykernel_launcher.py:12: SettingWithCopyWarning: \n",
      "A value is trying to be set on a copy of a slice from a DataFrame.\n",
      "Try using .loc[row_indexer,col_indexer] = value instead\n",
      "\n",
      "See the caveats in the documentation: https://pandas.pydata.org/pandas-docs/stable/user_guide/indexing.html#returning-a-view-versus-a-copy\n",
      "  if sys.path[0] == '':\n"
     ]
    }
   ],
   "source": [
    "sw_extract1['ratio_la_median_price_2011']=(sw_extract1['median_price_2011']/sw_extract1['median_price_2011_la'])\n",
    "sw_extract1['ratio_la_median_price_2001']=(sw_extract1['median_price_2001']/sw_extract1['median_price_2001_la'])\n",
    "sw_extract1['ratio_r_median_price_2011']=(sw_extract1['median_price_2011']/sw_extract1['median_price_2011_region'])\n",
    "sw_extract1['ratio_r_median_price_2001']=(sw_extract1['median_price_2001']/sw_extract1['median_price_2001_region'])\n",
    "sw_extract1['ratio_la_qualification_2011']=(sw_extract1['qualification_2011_pct']/sw_extract1['qualification_2011_la_pct'])\n",
    "sw_extract1['ratio_la_qualification_2001']=(sw_extract1['qualification_2001_pct']/sw_extract1['qualification_2001_la_pct'])\n",
    "sw_extract1['ratio_r_qualification_2011']=(sw_extract1['qualification_2011_pct']/sw_extract1['qualification_2011_region_pct'])\n",
    "sw_extract1['ratio_r_qualification_2001']=(sw_extract1['qualification_2001_pct']/sw_extract1['qualification_2001_region_pct'])\n",
    "sw_extract1['ratio_la_NSSEC_2011']=(sw_extract1['NS-SeC_higher_2011_pct']/sw_extract1['NS-SeC_higher_2011_la_pct'])\n",
    "sw_extract1['ratio_la_NSSEC_2001']=(sw_extract1['NS-SeC_higher_2001_pct']/sw_extract1['NS-SeC_higher_2001_la_pct'])\n",
    "sw_extract1['ratio_r_NSSEC_2011']=(sw_extract1['NS-SeC_higher_2011_pct']/sw_extract1['NS-SeC_higher_2011_region_pct'])\n",
    "sw_extract1['ratio_r_NSSEC_2001']=(sw_extract1['NS-SeC_higher_2001_pct']/sw_extract1['NS-SeC_higher_2001_region_pct'])\n"
   ]
  },
  {
   "cell_type": "code",
   "execution_count": 29,
   "metadata": {},
   "outputs": [
    {
     "name": "stderr",
     "output_type": "stream",
     "text": [
      "/opt/conda/envs/sds2020/lib/python3.7/site-packages/ipykernel_launcher.py:1: SettingWithCopyWarning: \n",
      "A value is trying to be set on a copy of a slice from a DataFrame.\n",
      "Try using .loc[row_indexer,col_indexer] = value instead\n",
      "\n",
      "See the caveats in the documentation: https://pandas.pydata.org/pandas-docs/stable/user_guide/indexing.html#returning-a-view-versus-a-copy\n",
      "  \"\"\"Entry point for launching an IPython kernel.\n",
      "/opt/conda/envs/sds2020/lib/python3.7/site-packages/ipykernel_launcher.py:2: SettingWithCopyWarning: \n",
      "A value is trying to be set on a copy of a slice from a DataFrame.\n",
      "Try using .loc[row_indexer,col_indexer] = value instead\n",
      "\n",
      "See the caveats in the documentation: https://pandas.pydata.org/pandas-docs/stable/user_guide/indexing.html#returning-a-view-versus-a-copy\n",
      "  \n",
      "/opt/conda/envs/sds2020/lib/python3.7/site-packages/ipykernel_launcher.py:3: SettingWithCopyWarning: \n",
      "A value is trying to be set on a copy of a slice from a DataFrame.\n",
      "Try using .loc[row_indexer,col_indexer] = value instead\n",
      "\n",
      "See the caveats in the documentation: https://pandas.pydata.org/pandas-docs/stable/user_guide/indexing.html#returning-a-view-versus-a-copy\n",
      "  This is separate from the ipykernel package so we can avoid doing imports until\n",
      "/opt/conda/envs/sds2020/lib/python3.7/site-packages/ipykernel_launcher.py:4: SettingWithCopyWarning: \n",
      "A value is trying to be set on a copy of a slice from a DataFrame.\n",
      "Try using .loc[row_indexer,col_indexer] = value instead\n",
      "\n",
      "See the caveats in the documentation: https://pandas.pydata.org/pandas-docs/stable/user_guide/indexing.html#returning-a-view-versus-a-copy\n",
      "  after removing the cwd from sys.path.\n"
     ]
    }
   ],
   "source": [
    "sw_extract1['ratio_la_earning_2011']=(sw_extract1['earnings_2011']/sw_extract1['earnings_2011'])\n",
    "sw_extract1['ratio_la_earning_2001']=(sw_extract1['earnings_2003']/sw_extract1['earnings_2003'])\n",
    "sw_extract1['ratio_r_earning_2011']=(sw_extract1['earnings_2011']/sw_extract1['earnings_2011_region'])\n",
    "sw_extract1['ratio_r_earning_2001']=(sw_extract1['earnings_2003']/sw_extract1['earnings_2002_region'])"
   ]
  },
  {
   "cell_type": "code",
   "execution_count": 27,
   "metadata": {},
   "outputs": [
    {
     "name": "stdout",
     "output_type": "stream",
     "text": [
      "<class 'pandas.core.frame.DataFrame'>\n",
      "Int64Index: 246 entries, 0 to 245\n",
      "Data columns (total 39 columns):\n",
      " #   Column                         Non-Null Count  Dtype  \n",
      "---  ------                         --------------  -----  \n",
      " 0   MSOA11CD                       246 non-null    object \n",
      " 1   median_price_2011              246 non-null    int64  \n",
      " 2   median_price_2001              246 non-null    int64  \n",
      " 3   median_price_2001_la           246 non-null    int64  \n",
      " 4   median_price_2011_la           246 non-null    int64  \n",
      " 5   median_price_2001_region       246 non-null    int64  \n",
      " 6   median_price_2011_region       246 non-null    int64  \n",
      " 7   earnings_2003                  246 non-null    int64  \n",
      " 8   earnings_2011                  246 non-null    int64  \n",
      " 9   earnings_2002_region           246 non-null    int64  \n",
      " 10  earnings_2011_region           246 non-null    int64  \n",
      " 11  qualification_2011_pct         246 non-null    float64\n",
      " 12  qualification_2001_pct         246 non-null    float64\n",
      " 13  qualification_2011_la_pct      246 non-null    float64\n",
      " 14  qualification_2001_la_pct      246 non-null    float64\n",
      " 15  qualification_2011_region_pct  246 non-null    float64\n",
      " 16  qualification_2001_region_pct  246 non-null    float64\n",
      " 17  NS-SeC_higher_2011_pct         246 non-null    float64\n",
      " 18  NS-SeC_higher_2001_pct         246 non-null    float64\n",
      " 19  NS-SeC_higher_2011_la_pct      246 non-null    float64\n",
      " 20  NS-SeC_higher_2001_la_pct      246 non-null    float64\n",
      " 21  NS-SeC_higher_2011_region_pct  246 non-null    float64\n",
      " 22  NS-SeC_higher_2001_region_pct  246 non-null    float64\n",
      " 23  ratio_la_median_price_2011     246 non-null    float64\n",
      " 24  ratio_la_median_price_2001     246 non-null    float64\n",
      " 25  ratio_r_median_price_2011      246 non-null    float64\n",
      " 26  ratio_r_median_price_2001      246 non-null    float64\n",
      " 27  ratio_la_qualification_2011    246 non-null    float64\n",
      " 28  ratio_la_qualification_2001    246 non-null    float64\n",
      " 29  ratio_r_qualification_2011     246 non-null    float64\n",
      " 30  ratio_r_qualification_2001     246 non-null    float64\n",
      " 31  ratio_la_NSSEC_2011            246 non-null    float64\n",
      " 32  ratio_la_NSSEC_2001            246 non-null    float64\n",
      " 33  ratio_r_NSSEC_2011             246 non-null    float64\n",
      " 34  ratio_r_NSSEC_2001             246 non-null    float64\n",
      " 35  ratio_la_earning_2011          246 non-null    float64\n",
      " 36  ratio_la_earning_2001          246 non-null    float64\n",
      " 37  ratio_r_earning_2011           246 non-null    float64\n",
      " 38  ratio_r_earning_2001           246 non-null    float64\n",
      "dtypes: float64(28), int64(10), object(1)\n",
      "memory usage: 76.9+ KB\n"
     ]
    }
   ],
   "source": [
    "sw_extract1.info()"
   ]
  },
  {
   "cell_type": "code",
   "execution_count": 30,
   "metadata": {},
   "outputs": [],
   "source": [
    "sw_extract_la =sw_extract1[['MSOA11CD','ratio_la_median_price_2011','ratio_la_median_price_2001', 'ratio_la_qualification_2011',\n",
    "                           'ratio_la_qualification_2001','ratio_la_NSSEC_2011','ratio_la_NSSEC_2001',\n",
    "                           'ratio_la_earning_2011','ratio_la_earning_2001']]\n",
    "sw_extract_r =sw_extract1[['MSOA11CD','ratio_r_median_price_2011','ratio_r_median_price_2001', 'ratio_r_qualification_2011',\n",
    "                           'ratio_r_qualification_2001','ratio_r_NSSEC_2011','ratio_r_NSSEC_2001',\n",
    "                           'ratio_r_earning_2011','ratio_r_earning_2001']]"
   ]
  },
  {
   "cell_type": "code",
   "execution_count": 31,
   "metadata": {},
   "outputs": [],
   "source": [
    "london_extract1 = london[['MSOA11CD',\n",
    " 'median_price_2011',\n",
    " 'median_price_2001',\n",
    " 'median_price_2001_la',\n",
    " 'median_price_2011_la',\n",
    " 'median_price_2001_region',\n",
    " 'median_price_2011_region', \n",
    " 'earnings_2003','earnings_2011',\n",
    " 'earnings_2002_region',\n",
    " 'earnings_2011_region',\n",
    " 'qualification_2011_pct',\n",
    " 'qualification_2001_pct',\n",
    " 'qualification_2011_la_pct',\n",
    " 'qualification_2001_la_pct',\n",
    " 'qualification_2011_region_pct',\n",
    " 'qualification_2001_region_pct',\n",
    " 'NS-SeC_higher_2011_pct',\n",
    " 'NS-SeC_higher_2001_pct',\n",
    " 'NS-SeC_higher_2011_la_pct',\n",
    " 'NS-SeC_higher_2001_la_pct',\n",
    " 'NS-SeC_higher_2011_region_pct',\n",
    " 'NS-SeC_higher_2001_region_pct']]"
   ]
  },
  {
   "cell_type": "code",
   "execution_count": 32,
   "metadata": {},
   "outputs": [
    {
     "name": "stderr",
     "output_type": "stream",
     "text": [
      "/opt/conda/envs/sds2020/lib/python3.7/site-packages/ipykernel_launcher.py:1: SettingWithCopyWarning: \n",
      "A value is trying to be set on a copy of a slice from a DataFrame.\n",
      "Try using .loc[row_indexer,col_indexer] = value instead\n",
      "\n",
      "See the caveats in the documentation: https://pandas.pydata.org/pandas-docs/stable/user_guide/indexing.html#returning-a-view-versus-a-copy\n",
      "  \"\"\"Entry point for launching an IPython kernel.\n",
      "/opt/conda/envs/sds2020/lib/python3.7/site-packages/ipykernel_launcher.py:2: SettingWithCopyWarning: \n",
      "A value is trying to be set on a copy of a slice from a DataFrame.\n",
      "Try using .loc[row_indexer,col_indexer] = value instead\n",
      "\n",
      "See the caveats in the documentation: https://pandas.pydata.org/pandas-docs/stable/user_guide/indexing.html#returning-a-view-versus-a-copy\n",
      "  \n",
      "/opt/conda/envs/sds2020/lib/python3.7/site-packages/ipykernel_launcher.py:3: SettingWithCopyWarning: \n",
      "A value is trying to be set on a copy of a slice from a DataFrame.\n",
      "Try using .loc[row_indexer,col_indexer] = value instead\n",
      "\n",
      "See the caveats in the documentation: https://pandas.pydata.org/pandas-docs/stable/user_guide/indexing.html#returning-a-view-versus-a-copy\n",
      "  This is separate from the ipykernel package so we can avoid doing imports until\n",
      "/opt/conda/envs/sds2020/lib/python3.7/site-packages/ipykernel_launcher.py:4: SettingWithCopyWarning: \n",
      "A value is trying to be set on a copy of a slice from a DataFrame.\n",
      "Try using .loc[row_indexer,col_indexer] = value instead\n",
      "\n",
      "See the caveats in the documentation: https://pandas.pydata.org/pandas-docs/stable/user_guide/indexing.html#returning-a-view-versus-a-copy\n",
      "  after removing the cwd from sys.path.\n",
      "/opt/conda/envs/sds2020/lib/python3.7/site-packages/ipykernel_launcher.py:5: SettingWithCopyWarning: \n",
      "A value is trying to be set on a copy of a slice from a DataFrame.\n",
      "Try using .loc[row_indexer,col_indexer] = value instead\n",
      "\n",
      "See the caveats in the documentation: https://pandas.pydata.org/pandas-docs/stable/user_guide/indexing.html#returning-a-view-versus-a-copy\n",
      "  \"\"\"\n",
      "/opt/conda/envs/sds2020/lib/python3.7/site-packages/ipykernel_launcher.py:6: SettingWithCopyWarning: \n",
      "A value is trying to be set on a copy of a slice from a DataFrame.\n",
      "Try using .loc[row_indexer,col_indexer] = value instead\n",
      "\n",
      "See the caveats in the documentation: https://pandas.pydata.org/pandas-docs/stable/user_guide/indexing.html#returning-a-view-versus-a-copy\n",
      "  \n",
      "/opt/conda/envs/sds2020/lib/python3.7/site-packages/ipykernel_launcher.py:7: SettingWithCopyWarning: \n",
      "A value is trying to be set on a copy of a slice from a DataFrame.\n",
      "Try using .loc[row_indexer,col_indexer] = value instead\n",
      "\n",
      "See the caveats in the documentation: https://pandas.pydata.org/pandas-docs/stable/user_guide/indexing.html#returning-a-view-versus-a-copy\n",
      "  import sys\n",
      "/opt/conda/envs/sds2020/lib/python3.7/site-packages/ipykernel_launcher.py:8: SettingWithCopyWarning: \n",
      "A value is trying to be set on a copy of a slice from a DataFrame.\n",
      "Try using .loc[row_indexer,col_indexer] = value instead\n",
      "\n",
      "See the caveats in the documentation: https://pandas.pydata.org/pandas-docs/stable/user_guide/indexing.html#returning-a-view-versus-a-copy\n",
      "  \n",
      "/opt/conda/envs/sds2020/lib/python3.7/site-packages/ipykernel_launcher.py:9: SettingWithCopyWarning: \n",
      "A value is trying to be set on a copy of a slice from a DataFrame.\n",
      "Try using .loc[row_indexer,col_indexer] = value instead\n",
      "\n",
      "See the caveats in the documentation: https://pandas.pydata.org/pandas-docs/stable/user_guide/indexing.html#returning-a-view-versus-a-copy\n",
      "  if __name__ == '__main__':\n",
      "/opt/conda/envs/sds2020/lib/python3.7/site-packages/ipykernel_launcher.py:10: SettingWithCopyWarning: \n",
      "A value is trying to be set on a copy of a slice from a DataFrame.\n",
      "Try using .loc[row_indexer,col_indexer] = value instead\n",
      "\n",
      "See the caveats in the documentation: https://pandas.pydata.org/pandas-docs/stable/user_guide/indexing.html#returning-a-view-versus-a-copy\n",
      "  # Remove the CWD from sys.path while we load stuff.\n",
      "/opt/conda/envs/sds2020/lib/python3.7/site-packages/ipykernel_launcher.py:11: SettingWithCopyWarning: \n",
      "A value is trying to be set on a copy of a slice from a DataFrame.\n",
      "Try using .loc[row_indexer,col_indexer] = value instead\n",
      "\n",
      "See the caveats in the documentation: https://pandas.pydata.org/pandas-docs/stable/user_guide/indexing.html#returning-a-view-versus-a-copy\n",
      "  # This is added back by InteractiveShellApp.init_path()\n",
      "/opt/conda/envs/sds2020/lib/python3.7/site-packages/ipykernel_launcher.py:12: SettingWithCopyWarning: \n",
      "A value is trying to be set on a copy of a slice from a DataFrame.\n",
      "Try using .loc[row_indexer,col_indexer] = value instead\n",
      "\n",
      "See the caveats in the documentation: https://pandas.pydata.org/pandas-docs/stable/user_guide/indexing.html#returning-a-view-versus-a-copy\n",
      "  if sys.path[0] == '':\n",
      "/opt/conda/envs/sds2020/lib/python3.7/site-packages/ipykernel_launcher.py:13: SettingWithCopyWarning: \n",
      "A value is trying to be set on a copy of a slice from a DataFrame.\n",
      "Try using .loc[row_indexer,col_indexer] = value instead\n",
      "\n",
      "See the caveats in the documentation: https://pandas.pydata.org/pandas-docs/stable/user_guide/indexing.html#returning-a-view-versus-a-copy\n",
      "  del sys.path[0]\n",
      "/opt/conda/envs/sds2020/lib/python3.7/site-packages/ipykernel_launcher.py:14: SettingWithCopyWarning: \n",
      "A value is trying to be set on a copy of a slice from a DataFrame.\n",
      "Try using .loc[row_indexer,col_indexer] = value instead\n",
      "\n",
      "See the caveats in the documentation: https://pandas.pydata.org/pandas-docs/stable/user_guide/indexing.html#returning-a-view-versus-a-copy\n",
      "  \n",
      "/opt/conda/envs/sds2020/lib/python3.7/site-packages/ipykernel_launcher.py:15: SettingWithCopyWarning: \n",
      "A value is trying to be set on a copy of a slice from a DataFrame.\n",
      "Try using .loc[row_indexer,col_indexer] = value instead\n",
      "\n",
      "See the caveats in the documentation: https://pandas.pydata.org/pandas-docs/stable/user_guide/indexing.html#returning-a-view-versus-a-copy\n",
      "  from ipykernel import kernelapp as app\n",
      "/opt/conda/envs/sds2020/lib/python3.7/site-packages/ipykernel_launcher.py:16: SettingWithCopyWarning: \n",
      "A value is trying to be set on a copy of a slice from a DataFrame.\n",
      "Try using .loc[row_indexer,col_indexer] = value instead\n",
      "\n",
      "See the caveats in the documentation: https://pandas.pydata.org/pandas-docs/stable/user_guide/indexing.html#returning-a-view-versus-a-copy\n",
      "  app.launch_new_instance()\n"
     ]
    }
   ],
   "source": [
    "london_extract1['ratio_la_median_price_2011']=(london_extract1['median_price_2011']/london_extract1['median_price_2011_la'])\n",
    "london_extract1['ratio_la_median_price_2001']=(london_extract1['median_price_2001']/london_extract1['median_price_2001_la'])\n",
    "london_extract1['ratio_r_median_price_2011']=(london_extract1['median_price_2011']/london_extract1['median_price_2011_region'])\n",
    "london_extract1['ratio_r_median_price_2001']=(london_extract1['median_price_2001']/london_extract1['median_price_2001_region'])\n",
    "london_extract1['ratio_la_qualification_2011']=(london_extract1['qualification_2011_pct']/london_extract1['qualification_2011_la_pct'])\n",
    "london_extract1['ratio_la_qualification_2001']=(london_extract1['qualification_2001_pct']/london_extract1['qualification_2001_la_pct'])\n",
    "london_extract1['ratio_r_qualification_2011']=(london_extract1['qualification_2011_pct']/london_extract1['qualification_2011_region_pct'])\n",
    "london_extract1['ratio_r_qualification_2001']=(london_extract1['qualification_2001_pct']/london_extract1['qualification_2001_region_pct'])\n",
    "london_extract1['ratio_la_NSSEC_2011']=(london_extract1['NS-SeC_higher_2011_pct']/london_extract1['NS-SeC_higher_2011_la_pct'])\n",
    "london_extract1['ratio_la_NSSEC_2001']=(london_extract1['NS-SeC_higher_2001_pct']/london_extract1['NS-SeC_higher_2001_la_pct'])\n",
    "london_extract1['ratio_r_NSSEC_2011']=(london_extract1['NS-SeC_higher_2011_pct']/london_extract1['NS-SeC_higher_2011_region_pct'])\n",
    "london_extract1['ratio_r_NSSEC_2001']=(london_extract1['NS-SeC_higher_2001_pct']/london_extract1['NS-SeC_higher_2001_region_pct'])\n",
    "london_extract1['ratio_la_earning_2011']=(london_extract1['earnings_2011']/london_extract1['earnings_2011'])\n",
    "london_extract1['ratio_la_earning_2001']=(london_extract1['earnings_2003']/london_extract1['earnings_2003'])\n",
    "london_extract1['ratio_r_earning_2011']=(london_extract1['earnings_2011']/london_extract1['earnings_2011_region'])\n",
    "london_extract1['ratio_r_earning_2001']=(london_extract1['earnings_2003']/london_extract1['earnings_2002_region'])"
   ]
  },
  {
   "cell_type": "code",
   "execution_count": 33,
   "metadata": {},
   "outputs": [],
   "source": [
    "london_extract_la =london_extract1[['MSOA11CD','ratio_la_median_price_2011','ratio_la_median_price_2001', 'ratio_la_qualification_2011',\n",
    "                           'ratio_la_qualification_2001','ratio_la_NSSEC_2011','ratio_la_NSSEC_2001',\n",
    "                           'ratio_la_earning_2011','ratio_la_earning_2001']]\n",
    "london_extract_r =london_extract1[['MSOA11CD','ratio_r_median_price_2011','ratio_r_median_price_2001', 'ratio_r_qualification_2011',\n",
    "                           'ratio_r_qualification_2001','ratio_r_NSSEC_2011','ratio_r_NSSEC_2001',\n",
    "                           'ratio_r_earning_2011','ratio_r_earning_2001']]"
   ]
  },
  {
   "cell_type": "code",
   "execution_count": 32,
   "metadata": {},
   "outputs": [
    {
     "name": "stdout",
     "output_type": "stream",
     "text": [
      "<class 'pandas.core.frame.DataFrame'>\n",
      "Int64Index: 951 entries, 0 to 950\n",
      "Data columns (total 9 columns):\n",
      " #   Column                       Non-Null Count  Dtype  \n",
      "---  ------                       --------------  -----  \n",
      " 0   MSOA11CD                     951 non-null    object \n",
      " 1   ratio_la_median_price_2011   951 non-null    float64\n",
      " 2   ratio_la_median_price_2001   951 non-null    float64\n",
      " 3   ratio_la_qualification_2011  951 non-null    float64\n",
      " 4   ratio_la_qualification_2001  951 non-null    float64\n",
      " 5   ratio_la_NSSEC_2011          951 non-null    float64\n",
      " 6   ratio_la_NSSEC_2001          951 non-null    float64\n",
      " 7   ratio_la_earning_2011        951 non-null    float64\n",
      " 8   ratio_la_earning_2001        951 non-null    float64\n",
      "dtypes: float64(8), object(1)\n",
      "memory usage: 74.3+ KB\n"
     ]
    }
   ],
   "source": [
    "london_extract_la.info()"
   ]
  },
  {
   "cell_type": "markdown",
   "metadata": {},
   "source": [
    "### here are the two complete datasets I will uese for the next part. Both of them covering all the SW and London MSOAs. In frames_r, every variable's value is the ratio of the MSOA level to the region level. In frmes_la, every variable's value is the ratio of the MSOA level to the LA level.\n"
   ]
  },
  {
   "cell_type": "code",
   "execution_count": 34,
   "metadata": {},
   "outputs": [],
   "source": [
    "frames_r = [sw_extract_r, london_extract_r]\n",
    "swandlondon_r = pd.concat(frames_r)\n",
    "\n",
    "frames_la = [sw_extract_la, london_extract_la]\n",
    "swandlondon_la = pd.concat(frames_la)\n",
    "\n"
   ]
  },
  {
   "cell_type": "code",
   "execution_count": 35,
   "metadata": {},
   "outputs": [
    {
     "name": "stdout",
     "output_type": "stream",
     "text": [
      "<class 'pandas.core.frame.DataFrame'>\n",
      "Int64Index: 1197 entries, 0 to 950\n",
      "Data columns (total 9 columns):\n",
      " #   Column                       Non-Null Count  Dtype  \n",
      "---  ------                       --------------  -----  \n",
      " 0   MSOA11CD                     1197 non-null   object \n",
      " 1   ratio_la_median_price_2011   1197 non-null   float64\n",
      " 2   ratio_la_median_price_2001   1197 non-null   float64\n",
      " 3   ratio_la_qualification_2011  1197 non-null   float64\n",
      " 4   ratio_la_qualification_2001  1197 non-null   float64\n",
      " 5   ratio_la_NSSEC_2011          1197 non-null   float64\n",
      " 6   ratio_la_NSSEC_2001          1197 non-null   float64\n",
      " 7   ratio_la_earning_2011        1197 non-null   float64\n",
      " 8   ratio_la_earning_2001        1197 non-null   float64\n",
      "dtypes: float64(8), object(1)\n",
      "memory usage: 93.5+ KB\n"
     ]
    }
   ],
   "source": [
    "swandlondon_la.info()"
   ]
  },
  {
   "cell_type": "code",
   "execution_count": 36,
   "metadata": {},
   "outputs": [],
   "source": [
    "# check the distribution of feature columns (excluding MSOA code)\n",
    "\n",
    "import matplotlib\n",
    "import matplotlib.pyplot as plt\n",
    "matplotlib.style.use('ggplot')\n",
    "\n",
    "swandlondon_extract__distribution_r = swandlondon_r[[ 'ratio_r_median_price_2011',\n",
    " 'ratio_r_median_price_2001',\n",
    " 'ratio_r_qualification_2011',\n",
    " 'ratio_r_qualification_2001',\n",
    " 'ratio_r_NSSEC_2011',\n",
    " 'ratio_r_NSSEC_2001',\n",
    " 'ratio_r_earning_2011',\n",
    " 'ratio_r_earning_2001']]\n",
    "\n",
    "swandlondon_extract__distribution_la = swandlondon_la[[ 'ratio_la_median_price_2011',\n",
    " 'ratio_la_median_price_2001',\n",
    " 'ratio_la_qualification_2011',\n",
    " 'ratio_la_qualification_2001',\n",
    " 'ratio_la_NSSEC_2011',\n",
    " 'ratio_la_NSSEC_2001',\n",
    " 'ratio_la_earning_2011',\n",
    " 'ratio_la_earning_2001']]\n"
   ]
  },
  {
   "cell_type": "code",
   "execution_count": 43,
   "metadata": {},
   "outputs": [
    {
     "data": {
      "text/plain": [
       "[Text(0, 0, 'ratio_r_median_price_2011'),\n",
       " Text(1, 0, 'ratio_r_median_price_2001'),\n",
       " Text(2, 0, 'ratio_r_qualification_2011'),\n",
       " Text(3, 0, 'ratio_r_qualification_2001'),\n",
       " Text(4, 0, 'ratio_r_NSSEC_2011'),\n",
       " Text(5, 0, 'ratio_r_NSSEC_2001'),\n",
       " Text(6, 0, 'ratio_r_earning_2011'),\n",
       " Text(7, 0, 'ratio_r_earning_2001')]"
      ]
     },
     "execution_count": 43,
     "metadata": {},
     "output_type": "execute_result"
    },
    {
     "data": {
      "image/png": "[encoded data removed]",
      "text/plain": [
       "<Figure size 432x288 with 1 Axes>"
      ]
     },
     "metadata": {},
     "output_type": "display_data"
    }
   ],
   "source": [
    "import seaborn as sns\n",
    "ax = sns.boxplot( data=swandlondon_extract__distribution_r)\n",
    "ax.set_xticklabels(ax.get_xticklabels(), rotation=90)"
   ]
  },
  {
   "cell_type": "code",
   "execution_count": 44,
   "metadata": {},
   "outputs": [
    {
     "data": {
      "text/plain": [
       "[Text(0, 0, 'ratio_la_median_price_2011'),\n",
       " Text(1, 0, 'ratio_la_median_price_2001'),\n",
       " Text(2, 0, 'ratio_la_qualification_2011'),\n",
       " Text(3, 0, 'ratio_la_qualification_2001'),\n",
       " Text(4, 0, 'ratio_la_NSSEC_2011'),\n",
       " Text(5, 0, 'ratio_la_NSSEC_2001'),\n",
       " Text(6, 0, 'ratio_la_earning_2011'),\n",
       " Text(7, 0, 'ratio_la_earning_2001')]"
      ]
     },
     "execution_count": 44,
     "metadata": {},
     "output_type": "execute_result"
    },
    {
     "data": {
      "image/png": "[encoded data removed]",
      "text/plain": [
       "<Figure size 432x288 with 1 Axes>"
      ]
     },
     "metadata": {},
     "output_type": "display_data"
    }
   ],
   "source": [
    "ax = sns.boxplot( data=swandlondon_extract__distribution_la)\n",
    "ax.set_xticklabels(ax.get_xticklabels(), rotation=90)"
   ]
  },
  {
   "cell_type": "code",
   "execution_count": 45,
   "metadata": {},
   "outputs": [
    {
     "data": {
      "text/plain": [
       "<AxesSubplot:>"
      ]
     },
     "execution_count": 45,
     "metadata": {},
     "output_type": "execute_result"
    },
    {
     "data": {
      "image/png": "[encoded data removed]",
      "text/plain": [
       "<Figure size 432x288 with 1 Axes>"
      ]
     },
     "metadata": {},
     "output_type": "display_data"
    }
   ],
   "source": [
    "sw_extract_r[['ratio_r_median_price_2011',\n",
    " 'ratio_r_median_price_2001']].boxplot()"
   ]
  },
  {
   "cell_type": "code",
   "execution_count": 46,
   "metadata": {},
   "outputs": [
    {
     "data": {
      "text/plain": [
       "<AxesSubplot:>"
      ]
     },
     "execution_count": 46,
     "metadata": {},
     "output_type": "execute_result"
    },
    {
     "data": {
      "image/png": "[encoded data removed]",
      "text/plain": [
       "<Figure size 432x288 with 1 Axes>"
      ]
     },
     "metadata": {},
     "output_type": "display_data"
    }
   ],
   "source": [
    "london_extract_r[['ratio_r_median_price_2011',\n",
    " 'ratio_r_median_price_2001']].boxplot()"
   ]
  },
  {
   "cell_type": "code",
   "execution_count": 39,
   "metadata": {},
   "outputs": [
    {
     "data": {
      "text/plain": [
       "<AxesSubplot:>"
      ]
     },
     "execution_count": 39,
     "metadata": {},
     "output_type": "execute_result"
    },
    {
     "data": {
      "image/png": "[encoded data removed]",
      "text/plain": [
       "<Figure size 432x288 with 1 Axes>"
      ]
     },
     "metadata": {},
     "output_type": "display_data"
    }
   ],
   "source": [
    "sw_extract_la[['ratio_la_median_price_2011',\n",
    " 'ratio_la_median_price_2001']].boxplot()"
   ]
  },
  {
   "cell_type": "code",
   "execution_count": 40,
   "metadata": {},
   "outputs": [
    {
     "data": {
      "text/plain": [
       "<AxesSubplot:>"
      ]
     },
     "execution_count": 40,
     "metadata": {},
     "output_type": "execute_result"
    },
    {
     "data": {
      "image/png": "[encoded data removed]",
      "text/plain": [
       "<Figure size 432x288 with 1 Axes>"
      ]
     },
     "metadata": {},
     "output_type": "display_data"
    }
   ],
   "source": [
    "london_extract_la[['ratio_la_median_price_2011',\n",
    " 'ratio_la_median_price_2001']].boxplot()"
   ]
  },
  {
   "cell_type": "code",
   "execution_count": 42,
   "metadata": {},
   "outputs": [
    {
     "data": {
      "image/png": "[encoded data removed]",
      "text/plain": [
       "<Figure size 1080x1080 with 8 Axes>"
      ]
     },
     "metadata": {},
     "output_type": "display_data"
    }
   ],
   "source": [
    "# creating histogram for each variable to explore their underlying distributions\n",
    "\n",
    "fig, axes = plt.subplots(nrows=4, ncols=2, figsize=(15, 15))\n",
    "\n",
    "counter = 0\n",
    "for i in range(4):\n",
    "    for j in range(2):\n",
    "\n",
    "        ax = axes[i][j]\n",
    "\n",
    "        # Plot when we have data\n",
    "        if counter < len(swandlondon_extract__distribution_la.columns):\n",
    "\n",
    "            ax.hist(swandlondon_extract__distribution_la[swandlondon_extract__distribution_la.columns[counter]], label='{}'.format(swandlondon_extract__distribution_la.columns[counter]))\n",
    "            leg = ax.legend(loc='upper right')\n",
    "            leg.draw_frame(False)\n",
    "\n",
    "        # Remove axis when we no longer have data\n",
    "        else:\n",
    "            ax.set_axis_off()\n",
    "\n",
    "        counter += 1\n",
    "\n",
    "#plt.savefig('histogram_all_scoring_var.png', dpi = 200)\n",
    "plt.show()"
   ]
  },
  {
   "cell_type": "code",
   "execution_count": 67,
   "metadata": {},
   "outputs": [
    {
     "data": {
      "image/png": "[encoded data removed]",
      "text/plain": [
       "<Figure size 1080x1080 with 8 Axes>"
      ]
     },
     "metadata": {},
     "output_type": "display_data"
    }
   ],
   "source": [
    "# creating histogram for each variable to explore their underlying distributions\n",
    "\n",
    "fig, axes = plt.subplots(nrows=4, ncols=2, figsize=(15, 15))\n",
    "\n",
    "counter = 0\n",
    "for i in range(4):\n",
    "    for j in range(2):\n",
    "\n",
    "        ax = axes[i][j]\n",
    "\n",
    "        # Plot when we have data\n",
    "        if counter < len(swandlondon_extract__distribution_r.columns):\n",
    "\n",
    "            ax.hist(swandlondon_extract__distribution_r[swandlondon_extract__distribution_r.columns[counter]], label='{}'.format(swandlondon_extract__distribution.columns[counter]))\n",
    "            leg = ax.legend(loc='upper right')\n",
    "            leg.draw_frame(False)\n",
    "\n",
    "        # Remove axis when we no longer have data\n",
    "        else:\n",
    "            ax.set_axis_off()\n",
    "\n",
    "        counter += 1\n",
    "\n",
    "#plt.savefig('histogram_all_scoring_var.png', dpi = 200)\n",
    "plt.show()"
   ]
  },
  {
   "cell_type": "markdown",
   "metadata": {},
   "source": [
    "### based on the analysis above, I decided to use 'the MSOA to Local Authotity ratio of every variable' as the predictors. "
   ]
  },
  {
   "cell_type": "markdown",
   "metadata": {},
   "source": [
    "## Data Transformation, scaling and PCA\n"
   ]
  },
  {
   "cell_type": "markdown",
   "metadata": {},
   "source": [
    "What did I do in this part:\n",
    "\n",
    "1. Transform highly skewed variable. Consider which transformation approaches to use: untransformed, Box Cox and Log\n",
    "2. Consider whether to scale the input varibales before PCA. \n",
    "\n",
    "three approaches * (to scale or not sclae) = 6 scenarios\n",
    "\n",
    "Check the explained variance of the 1st componet for the 6scenarios\n",
    "\n"
   ]
  },
  {
   "cell_type": "code",
   "execution_count": 48,
   "metadata": {},
   "outputs": [],
   "source": [
    "# from the distribution check above, the median housing price\n",
    "df_transformed = swandlondon_extract__distribution_la [[ 'ratio_la_median_price_2011',\n",
    " 'ratio_la_median_price_2001']]"
   ]
  },
  {
   "cell_type": "code",
   "execution_count": 49,
   "metadata": {},
   "outputs": [],
   "source": [
    "from scipy.stats import boxcox\n",
    "import numpy as np"
   ]
  },
  {
   "cell_type": "code",
   "execution_count": 50,
   "metadata": {},
   "outputs": [],
   "source": [
    "#Box-Cox Transform\n",
    "price01, lmd01a = boxcox(df_transformed['ratio_la_median_price_2001']) \n",
    "price11 = boxcox(df_transformed['ratio_la_median_price_2011'], lmbda=lmd01a)"
   ]
  },
  {
   "cell_type": "code",
   "execution_count": 51,
   "metadata": {},
   "outputs": [],
   "source": [
    "#Log transform\n",
    "price01l = np.log(df_transformed['ratio_la_median_price_2001']) \n",
    "price11l = np.log(df_transformed['ratio_la_median_price_2011'])\n"
   ]
  },
  {
   "cell_type": "code",
   "execution_count": 52,
   "metadata": {},
   "outputs": [
    {
     "data": {
      "text/plain": [
       "array([-0.26964305, -0.36787269,  0.30638489, ..., -0.02549792,\n",
       "       -0.05591635, -0.12342025])"
      ]
     },
     "execution_count": 52,
     "metadata": {},
     "output_type": "execute_result"
    }
   ],
   "source": [
    "price01"
   ]
  },
  {
   "cell_type": "code",
   "execution_count": 53,
   "metadata": {},
   "outputs": [],
   "source": [
    "#choose one\n",
    "to_use = 'Box-Cox' # Choices: ['Untransformed','Box-Cox','Log']"
   ]
  },
  {
   "cell_type": "code",
   "execution_count": 54,
   "metadata": {},
   "outputs": [],
   "source": [
    "if to_use == 'Untransformed':\n",
    "    swandlondon_la_pca=swandlondon_la\n",
    "elif to_use == 'Box-Cox':\n",
    "    swandlondon_la_pca=swandlondon_la\n",
    "    swandlondon_la_pca['ratio_la_median_price_2011']=price11\n",
    "    swandlondon_la_pca['ratio_la_median_price_2001']=price01\n",
    "elif to_use == 'Log':\n",
    "    swandlondon_la_pca=swandlondon_la\n",
    "    swandlondon_la_pca['ratio_la_median_price_2011']=price11l\n",
    "    swandlondon_la_pca['ratio_la_median_price_2001']=price01l "
   ]
  },
  {
   "cell_type": "code",
   "execution_count": 55,
   "metadata": {},
   "outputs": [],
   "source": [
    "# import necessary libraries for PCA\n",
    "\n",
    "from sklearn.preprocessing import RobustScaler\n",
    "from sklearn import decomposition  \n",
    "from sklearn.preprocessing import scale  \n",
    "from sklearn import preprocessing \n",
    "from sklearn import linear_model\n",
    "from sklearn import model_selection\n",
    "\n",
    "\n",
    "df_scaling = swandlondon_la_pca.set_index('MSOA11CD')"
   ]
  },
  {
   "cell_type": "code",
   "execution_count": 56,
   "metadata": {},
   "outputs": [
    {
     "name": "stdout",
     "output_type": "stream",
     "text": [
      "<class 'pandas.core.frame.DataFrame'>\n",
      "Index: 1197 entries, E02003134 to E02000983\n",
      "Data columns (total 8 columns):\n",
      " #   Column                       Non-Null Count  Dtype  \n",
      "---  ------                       --------------  -----  \n",
      " 0   ratio_la_median_price_2011   1197 non-null   float64\n",
      " 1   ratio_la_median_price_2001   1197 non-null   float64\n",
      " 2   ratio_la_qualification_2011  1197 non-null   float64\n",
      " 3   ratio_la_qualification_2001  1197 non-null   float64\n",
      " 4   ratio_la_NSSEC_2011          1197 non-null   float64\n",
      " 5   ratio_la_NSSEC_2001          1197 non-null   float64\n",
      " 6   ratio_la_earning_2011        1197 non-null   float64\n",
      " 7   ratio_la_earning_2001        1197 non-null   float64\n",
      "dtypes: float64(8)\n",
      "memory usage: 84.2+ KB\n"
     ]
    }
   ],
   "source": [
    "# check that index has been changed to MSOA code\n",
    "\n",
    "df_scaling.info()"
   ]
  },
  {
   "cell_type": "code",
   "execution_count": 57,
   "metadata": {},
   "outputs": [],
   "source": [
    "# split 2001 data from 2011 data\n",
    "\n",
    "df_scaling_2001 = df_scaling[[\"ratio_la_median_price_2001\", \"ratio_la_qualification_2001\", \"ratio_la_NSSEC_2001\",\"ratio_la_earning_2001\"]]\n",
    "df_scaling_2011 = df_scaling[[\"ratio_la_median_price_2011\", \"ratio_la_qualification_2011\", \"ratio_la_NSSEC_2011\",\"ratio_la_earning_2011\"]]"
   ]
  },
  {
   "cell_type": "code",
   "execution_count": 58,
   "metadata": {},
   "outputs": [],
   "source": [
    "# stacking the 2001 data vertically with 2011 data\n",
    "\n",
    "values_2001 = df_scaling_2001.values\n",
    "values_2011 = df_scaling_2011.values\n",
    "stacked_df = np.concatenate((values_2001, values_2011), axis=0)"
   ]
  },
  {
   "cell_type": "code",
   "execution_count": 59,
   "metadata": {},
   "outputs": [
    {
     "name": "stdout",
     "output_type": "stream",
     "text": [
      "<class 'pandas.core.frame.DataFrame'>\n",
      "Index: 1197 entries, E02003134 to E02000983\n",
      "Data columns (total 4 columns):\n",
      " #   Column                       Non-Null Count  Dtype  \n",
      "---  ------                       --------------  -----  \n",
      " 0   ratio_la_median_price_2001   1197 non-null   float64\n",
      " 1   ratio_la_qualification_2001  1197 non-null   float64\n",
      " 2   ratio_la_NSSEC_2001          1197 non-null   float64\n",
      " 3   ratio_la_earning_2001        1197 non-null   float64\n",
      "dtypes: float64(4)\n",
      "memory usage: 46.8+ KB\n"
     ]
    }
   ],
   "source": [
    "df_scaling_2001.info()"
   ]
  },
  {
   "cell_type": "code",
   "execution_count": 90,
   "metadata": {},
   "outputs": [],
   "source": [
    "#df_scaling_2001_rename=df_scaling_2001.rename (columns={\"ratio_la_median_price_2001\": \"ratio_la_median_price\", \"ratio_la_qualification_2001\":\"ratio_la_qualification\",\n",
    "                                                    #\"ratio_la_NSSEC_2001\":\"ratio_la_NSSEC\",\"ratio_la_earning_2001\":\"ratio_la_earning\"})\n",
    "#df_scaling_2011_rename=df_scaling_2011.rename (columns={\"ratio_la_median_price_2011\": \"ratio_la_median_price\", \"ratio_la_qualification_2011\":\"ratio_la_qualification\",\n",
    "                                                    #\"ratio_la_NSSEC_2011\":\"ratio_la_NSSEC\",\"ratio_la_earning_2011\":\"ratio_la_earning\"})\n"
   ]
  },
  {
   "cell_type": "code",
   "execution_count": 91,
   "metadata": {},
   "outputs": [],
   "source": [
    "#frames_rename = [df_scaling_2001_rename, df_scaling_2011_rename]\n",
    "#df_scaling_rename = pd.concat(frames_rename)"
   ]
  },
  {
   "cell_type": "code",
   "execution_count": 94,
   "metadata": {},
   "outputs": [],
   "source": [
    "#df_scaling_rename.to_csv('df_scaling_rename.csv',index=False)"
   ]
  },
  {
   "cell_type": "code",
   "execution_count": 60,
   "metadata": {},
   "outputs": [
    {
     "data": {
      "text/plain": [
       "0"
      ]
     },
     "execution_count": 60,
     "metadata": {},
     "output_type": "execute_result"
    }
   ],
   "source": [
    "# checking for NaN values before scaling and transforming\n",
    "\n",
    "np.isnan(stacked_df).sum()"
   ]
  },
  {
   "cell_type": "code",
   "execution_count": 61,
   "metadata": {},
   "outputs": [
    {
     "data": {
      "text/plain": [
       "array([[-8.00398748e-01, -1.38991927e+00, -1.20334015e+00,\n",
       "         0.00000000e+00],\n",
       "       [-1.11146027e+00, -9.96314708e-01,  7.38634071e-04,\n",
       "         0.00000000e+00],\n",
       "       [ 1.02369558e+00,  1.51392332e-01,  4.54909954e-01,\n",
       "         0.00000000e+00],\n",
       "       ...,\n",
       "       [-2.13819653e-01,  7.10638782e-01,  6.94313880e-01,\n",
       "         0.00000000e+00],\n",
       "       [ 3.01352961e-01, -2.89947685e-01, -3.04280849e-01,\n",
       "         0.00000000e+00],\n",
       "       [-5.19721782e-01, -1.34159944e-01, -3.11710502e-02,\n",
       "         0.00000000e+00]])"
      ]
     },
     "execution_count": 61,
     "metadata": {},
     "output_type": "execute_result"
    }
   ],
   "source": [
    "# scaling and transforming the stacked data using RobustScaler\n",
    "\n",
    "Robust_transformer = RobustScaler().fit(stacked_df)\n",
    "Robust_transformer_df = Robust_transformer.transform(stacked_df)\n",
    "Robust_transformer_df"
   ]
  },
  {
   "cell_type": "code",
   "execution_count": 62,
   "metadata": {},
   "outputs": [
    {
     "data": {
      "text/html": [
       "<div>\n",
       "<style scoped>\n",
       "    .dataframe tbody tr th:only-of-type {\n",
       "        vertical-align: middle;\n",
       "    }\n",
       "\n",
       "    .dataframe tbody tr th {\n",
       "        vertical-align: top;\n",
       "    }\n",
       "\n",
       "    .dataframe thead th {\n",
       "        text-align: right;\n",
       "    }\n",
       "</style>\n",
       "<table border=\"1\" class=\"dataframe\">\n",
       "  <thead>\n",
       "    <tr style=\"text-align: right;\">\n",
       "      <th></th>\n",
       "      <th>ratio_la_median_price_2001</th>\n",
       "      <th>ratio_la_qualification_2001</th>\n",
       "      <th>ratio_la_NSSEC_2001</th>\n",
       "      <th>ratio_la_earning_2001</th>\n",
       "    </tr>\n",
       "    <tr>\n",
       "      <th>MSOA11CD</th>\n",
       "      <th></th>\n",
       "      <th></th>\n",
       "      <th></th>\n",
       "      <th></th>\n",
       "    </tr>\n",
       "  </thead>\n",
       "  <tbody>\n",
       "    <tr>\n",
       "      <th>E02003134</th>\n",
       "      <td>-0.800399</td>\n",
       "      <td>-1.389919</td>\n",
       "      <td>-1.203340</td>\n",
       "      <td>0.0</td>\n",
       "    </tr>\n",
       "    <tr>\n",
       "      <th>E02003135</th>\n",
       "      <td>-1.111460</td>\n",
       "      <td>-0.996315</td>\n",
       "      <td>0.000739</td>\n",
       "      <td>0.0</td>\n",
       "    </tr>\n",
       "    <tr>\n",
       "      <th>E02003136</th>\n",
       "      <td>1.023696</td>\n",
       "      <td>0.151392</td>\n",
       "      <td>0.454910</td>\n",
       "      <td>0.0</td>\n",
       "    </tr>\n",
       "    <tr>\n",
       "      <th>E02003137</th>\n",
       "      <td>1.217576</td>\n",
       "      <td>3.119236</td>\n",
       "      <td>2.009460</td>\n",
       "      <td>0.0</td>\n",
       "    </tr>\n",
       "    <tr>\n",
       "      <th>E02003138</th>\n",
       "      <td>0.740466</td>\n",
       "      <td>2.731305</td>\n",
       "      <td>1.798121</td>\n",
       "      <td>0.0</td>\n",
       "    </tr>\n",
       "    <tr>\n",
       "      <th>...</th>\n",
       "      <td>...</td>\n",
       "      <td>...</td>\n",
       "      <td>...</td>\n",
       "      <td>...</td>\n",
       "    </tr>\n",
       "    <tr>\n",
       "      <th>E02000979</th>\n",
       "      <td>0.163513</td>\n",
       "      <td>-0.112672</td>\n",
       "      <td>-0.001896</td>\n",
       "      <td>0.0</td>\n",
       "    </tr>\n",
       "    <tr>\n",
       "      <th>E02000980</th>\n",
       "      <td>-0.456334</td>\n",
       "      <td>-0.323127</td>\n",
       "      <td>-0.279613</td>\n",
       "      <td>0.0</td>\n",
       "    </tr>\n",
       "    <tr>\n",
       "      <th>E02000981</th>\n",
       "      <td>-0.027270</td>\n",
       "      <td>0.581888</td>\n",
       "      <td>0.833695</td>\n",
       "      <td>0.0</td>\n",
       "    </tr>\n",
       "    <tr>\n",
       "      <th>E02000982</th>\n",
       "      <td>-0.123595</td>\n",
       "      <td>-0.672059</td>\n",
       "      <td>-0.566631</td>\n",
       "      <td>0.0</td>\n",
       "    </tr>\n",
       "    <tr>\n",
       "      <th>E02000983</th>\n",
       "      <td>-0.337358</td>\n",
       "      <td>-0.169664</td>\n",
       "      <td>0.060506</td>\n",
       "      <td>0.0</td>\n",
       "    </tr>\n",
       "  </tbody>\n",
       "</table>\n",
       "<p>1197 rows × 4 columns</p>\n",
       "</div>"
      ],
      "text/plain": [
       "           ratio_la_median_price_2001  ratio_la_qualification_2001  \\\n",
       "MSOA11CD                                                             \n",
       "E02003134                   -0.800399                    -1.389919   \n",
       "E02003135                   -1.111460                    -0.996315   \n",
       "E02003136                    1.023696                     0.151392   \n",
       "E02003137                    1.217576                     3.119236   \n",
       "E02003138                    0.740466                     2.731305   \n",
       "...                               ...                          ...   \n",
       "E02000979                    0.163513                    -0.112672   \n",
       "E02000980                   -0.456334                    -0.323127   \n",
       "E02000981                   -0.027270                     0.581888   \n",
       "E02000982                   -0.123595                    -0.672059   \n",
       "E02000983                   -0.337358                    -0.169664   \n",
       "\n",
       "           ratio_la_NSSEC_2001  ratio_la_earning_2001  \n",
       "MSOA11CD                                               \n",
       "E02003134            -1.203340                    0.0  \n",
       "E02003135             0.000739                    0.0  \n",
       "E02003136             0.454910                    0.0  \n",
       "E02003137             2.009460                    0.0  \n",
       "E02003138             1.798121                    0.0  \n",
       "...                        ...                    ...  \n",
       "E02000979            -0.001896                    0.0  \n",
       "E02000980            -0.279613                    0.0  \n",
       "E02000981             0.833695                    0.0  \n",
       "E02000982            -0.566631                    0.0  \n",
       "E02000983             0.060506                    0.0  \n",
       "\n",
       "[1197 rows x 4 columns]"
      ]
     },
     "execution_count": 62,
     "metadata": {},
     "output_type": "execute_result"
    }
   ],
   "source": [
    "# extracting scaled data for 2001\n",
    "\n",
    "scaled_df_2001 = pd.DataFrame(Robust_transformer_df[0:len(df_scaling_2001),], index=df_scaling_2001.index, columns=list(df_scaling_2001.columns))\n",
    "scaled_df_2001"
   ]
  },
  {
   "cell_type": "code",
   "execution_count": 63,
   "metadata": {},
   "outputs": [
    {
     "data": {
      "text/html": [
       "<div>\n",
       "<style scoped>\n",
       "    .dataframe tbody tr th:only-of-type {\n",
       "        vertical-align: middle;\n",
       "    }\n",
       "\n",
       "    .dataframe tbody tr th {\n",
       "        vertical-align: top;\n",
       "    }\n",
       "\n",
       "    .dataframe thead th {\n",
       "        text-align: right;\n",
       "    }\n",
       "</style>\n",
       "<table border=\"1\" class=\"dataframe\">\n",
       "  <thead>\n",
       "    <tr style=\"text-align: right;\">\n",
       "      <th></th>\n",
       "      <th>ratio_la_median_price_2001</th>\n",
       "      <th>ratio_la_qualification_2001</th>\n",
       "      <th>ratio_la_NSSEC_2001</th>\n",
       "      <th>ratio_la_earning_2001</th>\n",
       "    </tr>\n",
       "    <tr>\n",
       "      <th>MSOA11CD</th>\n",
       "      <th></th>\n",
       "      <th></th>\n",
       "      <th></th>\n",
       "      <th></th>\n",
       "    </tr>\n",
       "  </thead>\n",
       "  <tbody>\n",
       "    <tr>\n",
       "      <th>E02003134</th>\n",
       "      <td>-0.800399</td>\n",
       "      <td>-1.389919</td>\n",
       "      <td>-1.203340</td>\n",
       "      <td>0.0</td>\n",
       "    </tr>\n",
       "    <tr>\n",
       "      <th>E02003135</th>\n",
       "      <td>-1.111460</td>\n",
       "      <td>-0.996315</td>\n",
       "      <td>0.000739</td>\n",
       "      <td>0.0</td>\n",
       "    </tr>\n",
       "    <tr>\n",
       "      <th>E02003136</th>\n",
       "      <td>1.023696</td>\n",
       "      <td>0.151392</td>\n",
       "      <td>0.454910</td>\n",
       "      <td>0.0</td>\n",
       "    </tr>\n",
       "    <tr>\n",
       "      <th>E02003137</th>\n",
       "      <td>1.217576</td>\n",
       "      <td>3.119236</td>\n",
       "      <td>2.009460</td>\n",
       "      <td>0.0</td>\n",
       "    </tr>\n",
       "    <tr>\n",
       "      <th>E02003138</th>\n",
       "      <td>0.740466</td>\n",
       "      <td>2.731305</td>\n",
       "      <td>1.798121</td>\n",
       "      <td>0.0</td>\n",
       "    </tr>\n",
       "    <tr>\n",
       "      <th>...</th>\n",
       "      <td>...</td>\n",
       "      <td>...</td>\n",
       "      <td>...</td>\n",
       "      <td>...</td>\n",
       "    </tr>\n",
       "    <tr>\n",
       "      <th>E02000979</th>\n",
       "      <td>0.163513</td>\n",
       "      <td>-0.112672</td>\n",
       "      <td>-0.001896</td>\n",
       "      <td>0.0</td>\n",
       "    </tr>\n",
       "    <tr>\n",
       "      <th>E02000980</th>\n",
       "      <td>-0.456334</td>\n",
       "      <td>-0.323127</td>\n",
       "      <td>-0.279613</td>\n",
       "      <td>0.0</td>\n",
       "    </tr>\n",
       "    <tr>\n",
       "      <th>E02000981</th>\n",
       "      <td>-0.027270</td>\n",
       "      <td>0.581888</td>\n",
       "      <td>0.833695</td>\n",
       "      <td>0.0</td>\n",
       "    </tr>\n",
       "    <tr>\n",
       "      <th>E02000982</th>\n",
       "      <td>-0.123595</td>\n",
       "      <td>-0.672059</td>\n",
       "      <td>-0.566631</td>\n",
       "      <td>0.0</td>\n",
       "    </tr>\n",
       "    <tr>\n",
       "      <th>E02000983</th>\n",
       "      <td>-0.337358</td>\n",
       "      <td>-0.169664</td>\n",
       "      <td>0.060506</td>\n",
       "      <td>0.0</td>\n",
       "    </tr>\n",
       "  </tbody>\n",
       "</table>\n",
       "<p>1197 rows × 4 columns</p>\n",
       "</div>"
      ],
      "text/plain": [
       "           ratio_la_median_price_2001  ratio_la_qualification_2001  \\\n",
       "MSOA11CD                                                             \n",
       "E02003134                   -0.800399                    -1.389919   \n",
       "E02003135                   -1.111460                    -0.996315   \n",
       "E02003136                    1.023696                     0.151392   \n",
       "E02003137                    1.217576                     3.119236   \n",
       "E02003138                    0.740466                     2.731305   \n",
       "...                               ...                          ...   \n",
       "E02000979                    0.163513                    -0.112672   \n",
       "E02000980                   -0.456334                    -0.323127   \n",
       "E02000981                   -0.027270                     0.581888   \n",
       "E02000982                   -0.123595                    -0.672059   \n",
       "E02000983                   -0.337358                    -0.169664   \n",
       "\n",
       "           ratio_la_NSSEC_2001  ratio_la_earning_2001  \n",
       "MSOA11CD                                               \n",
       "E02003134            -1.203340                    0.0  \n",
       "E02003135             0.000739                    0.0  \n",
       "E02003136             0.454910                    0.0  \n",
       "E02003137             2.009460                    0.0  \n",
       "E02003138             1.798121                    0.0  \n",
       "...                        ...                    ...  \n",
       "E02000979            -0.001896                    0.0  \n",
       "E02000980            -0.279613                    0.0  \n",
       "E02000981             0.833695                    0.0  \n",
       "E02000982            -0.566631                    0.0  \n",
       "E02000983             0.060506                    0.0  \n",
       "\n",
       "[1197 rows x 4 columns]"
      ]
     },
     "execution_count": 63,
     "metadata": {},
     "output_type": "execute_result"
    }
   ],
   "source": [
    "scaled_df_2001 = pd.DataFrame(Robust_transformer_df[0:len(df_scaling_2001),], index=df_scaling_2001.index, columns=list(df_scaling_2001.columns))\n",
    "scaled_df_2001"
   ]
  },
  {
   "cell_type": "code",
   "execution_count": 75,
   "metadata": {},
   "outputs": [
    {
     "data": {
      "text/plain": [
       "<AxesSubplot:>"
      ]
     },
     "execution_count": 75,
     "metadata": {},
     "output_type": "execute_result"
    },
    {
     "data": {
      "image/png": "[encoded data removed]",
      "text/plain": [
       "<Figure size 432x288 with 1 Axes>"
      ]
     },
     "metadata": {},
     "output_type": "display_data"
    }
   ],
   "source": [
    "# visualising scaled data using boxplot (2001)\n",
    "\n",
    "scaled_df_2001.boxplot()\n",
    "\n",
    "# to output high-resolution image - uncomment the next line\n",
    "# plt.savefig('scaled_df_2001.png', dpi = 100)"
   ]
  },
  {
   "cell_type": "code",
   "execution_count": 64,
   "metadata": {},
   "outputs": [
    {
     "data": {
      "text/plain": [
       "<AxesSubplot:>"
      ]
     },
     "execution_count": 64,
     "metadata": {},
     "output_type": "execute_result"
    },
    {
     "data": {
      "image/png": "[encoded data removed]",
      "text/plain": [
       "<Figure size 432x288 with 1 Axes>"
      ]
     },
     "metadata": {},
     "output_type": "display_data"
    }
   ],
   "source": [
    "# extracting scaled data for 2011\n",
    "\n",
    "scaled_df_2011 = pd.DataFrame(Robust_transformer_df[len(df_scaling_2011):,], index=df_scaling_2011.index, columns=list(df_scaling_2011.columns))\n",
    "scaled_df_2011\n",
    "# visualising scaled data using boxplot (2011)\n",
    "\n",
    "\n",
    "scaled_df_2011.boxplot()\n",
    "\n",
    "# to output high-resolution image - uncomment the next line\n",
    "# plt.savefig('scaled_df_2011.png', dpi = 100)"
   ]
  },
  {
   "cell_type": "code",
   "execution_count": 65,
   "metadata": {},
   "outputs": [
    {
     "name": "stdout",
     "output_type": "stream",
     "text": [
      "Explained variance of the SES score is: 0.82071\n"
     ]
    }
   ],
   "source": [
    "# carry out PCA to derive only the 1st principal component---scaled data\n",
    "\n",
    "pca = decomposition.PCA(n_components=1)             \n",
    "pca.fit(Robust_transformer_df)                      \n",
    "PCA_scores = pd.DataFrame(pca.transform(Robust_transformer_df))  \n",
    "\n",
    "print(\"Explained variance of the SES score is: {0:6.5f}\".format(pca.explained_variance_ratio_[0]))"
   ]
  },
  {
   "cell_type": "code",
   "execution_count": 66,
   "metadata": {},
   "outputs": [
    {
     "name": "stdout",
     "output_type": "stream",
     "text": [
      "[0.82070803 0.14464609 0.03464588 0.        ]\n"
     ]
    }
   ],
   "source": [
    "# what if one wanted to find all principal components?\n",
    "\n",
    "pca_all = decomposition.PCA()             \n",
    "pca_all.fit(Robust_transformer_df)                      \n",
    "print(pca_all.explained_variance_ratio_)"
   ]
  },
  {
   "cell_type": "code",
   "execution_count": 67,
   "metadata": {},
   "outputs": [
    {
     "name": "stdout",
     "output_type": "stream",
     "text": [
      "Explained variance of the SES score is: 0.82869\n"
     ]
    }
   ],
   "source": [
    "# carry out PCA to derive only the 1st principal component----not scaled data\n",
    "\n",
    "pca = decomposition.PCA(n_components=1)             \n",
    "pca.fit(stacked_df)                      \n",
    "PCA_scores = pd.DataFrame(pca.transform(stacked_df))  \n",
    "\n",
    "print(\"Explained variance of the SES score is: {0:6.5f}\".format(pca.explained_variance_ratio_[0]))"
   ]
  },
  {
   "cell_type": "code",
   "execution_count": 68,
   "metadata": {},
   "outputs": [
    {
     "name": "stdout",
     "output_type": "stream",
     "text": [
      "[0.82868909 0.13461229 0.03669862 0.        ]\n"
     ]
    }
   ],
   "source": [
    "# what if one wanted to find all principal components?\n",
    "\n",
    "pca_all = decomposition.PCA()             \n",
    "pca_all.fit(stacked_df)                      \n",
    "print(pca_all.explained_variance_ratio_)"
   ]
  },
  {
   "cell_type": "markdown",
   "metadata": {},
   "source": [
    "### The results of this part is as follow:\n",
    "\n",
    "Explained variances for each scenarios:\n",
    "\n",
    "1. Untransformed, Scaled:0.79012\n",
    "2. Untransformed, Not Scaled:0.79363\n",
    "3. Box-Cox Transformed, Scaled:0.82071\n",
    "4. Box-Cox Transformed, Not Scaled:0.82869 (Best Performance)\n",
    "5. Log Transformed, Scaled:0.81630\n",
    "6. Log Transformed, Not Scaled:0.82457\n",
    "\n",
    "### Therefore, I decided to use the results of the Box-Cox Transformed and Not Scaled data."
   ]
  },
  {
   "cell_type": "markdown",
   "metadata": {},
   "source": [
    "## Part 4: PCA Score"
   ]
  },
  {
   "cell_type": "code",
   "execution_count": 69,
   "metadata": {},
   "outputs": [],
   "source": [
    "# extracting scores for the respective years\n",
    "\n",
    "PCA_2001 = pd.DataFrame(PCA_scores.iloc[0:len(df_scaling_2001),])\n",
    "PCA_2011 = pd.DataFrame(PCA_scores.iloc[len(df_scaling_2011):,])"
   ]
  },
  {
   "cell_type": "code",
   "execution_count": 70,
   "metadata": {},
   "outputs": [],
   "source": [
    "# renaming their column titles\n",
    "\n",
    "PCA_2001 = PCA_2001.rename(columns={0: \"Score_2001\"})\n",
    "PCA_2011 = PCA_2011.rename(columns={0: \"Score_2011\"})"
   ]
  },
  {
   "cell_type": "code",
   "execution_count": 71,
   "metadata": {},
   "outputs": [],
   "source": [
    "# attaching the 2001 scores to their respective MSOAs in the main dataframe (df_score)\n",
    "\n",
    "df_score = df_scaling.reset_index()\n",
    "df_score[\"Score_2001\"] = PCA_2001[:]"
   ]
  },
  {
   "cell_type": "code",
   "execution_count": 72,
   "metadata": {},
   "outputs": [],
   "source": [
    "# PCA_2011 requires further resetting of the index propr to attaching them to the main dataframe\n",
    "\n",
    "PCA_2011 = PCA_2011.reset_index()\n",
    "PCA_2011 = PCA_2011.drop(columns=\"index\")\n",
    "df_score[\"Score_2011\"] = PCA_2011"
   ]
  },
  {
   "cell_type": "code",
   "execution_count": 73,
   "metadata": {},
   "outputs": [
    {
     "data": {
      "text/html": [
       "<div>\n",
       "<style scoped>\n",
       "    .dataframe tbody tr th:only-of-type {\n",
       "        vertical-align: middle;\n",
       "    }\n",
       "\n",
       "    .dataframe tbody tr th {\n",
       "        vertical-align: top;\n",
       "    }\n",
       "\n",
       "    .dataframe thead th {\n",
       "        text-align: right;\n",
       "    }\n",
       "</style>\n",
       "<table border=\"1\" class=\"dataframe\">\n",
       "  <thead>\n",
       "    <tr style=\"text-align: right;\">\n",
       "      <th></th>\n",
       "      <th>MSOA11CD</th>\n",
       "      <th>ratio_la_median_price_2011</th>\n",
       "      <th>ratio_la_median_price_2001</th>\n",
       "      <th>ratio_la_qualification_2011</th>\n",
       "      <th>ratio_la_qualification_2001</th>\n",
       "      <th>ratio_la_NSSEC_2011</th>\n",
       "      <th>ratio_la_NSSEC_2001</th>\n",
       "      <th>ratio_la_earning_2011</th>\n",
       "      <th>ratio_la_earning_2001</th>\n",
       "      <th>Score_2001</th>\n",
       "      <th>Score_2011</th>\n",
       "    </tr>\n",
       "  </thead>\n",
       "  <tbody>\n",
       "    <tr>\n",
       "      <th>0</th>\n",
       "      <td>E02003134</td>\n",
       "      <td>-0.306626</td>\n",
       "      <td>-0.269643</td>\n",
       "      <td>0.523025</td>\n",
       "      <td>0.461860</td>\n",
       "      <td>0.655101</td>\n",
       "      <td>0.579209</td>\n",
       "      <td>1.0</td>\n",
       "      <td>1.0</td>\n",
       "      <td>-0.708417</td>\n",
       "      <td>-0.644024</td>\n",
       "    </tr>\n",
       "    <tr>\n",
       "      <th>1</th>\n",
       "      <td>E02003135</td>\n",
       "      <td>-0.328847</td>\n",
       "      <td>-0.367873</td>\n",
       "      <td>0.623575</td>\n",
       "      <td>0.607239</td>\n",
       "      <td>0.781860</td>\n",
       "      <td>0.991289</td>\n",
       "      <td>1.0</td>\n",
       "      <td>1.0</td>\n",
       "      <td>-0.424439</td>\n",
       "      <td>-0.517425</td>\n",
       "    </tr>\n",
       "    <tr>\n",
       "      <th>2</th>\n",
       "      <td>E02003136</td>\n",
       "      <td>0.165866</td>\n",
       "      <td>0.306385</td>\n",
       "      <td>1.068613</td>\n",
       "      <td>1.031148</td>\n",
       "      <td>1.275087</td>\n",
       "      <td>1.146724</td>\n",
       "      <td>1.0</td>\n",
       "      <td>1.0</td>\n",
       "      <td>0.276140</td>\n",
       "      <td>0.303909</td>\n",
       "    </tr>\n",
       "    <tr>\n",
       "      <th>3</th>\n",
       "      <td>E02003137</td>\n",
       "      <td>0.397136</td>\n",
       "      <td>0.367610</td>\n",
       "      <td>1.746879</td>\n",
       "      <td>2.127330</td>\n",
       "      <td>1.743479</td>\n",
       "      <td>1.678748</td>\n",
       "      <td>1.0</td>\n",
       "      <td>1.0</td>\n",
       "      <td>1.310793</td>\n",
       "      <td>1.124012</td>\n",
       "    </tr>\n",
       "    <tr>\n",
       "      <th>4</th>\n",
       "      <td>E02003138</td>\n",
       "      <td>0.199746</td>\n",
       "      <td>0.216944</td>\n",
       "      <td>1.756318</td>\n",
       "      <td>1.984046</td>\n",
       "      <td>1.615324</td>\n",
       "      <td>1.606420</td>\n",
       "      <td>1.0</td>\n",
       "      <td>1.0</td>\n",
       "      <td>1.101544</td>\n",
       "      <td>0.954514</td>\n",
       "    </tr>\n",
       "    <tr>\n",
       "      <th>...</th>\n",
       "      <td>...</td>\n",
       "      <td>...</td>\n",
       "      <td>...</td>\n",
       "      <td>...</td>\n",
       "      <td>...</td>\n",
       "      <td>...</td>\n",
       "      <td>...</td>\n",
       "      <td>...</td>\n",
       "      <td>...</td>\n",
       "      <td>...</td>\n",
       "      <td>...</td>\n",
       "    </tr>\n",
       "    <tr>\n",
       "      <th>1192</th>\n",
       "      <td>E02000979</td>\n",
       "      <td>0.176461</td>\n",
       "      <td>0.034749</td>\n",
       "      <td>1.050499</td>\n",
       "      <td>0.933615</td>\n",
       "      <td>1.111672</td>\n",
       "      <td>0.990388</td>\n",
       "      <td>1.0</td>\n",
       "      <td>1.0</td>\n",
       "      <td>-0.015009</td>\n",
       "      <td>0.201829</td>\n",
       "    </tr>\n",
       "    <tr>\n",
       "      <th>1193</th>\n",
       "      <td>E02000980</td>\n",
       "      <td>-0.079686</td>\n",
       "      <td>-0.160991</td>\n",
       "      <td>0.997608</td>\n",
       "      <td>0.855883</td>\n",
       "      <td>1.047427</td>\n",
       "      <td>0.895343</td>\n",
       "      <td>1.0</td>\n",
       "      <td>1.0</td>\n",
       "      <td>-0.219157</td>\n",
       "      <td>0.000796</td>\n",
       "    </tr>\n",
       "    <tr>\n",
       "      <th>1194</th>\n",
       "      <td>E02000981</td>\n",
       "      <td>-0.084408</td>\n",
       "      <td>-0.025498</td>\n",
       "      <td>1.237707</td>\n",
       "      <td>1.190153</td>\n",
       "      <td>1.228657</td>\n",
       "      <td>1.276358</td>\n",
       "      <td>1.0</td>\n",
       "      <td>1.0</td>\n",
       "      <td>0.284187</td>\n",
       "      <td>0.256243</td>\n",
       "    </tr>\n",
       "    <tr>\n",
       "      <th>1195</th>\n",
       "      <td>E02000982</td>\n",
       "      <td>0.078277</td>\n",
       "      <td>-0.055916</td>\n",
       "      <td>0.868137</td>\n",
       "      <td>0.727003</td>\n",
       "      <td>0.886900</td>\n",
       "      <td>0.797115</td>\n",
       "      <td>1.0</td>\n",
       "      <td>1.0</td>\n",
       "      <td>-0.304815</td>\n",
       "      <td>-0.095017</td>\n",
       "    </tr>\n",
       "    <tr>\n",
       "      <th>1196</th>\n",
       "      <td>E02000983</td>\n",
       "      <td>-0.181009</td>\n",
       "      <td>-0.123420</td>\n",
       "      <td>0.925678</td>\n",
       "      <td>0.912565</td>\n",
       "      <td>0.980369</td>\n",
       "      <td>1.011744</td>\n",
       "      <td>1.0</td>\n",
       "      <td>1.0</td>\n",
       "      <td>-0.095963</td>\n",
       "      <td>-0.135350</td>\n",
       "    </tr>\n",
       "  </tbody>\n",
       "</table>\n",
       "<p>1197 rows × 11 columns</p>\n",
       "</div>"
      ],
      "text/plain": [
       "       MSOA11CD  ratio_la_median_price_2011  ratio_la_median_price_2001  \\\n",
       "0     E02003134                   -0.306626                   -0.269643   \n",
       "1     E02003135                   -0.328847                   -0.367873   \n",
       "2     E02003136                    0.165866                    0.306385   \n",
       "3     E02003137                    0.397136                    0.367610   \n",
       "4     E02003138                    0.199746                    0.216944   \n",
       "...         ...                         ...                         ...   \n",
       "1192  E02000979                    0.176461                    0.034749   \n",
       "1193  E02000980                   -0.079686                   -0.160991   \n",
       "1194  E02000981                   -0.084408                   -0.025498   \n",
       "1195  E02000982                    0.078277                   -0.055916   \n",
       "1196  E02000983                   -0.181009                   -0.123420   \n",
       "\n",
       "      ratio_la_qualification_2011  ratio_la_qualification_2001  \\\n",
       "0                        0.523025                     0.461860   \n",
       "1                        0.623575                     0.607239   \n",
       "2                        1.068613                     1.031148   \n",
       "3                        1.746879                     2.127330   \n",
       "4                        1.756318                     1.984046   \n",
       "...                           ...                          ...   \n",
       "1192                     1.050499                     0.933615   \n",
       "1193                     0.997608                     0.855883   \n",
       "1194                     1.237707                     1.190153   \n",
       "1195                     0.868137                     0.727003   \n",
       "1196                     0.925678                     0.912565   \n",
       "\n",
       "      ratio_la_NSSEC_2011  ratio_la_NSSEC_2001  ratio_la_earning_2011  \\\n",
       "0                0.655101             0.579209                    1.0   \n",
       "1                0.781860             0.991289                    1.0   \n",
       "2                1.275087             1.146724                    1.0   \n",
       "3                1.743479             1.678748                    1.0   \n",
       "4                1.615324             1.606420                    1.0   \n",
       "...                   ...                  ...                    ...   \n",
       "1192             1.111672             0.990388                    1.0   \n",
       "1193             1.047427             0.895343                    1.0   \n",
       "1194             1.228657             1.276358                    1.0   \n",
       "1195             0.886900             0.797115                    1.0   \n",
       "1196             0.980369             1.011744                    1.0   \n",
       "\n",
       "      ratio_la_earning_2001  Score_2001  Score_2011  \n",
       "0                       1.0   -0.708417   -0.644024  \n",
       "1                       1.0   -0.424439   -0.517425  \n",
       "2                       1.0    0.276140    0.303909  \n",
       "3                       1.0    1.310793    1.124012  \n",
       "4                       1.0    1.101544    0.954514  \n",
       "...                     ...         ...         ...  \n",
       "1192                    1.0   -0.015009    0.201829  \n",
       "1193                    1.0   -0.219157    0.000796  \n",
       "1194                    1.0    0.284187    0.256243  \n",
       "1195                    1.0   -0.304815   -0.095017  \n",
       "1196                    1.0   -0.095963   -0.135350  \n",
       "\n",
       "[1197 rows x 11 columns]"
      ]
     },
     "execution_count": 73,
     "metadata": {},
     "output_type": "execute_result"
    }
   ],
   "source": [
    "# view main dataframe\n",
    "\n",
    "df_score"
   ]
  },
  {
   "cell_type": "code",
   "execution_count": 74,
   "metadata": {},
   "outputs": [],
   "source": [
    "df_score.to_csv('df_score.csv',index=False)"
   ]
  },
  {
   "cell_type": "markdown",
   "metadata": {},
   "source": [
    "## Part 5: Determine Neighbourhood States by Analysing their Composite Index scores / ranks"
   ]
  },
  {
   "cell_type": "code",
   "execution_count": 75,
   "metadata": {},
   "outputs": [],
   "source": [
    "# assigning ranks to LSOA based on their 2001 & 2011 scores\n",
    "\n",
    "df_score[\"Rank_2001\"] = df_score[\"Score_2001\"].rank(ascending=False)\n",
    "df_score[\"Rank_2011\"] = df_score[\"Score_2011\"].rank(ascending=False)"
   ]
  },
  {
   "cell_type": "code",
   "execution_count": 76,
   "metadata": {},
   "outputs": [
    {
     "data": {
      "text/html": [
       "<div>\n",
       "<style scoped>\n",
       "    .dataframe tbody tr th:only-of-type {\n",
       "        vertical-align: middle;\n",
       "    }\n",
       "\n",
       "    .dataframe tbody tr th {\n",
       "        vertical-align: top;\n",
       "    }\n",
       "\n",
       "    .dataframe thead th {\n",
       "        text-align: right;\n",
       "    }\n",
       "</style>\n",
       "<table border=\"1\" class=\"dataframe\">\n",
       "  <thead>\n",
       "    <tr style=\"text-align: right;\">\n",
       "      <th></th>\n",
       "      <th>MSOA11CD</th>\n",
       "      <th>ratio_la_median_price_2011</th>\n",
       "      <th>ratio_la_median_price_2001</th>\n",
       "      <th>ratio_la_qualification_2011</th>\n",
       "      <th>ratio_la_qualification_2001</th>\n",
       "      <th>ratio_la_NSSEC_2011</th>\n",
       "      <th>ratio_la_NSSEC_2001</th>\n",
       "      <th>ratio_la_earning_2011</th>\n",
       "      <th>ratio_la_earning_2001</th>\n",
       "      <th>Score_2001</th>\n",
       "      <th>Score_2011</th>\n",
       "      <th>Rank_2001</th>\n",
       "      <th>Rank_2011</th>\n",
       "    </tr>\n",
       "  </thead>\n",
       "  <tbody>\n",
       "    <tr>\n",
       "      <th>0</th>\n",
       "      <td>E02003134</td>\n",
       "      <td>-0.306626</td>\n",
       "      <td>-0.269643</td>\n",
       "      <td>0.523025</td>\n",
       "      <td>0.461860</td>\n",
       "      <td>0.655101</td>\n",
       "      <td>0.579209</td>\n",
       "      <td>1.0</td>\n",
       "      <td>1.0</td>\n",
       "      <td>-0.708417</td>\n",
       "      <td>-0.644024</td>\n",
       "      <td>1159.0</td>\n",
       "      <td>1140.0</td>\n",
       "    </tr>\n",
       "    <tr>\n",
       "      <th>1</th>\n",
       "      <td>E02003135</td>\n",
       "      <td>-0.328847</td>\n",
       "      <td>-0.367873</td>\n",
       "      <td>0.623575</td>\n",
       "      <td>0.607239</td>\n",
       "      <td>0.781860</td>\n",
       "      <td>0.991289</td>\n",
       "      <td>1.0</td>\n",
       "      <td>1.0</td>\n",
       "      <td>-0.424439</td>\n",
       "      <td>-0.517425</td>\n",
       "      <td>1023.0</td>\n",
       "      <td>1076.0</td>\n",
       "    </tr>\n",
       "    <tr>\n",
       "      <th>2</th>\n",
       "      <td>E02003136</td>\n",
       "      <td>0.165866</td>\n",
       "      <td>0.306385</td>\n",
       "      <td>1.068613</td>\n",
       "      <td>1.031148</td>\n",
       "      <td>1.275087</td>\n",
       "      <td>1.146724</td>\n",
       "      <td>1.0</td>\n",
       "      <td>1.0</td>\n",
       "      <td>0.276140</td>\n",
       "      <td>0.303909</td>\n",
       "      <td>289.0</td>\n",
       "      <td>249.0</td>\n",
       "    </tr>\n",
       "    <tr>\n",
       "      <th>3</th>\n",
       "      <td>E02003137</td>\n",
       "      <td>0.397136</td>\n",
       "      <td>0.367610</td>\n",
       "      <td>1.746879</td>\n",
       "      <td>2.127330</td>\n",
       "      <td>1.743479</td>\n",
       "      <td>1.678748</td>\n",
       "      <td>1.0</td>\n",
       "      <td>1.0</td>\n",
       "      <td>1.310793</td>\n",
       "      <td>1.124012</td>\n",
       "      <td>3.0</td>\n",
       "      <td>6.0</td>\n",
       "    </tr>\n",
       "    <tr>\n",
       "      <th>4</th>\n",
       "      <td>E02003138</td>\n",
       "      <td>0.199746</td>\n",
       "      <td>0.216944</td>\n",
       "      <td>1.756318</td>\n",
       "      <td>1.984046</td>\n",
       "      <td>1.615324</td>\n",
       "      <td>1.606420</td>\n",
       "      <td>1.0</td>\n",
       "      <td>1.0</td>\n",
       "      <td>1.101544</td>\n",
       "      <td>0.954514</td>\n",
       "      <td>7.0</td>\n",
       "      <td>20.0</td>\n",
       "    </tr>\n",
       "  </tbody>\n",
       "</table>\n",
       "</div>"
      ],
      "text/plain": [
       "    MSOA11CD  ratio_la_median_price_2011  ratio_la_median_price_2001  \\\n",
       "0  E02003134                   -0.306626                   -0.269643   \n",
       "1  E02003135                   -0.328847                   -0.367873   \n",
       "2  E02003136                    0.165866                    0.306385   \n",
       "3  E02003137                    0.397136                    0.367610   \n",
       "4  E02003138                    0.199746                    0.216944   \n",
       "\n",
       "   ratio_la_qualification_2011  ratio_la_qualification_2001  \\\n",
       "0                     0.523025                     0.461860   \n",
       "1                     0.623575                     0.607239   \n",
       "2                     1.068613                     1.031148   \n",
       "3                     1.746879                     2.127330   \n",
       "4                     1.756318                     1.984046   \n",
       "\n",
       "   ratio_la_NSSEC_2011  ratio_la_NSSEC_2001  ratio_la_earning_2011  \\\n",
       "0             0.655101             0.579209                    1.0   \n",
       "1             0.781860             0.991289                    1.0   \n",
       "2             1.275087             1.146724                    1.0   \n",
       "3             1.743479             1.678748                    1.0   \n",
       "4             1.615324             1.606420                    1.0   \n",
       "\n",
       "   ratio_la_earning_2001  Score_2001  Score_2011  Rank_2001  Rank_2011  \n",
       "0                    1.0   -0.708417   -0.644024     1159.0     1140.0  \n",
       "1                    1.0   -0.424439   -0.517425     1023.0     1076.0  \n",
       "2                    1.0    0.276140    0.303909      289.0      249.0  \n",
       "3                    1.0    1.310793    1.124012        3.0        6.0  \n",
       "4                    1.0    1.101544    0.954514        7.0       20.0  "
      ]
     },
     "execution_count": 76,
     "metadata": {},
     "output_type": "execute_result"
    }
   ],
   "source": [
    "df_score.head()"
   ]
  },
  {
   "cell_type": "code",
   "execution_count": 77,
   "metadata": {},
   "outputs": [],
   "source": [
    "# quantifying the change in LSOA's ranks between the 2 years\n",
    "\n",
    "df_score[\"Rank_chg\"] = df_score[\"Rank_2001\"] - df_score[\"Rank_2011\"]"
   ]
  },
  {
   "cell_type": "code",
   "execution_count": 78,
   "metadata": {},
   "outputs": [
    {
     "data": {
      "text/plain": [
       "count    1197.000000\n",
       "mean        0.000000\n",
       "std        99.447935\n",
       "min      -527.000000\n",
       "25%       -53.000000\n",
       "50%         1.000000\n",
       "75%        52.000000\n",
       "max       853.000000\n",
       "Name: Rank_chg, dtype: float64"
      ]
     },
     "execution_count": 78,
     "metadata": {},
     "output_type": "execute_result"
    }
   ],
   "source": [
    "# descriptive stats of rank changes\n",
    "\n",
    "df_score[\"Rank_chg\"].describe()"
   ]
  },
  {
   "cell_type": "code",
   "execution_count": 79,
   "metadata": {},
   "outputs": [
    {
     "data": {
      "text/plain": [
       "<AxesSubplot:>"
      ]
     },
     "execution_count": 79,
     "metadata": {},
     "output_type": "execute_result"
    },
    {
     "data": {
      "image/png": "[encoded data removed]",
      "text/plain": [
       "<Figure size 432x288 with 1 Axes>"
      ]
     },
     "metadata": {},
     "output_type": "display_data"
    }
   ],
   "source": [
    "df_score[[\"Rank_chg\"]].boxplot()"
   ]
  },
  {
   "cell_type": "code",
   "execution_count": 80,
   "metadata": {},
   "outputs": [],
   "source": [
    "# compute z-scores of rank changes\n",
    "\n",
    "from scipy.stats import zscore\n",
    "\n",
    "df_score[\"Z_score\"] = df_score[[\"Rank_chg\"]].apply(zscore)"
   ]
  },
  {
   "cell_type": "code",
   "execution_count": 81,
   "metadata": {},
   "outputs": [],
   "source": [
    "# as a supplementart approach - changes in LSOAs' scores are computed\n",
    "\n",
    "df_score[\"score_chg\"]= df_score[\"Score_2011\"] - df_score[\"Score_2001\"]"
   ]
  },
  {
   "cell_type": "code",
   "execution_count": 86,
   "metadata": {},
   "outputs": [
    {
     "data": {
      "text/plain": [
       "count    1197.000000\n",
       "mean       -0.003125\n",
       "std         0.115454\n",
       "min        -0.545340\n",
       "25%        -0.071194\n",
       "50%        -0.001686\n",
       "75%         0.068681\n",
       "max         0.868269\n",
       "Name: score_chg, dtype: float64"
      ]
     },
     "execution_count": 86,
     "metadata": {},
     "output_type": "execute_result"
    }
   ],
   "source": [
    "# descriptive stats of rank changes\n",
    "\n",
    "df_score[\"score_chg\"].describe()"
   ]
  },
  {
   "cell_type": "code",
   "execution_count": 87,
   "metadata": {},
   "outputs": [
    {
     "data": {
      "text/plain": [
       "<AxesSubplot:>"
      ]
     },
     "execution_count": 87,
     "metadata": {},
     "output_type": "execute_result"
    },
    {
     "data": {
      "image/png": "[encoded data removed]",
      "text/plain": [
       "<Figure size 432x288 with 1 Axes>"
      ]
     },
     "metadata": {},
     "output_type": "display_data"
    }
   ],
   "source": [
    "df_score[[\"Rank_chg\"]].boxplot()"
   ]
  },
  {
   "cell_type": "code",
   "execution_count": 82,
   "metadata": {},
   "outputs": [
    {
     "name": "stdout",
     "output_type": "stream",
     "text": [
      "0.1724062808009913\n",
      "-0.10820541419225807\n"
     ]
    }
   ],
   "source": [
    "# checking the top and bottom 5th percentile benchmarks for score changes\n",
    "\n",
    "print(df_score[\"score_chg\"].quantile(0.95))\n",
    "print(df_score[\"score_chg\"].quantile(0.15))"
   ]
  },
  {
   "cell_type": "code",
   "execution_count": 83,
   "metadata": {},
   "outputs": [
    {
     "name": "stderr",
     "output_type": "stream",
     "text": [
      "/opt/conda/envs/sds2020/lib/python3.7/site-packages/ipykernel_launcher.py:11: SettingWithCopyWarning: \n",
      "A value is trying to be set on a copy of a slice from a DataFrame\n",
      "\n",
      "See the caveats in the documentation: https://pandas.pydata.org/pandas-docs/stable/user_guide/indexing.html#returning-a-view-versus-a-copy\n",
      "  # This is added back by InteractiveShellApp.init_path()\n",
      "/opt/conda/envs/sds2020/lib/python3.7/site-packages/ipykernel_launcher.py:9: SettingWithCopyWarning: \n",
      "A value is trying to be set on a copy of a slice from a DataFrame\n",
      "\n",
      "See the caveats in the documentation: https://pandas.pydata.org/pandas-docs/stable/user_guide/indexing.html#returning-a-view-versus-a-copy\n",
      "  if __name__ == '__main__':\n"
     ]
    }
   ],
   "source": [
    "# assign LSOA status based on: \n",
    "# (1) z-scores of rank changes (z<-1 signify that n'hood is in decline (DEC), -1<z<1 signifies that n'hood is stable (STB), z>1 signifies that n'hood is in ascension (ASC))\n",
    "# (2) changes in LSOAs' scores are within the top or bottom 5th percentile (top 5th percentile: 'ASC' and bottom 5th percentile: 'DEC')\n",
    "\n",
    "df_score[\"status\"] = \"STB\"\n",
    "\n",
    "for i in range(len(df_score)):\n",
    "    if df_score[\"Z_score\"][i] > 1 or df_score[\"score_chg\"][i] > df_score[\"score_chg\"].quantile(0.95):\n",
    "        df_score[\"status\"][i] = \"ASC\"\n",
    "    elif df_score[\"Z_score\"][i] < -1 or df_score[\"score_chg\"][i] < df_score[\"score_chg\"].quantile(0.05):\n",
    "        df_score[\"status\"][i] = \"DEC\""
   ]
  },
  {
   "cell_type": "code",
   "execution_count": 84,
   "metadata": {},
   "outputs": [
    {
     "data": {
      "text/html": [
       "<div>\n",
       "<style scoped>\n",
       "    .dataframe tbody tr th:only-of-type {\n",
       "        vertical-align: middle;\n",
       "    }\n",
       "\n",
       "    .dataframe tbody tr th {\n",
       "        vertical-align: top;\n",
       "    }\n",
       "\n",
       "    .dataframe thead th {\n",
       "        text-align: right;\n",
       "    }\n",
       "</style>\n",
       "<table border=\"1\" class=\"dataframe\">\n",
       "  <thead>\n",
       "    <tr style=\"text-align: right;\">\n",
       "      <th></th>\n",
       "      <th>MSOA11CD</th>\n",
       "      <th>ratio_la_median_price_2011</th>\n",
       "      <th>ratio_la_median_price_2001</th>\n",
       "      <th>ratio_la_qualification_2011</th>\n",
       "      <th>ratio_la_qualification_2001</th>\n",
       "      <th>ratio_la_NSSEC_2011</th>\n",
       "      <th>ratio_la_NSSEC_2001</th>\n",
       "      <th>ratio_la_earning_2011</th>\n",
       "      <th>ratio_la_earning_2001</th>\n",
       "      <th>Score_2001</th>\n",
       "      <th>Score_2011</th>\n",
       "      <th>Rank_2001</th>\n",
       "      <th>Rank_2011</th>\n",
       "      <th>Rank_chg</th>\n",
       "      <th>Z_score</th>\n",
       "      <th>score_chg</th>\n",
       "      <th>status</th>\n",
       "    </tr>\n",
       "  </thead>\n",
       "  <tbody>\n",
       "    <tr>\n",
       "      <th>0</th>\n",
       "      <td>E02003134</td>\n",
       "      <td>-0.306626</td>\n",
       "      <td>-0.269643</td>\n",
       "      <td>0.523025</td>\n",
       "      <td>0.461860</td>\n",
       "      <td>0.655101</td>\n",
       "      <td>0.579209</td>\n",
       "      <td>1.0</td>\n",
       "      <td>1.0</td>\n",
       "      <td>-0.708417</td>\n",
       "      <td>-0.644024</td>\n",
       "      <td>1159.0</td>\n",
       "      <td>1140.0</td>\n",
       "      <td>19.0</td>\n",
       "      <td>0.191135</td>\n",
       "      <td>0.064393</td>\n",
       "      <td>STB</td>\n",
       "    </tr>\n",
       "    <tr>\n",
       "      <th>1</th>\n",
       "      <td>E02003135</td>\n",
       "      <td>-0.328847</td>\n",
       "      <td>-0.367873</td>\n",
       "      <td>0.623575</td>\n",
       "      <td>0.607239</td>\n",
       "      <td>0.781860</td>\n",
       "      <td>0.991289</td>\n",
       "      <td>1.0</td>\n",
       "      <td>1.0</td>\n",
       "      <td>-0.424439</td>\n",
       "      <td>-0.517425</td>\n",
       "      <td>1023.0</td>\n",
       "      <td>1076.0</td>\n",
       "      <td>-53.0</td>\n",
       "      <td>-0.533165</td>\n",
       "      <td>-0.092986</td>\n",
       "      <td>STB</td>\n",
       "    </tr>\n",
       "    <tr>\n",
       "      <th>2</th>\n",
       "      <td>E02003136</td>\n",
       "      <td>0.165866</td>\n",
       "      <td>0.306385</td>\n",
       "      <td>1.068613</td>\n",
       "      <td>1.031148</td>\n",
       "      <td>1.275087</td>\n",
       "      <td>1.146724</td>\n",
       "      <td>1.0</td>\n",
       "      <td>1.0</td>\n",
       "      <td>0.276140</td>\n",
       "      <td>0.303909</td>\n",
       "      <td>289.0</td>\n",
       "      <td>249.0</td>\n",
       "      <td>40.0</td>\n",
       "      <td>0.402389</td>\n",
       "      <td>0.027769</td>\n",
       "      <td>STB</td>\n",
       "    </tr>\n",
       "    <tr>\n",
       "      <th>3</th>\n",
       "      <td>E02003137</td>\n",
       "      <td>0.397136</td>\n",
       "      <td>0.367610</td>\n",
       "      <td>1.746879</td>\n",
       "      <td>2.127330</td>\n",
       "      <td>1.743479</td>\n",
       "      <td>1.678748</td>\n",
       "      <td>1.0</td>\n",
       "      <td>1.0</td>\n",
       "      <td>1.310793</td>\n",
       "      <td>1.124012</td>\n",
       "      <td>3.0</td>\n",
       "      <td>6.0</td>\n",
       "      <td>-3.0</td>\n",
       "      <td>-0.030179</td>\n",
       "      <td>-0.186781</td>\n",
       "      <td>DEC</td>\n",
       "    </tr>\n",
       "    <tr>\n",
       "      <th>4</th>\n",
       "      <td>E02003138</td>\n",
       "      <td>0.199746</td>\n",
       "      <td>0.216944</td>\n",
       "      <td>1.756318</td>\n",
       "      <td>1.984046</td>\n",
       "      <td>1.615324</td>\n",
       "      <td>1.606420</td>\n",
       "      <td>1.0</td>\n",
       "      <td>1.0</td>\n",
       "      <td>1.101544</td>\n",
       "      <td>0.954514</td>\n",
       "      <td>7.0</td>\n",
       "      <td>20.0</td>\n",
       "      <td>-13.0</td>\n",
       "      <td>-0.130776</td>\n",
       "      <td>-0.147030</td>\n",
       "      <td>STB</td>\n",
       "    </tr>\n",
       "    <tr>\n",
       "      <th>...</th>\n",
       "      <td>...</td>\n",
       "      <td>...</td>\n",
       "      <td>...</td>\n",
       "      <td>...</td>\n",
       "      <td>...</td>\n",
       "      <td>...</td>\n",
       "      <td>...</td>\n",
       "      <td>...</td>\n",
       "      <td>...</td>\n",
       "      <td>...</td>\n",
       "      <td>...</td>\n",
       "      <td>...</td>\n",
       "      <td>...</td>\n",
       "      <td>...</td>\n",
       "      <td>...</td>\n",
       "      <td>...</td>\n",
       "      <td>...</td>\n",
       "    </tr>\n",
       "    <tr>\n",
       "      <th>1192</th>\n",
       "      <td>E02000979</td>\n",
       "      <td>0.176461</td>\n",
       "      <td>0.034749</td>\n",
       "      <td>1.050499</td>\n",
       "      <td>0.933615</td>\n",
       "      <td>1.111672</td>\n",
       "      <td>0.990388</td>\n",
       "      <td>1.0</td>\n",
       "      <td>1.0</td>\n",
       "      <td>-0.015009</td>\n",
       "      <td>0.201829</td>\n",
       "      <td>612.0</td>\n",
       "      <td>368.0</td>\n",
       "      <td>244.0</td>\n",
       "      <td>2.454571</td>\n",
       "      <td>0.216838</td>\n",
       "      <td>ASC</td>\n",
       "    </tr>\n",
       "    <tr>\n",
       "      <th>1193</th>\n",
       "      <td>E02000980</td>\n",
       "      <td>-0.079686</td>\n",
       "      <td>-0.160991</td>\n",
       "      <td>0.997608</td>\n",
       "      <td>0.855883</td>\n",
       "      <td>1.047427</td>\n",
       "      <td>0.895343</td>\n",
       "      <td>1.0</td>\n",
       "      <td>1.0</td>\n",
       "      <td>-0.219157</td>\n",
       "      <td>0.000796</td>\n",
       "      <td>829.0</td>\n",
       "      <td>591.0</td>\n",
       "      <td>238.0</td>\n",
       "      <td>2.394212</td>\n",
       "      <td>0.219953</td>\n",
       "      <td>ASC</td>\n",
       "    </tr>\n",
       "    <tr>\n",
       "      <th>1194</th>\n",
       "      <td>E02000981</td>\n",
       "      <td>-0.084408</td>\n",
       "      <td>-0.025498</td>\n",
       "      <td>1.237707</td>\n",
       "      <td>1.190153</td>\n",
       "      <td>1.228657</td>\n",
       "      <td>1.276358</td>\n",
       "      <td>1.0</td>\n",
       "      <td>1.0</td>\n",
       "      <td>0.284187</td>\n",
       "      <td>0.256243</td>\n",
       "      <td>280.0</td>\n",
       "      <td>302.0</td>\n",
       "      <td>-22.0</td>\n",
       "      <td>-0.221314</td>\n",
       "      <td>-0.027944</td>\n",
       "      <td>STB</td>\n",
       "    </tr>\n",
       "    <tr>\n",
       "      <th>1195</th>\n",
       "      <td>E02000982</td>\n",
       "      <td>0.078277</td>\n",
       "      <td>-0.055916</td>\n",
       "      <td>0.868137</td>\n",
       "      <td>0.727003</td>\n",
       "      <td>0.886900</td>\n",
       "      <td>0.797115</td>\n",
       "      <td>1.0</td>\n",
       "      <td>1.0</td>\n",
       "      <td>-0.304815</td>\n",
       "      <td>-0.095017</td>\n",
       "      <td>916.0</td>\n",
       "      <td>697.0</td>\n",
       "      <td>219.0</td>\n",
       "      <td>2.203078</td>\n",
       "      <td>0.209798</td>\n",
       "      <td>ASC</td>\n",
       "    </tr>\n",
       "    <tr>\n",
       "      <th>1196</th>\n",
       "      <td>E02000983</td>\n",
       "      <td>-0.181009</td>\n",
       "      <td>-0.123420</td>\n",
       "      <td>0.925678</td>\n",
       "      <td>0.912565</td>\n",
       "      <td>0.980369</td>\n",
       "      <td>1.011744</td>\n",
       "      <td>1.0</td>\n",
       "      <td>1.0</td>\n",
       "      <td>-0.095963</td>\n",
       "      <td>-0.135350</td>\n",
       "      <td>697.0</td>\n",
       "      <td>732.0</td>\n",
       "      <td>-35.0</td>\n",
       "      <td>-0.352090</td>\n",
       "      <td>-0.039387</td>\n",
       "      <td>STB</td>\n",
       "    </tr>\n",
       "  </tbody>\n",
       "</table>\n",
       "<p>1197 rows × 17 columns</p>\n",
       "</div>"
      ],
      "text/plain": [
       "       MSOA11CD  ratio_la_median_price_2011  ratio_la_median_price_2001  \\\n",
       "0     E02003134                   -0.306626                   -0.269643   \n",
       "1     E02003135                   -0.328847                   -0.367873   \n",
       "2     E02003136                    0.165866                    0.306385   \n",
       "3     E02003137                    0.397136                    0.367610   \n",
       "4     E02003138                    0.199746                    0.216944   \n",
       "...         ...                         ...                         ...   \n",
       "1192  E02000979                    0.176461                    0.034749   \n",
       "1193  E02000980                   -0.079686                   -0.160991   \n",
       "1194  E02000981                   -0.084408                   -0.025498   \n",
       "1195  E02000982                    0.078277                   -0.055916   \n",
       "1196  E02000983                   -0.181009                   -0.123420   \n",
       "\n",
       "      ratio_la_qualification_2011  ratio_la_qualification_2001  \\\n",
       "0                        0.523025                     0.461860   \n",
       "1                        0.623575                     0.607239   \n",
       "2                        1.068613                     1.031148   \n",
       "3                        1.746879                     2.127330   \n",
       "4                        1.756318                     1.984046   \n",
       "...                           ...                          ...   \n",
       "1192                     1.050499                     0.933615   \n",
       "1193                     0.997608                     0.855883   \n",
       "1194                     1.237707                     1.190153   \n",
       "1195                     0.868137                     0.727003   \n",
       "1196                     0.925678                     0.912565   \n",
       "\n",
       "      ratio_la_NSSEC_2011  ratio_la_NSSEC_2001  ratio_la_earning_2011  \\\n",
       "0                0.655101             0.579209                    1.0   \n",
       "1                0.781860             0.991289                    1.0   \n",
       "2                1.275087             1.146724                    1.0   \n",
       "3                1.743479             1.678748                    1.0   \n",
       "4                1.615324             1.606420                    1.0   \n",
       "...                   ...                  ...                    ...   \n",
       "1192             1.111672             0.990388                    1.0   \n",
       "1193             1.047427             0.895343                    1.0   \n",
       "1194             1.228657             1.276358                    1.0   \n",
       "1195             0.886900             0.797115                    1.0   \n",
       "1196             0.980369             1.011744                    1.0   \n",
       "\n",
       "      ratio_la_earning_2001  Score_2001  Score_2011  Rank_2001  Rank_2011  \\\n",
       "0                       1.0   -0.708417   -0.644024     1159.0     1140.0   \n",
       "1                       1.0   -0.424439   -0.517425     1023.0     1076.0   \n",
       "2                       1.0    0.276140    0.303909      289.0      249.0   \n",
       "3                       1.0    1.310793    1.124012        3.0        6.0   \n",
       "4                       1.0    1.101544    0.954514        7.0       20.0   \n",
       "...                     ...         ...         ...        ...        ...   \n",
       "1192                    1.0   -0.015009    0.201829      612.0      368.0   \n",
       "1193                    1.0   -0.219157    0.000796      829.0      591.0   \n",
       "1194                    1.0    0.284187    0.256243      280.0      302.0   \n",
       "1195                    1.0   -0.304815   -0.095017      916.0      697.0   \n",
       "1196                    1.0   -0.095963   -0.135350      697.0      732.0   \n",
       "\n",
       "      Rank_chg   Z_score  score_chg status  \n",
       "0         19.0  0.191135   0.064393    STB  \n",
       "1        -53.0 -0.533165  -0.092986    STB  \n",
       "2         40.0  0.402389   0.027769    STB  \n",
       "3         -3.0 -0.030179  -0.186781    DEC  \n",
       "4        -13.0 -0.130776  -0.147030    STB  \n",
       "...        ...       ...        ...    ...  \n",
       "1192     244.0  2.454571   0.216838    ASC  \n",
       "1193     238.0  2.394212   0.219953    ASC  \n",
       "1194     -22.0 -0.221314  -0.027944    STB  \n",
       "1195     219.0  2.203078   0.209798    ASC  \n",
       "1196     -35.0 -0.352090  -0.039387    STB  \n",
       "\n",
       "[1197 rows x 17 columns]"
      ]
     },
     "execution_count": 84,
     "metadata": {},
     "output_type": "execute_result"
    }
   ],
   "source": [
    "# check dataframe\n",
    "\n",
    "df_score"
   ]
  },
  {
   "cell_type": "code",
   "execution_count": 85,
   "metadata": {},
   "outputs": [
    {
     "data": {
      "text/plain": [
       "status\n",
       "ASC    139\n",
       "DEC    153\n",
       "STB    905\n",
       "dtype: int64"
      ]
     },
     "execution_count": 85,
     "metadata": {},
     "output_type": "execute_result"
    }
   ],
   "source": [
    "# size of different LSOA status groups\n",
    "\n",
    "df_score.groupby(df_score[\"status\"]).size()"
   ]
  },
  {
   "cell_type": "code",
   "execution_count": 88,
   "metadata": {},
   "outputs": [],
   "source": [
    "# output to file\n",
    "df_score.to_csv('score_analysis_new.csv')"
   ]
  },
  {
   "cell_type": "code",
   "execution_count": null,
   "metadata": {},
   "outputs": [],
   "source": []
  }
 ],
 "metadata": {
  "kernelspec": {
   "display_name": "Python 3",
   "language": "python",
   "name": "python3"
  },
  "language_info": {
   "codemirror_mode": {
    "name": "ipython",
    "version": 3
   },
   "file_extension": ".py",
   "mimetype": "text/x-python",
   "name": "python",
   "nbconvert_exporter": "python",
   "pygments_lexer": "ipython3",
   "version": "3.7.8"
  }
 },
 "nbformat": 4,
 "nbformat_minor": 4
}
