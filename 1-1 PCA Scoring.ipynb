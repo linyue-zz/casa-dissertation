{
 "cells": [
  {
   "cell_type": "code",
   "execution_count": 1,
   "metadata": {},
   "outputs": [],
   "source": [
    "import pandas as pd\n",
    "import seaborn as sns"
   ]
  },
  {
   "cell_type": "code",
   "execution_count": 2,
   "metadata": {},
   "outputs": [],
   "source": [
    "import matplotlib\n",
    "import matplotlib.pyplot as plt\n",
    "matplotlib.style.use('ggplot')"
   ]
  },
  {
   "cell_type": "code",
   "execution_count": 3,
   "metadata": {},
   "outputs": [],
   "source": [
    "from scipy.stats import boxcox\n",
    "import numpy as np"
   ]
  },
  {
   "cell_type": "code",
   "execution_count": 4,
   "metadata": {},
   "outputs": [],
   "source": [
    "# necessary libraries for PCA\n",
    "from sklearn.preprocessing import RobustScaler\n",
    "from sklearn import decomposition  \n",
    "from sklearn.preprocessing import scale  \n",
    "from sklearn import preprocessing \n",
    "from sklearn import linear_model\n",
    "from sklearn import model_selection"
   ]
  },
  {
   "cell_type": "code",
   "execution_count": 5,
   "metadata": {},
   "outputs": [],
   "source": [
    "swandlondon_key = pd.read_csv('output_new/swandlondon_key.csv')"
   ]
  },
  {
   "cell_type": "code",
   "execution_count": 6,
   "metadata": {},
   "outputs": [
    {
     "name": "stdout",
     "output_type": "stream",
     "text": [
      "<class 'pandas.core.frame.DataFrame'>\n",
      "RangeIndex: 1211 entries, 0 to 1210\n",
      "Data columns (total 71 columns):\n",
      " #   Column                             Non-Null Count  Dtype  \n",
      "---  ------                             --------------  -----  \n",
      " 0   MSOA11CD                           1211 non-null   object \n",
      " 1   MSOA11NM                           1211 non-null   object \n",
      " 2   LAD11CD                            1211 non-null   object \n",
      " 3   LAD11NM                            1211 non-null   object \n",
      " 4   RGN11CD                            1211 non-null   object \n",
      " 5   RGN11NM                            1211 non-null   object \n",
      " 6   MSOA01CD                           1211 non-null   object \n",
      " 7   MSOA01NM                           1211 non-null   object \n",
      " 8   CHGIND                             1211 non-null   object \n",
      " 9   median_price_2001                  1211 non-null   float64\n",
      " 10  median_price_2011                  1211 non-null   float64\n",
      " 11  median_price_2001_la               1211 non-null   int64  \n",
      " 12  median_price_2011_la               1211 non-null   int64  \n",
      " 13  median_price_2001_region           1211 non-null   int64  \n",
      " 14  median_price_2011_region           1211 non-null   int64  \n",
      " 15  earnings_2011                      1211 non-null   float64\n",
      " 16  earnings_2001_la                   1211 non-null   int64  \n",
      " 17  earnings_2011_la                   1211 non-null   int64  \n",
      " 18  earnings_2001_region               1211 non-null   int64  \n",
      " 19  earnings_2011_region               1211 non-null   int64  \n",
      " 20  NS-SeC_higher_2001_pct             1211 non-null   float64\n",
      " 21  NS-SeC_higher_2011_pct             1211 non-null   float64\n",
      " 22  NS-SeC_higher_2001_la_pct          1211 non-null   float64\n",
      " 23  NS-SeC_higher_2011_la_pct          1211 non-null   float64\n",
      " 24  NS-SeC_higher_2001_region_pct      1211 non-null   float64\n",
      " 25  NS-SeC_higher_2011_region_pct      1211 non-null   float64\n",
      " 26  qualification_2001_pct             1211 non-null   float64\n",
      " 27  qualification_2011_pct             1211 non-null   float64\n",
      " 28  qualification_2001_la_pct          1211 non-null   float64\n",
      " 29  qualification_2011_la_pct          1211 non-null   float64\n",
      " 30  qualification_2001_region_pct      1211 non-null   float64\n",
      " 31  qualification_2011_region_pct      1211 non-null   float64\n",
      " 32  space_vacant_2001_pct              1211 non-null   float64\n",
      " 33  space_vacant_2011_pct              1211 non-null   float64\n",
      " 34  space_vacant_2001_la_pct           1211 non-null   float64\n",
      " 35  space_vacant_2011_la_pct           1211 non-null   float64\n",
      " 36  no_children_2001_pct               1211 non-null   float64\n",
      " 37  dependent_children_2001_pct        1211 non-null   float64\n",
      " 38  nondependent_children_2001_pct     1211 non-null   float64\n",
      " 39  no_children_2011_pct               1211 non-null   float64\n",
      " 40  dependent_children_2011_pct        1211 non-null   float64\n",
      " 41  nondependent_children_2011_pct     1211 non-null   float64\n",
      " 42  no_children_2001_la_pct            1211 non-null   float64\n",
      " 43  dependent_children_2001_la_pct     1211 non-null   float64\n",
      " 44  nondependent_children_2001_la_pct  1211 non-null   float64\n",
      " 45  no_children_2011_la_pct            1211 non-null   float64\n",
      " 46  dependent_children_2011_la_pct     1211 non-null   float64\n",
      " 47  nondependent_children_2011_la_pct  1211 non-null   float64\n",
      " 48  retired_2001_pct                   1211 non-null   float64\n",
      " 49  student_2001_pct                   1211 non-null   float64\n",
      " 50  retired_2011_pct                   1211 non-null   float64\n",
      " 51  student_2011_pct                   1211 non-null   float64\n",
      " 52  retired_2001_la_pct                1211 non-null   float64\n",
      " 53  student_2001_la_pct                1211 non-null   float64\n",
      " 54  retired_2011_la_pct                1211 non-null   float64\n",
      " 55  student_2011_la_pct                1211 non-null   float64\n",
      " 56  migrants_2011_pct                  1211 non-null   float64\n",
      " 57  migrants_2001_la_pct               1211 non-null   float64\n",
      " 58  migrants_2011_la_pct               1211 non-null   float64\n",
      " 59  newlybuilt_sale_2001_pct           1211 non-null   float64\n",
      " 60  newlybuilt_sale_2011_pct           1211 non-null   float64\n",
      " 61  newlybuilt_sale_2001_la_pct        1211 non-null   float64\n",
      " 62  newlybuilt_sale_2011_la_pct        1211 non-null   float64\n",
      " 63  owned_2001_pct                     1211 non-null   float64\n",
      " 64  rented_2001_pct                    1211 non-null   float64\n",
      " 65  owned_2011_pct                     1211 non-null   float64\n",
      " 66  rented_2011_pct                    1211 non-null   float64\n",
      " 67  owned_2001_la_pct                  1211 non-null   float64\n",
      " 68  rented_2001_la_pct                 1211 non-null   float64\n",
      " 69  owned_2011_la_pct                  1211 non-null   float64\n",
      " 70  rented_2011_la_pct                 1211 non-null   float64\n",
      "dtypes: float64(54), int64(8), object(9)\n",
      "memory usage: 671.9+ KB\n"
     ]
    }
   ],
   "source": [
    "swandlondon_key.info()"
   ]
  },
  {
   "cell_type": "code",
   "execution_count": 7,
   "metadata": {},
   "outputs": [],
   "source": [
    "extrac0_cols=list(swandlondon_key.iloc[:,[9,10,16,15,20,21,26,27]].columns)\n",
    "swandlondon_key_extract0=swandlondon_key[extrac0_cols].copy()"
   ]
  },
  {
   "cell_type": "code",
   "execution_count": 8,
   "metadata": {},
   "outputs": [
    {
     "data": {
      "text/plain": [
       "[Text(0, 0, 'median_price_2001'),\n",
       " Text(1, 0, 'median_price_2011'),\n",
       " Text(2, 0, 'earnings_2001_la'),\n",
       " Text(3, 0, 'earnings_2011'),\n",
       " Text(4, 0, 'NS-SeC_higher_2001_pct'),\n",
       " Text(5, 0, 'NS-SeC_higher_2011_pct'),\n",
       " Text(6, 0, 'qualification_2001_pct'),\n",
       " Text(7, 0, 'qualification_2011_pct')]"
      ]
     },
     "execution_count": 8,
     "metadata": {},
     "output_type": "execute_result"
    },
    {
     "data": {
      "image/png": "[encoded data removed]",
      "text/plain": [
       "<Figure size 432x288 with 1 Axes>"
      ]
     },
     "metadata": {},
     "output_type": "display_data"
    }
   ],
   "source": [
    "# raw variable \n",
    "ax = sns.boxplot(data=swandlondon_key_extract0,fliersize=2)\n",
    "ax.set_xticklabels(ax.get_xticklabels(), rotation=90)"
   ]
  },
  {
   "cell_type": "code",
   "execution_count": 9,
   "metadata": {},
   "outputs": [],
   "source": [
    "swandlondon_core = pd.read_csv('output_new/swandlondon_core.csv')"
   ]
  },
  {
   "cell_type": "code",
   "execution_count": 10,
   "metadata": {},
   "outputs": [
    {
     "name": "stdout",
     "output_type": "stream",
     "text": [
      "<class 'pandas.core.frame.DataFrame'>\n",
      "RangeIndex: 1211 entries, 0 to 1210\n",
      "Data columns (total 45 columns):\n",
      " #   Column                               Non-Null Count  Dtype  \n",
      "---  ------                               --------------  -----  \n",
      " 0   MSOA11CD                             1211 non-null   object \n",
      " 1   MSOA11NM                             1211 non-null   object \n",
      " 2   LAD11CD                              1211 non-null   object \n",
      " 3   LAD11NM                              1211 non-null   object \n",
      " 4   RGN11CD                              1211 non-null   object \n",
      " 5   RGN11NM                              1211 non-null   object \n",
      " 6   MSOA01CD                             1211 non-null   object \n",
      " 7   MSOA01NM                             1211 non-null   object \n",
      " 8   CHGIND                               1211 non-null   object \n",
      " 9   ratio_la_median_price_2001           1211 non-null   float64\n",
      " 10  ratio_la_median_price_2011           1211 non-null   float64\n",
      " 11  ratio_r_median_price_2001            1211 non-null   float64\n",
      " 12  ratio_r_median_price_2011            1211 non-null   float64\n",
      " 13  ratio_la_earnings_2001               1211 non-null   int64  \n",
      " 14  ratio_la_earnings_2011               1211 non-null   float64\n",
      " 15  ratio_r_earnings_2001                1211 non-null   float64\n",
      " 16  ratio_r_earnings_2011                1211 non-null   float64\n",
      " 17  ratio_la_nssec_2001                  1211 non-null   float64\n",
      " 18  ratio_la_nssec_2011                  1211 non-null   float64\n",
      " 19  ratio_r_nssec_2001                   1211 non-null   float64\n",
      " 20  ratio_r_nssec_2011                   1211 non-null   float64\n",
      " 21  ratio_la_qualification_2001          1211 non-null   float64\n",
      " 22  ratio_la_qualification_2011          1211 non-null   float64\n",
      " 23  ratio_r_qualification_2001           1211 non-null   float64\n",
      " 24  ratio_r_qualification_2011           1211 non-null   float64\n",
      " 25  ratio_la_space_vacant_2001           1211 non-null   float64\n",
      " 26  ratio_la_space_vacant_2011           1211 non-null   float64\n",
      " 27  ratio_la_no_children_2001            1211 non-null   float64\n",
      " 28  ratio_la_no_children_2011            1211 non-null   float64\n",
      " 29  ratio_la_dependent_children_2001     1211 non-null   float64\n",
      " 30  ratio_la_dependent_children_2011     1211 non-null   float64\n",
      " 31  ratio_la_nondependent_children_2001  1211 non-null   float64\n",
      " 32  ratio_la_nondependent_children_2011  1211 non-null   float64\n",
      " 33  ratio_la_retired_2001                1211 non-null   float64\n",
      " 34  ratio_la_retired_2011                1211 non-null   float64\n",
      " 35  ratio_la_student_2001                1211 non-null   float64\n",
      " 36  ratio_la_student_2011                1211 non-null   float64\n",
      " 37  ratio_la_newlybuilt_sale_2001        1211 non-null   float64\n",
      " 38  ratio_la_newlybuilt_sale_2011        1211 non-null   float64\n",
      " 39  ratio_la_owned_2001                  1211 non-null   float64\n",
      " 40  ratio_la_owned_2011                  1211 non-null   float64\n",
      " 41  ratio_la_rented_2001                 1211 non-null   float64\n",
      " 42  ratio_la_rented_2011                 1211 non-null   float64\n",
      " 43  ratio_la_migrants_2001               1211 non-null   int64  \n",
      " 44  ratio_la_migrants_2011               1211 non-null   float64\n",
      "dtypes: float64(34), int64(2), object(9)\n",
      "memory usage: 425.9+ KB\n"
     ]
    }
   ],
   "source": [
    "swandlondon_core.info()"
   ]
  },
  {
   "cell_type": "code",
   "execution_count": 11,
   "metadata": {},
   "outputs": [],
   "source": [
    "extrac1_cols=list(swandlondon_core.iloc[:,[0,9,10,11,12,13,14,15,16,17,18,19,20,21,22,23,24]].columns)\n",
    "swandlondon_extract1=swandlondon_core[extrac1_cols].copy()"
   ]
  },
  {
   "cell_type": "code",
   "execution_count": 12,
   "metadata": {},
   "outputs": [
    {
     "name": "stdout",
     "output_type": "stream",
     "text": [
      "<class 'pandas.core.frame.DataFrame'>\n",
      "RangeIndex: 1211 entries, 0 to 1210\n",
      "Data columns (total 17 columns):\n",
      " #   Column                       Non-Null Count  Dtype  \n",
      "---  ------                       --------------  -----  \n",
      " 0   MSOA11CD                     1211 non-null   object \n",
      " 1   ratio_la_median_price_2001   1211 non-null   float64\n",
      " 2   ratio_la_median_price_2011   1211 non-null   float64\n",
      " 3   ratio_r_median_price_2001    1211 non-null   float64\n",
      " 4   ratio_r_median_price_2011    1211 non-null   float64\n",
      " 5   ratio_la_earnings_2001       1211 non-null   int64  \n",
      " 6   ratio_la_earnings_2011       1211 non-null   float64\n",
      " 7   ratio_r_earnings_2001        1211 non-null   float64\n",
      " 8   ratio_r_earnings_2011        1211 non-null   float64\n",
      " 9   ratio_la_nssec_2001          1211 non-null   float64\n",
      " 10  ratio_la_nssec_2011          1211 non-null   float64\n",
      " 11  ratio_r_nssec_2001           1211 non-null   float64\n",
      " 12  ratio_r_nssec_2011           1211 non-null   float64\n",
      " 13  ratio_la_qualification_2001  1211 non-null   float64\n",
      " 14  ratio_la_qualification_2011  1211 non-null   float64\n",
      " 15  ratio_r_qualification_2001   1211 non-null   float64\n",
      " 16  ratio_r_qualification_2011   1211 non-null   float64\n",
      "dtypes: float64(15), int64(1), object(1)\n",
      "memory usage: 161.0+ KB\n"
     ]
    }
   ],
   "source": [
    "swandlondon_extract1.info()"
   ]
  },
  {
   "cell_type": "code",
   "execution_count": 13,
   "metadata": {},
   "outputs": [
    {
     "data": {
      "text/html": [
       "<div>\n",
       "<style scoped>\n",
       "    .dataframe tbody tr th:only-of-type {\n",
       "        vertical-align: middle;\n",
       "    }\n",
       "\n",
       "    .dataframe tbody tr th {\n",
       "        vertical-align: top;\n",
       "    }\n",
       "\n",
       "    .dataframe thead th {\n",
       "        text-align: right;\n",
       "    }\n",
       "</style>\n",
       "<table border=\"1\" class=\"dataframe\">\n",
       "  <thead>\n",
       "    <tr style=\"text-align: right;\">\n",
       "      <th></th>\n",
       "      <th>MSOA11CD</th>\n",
       "      <th>ratio_la_median_price_2001</th>\n",
       "      <th>ratio_la_median_price_2011</th>\n",
       "      <th>ratio_r_median_price_2001</th>\n",
       "      <th>ratio_r_median_price_2011</th>\n",
       "      <th>ratio_la_earnings_2001</th>\n",
       "      <th>ratio_la_earnings_2011</th>\n",
       "      <th>ratio_r_earnings_2001</th>\n",
       "      <th>ratio_r_earnings_2011</th>\n",
       "      <th>ratio_la_nssec_2001</th>\n",
       "      <th>ratio_la_nssec_2011</th>\n",
       "      <th>ratio_r_nssec_2001</th>\n",
       "      <th>ratio_r_nssec_2011</th>\n",
       "      <th>ratio_la_qualification_2001</th>\n",
       "      <th>ratio_la_qualification_2011</th>\n",
       "      <th>ratio_r_qualification_2001</th>\n",
       "      <th>ratio_r_qualification_2011</th>\n",
       "    </tr>\n",
       "  </thead>\n",
       "  <tbody>\n",
       "    <tr>\n",
       "      <th>0</th>\n",
       "      <td>E02000001</td>\n",
       "      <td>1.002110</td>\n",
       "      <td>1.000000</td>\n",
       "      <td>1.532258</td>\n",
       "      <td>1.588722</td>\n",
       "      <td>1</td>\n",
       "      <td>0.296254</td>\n",
       "      <td>5.267821</td>\n",
       "      <td>1.794081</td>\n",
       "      <td>1.000000</td>\n",
       "      <td>1.000000</td>\n",
       "      <td>1.707141</td>\n",
       "      <td>1.840035</td>\n",
       "      <td>1.000000</td>\n",
       "      <td>1.000000</td>\n",
       "      <td>1.939850</td>\n",
       "      <td>1.812502</td>\n",
       "    </tr>\n",
       "    <tr>\n",
       "      <th>1</th>\n",
       "      <td>E02000002</td>\n",
       "      <td>1.055556</td>\n",
       "      <td>1.088235</td>\n",
       "      <td>0.612903</td>\n",
       "      <td>0.632072</td>\n",
       "      <td>1</td>\n",
       "      <td>0.939117</td>\n",
       "      <td>0.638811</td>\n",
       "      <td>0.597957</td>\n",
       "      <td>0.919113</td>\n",
       "      <td>1.004818</td>\n",
       "      <td>0.512010</td>\n",
       "      <td>0.565987</td>\n",
       "      <td>0.880126</td>\n",
       "      <td>0.871861</td>\n",
       "      <td>0.290451</td>\n",
       "      <td>0.482332</td>\n",
       "    </tr>\n",
       "    <tr>\n",
       "      <th>2</th>\n",
       "      <td>E02000003</td>\n",
       "      <td>1.277778</td>\n",
       "      <td>1.176471</td>\n",
       "      <td>0.741935</td>\n",
       "      <td>0.683321</td>\n",
       "      <td>1</td>\n",
       "      <td>1.111074</td>\n",
       "      <td>0.638811</td>\n",
       "      <td>0.707446</td>\n",
       "      <td>1.330238</td>\n",
       "      <td>1.284512</td>\n",
       "      <td>0.741036</td>\n",
       "      <td>0.723532</td>\n",
       "      <td>1.275540</td>\n",
       "      <td>1.124038</td>\n",
       "      <td>0.420942</td>\n",
       "      <td>0.621843</td>\n",
       "    </tr>\n",
       "    <tr>\n",
       "      <th>3</th>\n",
       "      <td>E02000004</td>\n",
       "      <td>1.216667</td>\n",
       "      <td>1.139706</td>\n",
       "      <td>0.706452</td>\n",
       "      <td>0.661968</td>\n",
       "      <td>1</td>\n",
       "      <td>1.067988</td>\n",
       "      <td>0.638811</td>\n",
       "      <td>0.680012</td>\n",
       "      <td>1.317318</td>\n",
       "      <td>1.222090</td>\n",
       "      <td>0.733839</td>\n",
       "      <td>0.688371</td>\n",
       "      <td>1.005091</td>\n",
       "      <td>0.856399</td>\n",
       "      <td>0.331690</td>\n",
       "      <td>0.473779</td>\n",
       "    </tr>\n",
       "    <tr>\n",
       "      <th>4</th>\n",
       "      <td>E02000005</td>\n",
       "      <td>0.999944</td>\n",
       "      <td>0.970588</td>\n",
       "      <td>0.580613</td>\n",
       "      <td>0.563740</td>\n",
       "      <td>1</td>\n",
       "      <td>0.990436</td>\n",
       "      <td>0.638811</td>\n",
       "      <td>0.630633</td>\n",
       "      <td>0.991056</td>\n",
       "      <td>0.955399</td>\n",
       "      <td>0.552088</td>\n",
       "      <td>0.538151</td>\n",
       "      <td>0.725467</td>\n",
       "      <td>0.842921</td>\n",
       "      <td>0.239412</td>\n",
       "      <td>0.466323</td>\n",
       "    </tr>\n",
       "  </tbody>\n",
       "</table>\n",
       "</div>"
      ],
      "text/plain": [
       "    MSOA11CD  ratio_la_median_price_2001  ratio_la_median_price_2011  \\\n",
       "0  E02000001                    1.002110                    1.000000   \n",
       "1  E02000002                    1.055556                    1.088235   \n",
       "2  E02000003                    1.277778                    1.176471   \n",
       "3  E02000004                    1.216667                    1.139706   \n",
       "4  E02000005                    0.999944                    0.970588   \n",
       "\n",
       "   ratio_r_median_price_2001  ratio_r_median_price_2011  \\\n",
       "0                   1.532258                   1.588722   \n",
       "1                   0.612903                   0.632072   \n",
       "2                   0.741935                   0.683321   \n",
       "3                   0.706452                   0.661968   \n",
       "4                   0.580613                   0.563740   \n",
       "\n",
       "   ratio_la_earnings_2001  ratio_la_earnings_2011  ratio_r_earnings_2001  \\\n",
       "0                       1                0.296254               5.267821   \n",
       "1                       1                0.939117               0.638811   \n",
       "2                       1                1.111074               0.638811   \n",
       "3                       1                1.067988               0.638811   \n",
       "4                       1                0.990436               0.638811   \n",
       "\n",
       "   ratio_r_earnings_2011  ratio_la_nssec_2001  ratio_la_nssec_2011  \\\n",
       "0               1.794081             1.000000             1.000000   \n",
       "1               0.597957             0.919113             1.004818   \n",
       "2               0.707446             1.330238             1.284512   \n",
       "3               0.680012             1.317318             1.222090   \n",
       "4               0.630633             0.991056             0.955399   \n",
       "\n",
       "   ratio_r_nssec_2001  ratio_r_nssec_2011  ratio_la_qualification_2001  \\\n",
       "0            1.707141            1.840035                     1.000000   \n",
       "1            0.512010            0.565987                     0.880126   \n",
       "2            0.741036            0.723532                     1.275540   \n",
       "3            0.733839            0.688371                     1.005091   \n",
       "4            0.552088            0.538151                     0.725467   \n",
       "\n",
       "   ratio_la_qualification_2011  ratio_r_qualification_2001  \\\n",
       "0                     1.000000                    1.939850   \n",
       "1                     0.871861                    0.290451   \n",
       "2                     1.124038                    0.420942   \n",
       "3                     0.856399                    0.331690   \n",
       "4                     0.842921                    0.239412   \n",
       "\n",
       "   ratio_r_qualification_2011  \n",
       "0                    1.812502  \n",
       "1                    0.482332  \n",
       "2                    0.621843  \n",
       "3                    0.473779  \n",
       "4                    0.466323  "
      ]
     },
     "execution_count": 13,
     "metadata": {},
     "output_type": "execute_result"
    }
   ],
   "source": [
    "swandlondon_extract1.head()"
   ]
  },
  {
   "cell_type": "code",
   "execution_count": 14,
   "metadata": {},
   "outputs": [],
   "source": [
    "# check the distribution of feature columns (excluding MSOA code)\n",
    "\n",
    "swandlondon_extract1__distribution_la = swandlondon_extract1.iloc[:,[1,2,5,6,9,10,13,14]]\n",
    "\n",
    "swandlondon_extract1__distribution_r = swandlondon_extract1.iloc[:,[3,4,7,8,11,12,15,16]]"
   ]
  },
  {
   "cell_type": "code",
   "execution_count": 15,
   "metadata": {},
   "outputs": [
    {
     "data": {
      "image/png": "[encoded data removed]",
      "text/plain": [
       "<Figure size 432x288 with 1 Axes>"
      ]
     },
     "metadata": {},
     "output_type": "display_data"
    }
   ],
   "source": [
    "# ratio by region\n",
    "ax = sns.boxplot( data=swandlondon_extract1__distribution_r,fliersize=2)\n",
    "ax.set_xticklabels(ax.get_xticklabels(), rotation=90)\n",
    "\n",
    "plt.savefig('plot/p1-region-box.png',dpi = 200,bbox_inches = 'tight')"
   ]
  },
  {
   "cell_type": "code",
   "execution_count": 16,
   "metadata": {},
   "outputs": [
    {
     "data": {
      "image/png": "[encoded data removed]",
      "text/plain": [
       "<Figure size 432x288 with 1 Axes>"
      ]
     },
     "metadata": {},
     "output_type": "display_data"
    }
   ],
   "source": [
    "# ratio by la\n",
    "ax = sns.boxplot( data=swandlondon_extract1__distribution_la,fliersize=2)\n",
    "ax.set_xticklabels(ax.get_xticklabels(), rotation=90)\n",
    "plt.savefig('plot/p1-la-box.png',dpi = 200,bbox_inches = 'tight')"
   ]
  },
  {
   "cell_type": "code",
   "execution_count": 17,
   "metadata": {},
   "outputs": [
    {
     "data": {
      "image/png": "[encoded data removed]",
      "text/plain": [
       "<Figure size 1080x1080 with 8 Axes>"
      ]
     },
     "metadata": {},
     "output_type": "display_data"
    }
   ],
   "source": [
    "# creating histogram for each variable to explore their underlying distributions\n",
    "\n",
    "fig, axes = plt.subplots(nrows=4, ncols=2, figsize=(15, 15))\n",
    "\n",
    "counter = 0\n",
    "for i in range(4):\n",
    "    for j in range(2):\n",
    "\n",
    "        ax = axes[i][j]\n",
    "\n",
    "        # Plot when we have data\n",
    "        if counter < len(swandlondon_extract1__distribution_r.columns):\n",
    "\n",
    "            ax.hist(swandlondon_extract1__distribution_r[swandlondon_extract1__distribution_r.columns[counter]], label='{}'.format(swandlondon_extract1__distribution_r.columns[counter]))\n",
    "            leg = ax.legend(loc='upper right')\n",
    "            leg.draw_frame(False)\n",
    "\n",
    "        # Remove axis when we no longer have data\n",
    "        else:\n",
    "            ax.set_axis_off()\n",
    "\n",
    "        counter += 1\n",
    "\n",
    "plt.savefig('plot/p1-r-his.png',dpi = 200,bbox_inches = 'tight')\n",
    "plt.show()"
   ]
  },
  {
   "cell_type": "code",
   "execution_count": 18,
   "metadata": {},
   "outputs": [
    {
     "data": {
      "image/png": "[encoded data removed]",
      "text/plain": [
       "<Figure size 1080x1080 with 8 Axes>"
      ]
     },
     "metadata": {},
     "output_type": "display_data"
    }
   ],
   "source": [
    "# creating histogram for each variable to explore their underlying distributions\n",
    "\n",
    "fig, axes = plt.subplots(nrows=4, ncols=2, figsize=(15, 15))\n",
    "\n",
    "counter = 0\n",
    "for i in range(4):\n",
    "    for j in range(2):\n",
    "\n",
    "        ax = axes[i][j]\n",
    "\n",
    "        # Plot when we have data\n",
    "        if counter < len(swandlondon_extract1__distribution_la.columns):\n",
    "\n",
    "            ax.hist(swandlondon_extract1__distribution_la[swandlondon_extract1__distribution_la.columns[counter]], label='{}'.format(swandlondon_extract1__distribution_la.columns[counter]))\n",
    "            leg = ax.legend(loc='upper right')\n",
    "            leg.draw_frame(False)\n",
    "\n",
    "        # Remove axis when we no longer have data\n",
    "        else:\n",
    "            ax.set_axis_off()\n",
    "\n",
    "        counter += 1\n",
    "\n",
    "plt.savefig('plot/p1-la-his.png',dpi = 200,bbox_inches = 'tight')\n",
    "plt.show()"
   ]
  },
  {
   "cell_type": "markdown",
   "metadata": {},
   "source": [
    "**based on the analysis above, I decided to use 'the MSOA to Local Authotity ratio of every variable' as the predictors.**"
   ]
  },
  {
   "cell_type": "markdown",
   "metadata": {},
   "source": [
    "---"
   ]
  },
  {
   "cell_type": "markdown",
   "metadata": {},
   "source": [
    "### Data Transformation, scaling and PCA"
   ]
  },
  {
   "cell_type": "markdown",
   "metadata": {},
   "source": [
    "What did I do in this part:\n",
    "\n",
    "1. Transform highly skewed variable. Consider which transformation approaches to use: untransformed, Box Cox or Log\n",
    "2. Consider whether to scale the input varibales before PCA. \n",
    "\n",
    "three approaches * (to scale or not sclae) = 6 scenarios\n",
    "\n",
    "Check the explained variance of the 1st componet for the 6scenarios"
   ]
  },
  {
   "cell_type": "code",
   "execution_count": 19,
   "metadata": {},
   "outputs": [],
   "source": [
    "swandlondon_extract1_la=swandlondon_extract1.iloc[:,[0,1,2,5,6,9,10,13,14]].copy()"
   ]
  },
  {
   "cell_type": "code",
   "execution_count": 20,
   "metadata": {},
   "outputs": [
    {
     "name": "stdout",
     "output_type": "stream",
     "text": [
      "<class 'pandas.core.frame.DataFrame'>\n",
      "RangeIndex: 1211 entries, 0 to 1210\n",
      "Data columns (total 9 columns):\n",
      " #   Column                       Non-Null Count  Dtype  \n",
      "---  ------                       --------------  -----  \n",
      " 0   MSOA11CD                     1211 non-null   object \n",
      " 1   ratio_la_median_price_2001   1211 non-null   float64\n",
      " 2   ratio_la_median_price_2011   1211 non-null   float64\n",
      " 3   ratio_la_earnings_2001       1211 non-null   int64  \n",
      " 4   ratio_la_earnings_2011       1211 non-null   float64\n",
      " 5   ratio_la_nssec_2001          1211 non-null   float64\n",
      " 6   ratio_la_nssec_2011          1211 non-null   float64\n",
      " 7   ratio_la_qualification_2001  1211 non-null   float64\n",
      " 8   ratio_la_qualification_2011  1211 non-null   float64\n",
      "dtypes: float64(7), int64(1), object(1)\n",
      "memory usage: 85.3+ KB\n"
     ]
    }
   ],
   "source": [
    "swandlondon_extract1_la.info()"
   ]
  },
  {
   "cell_type": "code",
   "execution_count": 21,
   "metadata": {},
   "outputs": [],
   "source": [
    "# from the distribution check above, the median housing price is heavily positive skewed.\n",
    "df_transformed = swandlondon_extract1_la [[ 'ratio_la_median_price_2011','ratio_la_median_price_2001']]"
   ]
  },
  {
   "cell_type": "code",
   "execution_count": 22,
   "metadata": {},
   "outputs": [],
   "source": [
    "#Box-Cox Transform\n",
    "price01, lmd01a = boxcox(df_transformed['ratio_la_median_price_2001']) \n",
    "price11 = boxcox(df_transformed['ratio_la_median_price_2011'], lmbda=lmd01a)\n",
    "\n",
    "#Log transform\n",
    "price01l = np.log(df_transformed['ratio_la_median_price_2001']) \n",
    "price11l = np.log(df_transformed['ratio_la_median_price_2011'])"
   ]
  },
  {
   "cell_type": "code",
   "execution_count": 23,
   "metadata": {},
   "outputs": [],
   "source": [
    "#code reference:https://github.com/jreades/urb-studies-predicting-gentrification/blob/master/04-Scoring%20Neighbourhoods.ipynb\n",
    "\n",
    "#choose one\n",
    "to_use = 'Box-Cox' # Choices: ['Untransformed','Box-Cox','Log']\n",
    "\n",
    "if to_use == 'Untransformed':\n",
    "    swandlondon_la_pca=swandlondon_extract1_la.copy()\n",
    "    \n",
    "elif to_use == 'Box-Cox':\n",
    "    swandlondon_la_pca=swandlondon_extract1_la.copy()\n",
    "    swandlondon_la_pca['ratio_la_median_price_2001']=price01\n",
    "    swandlondon_la_pca['ratio_la_median_price_2011']=price11\n",
    "    \n",
    "elif to_use == 'Log':\n",
    "    swandlondon_la_pca=swandlondon_extract1_la.copy()\n",
    "    swandlondon_la_pca['ratio_la_median_price_2001']=price01l\n",
    "    swandlondon_la_pca['ratio_la_median_price_2011']=price11l\n",
    "    "
   ]
  },
  {
   "cell_type": "code",
   "execution_count": 24,
   "metadata": {},
   "outputs": [],
   "source": [
    "df_scaling = swandlondon_la_pca.set_index('MSOA11CD')"
   ]
  },
  {
   "cell_type": "code",
   "execution_count": 25,
   "metadata": {},
   "outputs": [
    {
     "name": "stdout",
     "output_type": "stream",
     "text": [
      "<class 'pandas.core.frame.DataFrame'>\n",
      "Index: 1211 entries, E02000001 to E02006931\n",
      "Data columns (total 8 columns):\n",
      " #   Column                       Non-Null Count  Dtype  \n",
      "---  ------                       --------------  -----  \n",
      " 0   ratio_la_median_price_2001   1211 non-null   float64\n",
      " 1   ratio_la_median_price_2011   1211 non-null   float64\n",
      " 2   ratio_la_earnings_2001       1211 non-null   int64  \n",
      " 3   ratio_la_earnings_2011       1211 non-null   float64\n",
      " 4   ratio_la_nssec_2001          1211 non-null   float64\n",
      " 5   ratio_la_nssec_2011          1211 non-null   float64\n",
      " 6   ratio_la_qualification_2001  1211 non-null   float64\n",
      " 7   ratio_la_qualification_2011  1211 non-null   float64\n",
      "dtypes: float64(7), int64(1)\n",
      "memory usage: 85.1+ KB\n"
     ]
    }
   ],
   "source": [
    "df_scaling.info()"
   ]
  },
  {
   "cell_type": "code",
   "execution_count": 26,
   "metadata": {},
   "outputs": [
    {
     "data": {
      "image/png": "[encoded data removed]",
      "text/plain": [
       "<Figure size 1080x1080 with 8 Axes>"
      ]
     },
     "metadata": {},
     "output_type": "display_data"
    }
   ],
   "source": [
    "# creating histogram for each variable to explore their underlying distributions\n",
    "\n",
    "fig, axes = plt.subplots(nrows=4, ncols=2, figsize=(15, 15))\n",
    "\n",
    "counter = 0\n",
    "for i in range(4):\n",
    "    for j in range(2):\n",
    "\n",
    "        ax = axes[i][j]\n",
    "\n",
    "        # Plot when we have data\n",
    "        if counter < len(df_scaling.columns):\n",
    "\n",
    "            ax.hist(df_scaling[df_scaling.columns[counter]], label='{}'.format(df_scaling.columns[counter]))\n",
    "            leg = ax.legend(loc='upper right')\n",
    "            leg.draw_frame(False)\n",
    "\n",
    "        # Remove axis when we no longer have data\n",
    "        else:\n",
    "            ax.set_axis_off()\n",
    "\n",
    "        counter += 1\n",
    "\n",
    "plt.savefig('plot/p1-la-boxcox-his.png',dpi = 200,bbox_inches = 'tight')\n",
    "plt.show()"
   ]
  },
  {
   "cell_type": "code",
   "execution_count": 27,
   "metadata": {},
   "outputs": [],
   "source": [
    "#pca part code reference:https://github.com/jytg17/Unpacking-the-Nuances-of-Londons-Neighbourhood-Change-Gentrification-Trajectories-codes/blob/master/2%20Scoring%20Analysis.ipynb"
   ]
  },
  {
   "cell_type": "code",
   "execution_count": 28,
   "metadata": {},
   "outputs": [],
   "source": [
    "# split 2001 data from 2011 data\n",
    "df_scaling_2001 = df_scaling.iloc[:,[0,2,4,6]].copy()\n",
    "df_scaling_2011 = df_scaling.iloc[:,[1,3,5,7]].copy()\n",
    "\n",
    "# stacking the 2001 data vertically with 2011 data\n",
    "values_2001 = df_scaling_2001.values\n",
    "values_2011 = df_scaling_2011.values\n",
    "stacked_df = np.concatenate((values_2001, values_2011), axis=0)\n"
   ]
  },
  {
   "cell_type": "code",
   "execution_count": 29,
   "metadata": {},
   "outputs": [
    {
     "data": {
      "text/html": [
       "<div>\n",
       "<style scoped>\n",
       "    .dataframe tbody tr th:only-of-type {\n",
       "        vertical-align: middle;\n",
       "    }\n",
       "\n",
       "    .dataframe tbody tr th {\n",
       "        vertical-align: top;\n",
       "    }\n",
       "\n",
       "    .dataframe thead th {\n",
       "        text-align: right;\n",
       "    }\n",
       "</style>\n",
       "<table border=\"1\" class=\"dataframe\">\n",
       "  <thead>\n",
       "    <tr style=\"text-align: right;\">\n",
       "      <th></th>\n",
       "      <th>ratio_la_median_price_2001</th>\n",
       "      <th>ratio_la_earnings_2001</th>\n",
       "      <th>ratio_la_nssec_2001</th>\n",
       "      <th>ratio_la_qualification_2001</th>\n",
       "    </tr>\n",
       "    <tr>\n",
       "      <th>MSOA11CD</th>\n",
       "      <th></th>\n",
       "      <th></th>\n",
       "      <th></th>\n",
       "      <th></th>\n",
       "    </tr>\n",
       "  </thead>\n",
       "  <tbody>\n",
       "    <tr>\n",
       "      <th>E02000001</th>\n",
       "      <td>0.002106</td>\n",
       "      <td>1</td>\n",
       "      <td>1.000000</td>\n",
       "      <td>1.000000</td>\n",
       "    </tr>\n",
       "    <tr>\n",
       "      <th>E02000002</th>\n",
       "      <td>0.053292</td>\n",
       "      <td>1</td>\n",
       "      <td>0.919113</td>\n",
       "      <td>0.880126</td>\n",
       "    </tr>\n",
       "    <tr>\n",
       "      <th>E02000003</th>\n",
       "      <td>0.229709</td>\n",
       "      <td>1</td>\n",
       "      <td>1.330238</td>\n",
       "      <td>1.275540</td>\n",
       "    </tr>\n",
       "    <tr>\n",
       "      <th>E02000004</th>\n",
       "      <td>0.186164</td>\n",
       "      <td>1</td>\n",
       "      <td>1.317318</td>\n",
       "      <td>1.005091</td>\n",
       "    </tr>\n",
       "    <tr>\n",
       "      <th>E02000005</th>\n",
       "      <td>-0.000056</td>\n",
       "      <td>1</td>\n",
       "      <td>0.991056</td>\n",
       "      <td>0.725467</td>\n",
       "    </tr>\n",
       "  </tbody>\n",
       "</table>\n",
       "</div>"
      ],
      "text/plain": [
       "           ratio_la_median_price_2001  ratio_la_earnings_2001  \\\n",
       "MSOA11CD                                                        \n",
       "E02000001                    0.002106                       1   \n",
       "E02000002                    0.053292                       1   \n",
       "E02000003                    0.229709                       1   \n",
       "E02000004                    0.186164                       1   \n",
       "E02000005                   -0.000056                       1   \n",
       "\n",
       "           ratio_la_nssec_2001  ratio_la_qualification_2001  \n",
       "MSOA11CD                                                     \n",
       "E02000001             1.000000                     1.000000  \n",
       "E02000002             0.919113                     0.880126  \n",
       "E02000003             1.330238                     1.275540  \n",
       "E02000004             1.317318                     1.005091  \n",
       "E02000005             0.991056                     0.725467  "
      ]
     },
     "execution_count": 29,
     "metadata": {},
     "output_type": "execute_result"
    }
   ],
   "source": [
    "df_scaling_2001.head()"
   ]
  },
  {
   "cell_type": "code",
   "execution_count": 30,
   "metadata": {},
   "outputs": [
    {
     "data": {
      "text/plain": [
       "array([[0.00210629, 1.        , 1.        , 1.        ],\n",
       "       [0.05329165, 1.        , 0.91911283, 0.88012579],\n",
       "       [0.22970897, 1.        , 1.33023751, 1.27554035],\n",
       "       ...,\n",
       "       [0.32667888, 1.        , 1.3304387 , 1.51389269],\n",
       "       [0.41358145, 1.        , 1.3304387 , 1.51389269],\n",
       "       [0.4706738 , 1.        , 1.43769383, 1.78984804]])"
      ]
     },
     "execution_count": 30,
     "metadata": {},
     "output_type": "execute_result"
    }
   ],
   "source": [
    "values_2001\n"
   ]
  },
  {
   "cell_type": "code",
   "execution_count": 31,
   "metadata": {},
   "outputs": [
    {
     "data": {
      "text/plain": [
       "0"
      ]
     },
     "execution_count": 31,
     "metadata": {},
     "output_type": "execute_result"
    }
   ],
   "source": [
    "# checking for NaN values before scaling and transforming\n",
    "np.isnan(stacked_df).sum()"
   ]
  },
  {
   "cell_type": "code",
   "execution_count": 32,
   "metadata": {},
   "outputs": [],
   "source": [
    "# scaling the stacked data using RobustScaler\n",
    "Robust_transformer = RobustScaler().fit(stacked_df)\n",
    "Robust_transformer_df = Robust_transformer.transform(stacked_df)"
   ]
  },
  {
   "cell_type": "code",
   "execution_count": 33,
   "metadata": {},
   "outputs": [
    {
     "name": "stdout",
     "output_type": "stream",
     "text": [
      "Explained variance of the SES score is: 0.72170\n"
     ]
    }
   ],
   "source": [
    "# carry out PCA to derive only the 1st principal component---scaled data\n",
    "\n",
    "pca = decomposition.PCA(n_components=1)             \n",
    "pca.fit(Robust_transformer_df)                      \n",
    "PCA_scores = pd.DataFrame(pca.transform(Robust_transformer_df))  \n",
    "\n",
    "print(\"Explained variance of the SES score is: {0:6.5f}\".format(pca.explained_variance_ratio_[0]))"
   ]
  },
  {
   "cell_type": "code",
   "execution_count": 34,
   "metadata": {},
   "outputs": [
    {
     "name": "stdout",
     "output_type": "stream",
     "text": [
      "[0.72170074 0.20204315 0.06251168 0.01374442]\n"
     ]
    }
   ],
   "source": [
    "# what if one wanted to find all principal components?---scaled data\n",
    "\n",
    "pca_all = decomposition.PCA()             \n",
    "pca_all.fit(Robust_transformer_df)                      \n",
    "print(pca_all.explained_variance_ratio_)"
   ]
  },
  {
   "cell_type": "code",
   "execution_count": 35,
   "metadata": {},
   "outputs": [
    {
     "name": "stdout",
     "output_type": "stream",
     "text": [
      "Explained variance of the SES score is: 0.77782\n"
     ]
    }
   ],
   "source": [
    "# carry out PCA to derive only the 1st principal component----not scaled data\n",
    "\n",
    "pca = decomposition.PCA(n_components=1)             \n",
    "pca.fit(stacked_df)                      \n",
    "PCA_scores = pd.DataFrame(pca.transform(stacked_df))  \n",
    "\n",
    "print(\"Explained variance of the SES score is: {0:6.5f}\".format(pca.explained_variance_ratio_[0]))"
   ]
  },
  {
   "cell_type": "code",
   "execution_count": 36,
   "metadata": {},
   "outputs": [
    {
     "name": "stdout",
     "output_type": "stream",
     "text": [
      "[0.77781821 0.11851873 0.07598514 0.02767792]\n"
     ]
    }
   ],
   "source": [
    "# what if one wanted to find all principal components?----not scaled data\n",
    "\n",
    "pca_all = decomposition.PCA()             \n",
    "pca_all.fit(stacked_df)                      \n",
    "print(pca_all.explained_variance_ratio_)"
   ]
  },
  {
   "cell_type": "markdown",
   "metadata": {},
   "source": [
    "### The results of this part are as follow:\n",
    "\n",
    "Explained variances for each scenarios:\n",
    "\n",
    "1. Untransformed, Scaled:0.69122\n",
    "2. Untransformed, Not Scaled:0.75118\n",
    "3. Box-Cox Transformed, Scaled:0.72170\n",
    "4. Box-Cox Transformed, Not Scaled:0.77782 (Best Performance)\n",
    "5. Log Transformed, Scaled:0.71737\n",
    "6. Log Transformed, Not Scaled:0.77486\n",
    "\n",
    "### Therefore, I decided to use the results of the Box-Cox Transformed and Not Scaled data."
   ]
  },
  {
   "cell_type": "code",
   "execution_count": 37,
   "metadata": {},
   "outputs": [
    {
     "data": {
      "image/png": "[encoded data removed]",
      "text/plain": [
       "<Figure size 288x288 with 2 Axes>"
      ]
     },
     "metadata": {},
     "output_type": "display_data"
    }
   ],
   "source": [
    "# visualise the constituents of each PC using heatmap\n",
    "\n",
    "features = [\"Median House Price\", \"Average Income\", \"Qualification\", \"NS-SEC\"]\n",
    "\n",
    "plt.matshow(pca_all.components_,cmap='viridis')\n",
    "plt.yticks([0,1,2,3],['PC 1','PC 2','PC 3', 'PC 4'],fontsize=12)\n",
    "plt.colorbar()\n",
    "plt.xticks(range(len(features)),features,rotation=65,ha='left',fontsize=12)\n",
    "plt.grid(b=None, which = \"major\")\n",
    "\n",
    "plt.savefig('plot/p1-pca-heat.png',dpi = 200,bbox_inches = 'tight')\n",
    "plt.show()\n",
    "\n",
    "\n"
   ]
  },
  {
   "cell_type": "markdown",
   "metadata": {},
   "source": [
    "## PCA Score"
   ]
  },
  {
   "cell_type": "code",
   "execution_count": 38,
   "metadata": {},
   "outputs": [],
   "source": [
    "# extracting scores for the respective years\n",
    "PCA_2001 = pd.DataFrame(PCA_scores.iloc[0:len(df_scaling_2001),])\n",
    "PCA_2011 = pd.DataFrame(PCA_scores.iloc[len(df_scaling_2001):,])"
   ]
  },
  {
   "cell_type": "code",
   "execution_count": 39,
   "metadata": {},
   "outputs": [
    {
     "name": "stdout",
     "output_type": "stream",
     "text": [
      "<class 'pandas.core.frame.DataFrame'>\n",
      "RangeIndex: 1211 entries, 0 to 1210\n",
      "Data columns (total 1 columns):\n",
      " #   Column  Non-Null Count  Dtype  \n",
      "---  ------  --------------  -----  \n",
      " 0   0       1211 non-null   float64\n",
      "dtypes: float64(1)\n",
      "memory usage: 9.6 KB\n"
     ]
    }
   ],
   "source": [
    "PCA_2001.info()"
   ]
  },
  {
   "cell_type": "code",
   "execution_count": 40,
   "metadata": {},
   "outputs": [
    {
     "name": "stdout",
     "output_type": "stream",
     "text": [
      "<class 'pandas.core.frame.DataFrame'>\n",
      "RangeIndex: 1211 entries, 1211 to 2421\n",
      "Data columns (total 1 columns):\n",
      " #   Column  Non-Null Count  Dtype  \n",
      "---  ------  --------------  -----  \n",
      " 0   0       1211 non-null   float64\n",
      "dtypes: float64(1)\n",
      "memory usage: 9.6 KB\n"
     ]
    }
   ],
   "source": [
    "PCA_2011.info()"
   ]
  },
  {
   "cell_type": "code",
   "execution_count": 41,
   "metadata": {},
   "outputs": [],
   "source": [
    "# renaming their column titles\n",
    "PCA_2001 = PCA_2001.rename(columns={0: \"Score_2001\"})\n",
    "PCA_2011 = PCA_2011.rename(columns={0: \"Score_2011\"})"
   ]
  },
  {
   "cell_type": "code",
   "execution_count": 42,
   "metadata": {},
   "outputs": [],
   "source": [
    "# attaching the 2001 and 2011 scores to their respective MSOAs in the main dataframe (df_score)\n",
    "df_score = df_scaling.reset_index()\n",
    "\n",
    "df_score[\"Score_2001\"] = PCA_2001[:]\n",
    "\n",
    "\n",
    "PCA_2011 = PCA_2011.reset_index(drop=True)\n",
    "df_score[\"Score_2011\"] = PCA_2011"
   ]
  },
  {
   "cell_type": "code",
   "execution_count": 43,
   "metadata": {},
   "outputs": [
    {
     "data": {
      "text/html": [
       "<div>\n",
       "<style scoped>\n",
       "    .dataframe tbody tr th:only-of-type {\n",
       "        vertical-align: middle;\n",
       "    }\n",
       "\n",
       "    .dataframe tbody tr th {\n",
       "        vertical-align: top;\n",
       "    }\n",
       "\n",
       "    .dataframe thead th {\n",
       "        text-align: right;\n",
       "    }\n",
       "</style>\n",
       "<table border=\"1\" class=\"dataframe\">\n",
       "  <thead>\n",
       "    <tr style=\"text-align: right;\">\n",
       "      <th></th>\n",
       "      <th>MSOA11CD</th>\n",
       "      <th>ratio_la_median_price_2001</th>\n",
       "      <th>ratio_la_median_price_2011</th>\n",
       "      <th>ratio_la_earnings_2001</th>\n",
       "      <th>ratio_la_earnings_2011</th>\n",
       "      <th>ratio_la_nssec_2001</th>\n",
       "      <th>ratio_la_nssec_2011</th>\n",
       "      <th>ratio_la_qualification_2001</th>\n",
       "      <th>ratio_la_qualification_2011</th>\n",
       "      <th>Score_2001</th>\n",
       "      <th>Score_2011</th>\n",
       "    </tr>\n",
       "  </thead>\n",
       "  <tbody>\n",
       "    <tr>\n",
       "      <th>0</th>\n",
       "      <td>E02000001</td>\n",
       "      <td>0.002106</td>\n",
       "      <td>0.000000</td>\n",
       "      <td>1</td>\n",
       "      <td>0.296254</td>\n",
       "      <td>1.000000</td>\n",
       "      <td>1.000000</td>\n",
       "      <td>1.000000</td>\n",
       "      <td>1.000000</td>\n",
       "      <td>0.024650</td>\n",
       "      <td>-0.127976</td>\n",
       "    </tr>\n",
       "    <tr>\n",
       "      <th>1</th>\n",
       "      <td>E02000002</td>\n",
       "      <td>0.053292</td>\n",
       "      <td>0.082671</td>\n",
       "      <td>1</td>\n",
       "      <td>0.939117</td>\n",
       "      <td>0.919113</td>\n",
       "      <td>1.004818</td>\n",
       "      <td>0.880126</td>\n",
       "      <td>0.871861</td>\n",
       "      <td>-0.070211</td>\n",
       "      <td>-0.024384</td>\n",
       "    </tr>\n",
       "    <tr>\n",
       "      <th>2</th>\n",
       "      <td>E02000003</td>\n",
       "      <td>0.229709</td>\n",
       "      <td>0.155645</td>\n",
       "      <td>1</td>\n",
       "      <td>1.111074</td>\n",
       "      <td>1.330238</td>\n",
       "      <td>1.284512</td>\n",
       "      <td>1.275540</td>\n",
       "      <td>1.124038</td>\n",
       "      <td>0.496759</td>\n",
       "      <td>0.364790</td>\n",
       "    </tr>\n",
       "    <tr>\n",
       "      <th>3</th>\n",
       "      <td>E02000004</td>\n",
       "      <td>0.186164</td>\n",
       "      <td>0.126294</td>\n",
       "      <td>1</td>\n",
       "      <td>1.067988</td>\n",
       "      <td>1.317318</td>\n",
       "      <td>1.222090</td>\n",
       "      <td>1.005091</td>\n",
       "      <td>0.856399</td>\n",
       "      <td>0.301986</td>\n",
       "      <td>0.140902</td>\n",
       "    </tr>\n",
       "    <tr>\n",
       "      <th>4</th>\n",
       "      <td>E02000005</td>\n",
       "      <td>-0.000056</td>\n",
       "      <td>-0.030093</td>\n",
       "      <td>1</td>\n",
       "      <td>0.990436</td>\n",
       "      <td>0.991056</td>\n",
       "      <td>0.955399</td>\n",
       "      <td>0.725467</td>\n",
       "      <td>0.842921</td>\n",
       "      <td>-0.149864</td>\n",
       "      <td>-0.115368</td>\n",
       "    </tr>\n",
       "    <tr>\n",
       "      <th>...</th>\n",
       "      <td>...</td>\n",
       "      <td>...</td>\n",
       "      <td>...</td>\n",
       "      <td>...</td>\n",
       "      <td>...</td>\n",
       "      <td>...</td>\n",
       "      <td>...</td>\n",
       "      <td>...</td>\n",
       "      <td>...</td>\n",
       "      <td>...</td>\n",
       "      <td>...</td>\n",
       "    </tr>\n",
       "    <tr>\n",
       "      <th>1206</th>\n",
       "      <td>E02006925</td>\n",
       "      <td>0.268154</td>\n",
       "      <td>0.249418</td>\n",
       "      <td>1</td>\n",
       "      <td>0.942860</td>\n",
       "      <td>1.008300</td>\n",
       "      <td>1.030513</td>\n",
       "      <td>1.003960</td>\n",
       "      <td>1.003886</td>\n",
       "      <td>0.163447</td>\n",
       "      <td>0.154652</td>\n",
       "    </tr>\n",
       "    <tr>\n",
       "      <th>1207</th>\n",
       "      <td>E02006927</td>\n",
       "      <td>0.019738</td>\n",
       "      <td>0.109976</td>\n",
       "      <td>1</td>\n",
       "      <td>1.009995</td>\n",
       "      <td>1.032484</td>\n",
       "      <td>1.197407</td>\n",
       "      <td>1.110605</td>\n",
       "      <td>1.117053</td>\n",
       "      <td>0.119921</td>\n",
       "      <td>0.265865</td>\n",
       "    </tr>\n",
       "    <tr>\n",
       "      <th>1208</th>\n",
       "      <td>E02006929</td>\n",
       "      <td>0.326679</td>\n",
       "      <td>0.165346</td>\n",
       "      <td>1</td>\n",
       "      <td>1.084409</td>\n",
       "      <td>1.330439</td>\n",
       "      <td>1.361248</td>\n",
       "      <td>1.513893</td>\n",
       "      <td>1.395078</td>\n",
       "      <td>0.690937</td>\n",
       "      <td>0.574284</td>\n",
       "    </tr>\n",
       "    <tr>\n",
       "      <th>1209</th>\n",
       "      <td>E02006930</td>\n",
       "      <td>0.413581</td>\n",
       "      <td>0.384463</td>\n",
       "      <td>1</td>\n",
       "      <td>1.293101</td>\n",
       "      <td>1.330439</td>\n",
       "      <td>1.583365</td>\n",
       "      <td>1.513893</td>\n",
       "      <td>1.593996</td>\n",
       "      <td>0.733916</td>\n",
       "      <td>0.977763</td>\n",
       "    </tr>\n",
       "    <tr>\n",
       "      <th>1210</th>\n",
       "      <td>E02006931</td>\n",
       "      <td>0.470674</td>\n",
       "      <td>0.512288</td>\n",
       "      <td>1</td>\n",
       "      <td>1.217529</td>\n",
       "      <td>1.437694</td>\n",
       "      <td>1.656092</td>\n",
       "      <td>1.789848</td>\n",
       "      <td>1.668363</td>\n",
       "      <td>0.993223</td>\n",
       "      <td>1.112273</td>\n",
       "    </tr>\n",
       "  </tbody>\n",
       "</table>\n",
       "<p>1211 rows × 11 columns</p>\n",
       "</div>"
      ],
      "text/plain": [
       "       MSOA11CD  ratio_la_median_price_2001  ratio_la_median_price_2011  \\\n",
       "0     E02000001                    0.002106                    0.000000   \n",
       "1     E02000002                    0.053292                    0.082671   \n",
       "2     E02000003                    0.229709                    0.155645   \n",
       "3     E02000004                    0.186164                    0.126294   \n",
       "4     E02000005                   -0.000056                   -0.030093   \n",
       "...         ...                         ...                         ...   \n",
       "1206  E02006925                    0.268154                    0.249418   \n",
       "1207  E02006927                    0.019738                    0.109976   \n",
       "1208  E02006929                    0.326679                    0.165346   \n",
       "1209  E02006930                    0.413581                    0.384463   \n",
       "1210  E02006931                    0.470674                    0.512288   \n",
       "\n",
       "      ratio_la_earnings_2001  ratio_la_earnings_2011  ratio_la_nssec_2001  \\\n",
       "0                          1                0.296254             1.000000   \n",
       "1                          1                0.939117             0.919113   \n",
       "2                          1                1.111074             1.330238   \n",
       "3                          1                1.067988             1.317318   \n",
       "4                          1                0.990436             0.991056   \n",
       "...                      ...                     ...                  ...   \n",
       "1206                       1                0.942860             1.008300   \n",
       "1207                       1                1.009995             1.032484   \n",
       "1208                       1                1.084409             1.330439   \n",
       "1209                       1                1.293101             1.330439   \n",
       "1210                       1                1.217529             1.437694   \n",
       "\n",
       "      ratio_la_nssec_2011  ratio_la_qualification_2001  \\\n",
       "0                1.000000                     1.000000   \n",
       "1                1.004818                     0.880126   \n",
       "2                1.284512                     1.275540   \n",
       "3                1.222090                     1.005091   \n",
       "4                0.955399                     0.725467   \n",
       "...                   ...                          ...   \n",
       "1206             1.030513                     1.003960   \n",
       "1207             1.197407                     1.110605   \n",
       "1208             1.361248                     1.513893   \n",
       "1209             1.583365                     1.513893   \n",
       "1210             1.656092                     1.789848   \n",
       "\n",
       "      ratio_la_qualification_2011  Score_2001  Score_2011  \n",
       "0                        1.000000    0.024650   -0.127976  \n",
       "1                        0.871861   -0.070211   -0.024384  \n",
       "2                        1.124038    0.496759    0.364790  \n",
       "3                        0.856399    0.301986    0.140902  \n",
       "4                        0.842921   -0.149864   -0.115368  \n",
       "...                           ...         ...         ...  \n",
       "1206                     1.003886    0.163447    0.154652  \n",
       "1207                     1.117053    0.119921    0.265865  \n",
       "1208                     1.395078    0.690937    0.574284  \n",
       "1209                     1.593996    0.733916    0.977763  \n",
       "1210                     1.668363    0.993223    1.112273  \n",
       "\n",
       "[1211 rows x 11 columns]"
      ]
     },
     "execution_count": 43,
     "metadata": {},
     "output_type": "execute_result"
    }
   ],
   "source": [
    "# main dataframe\n",
    "df_score"
   ]
  },
  {
   "cell_type": "code",
   "execution_count": 44,
   "metadata": {},
   "outputs": [],
   "source": [
    "df_score.to_csv('output_new/df_score.csv',index=False)"
   ]
  },
  {
   "cell_type": "code",
   "execution_count": null,
   "metadata": {},
   "outputs": [],
   "source": []
  }
 ],
 "metadata": {
  "kernelspec": {
   "display_name": "Python 3",
   "language": "python",
   "name": "python3"
  },
  "language_info": {
   "codemirror_mode": {
    "name": "ipython",
    "version": 3
   },
   "file_extension": ".py",
   "mimetype": "text/x-python",
   "name": "python",
   "nbconvert_exporter": "python",
   "pygments_lexer": "ipython3",
   "version": "3.7.8"
  }
 },
 "nbformat": 4,
 "nbformat_minor": 4
}
